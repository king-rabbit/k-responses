{
 "cells": [
  {
   "cell_type": "code",
   "execution_count": 1,
   "metadata": {},
   "outputs": [],
   "source": [
    "import lxml\n",
    "import requests\n",
    "import time\n",
    "import sys\n",
    "import pandas as pd\n",
    "from datetime import date, timedelta\n",
    "from tqdm.notebook import tqdm\n",
    "import json\n",
    "import os\n",
    "import googleapiclient.discovery"
   ]
  },
  {
   "cell_type": "code",
   "execution_count": 2,
   "metadata": {},
   "outputs": [],
   "source": [
    "os.environ[\"OAUTHLIB_INSECURE_TRANSPORT\"] = \"1\"\n",
    "\n",
    "api_service_name = \"youtube\"\n",
    "api_version = \"v3\"\n",
    "#DEVELOPER_KEY = 부여된 개인 키 입력\n"
   ]
  },
  {
   "cell_type": "code",
   "execution_count": 3,
   "metadata": {},
   "outputs": [],
   "source": [
    "youtube = googleapiclient.discovery.build(api_service_name, api_version, developerKey = DEVELOPER_KEY)"
   ]
  },
  {
   "cell_type": "code",
   "execution_count": 4,
   "metadata": {},
   "outputs": [],
   "source": [
    "#1년간 주 단위로 수집\n",
    "\n",
    "sd = date(2020, 7, 1)\n",
    "week = timedelta(weeks=1)\n",
    "day = timedelta(days=1)\n",
    "ed = sd + week -day"
   ]
  },
  {
   "cell_type": "markdown",
   "metadata": {},
   "source": [
    "# '한국 반응' 키워드로 유튜브 비디오 데이터 수집"
   ]
  },
  {
   "cell_type": "code",
   "execution_count": 6,
   "metadata": {},
   "outputs": [],
   "source": [
    "video_title = []\n",
    "video_id = []\n",
    "channel_title = []\n",
    "channel_id = []\n",
    "description = []\n",
    "pub_date = []\n",
    "\n",
    "#1년간 데이터 수집이므로 52주간 수집\n",
    "for i in range(52):\n",
    "    pa_date = sd.strftime('%Y-%m-%d') + 'T00:00:00Z'\n",
    "    pb_date = ed.strftime('%Y-%m-%d') + 'T23:59:59Z'\n",
    "    \n",
    "    search_response = youtube.search().list(\n",
    "        q='한국 반응',\n",
    "        part=\"id, snippet\",\n",
    "        maxResults=50, #최대값\n",
    "        publishedAfter = pa_date,\n",
    "        publishedBefore = pb_date,\n",
    "        #videoCategoryId=10,   # music:10,  videoblogging:21, People & Blogs:22, Entertainment:24\n",
    "        type = 'video',\n",
    "        order = 'relevance'\n",
    "    ).execute()\n",
    "\n",
    "\n",
    "    for search_result in search_response.get(\"items\", []):\n",
    "        video_title.append(search_result[\"snippet\"][\"title\"])\n",
    "        video_id.append(search_result[\"id\"][\"videoId\"])\n",
    "        channel_title.append(search_result[\"snippet\"][\"channelTitle\"])\n",
    "        channel_id.append(search_result[\"snippet\"][\"channelId\"])\n",
    "        description.append(search_result[\"snippet\"][\"description\"])\n",
    "        pub_date.append(search_result[\"snippet\"][\"publishTime\"])\n",
    "        \n",
    "    sd += week\n",
    "    ed = sd + week - day"
   ]
  },
  {
   "cell_type": "code",
   "execution_count": 7,
   "metadata": {},
   "outputs": [],
   "source": [
    "video_df = pd.DataFrame({'title':video_title, 'video_id':video_id, 'channel_title':channel_title, 'channel_id':channel_id, 'description':description, 'date':pub_date})"
   ]
  },
  {
   "cell_type": "code",
   "execution_count": 8,
   "metadata": {},
   "outputs": [],
   "source": [
    "video_df.to_csv('data/youtube_video_list.csv', encoding='utf-8-sig')"
   ]
  },
  {
   "cell_type": "markdown",
   "metadata": {},
   "source": [
    "# '외국인 리액션' 키워드로 유튜브 비디오 데이터 수집"
   ]
  },
  {
   "cell_type": "code",
   "execution_count": 10,
   "metadata": {},
   "outputs": [],
   "source": [
    "video_title = []\n",
    "video_id = []\n",
    "channel_title = []\n",
    "channel_id = []\n",
    "description = []\n",
    "pub_date = []\n",
    "\n",
    "\n",
    "for i in range(52):\n",
    "    pa_date = sd.strftime('%Y-%m-%d') + 'T00:00:00Z'\n",
    "    pb_date = ed.strftime('%Y-%m-%d') + 'T23:59:59Z'\n",
    "    \n",
    "    search_response = youtube.search().list(\n",
    "        q='외국인 리액션',\n",
    "        part=\"id, snippet\",\n",
    "        maxResults=50, #최대값\n",
    "        publishedAfter = pa_date,\n",
    "        publishedBefore = pb_date,\n",
    "        #videoCategoryId=10,   # music:10,  videoblogging:21, People & Blogs:22, Entertainment:24\n",
    "        type = 'video',\n",
    "        order = 'relevance'\n",
    "    ).execute()\n",
    "\n",
    "\n",
    "    for search_result in search_response.get(\"items\", []):\n",
    "        video_title.append(search_result[\"snippet\"][\"title\"])\n",
    "        video_id.append(search_result[\"id\"][\"videoId\"])\n",
    "        channel_title.append(search_result[\"snippet\"][\"channelTitle\"])\n",
    "        channel_id.append(search_result[\"snippet\"][\"channelId\"])\n",
    "        description.append(search_result[\"snippet\"][\"description\"])\n",
    "        pub_date.append(search_result[\"snippet\"][\"publishTime\"])\n",
    "        \n",
    "    sd += week\n",
    "    ed = sd + week - day"
   ]
  },
  {
   "cell_type": "code",
   "execution_count": 11,
   "metadata": {},
   "outputs": [],
   "source": [
    "video_df = pd.DataFrame({'title':video_title, 'video_id':video_id, 'channel_title':channel_title, 'channel_id':channel_id, 'description':description, 'date':pub_date})"
   ]
  },
  {
   "cell_type": "code",
   "execution_count": 12,
   "metadata": {},
   "outputs": [],
   "source": [
    "video_df.to_csv('data/youtube_video_list_2.csv', encoding='utf-8-sig')"
   ]
  },
  {
   "cell_type": "code",
   "execution_count": 4,
   "metadata": {},
   "outputs": [],
   "source": [
    "df1 = pd.read_csv('data/youtube_video_list.csv')\n",
    "df2 = pd.read_csv('data/youtube_video_list_2.csv')\n",
    "df = pd.concat([df1, df2]).reset_index()\n",
    "df = df.drop_duplicates(subset=['video_id'])\n",
    "df.to_csv('data/video.csv', encoding='utf-8-sig')"
   ]
  },
  {
   "cell_type": "code",
   "execution_count": 6,
   "metadata": {},
   "outputs": [],
   "source": [
    "del df['index']\n",
    "del df['Unnamed: 0']"
   ]
  },
  {
   "cell_type": "markdown",
   "metadata": {},
   "source": [
    "# 영상별 조회수, 좋아요, 싫어요, 댓글 수 수집"
   ]
  },
  {
   "cell_type": "code",
   "execution_count": 25,
   "metadata": {},
   "outputs": [],
   "source": [
    "video_id = list(df['video_id'])"
   ]
  },
  {
   "cell_type": "code",
   "execution_count": 26,
   "metadata": {},
   "outputs": [
    {
     "data": {
      "application/vnd.jupyter.widget-view+json": {
       "model_id": "67ff9c65cb0742a587763dd14d3c57ee",
       "version_major": 2,
       "version_minor": 0
      },
      "text/plain": [
       "  0%|          | 0/4805 [00:00<?, ?it/s]"
      ]
     },
     "metadata": {},
     "output_type": "display_data"
    }
   ],
   "source": [
    "video_ids = []\n",
    "viewCount = []\n",
    "likeCount = []\n",
    "dislikeCount = []\n",
    "favoriteCount = []\n",
    "commentCount = []\n",
    "\n",
    "for vid in tqdm(video_id):\n",
    "    video_response = youtube.videos().list(\n",
    "        part=\"snippet, statistics\",\n",
    "        id=vid\n",
    "    ).execute()\n",
    "\n",
    "    if video_response.get(\"items\", []):\n",
    "        video_ids.append(vid)\n",
    "        for v_item in video_response.get(\"items\", []):\n",
    "            try:\n",
    "                viewCount.append(v_item[\"statistics\"][\"viewCount\"])\n",
    "            except:\n",
    "                viewCount.append(0)\n",
    "            try:\n",
    "                likeCount.append(v_item[\"statistics\"][\"likeCount\"])\n",
    "            except:\n",
    "                likeCount.append(0)\n",
    "            try:\n",
    "                dislikeCount.append(v_item[\"statistics\"][\"dislikeCount\"])\n",
    "            except:\n",
    "                dislikeCount.append(0)\n",
    "            try:\n",
    "                favoriteCount.append(v_item[\"statistics\"][\"favoriteCount\"])\n",
    "            except:\n",
    "                favoriteCount.append(0)\n",
    "            try:\n",
    "                commentCount.append(v_item[\"statistics\"][\"commentCount\"])\n",
    "            except:\n",
    "                commentCount.append(0)\n",
    "    else:\n",
    "        pass"
   ]
  },
  {
   "cell_type": "code",
   "execution_count": 27,
   "metadata": {},
   "outputs": [],
   "source": [
    "df_stat = pd.DataFrame({'video_id':video_ids, 'viewCount':viewCount, 'likeCount':likeCount, 'dislikeCount':dislikeCount, 'favoriteCount':favoriteCount, 'commentCount':commentCount})"
   ]
  },
  {
   "cell_type": "code",
   "execution_count": 28,
   "metadata": {},
   "outputs": [],
   "source": [
    "df_stat.to_csv('data/video_statistics.csv', encoding='utf-8-sig')"
   ]
  },
  {
   "cell_type": "code",
   "execution_count": 30,
   "metadata": {},
   "outputs": [],
   "source": [
    "df_re = pd.merge(df, df_stat, on='video_id', how='left')\n",
    "df_re.to_csv('data/videos_re.csv', encoding='utf-8-sig')"
   ]
  },
  {
   "cell_type": "markdown",
   "metadata": {},
   "source": [
    "# 댓글 데이터 수집"
   ]
  },
  {
   "cell_type": "code",
   "execution_count": 18,
   "metadata": {},
   "outputs": [
    {
     "data": {
      "application/vnd.jupyter.widget-view+json": {
       "model_id": "3ac69979b45d40ec96461fa0bc8871e7",
       "version_major": 2,
       "version_minor": 0
      },
      "text/plain": [
       "  0%|          | 0/5059 [00:00<?, ?it/s]"
      ]
     },
     "metadata": {},
     "output_type": "display_data"
    }
   ],
   "source": [
    "comment_json = []\n",
    "for vidx in tqdm(video_id):\n",
    "    request = youtube.commentThreads().list(\n",
    "        part=\"snippet\",\n",
    "        videoId=vidx\n",
    "    )\n",
    "    try:\n",
    "        response = request.execute()\n",
    "        comment_list = response['items']\n",
    "        for i in range(len(comment_list)):\n",
    "            comment_json.append(comment_list[i]['snippet']['topLevelComment']['snippet'])\n",
    "    except:\n",
    "        pass\n",
    "\n",
    "comment_df = pd.DataFrame(comment_json)"
   ]
  },
  {
   "cell_type": "code",
   "execution_count": 20,
   "metadata": {},
   "outputs": [],
   "source": [
    "comment_df.to_csv('data/comments.csv', encoding='utf-8-sig')"
   ]
  }
 ],
 "metadata": {
  "kernelspec": {
   "display_name": "Python 3",
   "language": "python",
   "name": "python3"
  },
  "language_info": {
   "codemirror_mode": {
    "name": "ipython",
    "version": 3
   },
   "file_extension": ".py",
   "mimetype": "text/x-python",
   "name": "python",
   "nbconvert_exporter": "python",
   "pygments_lexer": "ipython3",
   "version": "3.8.8"
  }
 },
 "nbformat": 4,
 "nbformat_minor": 4
}
