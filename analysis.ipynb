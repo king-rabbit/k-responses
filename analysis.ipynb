{
 "cells": [
  {
   "cell_type": "code",
   "execution_count": 1,
   "metadata": {},
   "outputs": [
    {
     "name": "stderr",
     "output_type": "stream",
     "text": [
      "C:\\Users\\user\\anaconda3\\lib\\site-packages\\numpy\\_distributor_init.py:30: UserWarning: loaded more than 1 DLL from .libs:\n",
      "C:\\Users\\user\\anaconda3\\lib\\site-packages\\numpy\\.libs\\libopenblas.PYQHXLVVQ7VESDPUVUADXEVJOBGHJPAY.gfortran-win_amd64.dll\n",
      "C:\\Users\\user\\anaconda3\\lib\\site-packages\\numpy\\.libs\\libopenblas.XWYDX2IKJW2NMTWSFYNGFUWKQU3LYTCZ.gfortran-win_amd64.dll\n",
      "  warnings.warn(\"loaded more than 1 DLL from .libs:\"\n"
     ]
    }
   ],
   "source": [
    "import pandas as pd\n",
    "import numpy as np\n",
    "import operator\n",
    "import datetime\n",
    "import pyecharts\n",
    "from eunjeon import Mecab \n",
    "#from konlpy.tag import Hannanum\n",
    "from collections import Counter\n",
    "from collections import defaultdict"
   ]
  },
  {
   "cell_type": "code",
   "execution_count": 2,
   "metadata": {},
   "outputs": [],
   "source": [
    "videos = pd.read_csv('data/videos.csv')"
   ]
  },
  {
   "cell_type": "code",
   "execution_count": 130,
   "metadata": {},
   "outputs": [
    {
     "data": {
      "text/html": [
       "<script>\n",
       "    require.config({\n",
       "        paths: {\n",
       "            'echarts': '/nbextensions/echarts/echarts.min'\n",
       "        }\n",
       "    });\n",
       "</script>\n",
       "    <div id=\"7e01ca99f5ec4758a8e8a568665583b4\" style=\"width:900px;height:300px;\"></div>\n",
       "\n",
       "\n",
       "<script>\n",
       "    require(['echarts'], function(echarts) {\n",
       "        \n",
       "var myChart_7e01ca99f5ec4758a8e8a568665583b4 = echarts.init(document.getElementById('7e01ca99f5ec4758a8e8a568665583b4'), 'light', {renderer: 'canvas'});\n",
       "\n",
       "var option_7e01ca99f5ec4758a8e8a568665583b4 = {\n",
       "    \"title\": [\n",
       "        {\n",
       "            \"left\": \"auto\",\n",
       "            \"top\": \"auto\",\n",
       "            \"textStyle\": {\n",
       "                \"fontSize\": 18\n",
       "            },\n",
       "            \"subtextStyle\": {\n",
       "                \"fontSize\": 12\n",
       "            }\n",
       "        }\n",
       "    ],\n",
       "    \"toolbox\": {\n",
       "        \"show\": true,\n",
       "        \"orient\": \"vertical\",\n",
       "        \"left\": \"95%\",\n",
       "        \"top\": \"center\",\n",
       "        \"feature\": {\n",
       "            \"saveAsImage\": {\n",
       "                \"show\": true,\n",
       "                \"title\": \"save as image\"\n",
       "            },\n",
       "            \"restore\": {\n",
       "                \"show\": true,\n",
       "                \"title\": \"restore\"\n",
       "            },\n",
       "            \"dataView\": {\n",
       "                \"show\": true,\n",
       "                \"title\": \"data view\"\n",
       "            }\n",
       "        }\n",
       "    },\n",
       "    \"series_id\": 7868483,\n",
       "    \"tooltip\": {\n",
       "        \"trigger\": \"item\",\n",
       "        \"triggerOn\": \"mousemove|click\",\n",
       "        \"axisPointer\": {\n",
       "            \"type\": \"line\"\n",
       "        },\n",
       "        \"textStyle\": {\n",
       "            \"fontSize\": 14\n",
       "        },\n",
       "        \"backgroundColor\": \"rgba(50,50,50,0.7)\",\n",
       "        \"borderColor\": \"#333\",\n",
       "        \"borderWidth\": 0\n",
       "    },\n",
       "    \"series\": [\n",
       "        {\n",
       "            \"type\": \"bar\",\n",
       "            \"name\": \"bar\",\n",
       "            \"data\": [\n",
       "                154.0,\n",
       "                139.0,\n",
       "                80.0,\n",
       "                79.0,\n",
       "                77.0,\n",
       "                75.0,\n",
       "                74.0,\n",
       "                69.0,\n",
       "                65.0,\n",
       "                63.0,\n",
       "                61.0,\n",
       "                54.0,\n",
       "                49.0,\n",
       "                49.0,\n",
       "                47.0,\n",
       "                47.0,\n",
       "                44.0,\n",
       "                43.0,\n",
       "                42.0,\n",
       "                41.0\n",
       "            ],\n",
       "            \"barCategoryGap\": 2,\n",
       "            \"label\": {\n",
       "                \"normal\": {\n",
       "                    \"show\": true,\n",
       "                    \"position\": \"top\",\n",
       "                    \"textStyle\": {\n",
       "                        \"fontSize\": 12\n",
       "                    }\n",
       "                },\n",
       "                \"emphasis\": {\n",
       "                    \"show\": true,\n",
       "                    \"textStyle\": {\n",
       "                        \"fontSize\": 12\n",
       "                    }\n",
       "                }\n",
       "            },\n",
       "            \"markPoint\": {\n",
       "                \"data\": []\n",
       "            },\n",
       "            \"markLine\": {\n",
       "                \"data\": []\n",
       "            },\n",
       "            \"seriesId\": 7868483\n",
       "        }\n",
       "    ],\n",
       "    \"legend\": [\n",
       "        {\n",
       "            \"data\": [\n",
       "                \"bar\"\n",
       "            ],\n",
       "            \"selectedMode\": \"multiple\",\n",
       "            \"show\": true,\n",
       "            \"left\": \"center\",\n",
       "            \"top\": \"top\",\n",
       "            \"orient\": \"horizontal\",\n",
       "            \"textStyle\": {\n",
       "                \"fontSize\": 12\n",
       "            }\n",
       "        }\n",
       "    ],\n",
       "    \"animation\": true,\n",
       "    \"xAxis\": [\n",
       "        {\n",
       "            \"show\": true,\n",
       "            \"nameLocation\": \"middle\",\n",
       "            \"nameGap\": 25,\n",
       "            \"nameTextStyle\": {\n",
       "                \"fontSize\": 14\n",
       "            },\n",
       "            \"axisTick\": {\n",
       "                \"alignWithLabel\": false\n",
       "            },\n",
       "            \"inverse\": false,\n",
       "            \"boundaryGap\": true,\n",
       "            \"type\": \"category\",\n",
       "            \"splitLine\": {\n",
       "                \"show\": false\n",
       "            },\n",
       "            \"axisLine\": {\n",
       "                \"lineStyle\": {\n",
       "                    \"width\": 1\n",
       "                }\n",
       "            },\n",
       "            \"axisLabel\": {\n",
       "                \"interval\": 0,\n",
       "                \"rotate\": 20,\n",
       "                \"margin\": 8,\n",
       "                \"textStyle\": {\n",
       "                    \"fontSize\": 10\n",
       "                }\n",
       "            },\n",
       "            \"data\": [\n",
       "                \"\\uc874\\ud06cTV\",\n",
       "                \"\\ub300\\uace0\\uad6c\\ub824\\uc81c\\uad6d\",\n",
       "                \"\\uc18c\\ub140\\ud1b5\\uc2e0 \\u2022 \\uc870\\ud68c\\uc218239\\ub9cc\\ud68c\",\n",
       "                \"Kraze Reaction\",\n",
       "                \"\\uc911\\uad6d\\uc5b4\\ub85c [\\u8def]\",\n",
       "                \"\\uc138\\uc0c1\\uc744\\ub9d0\\ud558\\ub2e4\",\n",
       "                \"QUEEN SOHYANG\",\n",
       "                \"\\ucf54\\ub9ac\\uc548\\ube0c\\ub85c\\uc2a4\",\n",
       "                \"\\ube44\\ub354\\ud0d1\",\n",
       "                \"\\uace0\\ucda7\\uac00\\ub8e8TV\",\n",
       "                \"ALL THE K-JAM \\uc62c\\ub354\\ucf00\\uc774\\uc7bc\",\n",
       "                \"\\uad6d\\ubf55\",\n",
       "                \"\\uad6c\\ub124\\uc2a4\\ubd81\",\n",
       "                \"\\uc5d0\\uc774 \\uc2a4\\ud1a0\\ub9ac A STORY\",\n",
       "                \"\\ud574\\uc678\\ub9ac\\uc5bc\\ubc18\\uc751\",\n",
       "                \"\\ub274\\uc2a4\\ud0b9\",\n",
       "                \"\\uc0ac\\uc774\\ub2e4 \\uc77c\\ubcf8\\ubc18\\uc751 \\u2022 \\uc870\\ud68c\\uc218 73\\ub9cc\\ud68c\",\n",
       "                \"\\ub808\\ub9cc Reman [\\ub85c\\ub9c8\\uc0ac\\ub294 \\ud55c\\uad6d\\ub0a8\\uc790]\",\n",
       "                \"BODA \\ubcf4\\ub2e4\",\n",
       "                \"tvN D ENT\"\n",
       "            ]\n",
       "        }\n",
       "    ],\n",
       "    \"yAxis\": [\n",
       "        {\n",
       "            \"show\": true,\n",
       "            \"nameLocation\": \"middle\",\n",
       "            \"nameGap\": 25,\n",
       "            \"nameTextStyle\": {\n",
       "                \"fontSize\": 14\n",
       "            },\n",
       "            \"axisTick\": {\n",
       "                \"alignWithLabel\": false\n",
       "            },\n",
       "            \"inverse\": false,\n",
       "            \"boundaryGap\": true,\n",
       "            \"type\": \"value\",\n",
       "            \"splitLine\": {\n",
       "                \"show\": true\n",
       "            },\n",
       "            \"axisLine\": {\n",
       "                \"lineStyle\": {\n",
       "                    \"width\": 1\n",
       "                }\n",
       "            },\n",
       "            \"axisLabel\": {\n",
       "                \"interval\": \"auto\",\n",
       "                \"formatter\": \"{value} \",\n",
       "                \"rotate\": 0,\n",
       "                \"margin\": 8,\n",
       "                \"textStyle\": {\n",
       "                    \"fontSize\": 12\n",
       "                }\n",
       "            }\n",
       "        }\n",
       "    ],\n",
       "    \"color\": [\n",
       "        \"#c23531\",\n",
       "        \"#2f4554\",\n",
       "        \"#61a0a8\",\n",
       "        \"#d48265\",\n",
       "        \"#749f83\",\n",
       "        \"#ca8622\",\n",
       "        \"#bda29a\",\n",
       "        \"#6e7074\",\n",
       "        \"#546570\",\n",
       "        \"#c4ccd3\",\n",
       "        \"#f05b72\",\n",
       "        \"#ef5b9c\",\n",
       "        \"#f47920\",\n",
       "        \"#905a3d\",\n",
       "        \"#fab27b\",\n",
       "        \"#2a5caa\",\n",
       "        \"#444693\",\n",
       "        \"#726930\",\n",
       "        \"#b2d235\",\n",
       "        \"#6d8346\",\n",
       "        \"#ac6767\",\n",
       "        \"#1d953f\",\n",
       "        \"#6950a1\",\n",
       "        \"#918597\",\n",
       "        \"#f6f5ec\"\n",
       "    ]\n",
       "};\n",
       "myChart_7e01ca99f5ec4758a8e8a568665583b4.setOption(option_7e01ca99f5ec4758a8e8a568665583b4);\n",
       "\n",
       "    });\n",
       "</script>\n"
      ],
      "text/plain": [
       "<pyecharts.charts.bar.Bar at 0x29b629648b0>"
      ]
     },
     "execution_count": 130,
     "metadata": {},
     "output_type": "execute_result"
    }
   ],
   "source": [
    "from pyecharts import Bar\n",
    "bar = Bar(width=900, height=300)\n",
    "bar.add(\"bar\", \n",
    "        list(videos['channel_title'].value_counts()[:20].index), \n",
    "        list(videos['channel_title'].value_counts()[:20].values), \n",
    "        is_label_show=True,\n",
    "        label_text_size =12,\n",
    "        xaxis_label_textsize=10,\n",
    "        xaxis_interval= 0,\n",
    "        xaxis_rotate =20,\n",
    "        bar_category_gap =2,\n",
    "        is_stack=False,\n",
    "        is_convert=False\n",
    "       )\n",
    "bar"
   ]
  },
  {
   "cell_type": "code",
   "execution_count": 314,
   "metadata": {},
   "outputs": [],
   "source": [
    "tagger = Mecab() \n",
    "vocabs = []\n",
    "for title in videos['title']:\n",
    "    nouns = tagger.nouns(title)\n",
    "    for noun in nouns:\n",
    "        vocabs.append(noun)\n",
    "        \n",
    "for desc in videos['description']:\n",
    "    if type(desc) == str:\n",
    "        nouns = tagger.nouns(desc)\n",
    "        for noun in nouns:\n",
    "            vocabs.append(noun)"
   ]
  },
  {
   "cell_type": "code",
   "execution_count": 322,
   "metadata": {},
   "outputs": [],
   "source": [
    "result = Counter(vocabs)"
   ]
  },
  {
   "cell_type": "code",
   "execution_count": 323,
   "metadata": {},
   "outputs": [],
   "source": [
    "result = result.most_common(200)\n",
    "\n",
    "result_dic = dict()\n",
    "\n",
    "for i in range(len(result)):\n",
    "    key = result[i][0]\n",
    "    value = result[i][1]\n",
    "    result_dic[key] = value"
   ]
  },
  {
   "cell_type": "code",
   "execution_count": 330,
   "metadata": {},
   "outputs": [],
   "source": [
    "stopwords = ['한국', '대한민국', '반응', '해외', '외국인', '리액션', '이유', '수', '방송', '영상', '모음', '처음', '거', '일',\n",
    "             '외국', '말', '위', 'ㅣ', '구독', '세계', '자막', '네티즌', '안녕', '사람', '상황', '시청', '채널', '구독', '오늘', \n",
    "             '것', '이것', '년', '댓글', '친구', '중', '때', '우리', '탄', '만', 'ㄷ', '편', '뮤', '급', '전', '국', '나',\n",
    "            '부탁', '여러분', '소식', '최근', '이번', '분', '번', '등', '씨', '설정', '시', '디', '이', '사진', '월', '글',\n",
    "             '생각', '그' , '미', '내', '때문', '제작', '유', '트', '후', '유튜브', '소개', '내용', '게', '라이브', '대' ,'이게', '원',\n",
    "            '왕', '속']\n",
    "\n",
    "for word in stopwords:\n",
    "    try:\n",
    "        del result_dic[word]\n",
    "    except KeyError:\n",
    "        pass"
   ]
  },
  {
   "cell_type": "code",
   "execution_count": 331,
   "metadata": {},
   "outputs": [
    {
     "data": {
      "text/html": [
       "<script>\n",
       "    require.config({\n",
       "        paths: {\n",
       "            'echarts': '/nbextensions/echarts/echarts.min', 'wordcloud': '/nbextensions/echarts/echarts-wordcloud.min'\n",
       "        }\n",
       "    });\n",
       "</script>\n",
       "    <div id=\"e7834d3ea0364abe8fe1fd71c00e6a5e\" style=\"width:800px;height:620px;\"></div>\n",
       "\n",
       "\n",
       "<script>\n",
       "    require(['echarts', 'wordcloud'], function(echarts) {\n",
       "        \n",
       "var myChart_e7834d3ea0364abe8fe1fd71c00e6a5e = echarts.init(document.getElementById('e7834d3ea0364abe8fe1fd71c00e6a5e'), 'light', {renderer: 'canvas'});\n",
       "\n",
       "var option_e7834d3ea0364abe8fe1fd71c00e6a5e = {\n",
       "    \"title\": [\n",
       "        {\n",
       "            \"left\": \"auto\",\n",
       "            \"top\": \"auto\",\n",
       "            \"textStyle\": {\n",
       "                \"fontSize\": 18\n",
       "            },\n",
       "            \"subtextStyle\": {\n",
       "                \"fontSize\": 12\n",
       "            }\n",
       "        }\n",
       "    ],\n",
       "    \"toolbox\": {\n",
       "        \"show\": true,\n",
       "        \"orient\": \"vertical\",\n",
       "        \"left\": \"95%\",\n",
       "        \"top\": \"center\",\n",
       "        \"feature\": {\n",
       "            \"saveAsImage\": {\n",
       "                \"show\": true,\n",
       "                \"title\": \"save as image\"\n",
       "            },\n",
       "            \"restore\": {\n",
       "                \"show\": true,\n",
       "                \"title\": \"restore\"\n",
       "            },\n",
       "            \"dataView\": {\n",
       "                \"show\": true,\n",
       "                \"title\": \"data view\"\n",
       "            }\n",
       "        }\n",
       "    },\n",
       "    \"series_id\": 2828165,\n",
       "    \"tooltip\": {\n",
       "        \"trigger\": \"item\",\n",
       "        \"triggerOn\": \"mousemove|click\",\n",
       "        \"axisPointer\": {\n",
       "            \"type\": \"line\"\n",
       "        },\n",
       "        \"textStyle\": {\n",
       "            \"fontSize\": 14\n",
       "        },\n",
       "        \"backgroundColor\": \"rgba(50,50,50,0.7)\",\n",
       "        \"borderColor\": \"#333\",\n",
       "        \"borderWidth\": 0\n",
       "    },\n",
       "    \"series\": [\n",
       "        {\n",
       "            \"type\": \"wordCloud\",\n",
       "            \"shape\": \"pentagon\",\n",
       "            \"rotationRange\": [\n",
       "                0,\n",
       "                0\n",
       "            ],\n",
       "            \"rotationStep\": 5,\n",
       "            \"girdSize\": 5,\n",
       "            \"sizeRange\": [\n",
       "                20,\n",
       "                100\n",
       "            ],\n",
       "            \"data\": [\n",
       "                {\n",
       "                    \"name\": \"\\uc77c\\ubcf8\",\n",
       "                    \"value\": 3822,\n",
       "                    \"textStyle\": {\n",
       "                        \"normal\": {\n",
       "                            \"color\": \"rgb(137,40,76)\"\n",
       "                        }\n",
       "                    }\n",
       "                },\n",
       "                {\n",
       "                    \"name\": \"\\uc911\\uad6d\",\n",
       "                    \"value\": 944,\n",
       "                    \"textStyle\": {\n",
       "                        \"normal\": {\n",
       "                            \"color\": \"rgb(33,6,61)\"\n",
       "                        }\n",
       "                    }\n",
       "                },\n",
       "                {\n",
       "                    \"name\": \"\\ubbf8\\uad6d\",\n",
       "                    \"value\": 838,\n",
       "                    \"textStyle\": {\n",
       "                        \"normal\": {\n",
       "                            \"color\": \"rgb(97,15,46)\"\n",
       "                        }\n",
       "                    }\n",
       "                },\n",
       "                {\n",
       "                    \"name\": \"\\ud55c\\uae00\",\n",
       "                    \"value\": 612,\n",
       "                    \"textStyle\": {\n",
       "                        \"normal\": {\n",
       "                            \"color\": \"rgb(53,81,4)\"\n",
       "                        }\n",
       "                    }\n",
       "                },\n",
       "                {\n",
       "                    \"name\": \"\\ud55c\\uad6d\\uc778\",\n",
       "                    \"value\": 515,\n",
       "                    \"textStyle\": {\n",
       "                        \"normal\": {\n",
       "                            \"color\": \"rgb(156,109,79)\"\n",
       "                        }\n",
       "                    }\n",
       "                },\n",
       "                {\n",
       "                    \"name\": \"\\ubc29\\ud0c4\\uc18c\\ub144\\ub2e8\",\n",
       "                    \"value\": 481,\n",
       "                    \"textStyle\": {\n",
       "                        \"normal\": {\n",
       "                            \"color\": \"rgb(8,81,79)\"\n",
       "                        }\n",
       "                    }\n",
       "                },\n",
       "                {\n",
       "                    \"name\": \"\\uc77c\\ubcf8\\uc778\",\n",
       "                    \"value\": 449,\n",
       "                    \"textStyle\": {\n",
       "                        \"normal\": {\n",
       "                            \"color\": \"rgb(106,3,121)\"\n",
       "                        }\n",
       "                    }\n",
       "                },\n",
       "                {\n",
       "                    \"name\": \"\\uac10\\uc0ac\",\n",
       "                    \"value\": 389,\n",
       "                    \"textStyle\": {\n",
       "                        \"normal\": {\n",
       "                            \"color\": \"rgb(113,111,150)\"\n",
       "                        }\n",
       "                    }\n",
       "                },\n",
       "                {\n",
       "                    \"name\": \"\\ucda9\\uaca9\",\n",
       "                    \"value\": 375,\n",
       "                    \"textStyle\": {\n",
       "                        \"normal\": {\n",
       "                            \"color\": \"rgb(107,138,108)\"\n",
       "                        }\n",
       "                    }\n",
       "                },\n",
       "                {\n",
       "                    \"name\": \"\\ub098\\ub77c\",\n",
       "                    \"value\": 259,\n",
       "                    \"textStyle\": {\n",
       "                        \"normal\": {\n",
       "                            \"color\": \"rgb(28,94,11)\"\n",
       "                        }\n",
       "                    }\n",
       "                },\n",
       "                {\n",
       "                    \"name\": \"\\uc601\\ud654\",\n",
       "                    \"value\": 253,\n",
       "                    \"textStyle\": {\n",
       "                        \"normal\": {\n",
       "                            \"color\": \"rgb(120,68,113)\"\n",
       "                        }\n",
       "                    }\n",
       "                },\n",
       "                {\n",
       "                    \"name\": \"\\uc18c\\ud5a5\",\n",
       "                    \"value\": 251,\n",
       "                    \"textStyle\": {\n",
       "                        \"normal\": {\n",
       "                            \"color\": \"rgb(81,95,76)\"\n",
       "                        }\n",
       "                    }\n",
       "                },\n",
       "                {\n",
       "                    \"name\": \"\\ub4dc\\ub77c\\ub9c8\",\n",
       "                    \"value\": 243,\n",
       "                    \"textStyle\": {\n",
       "                        \"normal\": {\n",
       "                            \"color\": \"rgb(157,105,121)\"\n",
       "                        }\n",
       "                    }\n",
       "                },\n",
       "                {\n",
       "                    \"name\": \"\\uc2a4\\ud0c0\",\n",
       "                    \"value\": 219,\n",
       "                    \"textStyle\": {\n",
       "                        \"normal\": {\n",
       "                            \"color\": \"rgb(105,2,84)\"\n",
       "                        }\n",
       "                    }\n",
       "                },\n",
       "                {\n",
       "                    \"name\": \"\\ub300\\ub9cc\",\n",
       "                    \"value\": 209,\n",
       "                    \"textStyle\": {\n",
       "                        \"normal\": {\n",
       "                            \"color\": \"rgb(114,17,28)\"\n",
       "                        }\n",
       "                    }\n",
       "                },\n",
       "                {\n",
       "                    \"name\": \"\\ubbf8\\uc0ac\\uc77c\",\n",
       "                    \"value\": 203,\n",
       "                    \"textStyle\": {\n",
       "                        \"normal\": {\n",
       "                            \"color\": \"rgb(85,35,90)\"\n",
       "                        }\n",
       "                    }\n",
       "                },\n",
       "                {\n",
       "                    \"name\": \"\\uc0ac\\ub791\",\n",
       "                    \"value\": 199,\n",
       "                    \"textStyle\": {\n",
       "                        \"normal\": {\n",
       "                            \"color\": \"rgb(13,25,132)\"\n",
       "                        }\n",
       "                    }\n",
       "                },\n",
       "                {\n",
       "                    \"name\": \"\\ubb38\\ud654\",\n",
       "                    \"value\": 196,\n",
       "                    \"textStyle\": {\n",
       "                        \"normal\": {\n",
       "                            \"color\": \"rgb(86,148,152)\"\n",
       "                        }\n",
       "                    }\n",
       "                },\n",
       "                {\n",
       "                    \"name\": \"\\ucd5c\\uace0\",\n",
       "                    \"value\": 196,\n",
       "                    \"textStyle\": {\n",
       "                        \"normal\": {\n",
       "                            \"color\": \"rgb(101,83,138)\"\n",
       "                        }\n",
       "                    }\n",
       "                },\n",
       "                {\n",
       "                    \"name\": \"\\uc74c\\uc2dd\",\n",
       "                    \"value\": 189,\n",
       "                    \"textStyle\": {\n",
       "                        \"normal\": {\n",
       "                            \"color\": \"rgb(81,88,57)\"\n",
       "                        }\n",
       "                    }\n",
       "                },\n",
       "                {\n",
       "                    \"name\": \"\\uc601\\uad6d\",\n",
       "                    \"value\": 183,\n",
       "                    \"textStyle\": {\n",
       "                        \"normal\": {\n",
       "                            \"color\": \"rgb(53,151,132)\"\n",
       "                        }\n",
       "                    }\n",
       "                },\n",
       "                {\n",
       "                    \"name\": \"\\ubca0\\ud2b8\\ub0a8\",\n",
       "                    \"value\": 168,\n",
       "                    \"textStyle\": {\n",
       "                        \"normal\": {\n",
       "                            \"color\": \"rgb(119,131,24)\"\n",
       "                        }\n",
       "                    }\n",
       "                },\n",
       "                {\n",
       "                    \"name\": \"\\uc5ec\\uc790\",\n",
       "                    \"value\": 161,\n",
       "                    \"textStyle\": {\n",
       "                        \"normal\": {\n",
       "                            \"color\": \"rgb(93,145,93)\"\n",
       "                        }\n",
       "                    }\n",
       "                },\n",
       "                {\n",
       "                    \"name\": \"\\ucee4\\ud50c\",\n",
       "                    \"value\": 160,\n",
       "                    \"textStyle\": {\n",
       "                        \"normal\": {\n",
       "                            \"color\": \"rgb(108,129,133)\"\n",
       "                        }\n",
       "                    }\n",
       "                },\n",
       "                {\n",
       "                    \"name\": \"\\ub274\\uc2a4\",\n",
       "                    \"value\": 157,\n",
       "                    \"textStyle\": {\n",
       "                        \"normal\": {\n",
       "                            \"color\": \"rgb(46,123,141)\"\n",
       "                        }\n",
       "                    }\n",
       "                },\n",
       "                {\n",
       "                    \"name\": \"\\ube14\\ub799\",\n",
       "                    \"value\": 155,\n",
       "                    \"textStyle\": {\n",
       "                        \"normal\": {\n",
       "                            \"color\": \"rgb(96,73,88)\"\n",
       "                        }\n",
       "                    }\n",
       "                },\n",
       "                {\n",
       "                    \"name\": \"\\ub0a8\\uc790\",\n",
       "                    \"value\": 154,\n",
       "                    \"textStyle\": {\n",
       "                        \"normal\": {\n",
       "                            \"color\": \"rgb(118,1,102)\"\n",
       "                        }\n",
       "                    }\n",
       "                },\n",
       "                {\n",
       "                    \"name\": \"\\ud55c\\ub958\",\n",
       "                    \"value\": 154,\n",
       "                    \"textStyle\": {\n",
       "                        \"normal\": {\n",
       "                            \"color\": \"rgb(39,130,62)\"\n",
       "                        }\n",
       "                    }\n",
       "                },\n",
       "                {\n",
       "                    \"name\": \"\\uacf5\\uac1c\",\n",
       "                    \"value\": 154,\n",
       "                    \"textStyle\": {\n",
       "                        \"normal\": {\n",
       "                            \"color\": \"rgb(24,109,54)\"\n",
       "                        }\n",
       "                    }\n",
       "                },\n",
       "                {\n",
       "                    \"name\": \"\\ubb34\\ub300\",\n",
       "                    \"value\": 153,\n",
       "                    \"textStyle\": {\n",
       "                        \"normal\": {\n",
       "                            \"color\": \"rgb(42,20,13)\"\n",
       "                        }\n",
       "                    }\n",
       "                },\n",
       "                {\n",
       "                    \"name\": \"\\ud604\\uc9c0\",\n",
       "                    \"value\": 152,\n",
       "                    \"textStyle\": {\n",
       "                        \"normal\": {\n",
       "                            \"color\": \"rgb(16,48,56)\"\n",
       "                        }\n",
       "                    }\n",
       "                },\n",
       "                {\n",
       "                    \"name\": \"\\ube44\\uad50\",\n",
       "                    \"value\": 151,\n",
       "                    \"textStyle\": {\n",
       "                        \"normal\": {\n",
       "                            \"color\": \"rgb(16,24,148)\"\n",
       "                        }\n",
       "                    }\n",
       "                },\n",
       "                {\n",
       "                    \"name\": \"\\uad6d\\uc81c\",\n",
       "                    \"value\": 150,\n",
       "                    \"textStyle\": {\n",
       "                        \"normal\": {\n",
       "                            \"color\": \"rgb(67,48,32)\"\n",
       "                        }\n",
       "                    }\n",
       "                },\n",
       "                {\n",
       "                    \"name\": \"\\ubbf8\\uad6d\\uc778\",\n",
       "                    \"value\": 148,\n",
       "                    \"textStyle\": {\n",
       "                        \"normal\": {\n",
       "                            \"color\": \"rgb(68,49,2)\"\n",
       "                        }\n",
       "                    }\n",
       "                },\n",
       "                {\n",
       "                    \"name\": \"\\ub178\\ub798\",\n",
       "                    \"value\": 148,\n",
       "                    \"textStyle\": {\n",
       "                        \"normal\": {\n",
       "                            \"color\": \"rgb(119,151,124)\"\n",
       "                        }\n",
       "                    }\n",
       "                },\n",
       "                {\n",
       "                    \"name\": \"\\uba39\\ubc29\",\n",
       "                    \"value\": 147,\n",
       "                    \"textStyle\": {\n",
       "                        \"normal\": {\n",
       "                            \"color\": \"rgb(5,20,66)\"\n",
       "                        }\n",
       "                    }\n",
       "                },\n",
       "                {\n",
       "                    \"name\": \"\\ub304\\uc2a4\",\n",
       "                    \"value\": 147,\n",
       "                    \"textStyle\": {\n",
       "                        \"normal\": {\n",
       "                            \"color\": \"rgb(40,155,65)\"\n",
       "                        }\n",
       "                    }\n",
       "                },\n",
       "                {\n",
       "                    \"name\": \"\\uc774\\uc57c\\uae30\",\n",
       "                    \"value\": 143,\n",
       "                    \"textStyle\": {\n",
       "                        \"normal\": {\n",
       "                            \"color\": \"rgb(89,64,21)\"\n",
       "                        }\n",
       "                    }\n",
       "                },\n",
       "                {\n",
       "                    \"name\": \"\\uacbd\\uc81c\",\n",
       "                    \"value\": 139,\n",
       "                    \"textStyle\": {\n",
       "                        \"normal\": {\n",
       "                            \"color\": \"rgb(78,107,65)\"\n",
       "                        }\n",
       "                    }\n",
       "                },\n",
       "                {\n",
       "                    \"name\": \"\\ud32c\",\n",
       "                    \"value\": 137,\n",
       "                    \"textStyle\": {\n",
       "                        \"normal\": {\n",
       "                            \"color\": \"rgb(88,149,154)\"\n",
       "                        }\n",
       "                    }\n",
       "                },\n",
       "                {\n",
       "                    \"name\": \"\\uc2dc\\uac04\",\n",
       "                    \"value\": 136,\n",
       "                    \"textStyle\": {\n",
       "                        \"normal\": {\n",
       "                            \"color\": \"rgb(135,10,67)\"\n",
       "                        }\n",
       "                    }\n",
       "                },\n",
       "                {\n",
       "                    \"name\": \"\\uc190\\ud765\\ubbfc\",\n",
       "                    \"value\": 135,\n",
       "                    \"textStyle\": {\n",
       "                        \"normal\": {\n",
       "                            \"color\": \"rgb(11,88,148)\"\n",
       "                        }\n",
       "                    }\n",
       "                },\n",
       "                {\n",
       "                    \"name\": \"\\uac1c\\ubc1c\",\n",
       "                    \"value\": 134,\n",
       "                    \"textStyle\": {\n",
       "                        \"normal\": {\n",
       "                            \"color\": \"rgb(23,80,12)\"\n",
       "                        }\n",
       "                    }\n",
       "                },\n",
       "                {\n",
       "                    \"name\": \"\\uc778\\uae30\",\n",
       "                    \"value\": 133,\n",
       "                    \"textStyle\": {\n",
       "                        \"normal\": {\n",
       "                            \"color\": \"rgb(4,64,14)\"\n",
       "                        }\n",
       "                    }\n",
       "                },\n",
       "                {\n",
       "                    \"name\": \"\\ud551\\ud06c\",\n",
       "                    \"value\": 131,\n",
       "                    \"textStyle\": {\n",
       "                        \"normal\": {\n",
       "                            \"color\": \"rgb(138,86,22)\"\n",
       "                        }\n",
       "                    }\n",
       "                },\n",
       "                {\n",
       "                    \"name\": \"\\ub808\\uc804\\ub4dc\",\n",
       "                    \"value\": 130,\n",
       "                    \"textStyle\": {\n",
       "                        \"normal\": {\n",
       "                            \"color\": \"rgb(25,96,98)\"\n",
       "                        }\n",
       "                    }\n",
       "                },\n",
       "                {\n",
       "                    \"name\": \"\\ub7ec\\uc2dc\\uc544\",\n",
       "                    \"value\": 130,\n",
       "                    \"textStyle\": {\n",
       "                        \"normal\": {\n",
       "                            \"color\": \"rgb(3,61,87)\"\n",
       "                        }\n",
       "                    }\n",
       "                },\n",
       "                {\n",
       "                    \"name\": \"\\uad70\\uc0ac\\ub825\",\n",
       "                    \"value\": 128,\n",
       "                    \"textStyle\": {\n",
       "                        \"normal\": {\n",
       "                            \"color\": \"rgb(82,153,76)\"\n",
       "                        }\n",
       "                    }\n",
       "                },\n",
       "                {\n",
       "                    \"name\": \"\\ubc29\\ud0c4\",\n",
       "                    \"value\": 127,\n",
       "                    \"textStyle\": {\n",
       "                        \"normal\": {\n",
       "                            \"color\": \"rgb(30,129,109)\"\n",
       "                        }\n",
       "                    }\n",
       "                },\n",
       "                {\n",
       "                    \"name\": \"\\uc678\\uc2e0\",\n",
       "                    \"value\": 122,\n",
       "                    \"textStyle\": {\n",
       "                        \"normal\": {\n",
       "                            \"color\": \"rgb(66,6,34)\"\n",
       "                        }\n",
       "                    }\n",
       "                },\n",
       "                {\n",
       "                    \"name\": \"\\uacbd\\uc545\",\n",
       "                    \"value\": 121,\n",
       "                    \"textStyle\": {\n",
       "                        \"normal\": {\n",
       "                            \"color\": \"rgb(97,140,97)\"\n",
       "                        }\n",
       "                    }\n",
       "                },\n",
       "                {\n",
       "                    \"name\": \"\\uc804\\ud22c\\uae30\",\n",
       "                    \"value\": 121,\n",
       "                    \"textStyle\": {\n",
       "                        \"normal\": {\n",
       "                            \"color\": \"rgb(114,139,54)\"\n",
       "                        }\n",
       "                    }\n",
       "                },\n",
       "                {\n",
       "                    \"name\": \"\\ubc31\\uc2e0\",\n",
       "                    \"value\": 117,\n",
       "                    \"textStyle\": {\n",
       "                        \"normal\": {\n",
       "                            \"color\": \"rgb(148,36,79)\"\n",
       "                        }\n",
       "                    }\n",
       "                },\n",
       "                {\n",
       "                    \"name\": \"\\uac00\\uc218\",\n",
       "                    \"value\": 115,\n",
       "                    \"textStyle\": {\n",
       "                        \"normal\": {\n",
       "                            \"color\": \"rgb(54,28,144)\"\n",
       "                        }\n",
       "                    }\n",
       "                },\n",
       "                {\n",
       "                    \"name\": \"\\ud604\\ubb34\",\n",
       "                    \"value\": 113,\n",
       "                    \"textStyle\": {\n",
       "                        \"normal\": {\n",
       "                            \"color\": \"rgb(68,159,142)\"\n",
       "                        }\n",
       "                    }\n",
       "                },\n",
       "                {\n",
       "                    \"name\": \"\\uc5b8\\ub860\",\n",
       "                    \"value\": 112,\n",
       "                    \"textStyle\": {\n",
       "                        \"normal\": {\n",
       "                            \"color\": \"rgb(97,118,34)\"\n",
       "                        }\n",
       "                    }\n",
       "                },\n",
       "                {\n",
       "                    \"name\": \"\\uae30\\uc220\",\n",
       "                    \"value\": 111,\n",
       "                    \"textStyle\": {\n",
       "                        \"normal\": {\n",
       "                            \"color\": \"rgb(101,113,72)\"\n",
       "                        }\n",
       "                    }\n",
       "                },\n",
       "                {\n",
       "                    \"name\": \"\\ud558\\ub098\",\n",
       "                    \"value\": 111,\n",
       "                    \"textStyle\": {\n",
       "                        \"normal\": {\n",
       "                            \"color\": \"rgb(119,36,93)\"\n",
       "                        }\n",
       "                    }\n",
       "                },\n",
       "                {\n",
       "                    \"name\": \"\\uc601\\uc5b4\",\n",
       "                    \"value\": 110,\n",
       "                    \"textStyle\": {\n",
       "                        \"normal\": {\n",
       "                            \"color\": \"rgb(157,106,86)\"\n",
       "                        }\n",
       "                    }\n",
       "                },\n",
       "                {\n",
       "                    \"name\": \"\\uc9d1\",\n",
       "                    \"value\": 110,\n",
       "                    \"textStyle\": {\n",
       "                        \"normal\": {\n",
       "                            \"color\": \"rgb(115,36,156)\"\n",
       "                        }\n",
       "                    }\n",
       "                },\n",
       "                {\n",
       "                    \"name\": \"\\ubaa8\\uc2b5\",\n",
       "                    \"value\": 107,\n",
       "                    \"textStyle\": {\n",
       "                        \"normal\": {\n",
       "                            \"color\": \"rgb(28,5,69)\"\n",
       "                        }\n",
       "                    }\n",
       "                },\n",
       "                {\n",
       "                    \"name\": \"\\uc5ed\\ub300\",\n",
       "                    \"value\": 105,\n",
       "                    \"textStyle\": {\n",
       "                        \"normal\": {\n",
       "                            \"color\": \"rgb(120,91,23)\"\n",
       "                        }\n",
       "                    }\n",
       "                },\n",
       "                {\n",
       "                    \"name\": \"\\uac10\\ub3d9\",\n",
       "                    \"value\": 104,\n",
       "                    \"textStyle\": {\n",
       "                        \"normal\": {\n",
       "                            \"color\": \"rgb(117,69,8)\"\n",
       "                        }\n",
       "                    }\n",
       "                },\n",
       "                {\n",
       "                    \"name\": \"\\uc120\\uc9c4\\uad6d\",\n",
       "                    \"value\": 104,\n",
       "                    \"textStyle\": {\n",
       "                        \"normal\": {\n",
       "                            \"color\": \"rgb(124,56,121)\"\n",
       "                        }\n",
       "                    }\n",
       "                },\n",
       "                {\n",
       "                    \"name\": \"\\ucc28\",\n",
       "                    \"value\": 103,\n",
       "                    \"textStyle\": {\n",
       "                        \"normal\": {\n",
       "                            \"color\": \"rgb(44,69,83)\"\n",
       "                        }\n",
       "                    }\n",
       "                },\n",
       "                {\n",
       "                    \"name\": \"\\ud3ed\\ubc1c\",\n",
       "                    \"value\": 103,\n",
       "                    \"textStyle\": {\n",
       "                        \"normal\": {\n",
       "                            \"color\": \"rgb(29,93,9)\"\n",
       "                        }\n",
       "                    }\n",
       "                },\n",
       "                {\n",
       "                    \"name\": \"\\uad6d\\uac00\",\n",
       "                    \"value\": 102,\n",
       "                    \"textStyle\": {\n",
       "                        \"normal\": {\n",
       "                            \"color\": \"rgb(34,118,85)\"\n",
       "                        }\n",
       "                    }\n",
       "                },\n",
       "                {\n",
       "                    \"name\": \"\\uc5ec\\ud589\",\n",
       "                    \"value\": 102,\n",
       "                    \"textStyle\": {\n",
       "                        \"normal\": {\n",
       "                            \"color\": \"rgb(62,115,97)\"\n",
       "                        }\n",
       "                    }\n",
       "                },\n",
       "                {\n",
       "                    \"name\": \"\\uac00\\uc871\",\n",
       "                    \"value\": 101,\n",
       "                    \"textStyle\": {\n",
       "                        \"normal\": {\n",
       "                            \"color\": \"rgb(120,40,70)\"\n",
       "                        }\n",
       "                    }\n",
       "                },\n",
       "                {\n",
       "                    \"name\": \"\\ub3c5\\uc77c\",\n",
       "                    \"value\": 100,\n",
       "                    \"textStyle\": {\n",
       "                        \"normal\": {\n",
       "                            \"color\": \"rgb(113,87,36)\"\n",
       "                        }\n",
       "                    }\n",
       "                },\n",
       "                {\n",
       "                    \"name\": \"\\uc774\\ud0c8\\ub9ac\\uc544\",\n",
       "                    \"value\": 99,\n",
       "                    \"textStyle\": {\n",
       "                        \"normal\": {\n",
       "                            \"color\": \"rgb(78,33,144)\"\n",
       "                        }\n",
       "                    }\n",
       "                },\n",
       "                {\n",
       "                    \"name\": \"\\ucf54\\ub85c\\ub098\",\n",
       "                    \"value\": 99,\n",
       "                    \"textStyle\": {\n",
       "                        \"normal\": {\n",
       "                            \"color\": \"rgb(117,18,138)\"\n",
       "                        }\n",
       "                    }\n",
       "                },\n",
       "                {\n",
       "                    \"name\": \"\\ubb34\\uae30\",\n",
       "                    \"value\": 98,\n",
       "                    \"textStyle\": {\n",
       "                        \"normal\": {\n",
       "                            \"color\": \"rgb(158,30,142)\"\n",
       "                        }\n",
       "                    }\n",
       "                },\n",
       "                {\n",
       "                    \"name\": \"\\uc218\\ucd9c\",\n",
       "                    \"value\": 96,\n",
       "                    \"textStyle\": {\n",
       "                        \"normal\": {\n",
       "                            \"color\": \"rgb(76,25,34)\"\n",
       "                        }\n",
       "                    }\n",
       "                },\n",
       "                {\n",
       "                    \"name\": \"\\ub9c8\\uc74c\",\n",
       "                    \"value\": 94,\n",
       "                    \"textStyle\": {\n",
       "                        \"normal\": {\n",
       "                            \"color\": \"rgb(115,134,60)\"\n",
       "                        }\n",
       "                    }\n",
       "                },\n",
       "                {\n",
       "                    \"name\": \"\\uc911\\uad6d\\uc778\",\n",
       "                    \"value\": 92,\n",
       "                    \"textStyle\": {\n",
       "                        \"normal\": {\n",
       "                            \"color\": \"rgb(13,0,21)\"\n",
       "                        }\n",
       "                    }\n",
       "                },\n",
       "                {\n",
       "                    \"name\": \"\\ud798\",\n",
       "                    \"value\": 92,\n",
       "                    \"textStyle\": {\n",
       "                        \"normal\": {\n",
       "                            \"color\": \"rgb(83,40,143)\"\n",
       "                        }\n",
       "                    }\n",
       "                },\n",
       "                {\n",
       "                    \"name\": \"\\ub355\",\n",
       "                    \"value\": 89,\n",
       "                    \"textStyle\": {\n",
       "                        \"normal\": {\n",
       "                            \"color\": \"rgb(130,54,95)\"\n",
       "                        }\n",
       "                    }\n",
       "                },\n",
       "                {\n",
       "                    \"name\": \"\\ub2e4\\uc774\\ub108\\ub9c8\\uc774\\ud2b8\",\n",
       "                    \"value\": 89,\n",
       "                    \"textStyle\": {\n",
       "                        \"normal\": {\n",
       "                            \"color\": \"rgb(14,18,60)\"\n",
       "                        }\n",
       "                    }\n",
       "                },\n",
       "                {\n",
       "                    \"name\": \"\\ud31d\",\n",
       "                    \"value\": 88,\n",
       "                    \"textStyle\": {\n",
       "                        \"normal\": {\n",
       "                            \"color\": \"rgb(28,140,125)\"\n",
       "                        }\n",
       "                    }\n",
       "                },\n",
       "                {\n",
       "                    \"name\": \"\\uad00\\ub828\",\n",
       "                    \"value\": 87,\n",
       "                    \"textStyle\": {\n",
       "                        \"normal\": {\n",
       "                            \"color\": \"rgb(49,141,76)\"\n",
       "                        }\n",
       "                    }\n",
       "                },\n",
       "                {\n",
       "                    \"name\": \"\\uc1fc\",\n",
       "                    \"value\": 87,\n",
       "                    \"textStyle\": {\n",
       "                        \"normal\": {\n",
       "                            \"color\": \"rgb(92,23,16)\"\n",
       "                        }\n",
       "                    }\n",
       "                },\n",
       "                {\n",
       "                    \"name\": \"\\uc544\\ubbf8\",\n",
       "                    \"value\": 87,\n",
       "                    \"textStyle\": {\n",
       "                        \"normal\": {\n",
       "                            \"color\": \"rgb(132,54,45)\"\n",
       "                        }\n",
       "                    }\n",
       "                },\n",
       "                {\n",
       "                    \"name\": \"\\ubc88\\uc5ed\",\n",
       "                    \"value\": 87,\n",
       "                    \"textStyle\": {\n",
       "                        \"normal\": {\n",
       "                            \"color\": \"rgb(31,126,110)\"\n",
       "                        }\n",
       "                    }\n",
       "                },\n",
       "                {\n",
       "                    \"name\": \"\\uc21c\\uc704\",\n",
       "                    \"value\": 85,\n",
       "                    \"textStyle\": {\n",
       "                        \"normal\": {\n",
       "                            \"color\": \"rgb(92,88,145)\"\n",
       "                        }\n",
       "                    }\n",
       "                },\n",
       "                {\n",
       "                    \"name\": \"\\uc2dc\\uc791\",\n",
       "                    \"value\": 85,\n",
       "                    \"textStyle\": {\n",
       "                        \"normal\": {\n",
       "                            \"color\": \"rgb(43,47,135)\"\n",
       "                        }\n",
       "                    }\n",
       "                },\n",
       "                {\n",
       "                    \"name\": \"\\ube44\",\n",
       "                    \"value\": 85,\n",
       "                    \"textStyle\": {\n",
       "                        \"normal\": {\n",
       "                            \"color\": \"rgb(85,128,74)\"\n",
       "                        }\n",
       "                    }\n",
       "                },\n",
       "                {\n",
       "                    \"name\": \"\\ucc44\\ud305\",\n",
       "                    \"value\": 85,\n",
       "                    \"textStyle\": {\n",
       "                        \"normal\": {\n",
       "                            \"color\": \"rgb(147,56,62)\"\n",
       "                        }\n",
       "                    }\n",
       "                },\n",
       "                {\n",
       "                    \"name\": \"\\ubc84\\ud130\",\n",
       "                    \"value\": 85,\n",
       "                    \"textStyle\": {\n",
       "                        \"normal\": {\n",
       "                            \"color\": \"rgb(70,139,85)\"\n",
       "                        }\n",
       "                    }\n",
       "                },\n",
       "                {\n",
       "                    \"name\": \"\\uae30\\uc0ac\",\n",
       "                    \"value\": 84,\n",
       "                    \"textStyle\": {\n",
       "                        \"normal\": {\n",
       "                            \"color\": \"rgb(74,28,61)\"\n",
       "                        }\n",
       "                    }\n",
       "                },\n",
       "                {\n",
       "                    \"name\": \"\\ucee4\\ubba4\\ub2c8\\ud2f0\",\n",
       "                    \"value\": 83,\n",
       "                    \"textStyle\": {\n",
       "                        \"normal\": {\n",
       "                            \"color\": \"rgb(67,109,129)\"\n",
       "                        }\n",
       "                    }\n",
       "                },\n",
       "                {\n",
       "                    \"name\": \"\\ucd9c\\uc5f0\",\n",
       "                    \"value\": 83,\n",
       "                    \"textStyle\": {\n",
       "                        \"normal\": {\n",
       "                            \"color\": \"rgb(128,158,55)\"\n",
       "                        }\n",
       "                    }\n",
       "                },\n",
       "                {\n",
       "                    \"name\": \"\\uac78\",\n",
       "                    \"value\": 82,\n",
       "                    \"textStyle\": {\n",
       "                        \"normal\": {\n",
       "                            \"color\": \"rgb(152,136,96)\"\n",
       "                        }\n",
       "                    }\n",
       "                },\n",
       "                {\n",
       "                    \"name\": \"\\ucf54\\ub9ac\\uc544\",\n",
       "                    \"value\": 81,\n",
       "                    \"textStyle\": {\n",
       "                        \"normal\": {\n",
       "                            \"color\": \"rgb(83,22,86)\"\n",
       "                        }\n",
       "                    }\n",
       "                },\n",
       "                {\n",
       "                    \"name\": \"\\uc544\\uc774\",\n",
       "                    \"value\": 81,\n",
       "                    \"textStyle\": {\n",
       "                        \"normal\": {\n",
       "                            \"color\": \"rgb(45,13,158)\"\n",
       "                        }\n",
       "                    }\n",
       "                },\n",
       "                {\n",
       "                    \"name\": \"\\uadf8\\ub7a8\",\n",
       "                    \"value\": 81,\n",
       "                    \"textStyle\": {\n",
       "                        \"normal\": {\n",
       "                            \"color\": \"rgb(16,79,133)\"\n",
       "                        }\n",
       "                    }\n",
       "                },\n",
       "                {\n",
       "                    \"name\": \"\\uc0dd\\ud65c\",\n",
       "                    \"value\": 80,\n",
       "                    \"textStyle\": {\n",
       "                        \"normal\": {\n",
       "                            \"color\": \"rgb(88,73,106)\"\n",
       "                        }\n",
       "                    }\n",
       "                },\n",
       "                {\n",
       "                    \"name\": \"\\ucc28\\uc774\",\n",
       "                    \"value\": 80,\n",
       "                    \"textStyle\": {\n",
       "                        \"normal\": {\n",
       "                            \"color\": \"rgb(124,144,143)\"\n",
       "                        }\n",
       "                    }\n",
       "                },\n",
       "                {\n",
       "                    \"name\": \"\\ub79c\\ub364\",\n",
       "                    \"value\": 80,\n",
       "                    \"textStyle\": {\n",
       "                        \"normal\": {\n",
       "                            \"color\": \"rgb(42,154,5)\"\n",
       "                        }\n",
       "                    }\n",
       "                },\n",
       "                {\n",
       "                    \"name\": \"\\uacbd\\ud5d8\",\n",
       "                    \"value\": 79,\n",
       "                    \"textStyle\": {\n",
       "                        \"normal\": {\n",
       "                            \"color\": \"rgb(101,26,6)\"\n",
       "                        }\n",
       "                    }\n",
       "                },\n",
       "                {\n",
       "                    \"name\": \"\\uac00\\ub2a5\",\n",
       "                    \"value\": 79,\n",
       "                    \"textStyle\": {\n",
       "                        \"normal\": {\n",
       "                            \"color\": \"rgb(93,57,79)\"\n",
       "                        }\n",
       "                    }\n",
       "                },\n",
       "                {\n",
       "                    \"name\": \"\\uac15\\ub300\\uad6d\",\n",
       "                    \"value\": 79,\n",
       "                    \"textStyle\": {\n",
       "                        \"normal\": {\n",
       "                            \"color\": \"rgb(81,18,25)\"\n",
       "                        }\n",
       "                    }\n",
       "                },\n",
       "                {\n",
       "                    \"name\": \"\\ud504\\ub791\\uc2a4\",\n",
       "                    \"value\": 78,\n",
       "                    \"textStyle\": {\n",
       "                        \"normal\": {\n",
       "                            \"color\": \"rgb(58,61,80)\"\n",
       "                        }\n",
       "                    }\n",
       "                },\n",
       "                {\n",
       "                    \"name\": \"\\ube0c\\ub808\\uc774\\ube0c\\uac78\\uc2a4\",\n",
       "                    \"value\": 78,\n",
       "                    \"textStyle\": {\n",
       "                        \"normal\": {\n",
       "                            \"color\": \"rgb(67,35,140)\"\n",
       "                        }\n",
       "                    }\n",
       "                },\n",
       "                {\n",
       "                    \"name\": \"\\uadf9\\ucc2c\",\n",
       "                    \"value\": 77,\n",
       "                    \"textStyle\": {\n",
       "                        \"normal\": {\n",
       "                            \"color\": \"rgb(2,60,135)\"\n",
       "                        }\n",
       "                    }\n",
       "                },\n",
       "                {\n",
       "                    \"name\": \"\\ubd84\\uc11d\",\n",
       "                    \"value\": 77,\n",
       "                    \"textStyle\": {\n",
       "                        \"normal\": {\n",
       "                            \"color\": \"rgb(141,29,45)\"\n",
       "                        }\n",
       "                    }\n",
       "                },\n",
       "                {\n",
       "                    \"name\": \"\\uc5b4\\ub85c\",\n",
       "                    \"value\": 77,\n",
       "                    \"textStyle\": {\n",
       "                        \"normal\": {\n",
       "                            \"color\": \"rgb(94,36,45)\"\n",
       "                        }\n",
       "                    }\n",
       "                },\n",
       "                {\n",
       "                    \"name\": \"\\ubd84\\ub178\",\n",
       "                    \"value\": 77,\n",
       "                    \"textStyle\": {\n",
       "                        \"normal\": {\n",
       "                            \"color\": \"rgb(132,155,23)\"\n",
       "                        }\n",
       "                    }\n",
       "                },\n",
       "                {\n",
       "                    \"name\": \"\\ud55c\\uad6d\\uc5b4\",\n",
       "                    \"value\": 77,\n",
       "                    \"textStyle\": {\n",
       "                        \"normal\": {\n",
       "                            \"color\": \"rgb(90,26,11)\"\n",
       "                        }\n",
       "                    }\n",
       "                },\n",
       "                {\n",
       "                    \"name\": \"\\uc11c\\uc6b8\",\n",
       "                    \"value\": 77,\n",
       "                    \"textStyle\": {\n",
       "                        \"normal\": {\n",
       "                            \"color\": \"rgb(144,14,37)\"\n",
       "                        }\n",
       "                    }\n",
       "                },\n",
       "                {\n",
       "                    \"name\": \"\\ucd95\\uad6c\",\n",
       "                    \"value\": 77,\n",
       "                    \"textStyle\": {\n",
       "                        \"normal\": {\n",
       "                            \"color\": \"rgb(144,92,37)\"\n",
       "                        }\n",
       "                    }\n",
       "                },\n",
       "                {\n",
       "                    \"name\": \"\\ub9db\",\n",
       "                    \"value\": 77,\n",
       "                    \"textStyle\": {\n",
       "                        \"normal\": {\n",
       "                            \"color\": \"rgb(115,149,89)\"\n",
       "                        }\n",
       "                    }\n",
       "                },\n",
       "                {\n",
       "                    \"name\": \"\\ube44\\ub514\\uc624\",\n",
       "                    \"value\": 76,\n",
       "                    \"textStyle\": {\n",
       "                        \"normal\": {\n",
       "                            \"color\": \"rgb(79,53,99)\"\n",
       "                        }\n",
       "                    }\n",
       "                },\n",
       "                {\n",
       "                    \"name\": \"\\ub09c\\ub9ac\",\n",
       "                    \"value\": 75,\n",
       "                    \"textStyle\": {\n",
       "                        \"normal\": {\n",
       "                            \"color\": \"rgb(50,90,91)\"\n",
       "                        }\n",
       "                    }\n",
       "                },\n",
       "                {\n",
       "                    \"name\": \"\\uc720\\uba85\",\n",
       "                    \"value\": 75,\n",
       "                    \"textStyle\": {\n",
       "                        \"normal\": {\n",
       "                            \"color\": \"rgb(111,32,10)\"\n",
       "                        }\n",
       "                    }\n",
       "                },\n",
       "                {\n",
       "                    \"name\": \"\\uad00\\uc2ec\",\n",
       "                    \"value\": 75,\n",
       "                    \"textStyle\": {\n",
       "                        \"normal\": {\n",
       "                            \"color\": \"rgb(112,152,89)\"\n",
       "                        }\n",
       "                    }\n",
       "                },\n",
       "                {\n",
       "                    \"name\": \"\\uba64\\ubc84\",\n",
       "                    \"value\": 75,\n",
       "                    \"textStyle\": {\n",
       "                        \"normal\": {\n",
       "                            \"color\": \"rgb(59,90,20)\"\n",
       "                        }\n",
       "                    }\n",
       "                },\n",
       "                {\n",
       "                    \"name\": \"\\uc138\\uc0c1\",\n",
       "                    \"value\": 75,\n",
       "                    \"textStyle\": {\n",
       "                        \"normal\": {\n",
       "                            \"color\": \"rgb(76,18,27)\"\n",
       "                        }\n",
       "                    }\n",
       "                },\n",
       "                {\n",
       "                    \"name\": \"\\uc81c\\ud488\",\n",
       "                    \"value\": 74,\n",
       "                    \"textStyle\": {\n",
       "                        \"normal\": {\n",
       "                            \"color\": \"rgb(67,148,62)\"\n",
       "                        }\n",
       "                    }\n",
       "                },\n",
       "                {\n",
       "                    \"name\": \"\\uae30\\uc5c5\",\n",
       "                    \"value\": 73,\n",
       "                    \"textStyle\": {\n",
       "                        \"normal\": {\n",
       "                            \"color\": \"rgb(139,10,46)\"\n",
       "                        }\n",
       "                    }\n",
       "                }\n",
       "            ]\n",
       "        }\n",
       "    ],\n",
       "    \"legend\": [\n",
       "        {\n",
       "            \"data\": [],\n",
       "            \"selectedMode\": \"multiple\",\n",
       "            \"show\": true,\n",
       "            \"left\": \"center\",\n",
       "            \"top\": \"top\",\n",
       "            \"orient\": \"horizontal\",\n",
       "            \"textStyle\": {\n",
       "                \"fontSize\": 12\n",
       "            }\n",
       "        }\n",
       "    ],\n",
       "    \"animation\": true,\n",
       "    \"color\": [\n",
       "        \"#c23531\",\n",
       "        \"#2f4554\",\n",
       "        \"#61a0a8\",\n",
       "        \"#d48265\",\n",
       "        \"#749f83\",\n",
       "        \"#ca8622\",\n",
       "        \"#bda29a\",\n",
       "        \"#6e7074\",\n",
       "        \"#546570\",\n",
       "        \"#c4ccd3\",\n",
       "        \"#f05b72\",\n",
       "        \"#ef5b9c\",\n",
       "        \"#f47920\",\n",
       "        \"#905a3d\",\n",
       "        \"#fab27b\",\n",
       "        \"#2a5caa\",\n",
       "        \"#444693\",\n",
       "        \"#726930\",\n",
       "        \"#b2d235\",\n",
       "        \"#6d8346\",\n",
       "        \"#ac6767\",\n",
       "        \"#1d953f\",\n",
       "        \"#6950a1\",\n",
       "        \"#918597\",\n",
       "        \"#f6f5ec\"\n",
       "    ]\n",
       "};\n",
       "myChart_e7834d3ea0364abe8fe1fd71c00e6a5e.setOption(option_e7834d3ea0364abe8fe1fd71c00e6a5e);\n",
       "\n",
       "    });\n",
       "</script>\n"
      ],
      "text/plain": [
       "<pyecharts.charts.wordcloud.WordCloud at 0x29b68662910>"
      ]
     },
     "execution_count": 331,
     "metadata": {},
     "output_type": "execute_result"
    }
   ],
   "source": [
    "from pyecharts import WordCloud\n",
    "wordcloud = WordCloud(width=800, height=620)\n",
    "wordcloud.add(\"\", result_dic.keys(), result_dic.values(), word_size_range=[20, 100] , shape='pentagon',  word_gap=5, rotate_step=5) \n",
    "wordcloud"
   ]
  },
  {
   "cell_type": "code",
   "execution_count": 190,
   "metadata": {},
   "outputs": [],
   "source": [
    "countries = pd.read_excel('data/countries.xlsx')\n",
    "countries_gni = pd.read_excel('data/countries_gni.xlsx')"
   ]
  },
  {
   "cell_type": "code",
   "execution_count": 191,
   "metadata": {},
   "outputs": [],
   "source": [
    "countries_gni['country'] = [text.lstrip() for text in countries_gni['country']]"
   ]
  },
  {
   "cell_type": "code",
   "execution_count": 192,
   "metadata": {},
   "outputs": [],
   "source": [
    "countries = pd.merge(countries, countries_gni, how='left', on='country')"
   ]
  },
  {
   "cell_type": "code",
   "execution_count": 193,
   "metadata": {},
   "outputs": [],
   "source": [
    "countries_name = list(countries['country'])"
   ]
  },
  {
   "cell_type": "code",
   "execution_count": 181,
   "metadata": {},
   "outputs": [],
   "source": [
    "countries_people = [ country + '인' for country in countries_name ]"
   ]
  },
  {
   "cell_type": "code",
   "execution_count": 182,
   "metadata": {},
   "outputs": [],
   "source": [
    "countries_np = defaultdict()\n",
    "for country in countries_name:\n",
    "    if country in result.keys():\n",
    "        countries_np[country] = result[country]\n",
    "    if country + '인' in result.keys():\n",
    "        countries_np[country] += result[country]"
   ]
  },
  {
   "cell_type": "code",
   "execution_count": 183,
   "metadata": {},
   "outputs": [],
   "source": [
    "countries_np= sorted(countries_np.items(), key=operator.itemgetter(1), reverse=True)"
   ]
  },
  {
   "cell_type": "code",
   "execution_count": 184,
   "metadata": {
    "scrolled": true
   },
   "outputs": [],
   "source": [
    "#videos['date'] = [ datetime.datetime.strptime(videos.loc[i, 'date'][:-13], '%Y-%m') for i in range(len(videos)) ]"
   ]
  },
  {
   "cell_type": "code",
   "execution_count": 185,
   "metadata": {},
   "outputs": [],
   "source": [
    "date_count = pd.DataFrame(videos['date'].value_counts()).reset_index()\n",
    "date_count = date_count.sort_values(by='index')\n",
    "dates = [dt.date() for dt in list(date_count['index'])]"
   ]
  },
  {
   "cell_type": "code",
   "execution_count": 225,
   "metadata": {},
   "outputs": [],
   "source": [
    "tagger = Mecab() \n",
    "\n",
    "for i in range(len(videos)):\n",
    "    countries_list = []\n",
    "    \n",
    "    title_nouns = tagger.nouns(videos.loc[i, 'title'])\n",
    "    for noun in title_nouns:\n",
    "        if noun in countries_name:\n",
    "            countries_list.append(noun)\n",
    "        if noun in countries_people:\n",
    "            countries_list.append(noun[:-1])\n",
    "    \n",
    "    if type(videos.loc[i, 'description']) == str :\n",
    "        desc_nouns = tagger.nouns(videos.loc[i, 'description'])\n",
    "        for noun in desc_nouns:\n",
    "            if noun in countries_name:\n",
    "                countries_list.append(noun)\n",
    "            if noun in countries_people:\n",
    "                countries_list.append(noun[:-1])\n",
    "            \n",
    "    countries_list = list(set(countries_list))\n",
    "    videos.loc[i, 'country'] = \" \".join(countries_list)"
   ]
  },
  {
   "cell_type": "code",
   "execution_count": 211,
   "metadata": {},
   "outputs": [],
   "source": [
    "videos.to_csv('data/videos_re.csv', encoding='utf-8-sig')"
   ]
  },
  {
   "cell_type": "code",
   "execution_count": 269,
   "metadata": {
    "scrolled": true
   },
   "outputs": [
    {
     "data": {
      "text/html": [
       "<div>\n",
       "<style scoped>\n",
       "    .dataframe tbody tr th:only-of-type {\n",
       "        vertical-align: middle;\n",
       "    }\n",
       "\n",
       "    .dataframe tbody tr th {\n",
       "        vertical-align: top;\n",
       "    }\n",
       "\n",
       "    .dataframe thead th {\n",
       "        text-align: right;\n",
       "    }\n",
       "</style>\n",
       "<table border=\"1\" class=\"dataframe\">\n",
       "  <thead>\n",
       "    <tr style=\"text-align: right;\">\n",
       "      <th></th>\n",
       "      <th>Unnamed: 0</th>\n",
       "      <th>title</th>\n",
       "      <th>video_id</th>\n",
       "      <th>channel_title</th>\n",
       "      <th>channel_id</th>\n",
       "      <th>description</th>\n",
       "      <th>date</th>\n",
       "      <th>viewCount</th>\n",
       "      <th>likeCount</th>\n",
       "      <th>dislikeCount</th>\n",
       "      <th>favoriteCount</th>\n",
       "      <th>commentCount</th>\n",
       "      <th>country</th>\n",
       "    </tr>\n",
       "  </thead>\n",
       "  <tbody>\n",
       "    <tr>\n",
       "      <th>0</th>\n",
       "      <td>0</td>\n",
       "      <td>한국 예능 야구 레전드를 보고 현웃터진 미국인 반응</td>\n",
       "      <td>AEl5RAzF0lQ</td>\n",
       "      <td>BODA 보다</td>\n",
       "      <td>UCoCvTlU0KpNYwnMIgs7MPrA</td>\n",
       "      <td>KBO #한국야구 #예능짤 #MLB 오늘은 미국에서 온 김태균씨와 한국에 레전드 야...</td>\n",
       "      <td>2020-07-01</td>\n",
       "      <td>62865.00</td>\n",
       "      <td>755.00</td>\n",
       "      <td>21.00</td>\n",
       "      <td>0.00</td>\n",
       "      <td>114.00</td>\n",
       "      <td>미국</td>\n",
       "    </tr>\n",
       "    <tr>\n",
       "      <th>2</th>\n",
       "      <td>2</td>\n",
       "      <td>&amp;quot;한국 스타일 무섭네!&amp;quot; 한국의 건물사진에 깜짝놀란 스페인 반응과...</td>\n",
       "      <td>It69uJHJIuA</td>\n",
       "      <td>구네스북</td>\n",
       "      <td>UClHJcrFMOxCEPjjg6WlTmPw</td>\n",
       "      <td>한국의 건물사진에 깜짝놀란 스페인 반응과 네티즌 반응을 다뤘습니다. * 구네스북 그...</td>\n",
       "      <td>2020-07-01</td>\n",
       "      <td>249430.00</td>\n",
       "      <td>5237.00</td>\n",
       "      <td>196.00</td>\n",
       "      <td>0.00</td>\n",
       "      <td>390.00</td>\n",
       "      <td>스페인</td>\n",
       "    </tr>\n",
       "    <tr>\n",
       "      <th>3</th>\n",
       "      <td>3</td>\n",
       "      <td>한국 LG OLED TV의인기비결은???해외반응 – 일본이것이 한국의 기술이다!!일...</td>\n",
       "      <td>1SIA3ukXyhc</td>\n",
       "      <td>데보이</td>\n",
       "      <td>UC9Uf0ZCFKKy65uCOf6oCrOQ</td>\n",
       "      <td>해외반응#한국해외반응#일본 한국 LG OLED TV의 인기비결은??? 해외반응 – ...</td>\n",
       "      <td>2020-07-01</td>\n",
       "      <td>232245.00</td>\n",
       "      <td>2439.00</td>\n",
       "      <td>119.00</td>\n",
       "      <td>0.00</td>\n",
       "      <td>148.00</td>\n",
       "      <td>일본</td>\n",
       "    </tr>\n",
       "    <tr>\n",
       "      <th>4</th>\n",
       "      <td>4</td>\n",
       "      <td>한국 마스크를 처음 써보고 놀라운 반응을 보여주는 이탈리아 남자! 그 이유는?</td>\n",
       "      <td>3LwSAs3eeQA</td>\n",
       "      <td>레만 Reman [로마사는 한국남자]</td>\n",
       "      <td>UC0MhsY1Nc467re-66o6xwRg</td>\n",
       "      <td>이탈리아 남자 알레한테 한국 마스크를 선물해주었습니다. 알레 반응이 정말 대박이네요...</td>\n",
       "      <td>2020-07-01</td>\n",
       "      <td>43407.00</td>\n",
       "      <td>1455.00</td>\n",
       "      <td>20.00</td>\n",
       "      <td>0.00</td>\n",
       "      <td>65.00</td>\n",
       "      <td>이탈리아</td>\n",
       "    </tr>\n",
       "    <tr>\n",
       "      <th>5</th>\n",
       "      <td>5</td>\n",
       "      <td>한국 길거리에 대놓고 있는 &amp;#39;이것&amp;#39;에 깜짝 놀란 외국인 반응</td>\n",
       "      <td>j-wy1mVDKBM</td>\n",
       "      <td>에이 스토리 A STORY</td>\n",
       "      <td>UCudezj2i6R94QOPqGJhbZwg</td>\n",
       "      <td>미국에서 온 신아린님은 한국 길거리에서 '이것'을 보고 처음에 너무 놀랐다는데요?!...</td>\n",
       "      <td>2020-07-01</td>\n",
       "      <td>4117907.00</td>\n",
       "      <td>29140.00</td>\n",
       "      <td>713.00</td>\n",
       "      <td>0.00</td>\n",
       "      <td>1079.00</td>\n",
       "      <td>미국</td>\n",
       "    </tr>\n",
       "    <tr>\n",
       "      <th>...</th>\n",
       "      <td>...</td>\n",
       "      <td>...</td>\n",
       "      <td>...</td>\n",
       "      <td>...</td>\n",
       "      <td>...</td>\n",
       "      <td>...</td>\n",
       "      <td>...</td>\n",
       "      <td>...</td>\n",
       "      <td>...</td>\n",
       "      <td>...</td>\n",
       "      <td>...</td>\n",
       "      <td>...</td>\n",
       "      <td>...</td>\n",
       "    </tr>\n",
       "    <tr>\n",
       "      <th>4800</th>\n",
       "      <td>4800</td>\n",
       "      <td>대만방송, 두려운 나라 이야기하던 중에 &amp;quot;갑분 한국특집&amp;quot;</td>\n",
       "      <td>E5ISiCtdF8w</td>\n",
       "      <td>션데일리 리서치</td>\n",
       "      <td>UCysrr_s8OwoZioh8XMOJn_g</td>\n",
       "      <td>대만방송에서 나라별로 어떤 나라가 강성해지는 것이 두려운가 라는 질문으로 여러나라의...</td>\n",
       "      <td>2021-06-01</td>\n",
       "      <td>556920.00</td>\n",
       "      <td>6284.00</td>\n",
       "      <td>202.00</td>\n",
       "      <td>0.00</td>\n",
       "      <td>1001.00</td>\n",
       "      <td>러시아 중국 대만 미국</td>\n",
       "    </tr>\n",
       "    <tr>\n",
       "      <th>4801</th>\n",
       "      <td>4801</td>\n",
       "      <td>[해외반응] 인도언론 “블랙핑크 BTS 인도 본토까지 KPOP 강타하다!” 해외네티...</td>\n",
       "      <td>Rx-0qbPLRvs</td>\n",
       "      <td>정치클라쓰TV</td>\n",
       "      <td>UCdzsoRaD0JzASmWaEYEZX1Q</td>\n",
       "      <td>인도언론 “블랙핑크 BTS 인도 본토까지 KPOP 강타하다!” 1:54 초부터! 해...</td>\n",
       "      <td>2021-06-01</td>\n",
       "      <td>62518.00</td>\n",
       "      <td>1183.00</td>\n",
       "      <td>43.00</td>\n",
       "      <td>0.00</td>\n",
       "      <td>97.00</td>\n",
       "      <td>인도</td>\n",
       "    </tr>\n",
       "    <tr>\n",
       "      <th>4802</th>\n",
       "      <td>4802</td>\n",
       "      <td>모두가 미쳤다고 말린 미국중학교에 태권도 수업을 넣자 일어난 충격적인 일</td>\n",
       "      <td>Z46SCGmcMQw</td>\n",
       "      <td>원더WONDER</td>\n",
       "      <td>UCrMGh7NV4sZlZQTaK0kWMAQ</td>\n",
       "      <td>우리나라 및 세계에서 일어나고 있는 다양한 이야기를 공유하는 채널입니다. 영미권 소...</td>\n",
       "      <td>2021-06-01</td>\n",
       "      <td>723461.00</td>\n",
       "      <td>15535.00</td>\n",
       "      <td>238.00</td>\n",
       "      <td>0.00</td>\n",
       "      <td>615.00</td>\n",
       "      <td>미국</td>\n",
       "    </tr>\n",
       "    <tr>\n",
       "      <th>4803</th>\n",
       "      <td>4803</td>\n",
       "      <td>&amp;quot;한국은 북한보다 못 사는 나라&amp;quot; 일본인 분석 글에 충격 받은 외...</td>\n",
       "      <td>_1S44pmqfwI</td>\n",
       "      <td>존크TV</td>\n",
       "      <td>UCitaXlLp5Oy0aKmH2_y0xFw</td>\n",
       "      <td>구독하기 : https://bit.ly/39beO6A 영상을 시청해주셔서 감사합니다...</td>\n",
       "      <td>2021-06-01</td>\n",
       "      <td>36468.00</td>\n",
       "      <td>1631.00</td>\n",
       "      <td>55.00</td>\n",
       "      <td>0.00</td>\n",
       "      <td>212.00</td>\n",
       "      <td>북한 일본</td>\n",
       "    </tr>\n",
       "    <tr>\n",
       "      <th>4804</th>\n",
       "      <td>4804</td>\n",
       "      <td>“일본은 애니메와 벚꽃, 한국은?” - 호주인들이 솔직하게 말하는 한국과 일본의 장...</td>\n",
       "      <td>6fNugUz7Fjg</td>\n",
       "      <td>호기심 KOREA</td>\n",
       "      <td>UCmfJM_VTJ2AECyTwf-vEL8g</td>\n",
       "      <td>한국과 일본 비교영상입니다. 1867년 파리에서 열린 만국박람회. 그때까지 동양을 ...</td>\n",
       "      <td>2021-06-01</td>\n",
       "      <td>539783.00</td>\n",
       "      <td>5770.00</td>\n",
       "      <td>195.00</td>\n",
       "      <td>0.00</td>\n",
       "      <td>653.00</td>\n",
       "      <td>유럽 일본</td>\n",
       "    </tr>\n",
       "  </tbody>\n",
       "</table>\n",
       "<p>2519 rows × 13 columns</p>\n",
       "</div>"
      ],
      "text/plain": [
       "      Unnamed: 0                                              title  \\\n",
       "0              0                       한국 예능 야구 레전드를 보고 현웃터진 미국인 반응   \n",
       "2              2  &quot;한국 스타일 무섭네!&quot; 한국의 건물사진에 깜짝놀란 스페인 반응과...   \n",
       "3              3  한국 LG OLED TV의인기비결은???해외반응 – 일본이것이 한국의 기술이다!!일...   \n",
       "4              4        한국 마스크를 처음 써보고 놀라운 반응을 보여주는 이탈리아 남자! 그 이유는?   \n",
       "5              5          한국 길거리에 대놓고 있는 &#39;이것&#39;에 깜짝 놀란 외국인 반응   \n",
       "...          ...                                                ...   \n",
       "4800        4800          대만방송, 두려운 나라 이야기하던 중에 &quot;갑분 한국특집&quot;   \n",
       "4801        4801  [해외반응] 인도언론 “블랙핑크 BTS 인도 본토까지 KPOP 강타하다!” 해외네티...   \n",
       "4802        4802           모두가 미쳤다고 말린 미국중학교에 태권도 수업을 넣자 일어난 충격적인 일   \n",
       "4803        4803  &quot;한국은 북한보다 못 사는 나라&quot; 일본인 분석 글에 충격 받은 외...   \n",
       "4804        4804  “일본은 애니메와 벚꽃, 한국은?” - 호주인들이 솔직하게 말하는 한국과 일본의 장...   \n",
       "\n",
       "         video_id         channel_title                channel_id  \\\n",
       "0     AEl5RAzF0lQ               BODA 보다  UCoCvTlU0KpNYwnMIgs7MPrA   \n",
       "2     It69uJHJIuA                  구네스북  UClHJcrFMOxCEPjjg6WlTmPw   \n",
       "3     1SIA3ukXyhc                   데보이  UC9Uf0ZCFKKy65uCOf6oCrOQ   \n",
       "4     3LwSAs3eeQA  레만 Reman [로마사는 한국남자]  UC0MhsY1Nc467re-66o6xwRg   \n",
       "5     j-wy1mVDKBM        에이 스토리 A STORY  UCudezj2i6R94QOPqGJhbZwg   \n",
       "...           ...                   ...                       ...   \n",
       "4800  E5ISiCtdF8w              션데일리 리서치  UCysrr_s8OwoZioh8XMOJn_g   \n",
       "4801  Rx-0qbPLRvs               정치클라쓰TV  UCdzsoRaD0JzASmWaEYEZX1Q   \n",
       "4802  Z46SCGmcMQw              원더WONDER  UCrMGh7NV4sZlZQTaK0kWMAQ   \n",
       "4803  _1S44pmqfwI                  존크TV  UCitaXlLp5Oy0aKmH2_y0xFw   \n",
       "4804  6fNugUz7Fjg             호기심 KOREA  UCmfJM_VTJ2AECyTwf-vEL8g   \n",
       "\n",
       "                                            description       date  viewCount  \\\n",
       "0     KBO #한국야구 #예능짤 #MLB 오늘은 미국에서 온 김태균씨와 한국에 레전드 야... 2020-07-01   62865.00   \n",
       "2     한국의 건물사진에 깜짝놀란 스페인 반응과 네티즌 반응을 다뤘습니다. * 구네스북 그... 2020-07-01  249430.00   \n",
       "3     해외반응#한국해외반응#일본 한국 LG OLED TV의 인기비결은??? 해외반응 – ... 2020-07-01  232245.00   \n",
       "4     이탈리아 남자 알레한테 한국 마스크를 선물해주었습니다. 알레 반응이 정말 대박이네요... 2020-07-01   43407.00   \n",
       "5     미국에서 온 신아린님은 한국 길거리에서 '이것'을 보고 처음에 너무 놀랐다는데요?!... 2020-07-01 4117907.00   \n",
       "...                                                 ...        ...        ...   \n",
       "4800  대만방송에서 나라별로 어떤 나라가 강성해지는 것이 두려운가 라는 질문으로 여러나라의... 2021-06-01  556920.00   \n",
       "4801  인도언론 “블랙핑크 BTS 인도 본토까지 KPOP 강타하다!” 1:54 초부터! 해... 2021-06-01   62518.00   \n",
       "4802  우리나라 및 세계에서 일어나고 있는 다양한 이야기를 공유하는 채널입니다. 영미권 소... 2021-06-01  723461.00   \n",
       "4803  구독하기 : https://bit.ly/39beO6A 영상을 시청해주셔서 감사합니다... 2021-06-01   36468.00   \n",
       "4804  한국과 일본 비교영상입니다. 1867년 파리에서 열린 만국박람회. 그때까지 동양을 ... 2021-06-01  539783.00   \n",
       "\n",
       "      likeCount  dislikeCount  favoriteCount  commentCount       country  \n",
       "0        755.00         21.00           0.00        114.00            미국  \n",
       "2       5237.00        196.00           0.00        390.00           스페인  \n",
       "3       2439.00        119.00           0.00        148.00            일본  \n",
       "4       1455.00         20.00           0.00         65.00          이탈리아  \n",
       "5      29140.00        713.00           0.00       1079.00            미국  \n",
       "...         ...           ...            ...           ...           ...  \n",
       "4800    6284.00        202.00           0.00       1001.00  러시아 중국 대만 미국  \n",
       "4801    1183.00         43.00           0.00         97.00            인도  \n",
       "4802   15535.00        238.00           0.00        615.00            미국  \n",
       "4803    1631.00         55.00           0.00        212.00         북한 일본  \n",
       "4804    5770.00        195.00           0.00        653.00         유럽 일본  \n",
       "\n",
       "[2519 rows x 13 columns]"
      ]
     },
     "execution_count": 269,
     "metadata": {},
     "output_type": "execute_result"
    }
   ],
   "source": [
    "videos[videos['country']!='']"
   ]
  },
  {
   "cell_type": "code",
   "execution_count": 257,
   "metadata": {},
   "outputs": [],
   "source": [
    "top10 = videos[videos['country']!=''].sort_values(by='viewCount', ascending=False)[:20]"
   ]
  },
  {
   "cell_type": "code",
   "execution_count": 266,
   "metadata": {},
   "outputs": [],
   "source": [
    "top10[['title', 'description', 'country', 'viewCount']].to_csv('top10_videos.csv', encoding='utf-8-sig')"
   ]
  },
  {
   "cell_type": "code",
   "execution_count": 332,
   "metadata": {},
   "outputs": [],
   "source": [
    "countries_videocnt = []\n",
    "countries_viewCount = []\n",
    "countries_likeCount = []\n",
    "countries_dislikeCount = []\n",
    "countries_favoriteCount =[]\n",
    "countries_commentCount = []\n",
    "\n",
    "\n",
    "for country in countries_name:\n",
    "    cnt = len(videos[videos['country'].str.contains(country)]['viewCount'])\n",
    "    vc = videos[videos['country'].str.contains(country)]['viewCount'].mean()\n",
    "    lc = videos[videos['country'].str.contains(country)]['likeCount'].mean()\n",
    "    dc = videos[videos['country'].str.contains(country)]['dislikeCount'].mean()\n",
    "    fc = videos[videos['country'].str.contains(country)]['favoriteCount'].mean()\n",
    "    cc = videos[videos['country'].str.contains(country)]['commentCount'].mean()\n",
    "    \n",
    "    countries_videocnt.append(cnt)\n",
    "    countries_viewCount.append(vc)\n",
    "    countries_likeCount.append(lc)\n",
    "    countries_dislikeCount.append(dc)\n",
    "    countries_favoriteCount.append(fc)\n",
    "    countries_commentCount.append(cc)"
   ]
  },
  {
   "cell_type": "code",
   "execution_count": 333,
   "metadata": {},
   "outputs": [],
   "source": [
    "countires_stat = pd.DataFrame({'country':countries_name, 'video_num':countries_videocnt, 'viewCount':countries_viewCount,'likeCount':countries_likeCount, 'dislikeCount':countries_dislikeCount,\n",
    "             'favoriteCount':countries_favoriteCount, 'commentCount': countries_commentCount})"
   ]
  },
  {
   "cell_type": "code",
   "execution_count": null,
   "metadata": {},
   "outputs": [],
   "source": []
  },
  {
   "cell_type": "code",
   "execution_count": 334,
   "metadata": {},
   "outputs": [],
   "source": [
    "countires_stat.to_csv('countries_stat.csv', encoding='utf-8-sig')"
   ]
  },
  {
   "cell_type": "code",
   "execution_count": 335,
   "metadata": {},
   "outputs": [],
   "source": [
    "countires_stat = pd.read_csv('countries_stat.csv')"
   ]
  },
  {
   "cell_type": "code",
   "execution_count": 336,
   "metadata": {},
   "outputs": [],
   "source": [
    "countires_stat = pd.merge(countires_stat, countries, on='country', how='left')"
   ]
  },
  {
   "cell_type": "code",
   "execution_count": 339,
   "metadata": {},
   "outputs": [],
   "source": [
    "pd.options.display.float_format = '{:.2f}'.format"
   ]
  },
  {
   "cell_type": "code",
   "execution_count": 340,
   "metadata": {},
   "outputs": [],
   "source": [
    "top20_countries = countires_stat[countires_stat['video_num']>=5].dropna().sort_values(by='commentCount', ascending=False)[:50]"
   ]
  },
  {
   "cell_type": "code",
   "execution_count": 341,
   "metadata": {},
   "outputs": [
    {
     "data": {
      "text/plain": [
       "Index(['Unnamed: 0', 'country', 'video_num', 'viewCount', 'likeCount',\n",
       "       'dislikeCount', 'favoriteCount', 'commentCount', 'gni($)'],\n",
       "      dtype='object')"
      ]
     },
     "execution_count": 341,
     "metadata": {},
     "output_type": "execute_result"
    }
   ],
   "source": [
    "top20_countries.columns"
   ]
  },
  {
   "cell_type": "code",
   "execution_count": 354,
   "metadata": {},
   "outputs": [
    {
     "data": {
      "application/vnd.plotly.v1+json": {
       "config": {
        "plotlyServerURL": "https://plot.ly"
       },
       "data": [
        {
         "alignmentgroup": "True",
         "hovertemplate": "video_num=%{text}<br>country=%{y}<extra></extra>",
         "legendgroup": "",
         "marker": {
          "color": "#636efa"
         },
         "name": "",
         "offsetgroup": "",
         "orientation": "h",
         "showlegend": false,
         "text": [
          5,
          5,
          6,
          6,
          7,
          7,
          7,
          11,
          11,
          14,
          15,
          15,
          16,
          16,
          18,
          21,
          23,
          25,
          27,
          45,
          61,
          61,
          63,
          65,
          70,
          76,
          124,
          374,
          560,
          1327
         ],
         "textposition": "auto",
         "type": "bar",
         "x": [
          5,
          5,
          6,
          6,
          7,
          7,
          7,
          11,
          11,
          14,
          15,
          15,
          16,
          16,
          18,
          21,
          23,
          25,
          27,
          45,
          61,
          61,
          63,
          65,
          70,
          76,
          124,
          374,
          560,
          1327
         ],
         "xaxis": "x",
         "y": [
          "홍콩",
          "스위스",
          "싱가포르",
          "몽골",
          "폴란드",
          "네덜란드",
          "콜롬비아",
          "브라질",
          "이스라엘",
          "터키",
          "멕시코",
          "카타르",
          "캐나다",
          "스페인",
          "태국",
          "인도네시아",
          "필리핀",
          "미얀마",
          "체코",
          "인도",
          "독일",
          "베트남",
          "프랑스",
          "이탈리아",
          "러시아",
          "대만",
          "영국",
          "중국",
          "미국",
          "일본"
         ],
         "yaxis": "y"
        }
       ],
       "layout": {
        "barmode": "relative",
        "height": 800,
        "legend": {
         "tracegroupgap": 0
        },
        "margin": {
         "t": 60
        },
        "template": {
         "data": {
          "bar": [
           {
            "error_x": {
             "color": "#2a3f5f"
            },
            "error_y": {
             "color": "#2a3f5f"
            },
            "marker": {
             "line": {
              "color": "#E5ECF6",
              "width": 0.5
             }
            },
            "type": "bar"
           }
          ],
          "barpolar": [
           {
            "marker": {
             "line": {
              "color": "#E5ECF6",
              "width": 0.5
             }
            },
            "type": "barpolar"
           }
          ],
          "carpet": [
           {
            "aaxis": {
             "endlinecolor": "#2a3f5f",
             "gridcolor": "white",
             "linecolor": "white",
             "minorgridcolor": "white",
             "startlinecolor": "#2a3f5f"
            },
            "baxis": {
             "endlinecolor": "#2a3f5f",
             "gridcolor": "white",
             "linecolor": "white",
             "minorgridcolor": "white",
             "startlinecolor": "#2a3f5f"
            },
            "type": "carpet"
           }
          ],
          "choropleth": [
           {
            "colorbar": {
             "outlinewidth": 0,
             "ticks": ""
            },
            "type": "choropleth"
           }
          ],
          "contour": [
           {
            "colorbar": {
             "outlinewidth": 0,
             "ticks": ""
            },
            "colorscale": [
             [
              0,
              "#0d0887"
             ],
             [
              0.1111111111111111,
              "#46039f"
             ],
             [
              0.2222222222222222,
              "#7201a8"
             ],
             [
              0.3333333333333333,
              "#9c179e"
             ],
             [
              0.4444444444444444,
              "#bd3786"
             ],
             [
              0.5555555555555556,
              "#d8576b"
             ],
             [
              0.6666666666666666,
              "#ed7953"
             ],
             [
              0.7777777777777778,
              "#fb9f3a"
             ],
             [
              0.8888888888888888,
              "#fdca26"
             ],
             [
              1,
              "#f0f921"
             ]
            ],
            "type": "contour"
           }
          ],
          "contourcarpet": [
           {
            "colorbar": {
             "outlinewidth": 0,
             "ticks": ""
            },
            "type": "contourcarpet"
           }
          ],
          "heatmap": [
           {
            "colorbar": {
             "outlinewidth": 0,
             "ticks": ""
            },
            "colorscale": [
             [
              0,
              "#0d0887"
             ],
             [
              0.1111111111111111,
              "#46039f"
             ],
             [
              0.2222222222222222,
              "#7201a8"
             ],
             [
              0.3333333333333333,
              "#9c179e"
             ],
             [
              0.4444444444444444,
              "#bd3786"
             ],
             [
              0.5555555555555556,
              "#d8576b"
             ],
             [
              0.6666666666666666,
              "#ed7953"
             ],
             [
              0.7777777777777778,
              "#fb9f3a"
             ],
             [
              0.8888888888888888,
              "#fdca26"
             ],
             [
              1,
              "#f0f921"
             ]
            ],
            "type": "heatmap"
           }
          ],
          "heatmapgl": [
           {
            "colorbar": {
             "outlinewidth": 0,
             "ticks": ""
            },
            "colorscale": [
             [
              0,
              "#0d0887"
             ],
             [
              0.1111111111111111,
              "#46039f"
             ],
             [
              0.2222222222222222,
              "#7201a8"
             ],
             [
              0.3333333333333333,
              "#9c179e"
             ],
             [
              0.4444444444444444,
              "#bd3786"
             ],
             [
              0.5555555555555556,
              "#d8576b"
             ],
             [
              0.6666666666666666,
              "#ed7953"
             ],
             [
              0.7777777777777778,
              "#fb9f3a"
             ],
             [
              0.8888888888888888,
              "#fdca26"
             ],
             [
              1,
              "#f0f921"
             ]
            ],
            "type": "heatmapgl"
           }
          ],
          "histogram": [
           {
            "marker": {
             "colorbar": {
              "outlinewidth": 0,
              "ticks": ""
             }
            },
            "type": "histogram"
           }
          ],
          "histogram2d": [
           {
            "colorbar": {
             "outlinewidth": 0,
             "ticks": ""
            },
            "colorscale": [
             [
              0,
              "#0d0887"
             ],
             [
              0.1111111111111111,
              "#46039f"
             ],
             [
              0.2222222222222222,
              "#7201a8"
             ],
             [
              0.3333333333333333,
              "#9c179e"
             ],
             [
              0.4444444444444444,
              "#bd3786"
             ],
             [
              0.5555555555555556,
              "#d8576b"
             ],
             [
              0.6666666666666666,
              "#ed7953"
             ],
             [
              0.7777777777777778,
              "#fb9f3a"
             ],
             [
              0.8888888888888888,
              "#fdca26"
             ],
             [
              1,
              "#f0f921"
             ]
            ],
            "type": "histogram2d"
           }
          ],
          "histogram2dcontour": [
           {
            "colorbar": {
             "outlinewidth": 0,
             "ticks": ""
            },
            "colorscale": [
             [
              0,
              "#0d0887"
             ],
             [
              0.1111111111111111,
              "#46039f"
             ],
             [
              0.2222222222222222,
              "#7201a8"
             ],
             [
              0.3333333333333333,
              "#9c179e"
             ],
             [
              0.4444444444444444,
              "#bd3786"
             ],
             [
              0.5555555555555556,
              "#d8576b"
             ],
             [
              0.6666666666666666,
              "#ed7953"
             ],
             [
              0.7777777777777778,
              "#fb9f3a"
             ],
             [
              0.8888888888888888,
              "#fdca26"
             ],
             [
              1,
              "#f0f921"
             ]
            ],
            "type": "histogram2dcontour"
           }
          ],
          "mesh3d": [
           {
            "colorbar": {
             "outlinewidth": 0,
             "ticks": ""
            },
            "type": "mesh3d"
           }
          ],
          "parcoords": [
           {
            "line": {
             "colorbar": {
              "outlinewidth": 0,
              "ticks": ""
             }
            },
            "type": "parcoords"
           }
          ],
          "pie": [
           {
            "automargin": true,
            "type": "pie"
           }
          ],
          "scatter": [
           {
            "marker": {
             "colorbar": {
              "outlinewidth": 0,
              "ticks": ""
             }
            },
            "type": "scatter"
           }
          ],
          "scatter3d": [
           {
            "line": {
             "colorbar": {
              "outlinewidth": 0,
              "ticks": ""
             }
            },
            "marker": {
             "colorbar": {
              "outlinewidth": 0,
              "ticks": ""
             }
            },
            "type": "scatter3d"
           }
          ],
          "scattercarpet": [
           {
            "marker": {
             "colorbar": {
              "outlinewidth": 0,
              "ticks": ""
             }
            },
            "type": "scattercarpet"
           }
          ],
          "scattergeo": [
           {
            "marker": {
             "colorbar": {
              "outlinewidth": 0,
              "ticks": ""
             }
            },
            "type": "scattergeo"
           }
          ],
          "scattergl": [
           {
            "marker": {
             "colorbar": {
              "outlinewidth": 0,
              "ticks": ""
             }
            },
            "type": "scattergl"
           }
          ],
          "scattermapbox": [
           {
            "marker": {
             "colorbar": {
              "outlinewidth": 0,
              "ticks": ""
             }
            },
            "type": "scattermapbox"
           }
          ],
          "scatterpolar": [
           {
            "marker": {
             "colorbar": {
              "outlinewidth": 0,
              "ticks": ""
             }
            },
            "type": "scatterpolar"
           }
          ],
          "scatterpolargl": [
           {
            "marker": {
             "colorbar": {
              "outlinewidth": 0,
              "ticks": ""
             }
            },
            "type": "scatterpolargl"
           }
          ],
          "scatterternary": [
           {
            "marker": {
             "colorbar": {
              "outlinewidth": 0,
              "ticks": ""
             }
            },
            "type": "scatterternary"
           }
          ],
          "surface": [
           {
            "colorbar": {
             "outlinewidth": 0,
             "ticks": ""
            },
            "colorscale": [
             [
              0,
              "#0d0887"
             ],
             [
              0.1111111111111111,
              "#46039f"
             ],
             [
              0.2222222222222222,
              "#7201a8"
             ],
             [
              0.3333333333333333,
              "#9c179e"
             ],
             [
              0.4444444444444444,
              "#bd3786"
             ],
             [
              0.5555555555555556,
              "#d8576b"
             ],
             [
              0.6666666666666666,
              "#ed7953"
             ],
             [
              0.7777777777777778,
              "#fb9f3a"
             ],
             [
              0.8888888888888888,
              "#fdca26"
             ],
             [
              1,
              "#f0f921"
             ]
            ],
            "type": "surface"
           }
          ],
          "table": [
           {
            "cells": {
             "fill": {
              "color": "#EBF0F8"
             },
             "line": {
              "color": "white"
             }
            },
            "header": {
             "fill": {
              "color": "#C8D4E3"
             },
             "line": {
              "color": "white"
             }
            },
            "type": "table"
           }
          ]
         },
         "layout": {
          "annotationdefaults": {
           "arrowcolor": "#2a3f5f",
           "arrowhead": 0,
           "arrowwidth": 1
          },
          "coloraxis": {
           "colorbar": {
            "outlinewidth": 0,
            "ticks": ""
           }
          },
          "colorscale": {
           "diverging": [
            [
             0,
             "#8e0152"
            ],
            [
             0.1,
             "#c51b7d"
            ],
            [
             0.2,
             "#de77ae"
            ],
            [
             0.3,
             "#f1b6da"
            ],
            [
             0.4,
             "#fde0ef"
            ],
            [
             0.5,
             "#f7f7f7"
            ],
            [
             0.6,
             "#e6f5d0"
            ],
            [
             0.7,
             "#b8e186"
            ],
            [
             0.8,
             "#7fbc41"
            ],
            [
             0.9,
             "#4d9221"
            ],
            [
             1,
             "#276419"
            ]
           ],
           "sequential": [
            [
             0,
             "#0d0887"
            ],
            [
             0.1111111111111111,
             "#46039f"
            ],
            [
             0.2222222222222222,
             "#7201a8"
            ],
            [
             0.3333333333333333,
             "#9c179e"
            ],
            [
             0.4444444444444444,
             "#bd3786"
            ],
            [
             0.5555555555555556,
             "#d8576b"
            ],
            [
             0.6666666666666666,
             "#ed7953"
            ],
            [
             0.7777777777777778,
             "#fb9f3a"
            ],
            [
             0.8888888888888888,
             "#fdca26"
            ],
            [
             1,
             "#f0f921"
            ]
           ],
           "sequentialminus": [
            [
             0,
             "#0d0887"
            ],
            [
             0.1111111111111111,
             "#46039f"
            ],
            [
             0.2222222222222222,
             "#7201a8"
            ],
            [
             0.3333333333333333,
             "#9c179e"
            ],
            [
             0.4444444444444444,
             "#bd3786"
            ],
            [
             0.5555555555555556,
             "#d8576b"
            ],
            [
             0.6666666666666666,
             "#ed7953"
            ],
            [
             0.7777777777777778,
             "#fb9f3a"
            ],
            [
             0.8888888888888888,
             "#fdca26"
            ],
            [
             1,
             "#f0f921"
            ]
           ]
          },
          "colorway": [
           "#636efa",
           "#EF553B",
           "#00cc96",
           "#ab63fa",
           "#FFA15A",
           "#19d3f3",
           "#FF6692",
           "#B6E880",
           "#FF97FF",
           "#FECB52"
          ],
          "font": {
           "color": "#2a3f5f"
          },
          "geo": {
           "bgcolor": "white",
           "lakecolor": "white",
           "landcolor": "#E5ECF6",
           "showlakes": true,
           "showland": true,
           "subunitcolor": "white"
          },
          "hoverlabel": {
           "align": "left"
          },
          "hovermode": "closest",
          "mapbox": {
           "style": "light"
          },
          "paper_bgcolor": "white",
          "plot_bgcolor": "#E5ECF6",
          "polar": {
           "angularaxis": {
            "gridcolor": "white",
            "linecolor": "white",
            "ticks": ""
           },
           "bgcolor": "#E5ECF6",
           "radialaxis": {
            "gridcolor": "white",
            "linecolor": "white",
            "ticks": ""
           }
          },
          "scene": {
           "xaxis": {
            "backgroundcolor": "#E5ECF6",
            "gridcolor": "white",
            "gridwidth": 2,
            "linecolor": "white",
            "showbackground": true,
            "ticks": "",
            "zerolinecolor": "white"
           },
           "yaxis": {
            "backgroundcolor": "#E5ECF6",
            "gridcolor": "white",
            "gridwidth": 2,
            "linecolor": "white",
            "showbackground": true,
            "ticks": "",
            "zerolinecolor": "white"
           },
           "zaxis": {
            "backgroundcolor": "#E5ECF6",
            "gridcolor": "white",
            "gridwidth": 2,
            "linecolor": "white",
            "showbackground": true,
            "ticks": "",
            "zerolinecolor": "white"
           }
          },
          "shapedefaults": {
           "line": {
            "color": "#2a3f5f"
           }
          },
          "ternary": {
           "aaxis": {
            "gridcolor": "white",
            "linecolor": "white",
            "ticks": ""
           },
           "baxis": {
            "gridcolor": "white",
            "linecolor": "white",
            "ticks": ""
           },
           "bgcolor": "#E5ECF6",
           "caxis": {
            "gridcolor": "white",
            "linecolor": "white",
            "ticks": ""
           }
          },
          "title": {
           "x": 0.05
          },
          "xaxis": {
           "automargin": true,
           "gridcolor": "white",
           "linecolor": "white",
           "ticks": "",
           "title": {
            "standoff": 15
           },
           "zerolinecolor": "white",
           "zerolinewidth": 2
          },
          "yaxis": {
           "automargin": true,
           "gridcolor": "white",
           "linecolor": "white",
           "ticks": "",
           "title": {
            "standoff": 15
           },
           "zerolinecolor": "white",
           "zerolinewidth": 2
          }
         }
        },
        "uniformtext": {
         "minsize": 10
        },
        "width": 400,
        "xaxis": {
         "anchor": "y",
         "domain": [
          0,
          1
         ],
         "title": {
          "text": "video_num"
         }
        },
        "yaxis": {
         "anchor": "x",
         "domain": [
          0,
          1
         ],
         "title": {
          "text": "country"
         }
        }
       }
      },
      "text/html": [
       "<div>                            <div id=\"271fbbc1-7d4a-4bf2-96f8-6d3553660189\" class=\"plotly-graph-div\" style=\"height:800px; width:400px;\"></div>            <script type=\"text/javascript\">                require([\"plotly\"], function(Plotly) {                    window.PLOTLYENV=window.PLOTLYENV || {};                                    if (document.getElementById(\"271fbbc1-7d4a-4bf2-96f8-6d3553660189\")) {                    Plotly.newPlot(                        \"271fbbc1-7d4a-4bf2-96f8-6d3553660189\",                        [{\"alignmentgroup\": \"True\", \"hovertemplate\": \"video_num=%{text}<br>country=%{y}<extra></extra>\", \"legendgroup\": \"\", \"marker\": {\"color\": \"#636efa\"}, \"name\": \"\", \"offsetgroup\": \"\", \"orientation\": \"h\", \"showlegend\": false, \"text\": [5.0, 5.0, 6.0, 6.0, 7.0, 7.0, 7.0, 11.0, 11.0, 14.0, 15.0, 15.0, 16.0, 16.0, 18.0, 21.0, 23.0, 25.0, 27.0, 45.0, 61.0, 61.0, 63.0, 65.0, 70.0, 76.0, 124.0, 374.0, 560.0, 1327.0], \"textposition\": \"auto\", \"type\": \"bar\", \"x\": [5, 5, 6, 6, 7, 7, 7, 11, 11, 14, 15, 15, 16, 16, 18, 21, 23, 25, 27, 45, 61, 61, 63, 65, 70, 76, 124, 374, 560, 1327], \"xaxis\": \"x\", \"y\": [\"\\ud64d\\ucf69\", \"\\uc2a4\\uc704\\uc2a4\", \"\\uc2f1\\uac00\\ud3ec\\ub974\", \"\\ubabd\\uace8\", \"\\ud3f4\\ub780\\ub4dc\", \"\\ub124\\ub35c\\ub780\\ub4dc\", \"\\ucf5c\\ub86c\\ube44\\uc544\", \"\\ube0c\\ub77c\\uc9c8\", \"\\uc774\\uc2a4\\ub77c\\uc5d8\", \"\\ud130\\ud0a4\", \"\\uba55\\uc2dc\\ucf54\", \"\\uce74\\ud0c0\\ub974\", \"\\uce90\\ub098\\ub2e4\", \"\\uc2a4\\ud398\\uc778\", \"\\ud0dc\\uad6d\", \"\\uc778\\ub3c4\\ub124\\uc2dc\\uc544\", \"\\ud544\\ub9ac\\ud540\", \"\\ubbf8\\uc580\\ub9c8\", \"\\uccb4\\ucf54\", \"\\uc778\\ub3c4\", \"\\ub3c5\\uc77c\", \"\\ubca0\\ud2b8\\ub0a8\", \"\\ud504\\ub791\\uc2a4\", \"\\uc774\\ud0c8\\ub9ac\\uc544\", \"\\ub7ec\\uc2dc\\uc544\", \"\\ub300\\ub9cc\", \"\\uc601\\uad6d\", \"\\uc911\\uad6d\", \"\\ubbf8\\uad6d\", \"\\uc77c\\ubcf8\"], \"yaxis\": \"y\"}],                        {\"barmode\": \"relative\", \"height\": 800, \"legend\": {\"tracegroupgap\": 0}, \"margin\": {\"t\": 60}, \"template\": {\"data\": {\"bar\": [{\"error_x\": {\"color\": \"#2a3f5f\"}, \"error_y\": {\"color\": \"#2a3f5f\"}, \"marker\": {\"line\": {\"color\": \"#E5ECF6\", \"width\": 0.5}}, \"type\": \"bar\"}], \"barpolar\": [{\"marker\": {\"line\": {\"color\": \"#E5ECF6\", \"width\": 0.5}}, \"type\": \"barpolar\"}], \"carpet\": [{\"aaxis\": {\"endlinecolor\": \"#2a3f5f\", \"gridcolor\": \"white\", \"linecolor\": \"white\", \"minorgridcolor\": \"white\", \"startlinecolor\": \"#2a3f5f\"}, \"baxis\": {\"endlinecolor\": \"#2a3f5f\", \"gridcolor\": \"white\", \"linecolor\": \"white\", \"minorgridcolor\": \"white\", \"startlinecolor\": \"#2a3f5f\"}, \"type\": \"carpet\"}], \"choropleth\": [{\"colorbar\": {\"outlinewidth\": 0, \"ticks\": \"\"}, \"type\": \"choropleth\"}], \"contour\": [{\"colorbar\": {\"outlinewidth\": 0, \"ticks\": \"\"}, \"colorscale\": [[0.0, \"#0d0887\"], [0.1111111111111111, \"#46039f\"], [0.2222222222222222, \"#7201a8\"], [0.3333333333333333, \"#9c179e\"], [0.4444444444444444, \"#bd3786\"], [0.5555555555555556, \"#d8576b\"], [0.6666666666666666, \"#ed7953\"], [0.7777777777777778, \"#fb9f3a\"], [0.8888888888888888, \"#fdca26\"], [1.0, \"#f0f921\"]], \"type\": \"contour\"}], \"contourcarpet\": [{\"colorbar\": {\"outlinewidth\": 0, \"ticks\": \"\"}, \"type\": \"contourcarpet\"}], \"heatmap\": [{\"colorbar\": {\"outlinewidth\": 0, \"ticks\": \"\"}, \"colorscale\": [[0.0, \"#0d0887\"], [0.1111111111111111, \"#46039f\"], [0.2222222222222222, \"#7201a8\"], [0.3333333333333333, \"#9c179e\"], [0.4444444444444444, \"#bd3786\"], [0.5555555555555556, \"#d8576b\"], [0.6666666666666666, \"#ed7953\"], [0.7777777777777778, \"#fb9f3a\"], [0.8888888888888888, \"#fdca26\"], [1.0, \"#f0f921\"]], \"type\": \"heatmap\"}], \"heatmapgl\": [{\"colorbar\": {\"outlinewidth\": 0, \"ticks\": \"\"}, \"colorscale\": [[0.0, \"#0d0887\"], [0.1111111111111111, \"#46039f\"], [0.2222222222222222, \"#7201a8\"], [0.3333333333333333, \"#9c179e\"], [0.4444444444444444, \"#bd3786\"], [0.5555555555555556, \"#d8576b\"], [0.6666666666666666, \"#ed7953\"], [0.7777777777777778, \"#fb9f3a\"], [0.8888888888888888, \"#fdca26\"], [1.0, \"#f0f921\"]], \"type\": \"heatmapgl\"}], \"histogram\": [{\"marker\": {\"colorbar\": {\"outlinewidth\": 0, \"ticks\": \"\"}}, \"type\": \"histogram\"}], \"histogram2d\": [{\"colorbar\": {\"outlinewidth\": 0, \"ticks\": \"\"}, \"colorscale\": [[0.0, \"#0d0887\"], [0.1111111111111111, \"#46039f\"], [0.2222222222222222, \"#7201a8\"], [0.3333333333333333, \"#9c179e\"], [0.4444444444444444, \"#bd3786\"], [0.5555555555555556, \"#d8576b\"], [0.6666666666666666, \"#ed7953\"], [0.7777777777777778, \"#fb9f3a\"], [0.8888888888888888, \"#fdca26\"], [1.0, \"#f0f921\"]], \"type\": \"histogram2d\"}], \"histogram2dcontour\": [{\"colorbar\": {\"outlinewidth\": 0, \"ticks\": \"\"}, \"colorscale\": [[0.0, \"#0d0887\"], [0.1111111111111111, \"#46039f\"], [0.2222222222222222, \"#7201a8\"], [0.3333333333333333, \"#9c179e\"], [0.4444444444444444, \"#bd3786\"], [0.5555555555555556, \"#d8576b\"], [0.6666666666666666, \"#ed7953\"], [0.7777777777777778, \"#fb9f3a\"], [0.8888888888888888, \"#fdca26\"], [1.0, \"#f0f921\"]], \"type\": \"histogram2dcontour\"}], \"mesh3d\": [{\"colorbar\": {\"outlinewidth\": 0, \"ticks\": \"\"}, \"type\": \"mesh3d\"}], \"parcoords\": [{\"line\": {\"colorbar\": {\"outlinewidth\": 0, \"ticks\": \"\"}}, \"type\": \"parcoords\"}], \"pie\": [{\"automargin\": true, \"type\": \"pie\"}], \"scatter\": [{\"marker\": {\"colorbar\": {\"outlinewidth\": 0, \"ticks\": \"\"}}, \"type\": \"scatter\"}], \"scatter3d\": [{\"line\": {\"colorbar\": {\"outlinewidth\": 0, \"ticks\": \"\"}}, \"marker\": {\"colorbar\": {\"outlinewidth\": 0, \"ticks\": \"\"}}, \"type\": \"scatter3d\"}], \"scattercarpet\": [{\"marker\": {\"colorbar\": {\"outlinewidth\": 0, \"ticks\": \"\"}}, \"type\": \"scattercarpet\"}], \"scattergeo\": [{\"marker\": {\"colorbar\": {\"outlinewidth\": 0, \"ticks\": \"\"}}, \"type\": \"scattergeo\"}], \"scattergl\": [{\"marker\": {\"colorbar\": {\"outlinewidth\": 0, \"ticks\": \"\"}}, \"type\": \"scattergl\"}], \"scattermapbox\": [{\"marker\": {\"colorbar\": {\"outlinewidth\": 0, \"ticks\": \"\"}}, \"type\": \"scattermapbox\"}], \"scatterpolar\": [{\"marker\": {\"colorbar\": {\"outlinewidth\": 0, \"ticks\": \"\"}}, \"type\": \"scatterpolar\"}], \"scatterpolargl\": [{\"marker\": {\"colorbar\": {\"outlinewidth\": 0, \"ticks\": \"\"}}, \"type\": \"scatterpolargl\"}], \"scatterternary\": [{\"marker\": {\"colorbar\": {\"outlinewidth\": 0, \"ticks\": \"\"}}, \"type\": \"scatterternary\"}], \"surface\": [{\"colorbar\": {\"outlinewidth\": 0, \"ticks\": \"\"}, \"colorscale\": [[0.0, \"#0d0887\"], [0.1111111111111111, \"#46039f\"], [0.2222222222222222, \"#7201a8\"], [0.3333333333333333, \"#9c179e\"], [0.4444444444444444, \"#bd3786\"], [0.5555555555555556, \"#d8576b\"], [0.6666666666666666, \"#ed7953\"], [0.7777777777777778, \"#fb9f3a\"], [0.8888888888888888, \"#fdca26\"], [1.0, \"#f0f921\"]], \"type\": \"surface\"}], \"table\": [{\"cells\": {\"fill\": {\"color\": \"#EBF0F8\"}, \"line\": {\"color\": \"white\"}}, \"header\": {\"fill\": {\"color\": \"#C8D4E3\"}, \"line\": {\"color\": \"white\"}}, \"type\": \"table\"}]}, \"layout\": {\"annotationdefaults\": {\"arrowcolor\": \"#2a3f5f\", \"arrowhead\": 0, \"arrowwidth\": 1}, \"coloraxis\": {\"colorbar\": {\"outlinewidth\": 0, \"ticks\": \"\"}}, \"colorscale\": {\"diverging\": [[0, \"#8e0152\"], [0.1, \"#c51b7d\"], [0.2, \"#de77ae\"], [0.3, \"#f1b6da\"], [0.4, \"#fde0ef\"], [0.5, \"#f7f7f7\"], [0.6, \"#e6f5d0\"], [0.7, \"#b8e186\"], [0.8, \"#7fbc41\"], [0.9, \"#4d9221\"], [1, \"#276419\"]], \"sequential\": [[0.0, \"#0d0887\"], [0.1111111111111111, \"#46039f\"], [0.2222222222222222, \"#7201a8\"], [0.3333333333333333, \"#9c179e\"], [0.4444444444444444, \"#bd3786\"], [0.5555555555555556, \"#d8576b\"], [0.6666666666666666, \"#ed7953\"], [0.7777777777777778, \"#fb9f3a\"], [0.8888888888888888, \"#fdca26\"], [1.0, \"#f0f921\"]], \"sequentialminus\": [[0.0, \"#0d0887\"], [0.1111111111111111, \"#46039f\"], [0.2222222222222222, \"#7201a8\"], [0.3333333333333333, \"#9c179e\"], [0.4444444444444444, \"#bd3786\"], [0.5555555555555556, \"#d8576b\"], [0.6666666666666666, \"#ed7953\"], [0.7777777777777778, \"#fb9f3a\"], [0.8888888888888888, \"#fdca26\"], [1.0, \"#f0f921\"]]}, \"colorway\": [\"#636efa\", \"#EF553B\", \"#00cc96\", \"#ab63fa\", \"#FFA15A\", \"#19d3f3\", \"#FF6692\", \"#B6E880\", \"#FF97FF\", \"#FECB52\"], \"font\": {\"color\": \"#2a3f5f\"}, \"geo\": {\"bgcolor\": \"white\", \"lakecolor\": \"white\", \"landcolor\": \"#E5ECF6\", \"showlakes\": true, \"showland\": true, \"subunitcolor\": \"white\"}, \"hoverlabel\": {\"align\": \"left\"}, \"hovermode\": \"closest\", \"mapbox\": {\"style\": \"light\"}, \"paper_bgcolor\": \"white\", \"plot_bgcolor\": \"#E5ECF6\", \"polar\": {\"angularaxis\": {\"gridcolor\": \"white\", \"linecolor\": \"white\", \"ticks\": \"\"}, \"bgcolor\": \"#E5ECF6\", \"radialaxis\": {\"gridcolor\": \"white\", \"linecolor\": \"white\", \"ticks\": \"\"}}, \"scene\": {\"xaxis\": {\"backgroundcolor\": \"#E5ECF6\", \"gridcolor\": \"white\", \"gridwidth\": 2, \"linecolor\": \"white\", \"showbackground\": true, \"ticks\": \"\", \"zerolinecolor\": \"white\"}, \"yaxis\": {\"backgroundcolor\": \"#E5ECF6\", \"gridcolor\": \"white\", \"gridwidth\": 2, \"linecolor\": \"white\", \"showbackground\": true, \"ticks\": \"\", \"zerolinecolor\": \"white\"}, \"zaxis\": {\"backgroundcolor\": \"#E5ECF6\", \"gridcolor\": \"white\", \"gridwidth\": 2, \"linecolor\": \"white\", \"showbackground\": true, \"ticks\": \"\", \"zerolinecolor\": \"white\"}}, \"shapedefaults\": {\"line\": {\"color\": \"#2a3f5f\"}}, \"ternary\": {\"aaxis\": {\"gridcolor\": \"white\", \"linecolor\": \"white\", \"ticks\": \"\"}, \"baxis\": {\"gridcolor\": \"white\", \"linecolor\": \"white\", \"ticks\": \"\"}, \"bgcolor\": \"#E5ECF6\", \"caxis\": {\"gridcolor\": \"white\", \"linecolor\": \"white\", \"ticks\": \"\"}}, \"title\": {\"x\": 0.05}, \"xaxis\": {\"automargin\": true, \"gridcolor\": \"white\", \"linecolor\": \"white\", \"ticks\": \"\", \"title\": {\"standoff\": 15}, \"zerolinecolor\": \"white\", \"zerolinewidth\": 2}, \"yaxis\": {\"automargin\": true, \"gridcolor\": \"white\", \"linecolor\": \"white\", \"ticks\": \"\", \"title\": {\"standoff\": 15}, \"zerolinecolor\": \"white\", \"zerolinewidth\": 2}}}, \"uniformtext\": {\"minsize\": 10}, \"width\": 400, \"xaxis\": {\"anchor\": \"y\", \"domain\": [0.0, 1.0], \"title\": {\"text\": \"video_num\"}}, \"yaxis\": {\"anchor\": \"x\", \"domain\": [0.0, 1.0], \"title\": {\"text\": \"country\"}}},                        {\"responsive\": true}                    ).then(function(){\n",
       "                            \n",
       "var gd = document.getElementById('271fbbc1-7d4a-4bf2-96f8-6d3553660189');\n",
       "var x = new MutationObserver(function (mutations, observer) {{\n",
       "        var display = window.getComputedStyle(gd).display;\n",
       "        if (!display || display === 'none') {{\n",
       "            console.log([gd, 'removed!']);\n",
       "            Plotly.purge(gd);\n",
       "            observer.disconnect();\n",
       "        }}\n",
       "}});\n",
       "\n",
       "// Listen for the removal of the full notebook cells\n",
       "var notebookContainer = gd.closest('#notebook-container');\n",
       "if (notebookContainer) {{\n",
       "    x.observe(notebookContainer, {childList: true});\n",
       "}}\n",
       "\n",
       "// Listen for the clearing of the current output cell\n",
       "var outputEl = gd.closest('.output');\n",
       "if (outputEl) {{\n",
       "    x.observe(outputEl, {childList: true});\n",
       "}}\n",
       "\n",
       "                        })                };                });            </script>        </div>"
      ]
     },
     "metadata": {},
     "output_type": "display_data"
    }
   ],
   "source": [
    "import plotly.express as px\n",
    "\n",
    "\n",
    "#국가별 영상 개수 top20\n",
    "top20_countries = top20_countries.sort_values(by='video_num')\n",
    "fig = px.bar(top20_countries, x=\"video_num\", y=\"country\", orientation='h', text='video_num', width=400, height=800)\n",
    "fig.update_layout(uniformtext_minsize=10)\n",
    "fig.show()"
   ]
  },
  {
   "cell_type": "code",
   "execution_count": 338,
   "metadata": {
    "scrolled": true
   },
   "outputs": [
    {
     "data": {
      "text/html": [
       "<div>\n",
       "<style scoped>\n",
       "    .dataframe tbody tr th:only-of-type {\n",
       "        vertical-align: middle;\n",
       "    }\n",
       "\n",
       "    .dataframe tbody tr th {\n",
       "        vertical-align: top;\n",
       "    }\n",
       "\n",
       "    .dataframe thead th {\n",
       "        text-align: right;\n",
       "    }\n",
       "</style>\n",
       "<table border=\"1\" class=\"dataframe\">\n",
       "  <thead>\n",
       "    <tr style=\"text-align: right;\">\n",
       "      <th></th>\n",
       "      <th>Unnamed: 0</th>\n",
       "      <th>country</th>\n",
       "      <th>video_num</th>\n",
       "      <th>viewCount</th>\n",
       "      <th>likeCount</th>\n",
       "      <th>dislikeCount</th>\n",
       "      <th>favoriteCount</th>\n",
       "      <th>commentCount</th>\n",
       "      <th>gni($)</th>\n",
       "    </tr>\n",
       "  </thead>\n",
       "  <tbody>\n",
       "    <tr>\n",
       "      <th>120</th>\n",
       "      <td>120</td>\n",
       "      <td>벨기에</td>\n",
       "      <td>1</td>\n",
       "      <td>22498511.00</td>\n",
       "      <td>632707.00</td>\n",
       "      <td>18252.00</td>\n",
       "      <td>0.00</td>\n",
       "      <td>11940.00</td>\n",
       "      <td>46052.40</td>\n",
       "    </tr>\n",
       "    <tr>\n",
       "      <th>194</th>\n",
       "      <td>194</td>\n",
       "      <td>나이지리아</td>\n",
       "      <td>2</td>\n",
       "      <td>1350104.50</td>\n",
       "      <td>18197.00</td>\n",
       "      <td>803.00</td>\n",
       "      <td>0.00</td>\n",
       "      <td>1693.00</td>\n",
       "      <td>2156.86</td>\n",
       "    </tr>\n",
       "    <tr>\n",
       "      <th>125</th>\n",
       "      <td>125</td>\n",
       "      <td>핀란드</td>\n",
       "      <td>4</td>\n",
       "      <td>1073385.00</td>\n",
       "      <td>16672.50</td>\n",
       "      <td>457.25</td>\n",
       "      <td>0.00</td>\n",
       "      <td>1402.75</td>\n",
       "      <td>48471.73</td>\n",
       "    </tr>\n",
       "    <tr>\n",
       "      <th>138</th>\n",
       "      <td>138</td>\n",
       "      <td>리투아니아</td>\n",
       "      <td>1</td>\n",
       "      <td>853450.00</td>\n",
       "      <td>23357.00</td>\n",
       "      <td>457.00</td>\n",
       "      <td>0.00</td>\n",
       "      <td>1296.00</td>\n",
       "      <td>19030.54</td>\n",
       "    </tr>\n",
       "    <tr>\n",
       "      <th>110</th>\n",
       "      <td>110</td>\n",
       "      <td>영국</td>\n",
       "      <td>124</td>\n",
       "      <td>652078.45</td>\n",
       "      <td>13672.17</td>\n",
       "      <td>364.29</td>\n",
       "      <td>0.00</td>\n",
       "      <td>1130.41</td>\n",
       "      <td>41290.95</td>\n",
       "    </tr>\n",
       "    <tr>\n",
       "      <th>23</th>\n",
       "      <td>23</td>\n",
       "      <td>몽골</td>\n",
       "      <td>6</td>\n",
       "      <td>407045.67</td>\n",
       "      <td>9419.17</td>\n",
       "      <td>294.50</td>\n",
       "      <td>0.00</td>\n",
       "      <td>865.50</td>\n",
       "      <td>3811.06</td>\n",
       "    </tr>\n",
       "    <tr>\n",
       "      <th>1</th>\n",
       "      <td>1</td>\n",
       "      <td>대만</td>\n",
       "      <td>76</td>\n",
       "      <td>384516.49</td>\n",
       "      <td>5243.62</td>\n",
       "      <td>185.47</td>\n",
       "      <td>0.00</td>\n",
       "      <td>849.28</td>\n",
       "      <td>26514.00</td>\n",
       "    </tr>\n",
       "    <tr>\n",
       "      <th>87</th>\n",
       "      <td>87</td>\n",
       "      <td>아르헨티나</td>\n",
       "      <td>4</td>\n",
       "      <td>1040414.00</td>\n",
       "      <td>9437.50</td>\n",
       "      <td>598.00</td>\n",
       "      <td>0.00</td>\n",
       "      <td>808.75</td>\n",
       "      <td>9653.77</td>\n",
       "    </tr>\n",
       "    <tr>\n",
       "      <th>155</th>\n",
       "      <td>155</td>\n",
       "      <td>헝가리</td>\n",
       "      <td>2</td>\n",
       "      <td>500931.50</td>\n",
       "      <td>11366.00</td>\n",
       "      <td>299.00</td>\n",
       "      <td>0.00</td>\n",
       "      <td>796.00</td>\n",
       "      <td>16020.42</td>\n",
       "    </tr>\n",
       "    <tr>\n",
       "      <th>10</th>\n",
       "      <td>10</td>\n",
       "      <td>미얀마</td>\n",
       "      <td>25</td>\n",
       "      <td>321149.72</td>\n",
       "      <td>7729.76</td>\n",
       "      <td>253.96</td>\n",
       "      <td>0.00</td>\n",
       "      <td>748.24</td>\n",
       "      <td>1356.12</td>\n",
       "    </tr>\n",
       "    <tr>\n",
       "      <th>142</th>\n",
       "      <td>142</td>\n",
       "      <td>슬로베니아</td>\n",
       "      <td>2</td>\n",
       "      <td>1263928.50</td>\n",
       "      <td>12592.00</td>\n",
       "      <td>355.00</td>\n",
       "      <td>0.00</td>\n",
       "      <td>729.00</td>\n",
       "      <td>25484.33</td>\n",
       "    </tr>\n",
       "    <tr>\n",
       "      <th>43</th>\n",
       "      <td>43</td>\n",
       "      <td>이라크</td>\n",
       "      <td>1</td>\n",
       "      <td>280665.00</td>\n",
       "      <td>5769.00</td>\n",
       "      <td>46.00</td>\n",
       "      <td>0.00</td>\n",
       "      <td>707.00</td>\n",
       "      <td>5926.80</td>\n",
       "    </tr>\n",
       "    <tr>\n",
       "      <th>25</th>\n",
       "      <td>25</td>\n",
       "      <td>중국</td>\n",
       "      <td>374</td>\n",
       "      <td>307902.64</td>\n",
       "      <td>5349.38</td>\n",
       "      <td>177.40</td>\n",
       "      <td>0.00</td>\n",
       "      <td>694.80</td>\n",
       "      <td>9979.23</td>\n",
       "    </tr>\n",
       "    <tr>\n",
       "      <th>259</th>\n",
       "      <td>259</td>\n",
       "      <td>중동</td>\n",
       "      <td>2</td>\n",
       "      <td>216798.50</td>\n",
       "      <td>6734.00</td>\n",
       "      <td>124.50</td>\n",
       "      <td>0.00</td>\n",
       "      <td>687.50</td>\n",
       "      <td>nan</td>\n",
       "    </tr>\n",
       "    <tr>\n",
       "      <th>269</th>\n",
       "      <td>269</td>\n",
       "      <td>아메리카</td>\n",
       "      <td>3</td>\n",
       "      <td>679761.33</td>\n",
       "      <td>8256.33</td>\n",
       "      <td>305.33</td>\n",
       "      <td>0.00</td>\n",
       "      <td>662.67</td>\n",
       "      <td>nan</td>\n",
       "    </tr>\n",
       "    <tr>\n",
       "      <th>123</th>\n",
       "      <td>123</td>\n",
       "      <td>그리스</td>\n",
       "      <td>1</td>\n",
       "      <td>586656.00</td>\n",
       "      <td>10029.00</td>\n",
       "      <td>135.00</td>\n",
       "      <td>0.00</td>\n",
       "      <td>660.00</td>\n",
       "      <td>20005.98</td>\n",
       "    </tr>\n",
       "    <tr>\n",
       "      <th>157</th>\n",
       "      <td>157</td>\n",
       "      <td>러시아</td>\n",
       "      <td>70</td>\n",
       "      <td>374220.63</td>\n",
       "      <td>9371.06</td>\n",
       "      <td>158.90</td>\n",
       "      <td>0.00</td>\n",
       "      <td>642.81</td>\n",
       "      <td>11287.44</td>\n",
       "    </tr>\n",
       "    <tr>\n",
       "      <th>255</th>\n",
       "      <td>255</td>\n",
       "      <td>아시아</td>\n",
       "      <td>50</td>\n",
       "      <td>296356.56</td>\n",
       "      <td>3871.08</td>\n",
       "      <td>119.24</td>\n",
       "      <td>0.00</td>\n",
       "      <td>628.60</td>\n",
       "      <td>nan</td>\n",
       "    </tr>\n",
       "    <tr>\n",
       "      <th>261</th>\n",
       "      <td>261</td>\n",
       "      <td>아프리카</td>\n",
       "      <td>20</td>\n",
       "      <td>404666.65</td>\n",
       "      <td>5557.50</td>\n",
       "      <td>287.55</td>\n",
       "      <td>0.00</td>\n",
       "      <td>620.60</td>\n",
       "      <td>nan</td>\n",
       "    </tr>\n",
       "    <tr>\n",
       "      <th>33</th>\n",
       "      <td>33</td>\n",
       "      <td>요르단</td>\n",
       "      <td>1</td>\n",
       "      <td>313917.00</td>\n",
       "      <td>8466.00</td>\n",
       "      <td>78.00</td>\n",
       "      <td>0.00</td>\n",
       "      <td>597.00</td>\n",
       "      <td>4299.19</td>\n",
       "    </tr>\n",
       "    <tr>\n",
       "      <th>118</th>\n",
       "      <td>118</td>\n",
       "      <td>덴마크</td>\n",
       "      <td>4</td>\n",
       "      <td>328070.25</td>\n",
       "      <td>6600.00</td>\n",
       "      <td>82.00</td>\n",
       "      <td>0.00</td>\n",
       "      <td>574.50</td>\n",
       "      <td>61898.77</td>\n",
       "    </tr>\n",
       "    <tr>\n",
       "      <th>257</th>\n",
       "      <td>257</td>\n",
       "      <td>동남아시아</td>\n",
       "      <td>2</td>\n",
       "      <td>243877.00</td>\n",
       "      <td>7656.50</td>\n",
       "      <td>204.00</td>\n",
       "      <td>0.00</td>\n",
       "      <td>569.00</td>\n",
       "      <td>nan</td>\n",
       "    </tr>\n",
       "    <tr>\n",
       "      <th>26</th>\n",
       "      <td>26</td>\n",
       "      <td>북한</td>\n",
       "      <td>34</td>\n",
       "      <td>292846.12</td>\n",
       "      <td>6159.09</td>\n",
       "      <td>141.09</td>\n",
       "      <td>0.00</td>\n",
       "      <td>566.91</td>\n",
       "      <td>nan</td>\n",
       "    </tr>\n",
       "    <tr>\n",
       "      <th>94</th>\n",
       "      <td>94</td>\n",
       "      <td>페루</td>\n",
       "      <td>4</td>\n",
       "      <td>416513.50</td>\n",
       "      <td>6421.25</td>\n",
       "      <td>281.75</td>\n",
       "      <td>0.00</td>\n",
       "      <td>548.75</td>\n",
       "      <td>6652.20</td>\n",
       "    </tr>\n",
       "    <tr>\n",
       "      <th>32</th>\n",
       "      <td>32</td>\n",
       "      <td>이스라엘</td>\n",
       "      <td>11</td>\n",
       "      <td>430425.55</td>\n",
       "      <td>8686.18</td>\n",
       "      <td>327.36</td>\n",
       "      <td>0.00</td>\n",
       "      <td>506.27</td>\n",
       "      <td>46317.64</td>\n",
       "    </tr>\n",
       "    <tr>\n",
       "      <th>53</th>\n",
       "      <td>53</td>\n",
       "      <td>미국</td>\n",
       "      <td>560</td>\n",
       "      <td>341946.18</td>\n",
       "      <td>5757.92</td>\n",
       "      <td>138.98</td>\n",
       "      <td>0.00</td>\n",
       "      <td>502.29</td>\n",
       "      <td>65716.50</td>\n",
       "    </tr>\n",
       "    <tr>\n",
       "      <th>71</th>\n",
       "      <td>71</td>\n",
       "      <td>쿠바</td>\n",
       "      <td>1</td>\n",
       "      <td>497426.00</td>\n",
       "      <td>12487.00</td>\n",
       "      <td>293.00</td>\n",
       "      <td>0.00</td>\n",
       "      <td>466.00</td>\n",
       "      <td>nan</td>\n",
       "    </tr>\n",
       "    <tr>\n",
       "      <th>203</th>\n",
       "      <td>203</td>\n",
       "      <td>에티오피아</td>\n",
       "      <td>2</td>\n",
       "      <td>466133.00</td>\n",
       "      <td>12764.00</td>\n",
       "      <td>186.50</td>\n",
       "      <td>0.00</td>\n",
       "      <td>440.50</td>\n",
       "      <td>853.33</td>\n",
       "    </tr>\n",
       "    <tr>\n",
       "      <th>50</th>\n",
       "      <td>50</td>\n",
       "      <td>투르크메니스탄</td>\n",
       "      <td>6</td>\n",
       "      <td>260055.83</td>\n",
       "      <td>4815.50</td>\n",
       "      <td>95.50</td>\n",
       "      <td>0.00</td>\n",
       "      <td>423.67</td>\n",
       "      <td>nan</td>\n",
       "    </tr>\n",
       "    <tr>\n",
       "      <th>5</th>\n",
       "      <td>5</td>\n",
       "      <td>말레이시아</td>\n",
       "      <td>4</td>\n",
       "      <td>185558.25</td>\n",
       "      <td>3533.25</td>\n",
       "      <td>155.75</td>\n",
       "      <td>0.00</td>\n",
       "      <td>422.00</td>\n",
       "      <td>11086.09</td>\n",
       "    </tr>\n",
       "    <tr>\n",
       "      <th>206</th>\n",
       "      <td>206</td>\n",
       "      <td>우간다</td>\n",
       "      <td>1</td>\n",
       "      <td>88289.00</td>\n",
       "      <td>3111.00</td>\n",
       "      <td>50.00</td>\n",
       "      <td>0.00</td>\n",
       "      <td>408.00</td>\n",
       "      <td>756.08</td>\n",
       "    </tr>\n",
       "    <tr>\n",
       "      <th>0</th>\n",
       "      <td>0</td>\n",
       "      <td>일본</td>\n",
       "      <td>1327</td>\n",
       "      <td>199766.76</td>\n",
       "      <td>3632.15</td>\n",
       "      <td>116.06</td>\n",
       "      <td>0.00</td>\n",
       "      <td>403.27</td>\n",
       "      <td>41490.82</td>\n",
       "    </tr>\n",
       "    <tr>\n",
       "      <th>114</th>\n",
       "      <td>114</td>\n",
       "      <td>네덜란드</td>\n",
       "      <td>7</td>\n",
       "      <td>395437.14</td>\n",
       "      <td>5528.71</td>\n",
       "      <td>72.43</td>\n",
       "      <td>0.00</td>\n",
       "      <td>397.71</td>\n",
       "      <td>53353.84</td>\n",
       "    </tr>\n",
       "    <tr>\n",
       "      <th>30</th>\n",
       "      <td>30</td>\n",
       "      <td>이란</td>\n",
       "      <td>18</td>\n",
       "      <td>265885.22</td>\n",
       "      <td>5099.61</td>\n",
       "      <td>79.33</td>\n",
       "      <td>0.00</td>\n",
       "      <td>395.94</td>\n",
       "      <td>nan</td>\n",
       "    </tr>\n",
       "    <tr>\n",
       "      <th>89</th>\n",
       "      <td>89</td>\n",
       "      <td>파라과이</td>\n",
       "      <td>2</td>\n",
       "      <td>153892.00</td>\n",
       "      <td>3661.00</td>\n",
       "      <td>45.00</td>\n",
       "      <td>0.00</td>\n",
       "      <td>395.50</td>\n",
       "      <td>5216.30</td>\n",
       "    </tr>\n",
       "    <tr>\n",
       "      <th>151</th>\n",
       "      <td>151</td>\n",
       "      <td>체코</td>\n",
       "      <td>27</td>\n",
       "      <td>263403.22</td>\n",
       "      <td>7921.37</td>\n",
       "      <td>87.37</td>\n",
       "      <td>0.00</td>\n",
       "      <td>379.22</td>\n",
       "      <td>22023.29</td>\n",
       "    </tr>\n",
       "    <tr>\n",
       "      <th>12</th>\n",
       "      <td>12</td>\n",
       "      <td>베트남</td>\n",
       "      <td>61</td>\n",
       "      <td>146414.36</td>\n",
       "      <td>2621.46</td>\n",
       "      <td>106.13</td>\n",
       "      <td>0.00</td>\n",
       "      <td>374.90</td>\n",
       "      <td>2511.60</td>\n",
       "    </tr>\n",
       "    <tr>\n",
       "      <th>40</th>\n",
       "      <td>40</td>\n",
       "      <td>카타르</td>\n",
       "      <td>15</td>\n",
       "      <td>116496.80</td>\n",
       "      <td>1825.00</td>\n",
       "      <td>69.00</td>\n",
       "      <td>0.00</td>\n",
       "      <td>363.07</td>\n",
       "      <td>63224.61</td>\n",
       "    </tr>\n",
       "    <tr>\n",
       "      <th>34</th>\n",
       "      <td>34</td>\n",
       "      <td>레바논</td>\n",
       "      <td>4</td>\n",
       "      <td>228431.25</td>\n",
       "      <td>4079.75</td>\n",
       "      <td>132.00</td>\n",
       "      <td>0.00</td>\n",
       "      <td>359.75</td>\n",
       "      <td>7752.23</td>\n",
       "    </tr>\n",
       "    <tr>\n",
       "      <th>4</th>\n",
       "      <td>4</td>\n",
       "      <td>태국</td>\n",
       "      <td>18</td>\n",
       "      <td>126081.17</td>\n",
       "      <td>2876.50</td>\n",
       "      <td>54.89</td>\n",
       "      <td>0.00</td>\n",
       "      <td>357.11</td>\n",
       "      <td>7520.19</td>\n",
       "    </tr>\n",
       "    <tr>\n",
       "      <th>2</th>\n",
       "      <td>2</td>\n",
       "      <td>홍콩</td>\n",
       "      <td>5</td>\n",
       "      <td>123017.00</td>\n",
       "      <td>1594.40</td>\n",
       "      <td>85.40</td>\n",
       "      <td>0.00</td>\n",
       "      <td>355.00</td>\n",
       "      <td>51765.79</td>\n",
       "    </tr>\n",
       "    <tr>\n",
       "      <th>14</th>\n",
       "      <td>14</td>\n",
       "      <td>인도</td>\n",
       "      <td>45</td>\n",
       "      <td>202505.67</td>\n",
       "      <td>3844.49</td>\n",
       "      <td>103.31</td>\n",
       "      <td>0.00</td>\n",
       "      <td>353.80</td>\n",
       "      <td>2081.28</td>\n",
       "    </tr>\n",
       "    <tr>\n",
       "      <th>6</th>\n",
       "      <td>6</td>\n",
       "      <td>필리핀</td>\n",
       "      <td>23</td>\n",
       "      <td>151442.30</td>\n",
       "      <td>3287.83</td>\n",
       "      <td>94.78</td>\n",
       "      <td>0.00</td>\n",
       "      <td>352.70</td>\n",
       "      <td>3831.69</td>\n",
       "    </tr>\n",
       "    <tr>\n",
       "      <th>22</th>\n",
       "      <td>22</td>\n",
       "      <td>몰디브</td>\n",
       "      <td>1</td>\n",
       "      <td>174122.00</td>\n",
       "      <td>3256.00</td>\n",
       "      <td>111.00</td>\n",
       "      <td>0.00</td>\n",
       "      <td>350.00</td>\n",
       "      <td>9792.48</td>\n",
       "    </tr>\n",
       "    <tr>\n",
       "      <th>200</th>\n",
       "      <td>200</td>\n",
       "      <td>가나</td>\n",
       "      <td>4</td>\n",
       "      <td>157423.00</td>\n",
       "      <td>3680.50</td>\n",
       "      <td>94.00</td>\n",
       "      <td>0.00</td>\n",
       "      <td>345.00</td>\n",
       "      <td>2154.24</td>\n",
       "    </tr>\n",
       "    <tr>\n",
       "      <th>37</th>\n",
       "      <td>37</td>\n",
       "      <td>터키</td>\n",
       "      <td>14</td>\n",
       "      <td>512670.21</td>\n",
       "      <td>6688.36</td>\n",
       "      <td>126.14</td>\n",
       "      <td>0.00</td>\n",
       "      <td>338.43</td>\n",
       "      <td>8892.51</td>\n",
       "    </tr>\n",
       "    <tr>\n",
       "      <th>86</th>\n",
       "      <td>86</td>\n",
       "      <td>콜롬비아</td>\n",
       "      <td>7</td>\n",
       "      <td>353467.29</td>\n",
       "      <td>7115.86</td>\n",
       "      <td>112.86</td>\n",
       "      <td>0.00</td>\n",
       "      <td>311.29</td>\n",
       "      <td>6227.60</td>\n",
       "    </tr>\n",
       "    <tr>\n",
       "      <th>113</th>\n",
       "      <td>113</td>\n",
       "      <td>프랑스</td>\n",
       "      <td>63</td>\n",
       "      <td>293775.17</td>\n",
       "      <td>3996.79</td>\n",
       "      <td>116.22</td>\n",
       "      <td>0.00</td>\n",
       "      <td>310.97</td>\n",
       "      <td>42500.40</td>\n",
       "    </tr>\n",
       "    <tr>\n",
       "      <th>122</th>\n",
       "      <td>122</td>\n",
       "      <td>스페인</td>\n",
       "      <td>16</td>\n",
       "      <td>312721.31</td>\n",
       "      <td>4896.06</td>\n",
       "      <td>86.31</td>\n",
       "      <td>0.00</td>\n",
       "      <td>309.44</td>\n",
       "      <td>29889.30</td>\n",
       "    </tr>\n",
       "    <tr>\n",
       "      <th>15</th>\n",
       "      <td>15</td>\n",
       "      <td>스리랑카</td>\n",
       "      <td>4</td>\n",
       "      <td>257317.25</td>\n",
       "      <td>3922.50</td>\n",
       "      <td>107.75</td>\n",
       "      <td>0.00</td>\n",
       "      <td>307.75</td>\n",
       "      <td>3826.28</td>\n",
       "    </tr>\n",
       "  </tbody>\n",
       "</table>\n",
       "</div>"
      ],
      "text/plain": [
       "     Unnamed: 0  country  video_num   viewCount  likeCount  dislikeCount  \\\n",
       "120         120      벨기에          1 22498511.00  632707.00      18252.00   \n",
       "194         194    나이지리아          2  1350104.50   18197.00        803.00   \n",
       "125         125      핀란드          4  1073385.00   16672.50        457.25   \n",
       "138         138    리투아니아          1   853450.00   23357.00        457.00   \n",
       "110         110       영국        124   652078.45   13672.17        364.29   \n",
       "23           23       몽골          6   407045.67    9419.17        294.50   \n",
       "1             1       대만         76   384516.49    5243.62        185.47   \n",
       "87           87    아르헨티나          4  1040414.00    9437.50        598.00   \n",
       "155         155      헝가리          2   500931.50   11366.00        299.00   \n",
       "10           10      미얀마         25   321149.72    7729.76        253.96   \n",
       "142         142    슬로베니아          2  1263928.50   12592.00        355.00   \n",
       "43           43      이라크          1   280665.00    5769.00         46.00   \n",
       "25           25       중국        374   307902.64    5349.38        177.40   \n",
       "259         259       중동          2   216798.50    6734.00        124.50   \n",
       "269         269     아메리카          3   679761.33    8256.33        305.33   \n",
       "123         123      그리스          1   586656.00   10029.00        135.00   \n",
       "157         157      러시아         70   374220.63    9371.06        158.90   \n",
       "255         255      아시아         50   296356.56    3871.08        119.24   \n",
       "261         261     아프리카         20   404666.65    5557.50        287.55   \n",
       "33           33      요르단          1   313917.00    8466.00         78.00   \n",
       "118         118      덴마크          4   328070.25    6600.00         82.00   \n",
       "257         257    동남아시아          2   243877.00    7656.50        204.00   \n",
       "26           26       북한         34   292846.12    6159.09        141.09   \n",
       "94           94       페루          4   416513.50    6421.25        281.75   \n",
       "32           32     이스라엘         11   430425.55    8686.18        327.36   \n",
       "53           53       미국        560   341946.18    5757.92        138.98   \n",
       "71           71       쿠바          1   497426.00   12487.00        293.00   \n",
       "203         203    에티오피아          2   466133.00   12764.00        186.50   \n",
       "50           50  투르크메니스탄          6   260055.83    4815.50         95.50   \n",
       "5             5    말레이시아          4   185558.25    3533.25        155.75   \n",
       "206         206      우간다          1    88289.00    3111.00         50.00   \n",
       "0             0       일본       1327   199766.76    3632.15        116.06   \n",
       "114         114     네덜란드          7   395437.14    5528.71         72.43   \n",
       "30           30       이란         18   265885.22    5099.61         79.33   \n",
       "89           89     파라과이          2   153892.00    3661.00         45.00   \n",
       "151         151       체코         27   263403.22    7921.37         87.37   \n",
       "12           12      베트남         61   146414.36    2621.46        106.13   \n",
       "40           40      카타르         15   116496.80    1825.00         69.00   \n",
       "34           34      레바논          4   228431.25    4079.75        132.00   \n",
       "4             4       태국         18   126081.17    2876.50         54.89   \n",
       "2             2       홍콩          5   123017.00    1594.40         85.40   \n",
       "14           14       인도         45   202505.67    3844.49        103.31   \n",
       "6             6      필리핀         23   151442.30    3287.83         94.78   \n",
       "22           22      몰디브          1   174122.00    3256.00        111.00   \n",
       "200         200       가나          4   157423.00    3680.50         94.00   \n",
       "37           37       터키         14   512670.21    6688.36        126.14   \n",
       "86           86     콜롬비아          7   353467.29    7115.86        112.86   \n",
       "113         113      프랑스         63   293775.17    3996.79        116.22   \n",
       "122         122      스페인         16   312721.31    4896.06         86.31   \n",
       "15           15     스리랑카          4   257317.25    3922.50        107.75   \n",
       "\n",
       "     favoriteCount  commentCount   gni($)  \n",
       "120           0.00      11940.00 46052.40  \n",
       "194           0.00       1693.00  2156.86  \n",
       "125           0.00       1402.75 48471.73  \n",
       "138           0.00       1296.00 19030.54  \n",
       "110           0.00       1130.41 41290.95  \n",
       "23            0.00        865.50  3811.06  \n",
       "1             0.00        849.28 26514.00  \n",
       "87            0.00        808.75  9653.77  \n",
       "155           0.00        796.00 16020.42  \n",
       "10            0.00        748.24  1356.12  \n",
       "142           0.00        729.00 25484.33  \n",
       "43            0.00        707.00  5926.80  \n",
       "25            0.00        694.80  9979.23  \n",
       "259           0.00        687.50      nan  \n",
       "269           0.00        662.67      nan  \n",
       "123           0.00        660.00 20005.98  \n",
       "157           0.00        642.81 11287.44  \n",
       "255           0.00        628.60      nan  \n",
       "261           0.00        620.60      nan  \n",
       "33            0.00        597.00  4299.19  \n",
       "118           0.00        574.50 61898.77  \n",
       "257           0.00        569.00      nan  \n",
       "26            0.00        566.91      nan  \n",
       "94            0.00        548.75  6652.20  \n",
       "32            0.00        506.27 46317.64  \n",
       "53            0.00        502.29 65716.50  \n",
       "71            0.00        466.00      nan  \n",
       "203           0.00        440.50   853.33  \n",
       "50            0.00        423.67      nan  \n",
       "5             0.00        422.00 11086.09  \n",
       "206           0.00        408.00   756.08  \n",
       "0             0.00        403.27 41490.82  \n",
       "114           0.00        397.71 53353.84  \n",
       "30            0.00        395.94      nan  \n",
       "89            0.00        395.50  5216.30  \n",
       "151           0.00        379.22 22023.29  \n",
       "12            0.00        374.90  2511.60  \n",
       "40            0.00        363.07 63224.61  \n",
       "34            0.00        359.75  7752.23  \n",
       "4             0.00        357.11  7520.19  \n",
       "2             0.00        355.00 51765.79  \n",
       "14            0.00        353.80  2081.28  \n",
       "6             0.00        352.70  3831.69  \n",
       "22            0.00        350.00  9792.48  \n",
       "200           0.00        345.00  2154.24  \n",
       "37            0.00        338.43  8892.51  \n",
       "86            0.00        311.29  6227.60  \n",
       "113           0.00        310.97 42500.40  \n",
       "122           0.00        309.44 29889.30  \n",
       "15            0.00        307.75  3826.28  "
      ]
     },
     "execution_count": 338,
     "metadata": {},
     "output_type": "execute_result"
    }
   ],
   "source": [
    "countires_stat.sort_values(by='commentCount', ascending=False)[:50]"
   ]
  },
  {
   "cell_type": "code",
   "execution_count": 249,
   "metadata": {},
   "outputs": [
    {
     "data": {
      "application/vnd.plotly.v1+json": {
       "config": {
        "plotlyServerURL": "https://plot.ly"
       },
       "data": [
        {
         "hovertemplate": "gni($)=%{x}<br>viewCount=%{y}<br>country=%{text}<br>video_num=%{marker.color}<extra></extra>",
         "legendgroup": "",
         "marker": {
          "color": [
           2,
           2,
           4,
           4,
           1,
           124,
           1,
           14,
           2,
           2,
           1,
           2,
           11,
           4,
           6,
           7,
           76,
           70,
           7,
           560,
           4,
           25,
           1,
           16,
           374,
           2,
           63,
           1,
           27,
           5,
           4,
           1,
           4,
           4,
           45,
           1327,
           3,
           4,
           16,
           2,
           1,
           11,
           1,
           4,
           2,
           23,
           61,
           7,
           61,
           21,
           15,
           18,
           5,
           15,
           1,
           2,
           3,
           3,
           65,
           2,
           1,
           6,
           2,
           3,
           2,
           1,
           1,
           1,
           1,
           1,
           1,
           1
          ],
          "coloraxis": "coloraxis",
          "symbol": "circle"
         },
         "mode": "markers+text",
         "name": "",
         "orientation": "v",
         "showlegend": false,
         "text": [
          "나이지리아",
          "슬로베니아",
          "핀란드",
          "아르헨티나",
          "리투아니아",
          "영국",
          "그리스",
          "터키",
          "헝가리",
          "스웨덴",
          "라트비아",
          "에티오피아",
          "이스라엘",
          "페루",
          "몽골",
          "네덜란드",
          "대만",
          "러시아",
          "콜롬비아",
          "미국",
          "덴마크",
          "미얀마",
          "요르단",
          "스페인",
          "중국",
          "라오스",
          "프랑스",
          "이라크",
          "체코",
          "스위스",
          "스리랑카",
          "키르기스스탄",
          "아일랜드",
          "레바논",
          "인도",
          "일본",
          "에스토니아",
          "말레이시아",
          "캐나다",
          "에콰도르",
          "몰디브",
          "브라질",
          "루마니아",
          "가나",
          "파라과이",
          "필리핀",
          "독일",
          "폴란드",
          "베트남",
          "인도네시아",
          "멕시코",
          "태국",
          "홍콩",
          "카타르",
          "캄보디아",
          "뉴질랜드",
          "오스트리아",
          "우즈베키스탄",
          "이탈리아",
          "온두라스",
          "우간다",
          "싱가포르",
          "파키스탄",
          "노르웨이",
          "이집트",
          "케냐",
          "콩고",
          "토고",
          "코스타리카",
          "카자흐스탄",
          "칠레",
          "모리셔스"
         ],
         "textposition": "bottom right",
         "type": "scatter",
         "x": [
          2156.855561273,
          25484.3329433816,
          48471.7316884569,
          9653.7696279967,
          19030.5430407403,
          41290.946174167,
          20005.9817657725,
          8892.510612221,
          16020.4175231012,
          54295.9591190112,
          17650.8470196271,
          853.3336768113,
          46317.6378770984,
          6652.1953722346,
          3811.0578369906,
          53353.8354649882,
          26514,
          11287.4382982507,
          6227.604044114,
          65716.503439958,
          61898.7671281867,
          1356.1156705571,
          4299.19397994,
          29889.2968328834,
          9979.2317580243,
          2475.2002283395,
          42500.3987860691,
          5926.8045108967,
          22023.2919162716,
          83450.8706276967,
          3826.2779371399,
          1221.4778745926,
          61392.0985712455,
          7752.2313552358,
          2081.2827818958,
          41490.8199704261,
          23186.9005176436,
          11086.0908193658,
          45937.0833126912,
          6005.0451623223,
          9792.4757032162,
          8486.010823712,
          12737.5428783551,
          2154.2380394673,
          5216.2995137894,
          3831.6872189388,
          47388.6353293016,
          14941.1573732776,
          2511.5956960978,
          4011.848820312,
          9571.6766898496,
          7520.1891751631,
          51765.7913958652,
          63224.6131564475,
          1501.3340129622,
          42035.7034410279,
          49794.1882131601,
          1782.6450362053,
          33334.0102881571,
          2378.4535851805,
          756.0785791655,
          58184.9120430579,
          1371.1115608541,
          78105.3404888218,
          2910.2101088319,
          1779.931083438,
          1791.5653220757,
          678.1031840129,
          11527.516121726,
          8509.9670591489,
          14297.8190108265,
          12318.4380572234
         ],
         "xaxis": "x",
         "y": [
          1350104.5,
          1263928.5,
          1073385,
          1040414,
          853450,
          652078.4516129033,
          586656,
          512670.2142857143,
          500931.5,
          467750.5,
          467615,
          466133,
          430425.54545454547,
          416513.5,
          407045.66666666674,
          395437.1428571429,
          384516.48684210534,
          374220.6285714286,
          353467.2857142857,
          341946.18279569893,
          328070.25,
          321149.72,
          313917,
          312721.3125,
          307902.6380697051,
          299249.5,
          293775.1746031746,
          280665,
          263403.22222222225,
          257625,
          257317.25,
          243560,
          236444.75,
          228431.25,
          202505.66666666663,
          199766.75867269986,
          199114,
          185558.25,
          184753.5625,
          179192,
          174122,
          173562.45454545456,
          164316,
          157423,
          153892,
          151442.30434782608,
          150107.04918032786,
          147758.57142857142,
          146414.3606557377,
          139786.04761904766,
          135065.2,
          126081.16666666669,
          123017,
          116496.8,
          116326,
          108972.5,
          99025,
          97530,
          96577.44615384618,
          90154,
          88289,
          67481.16666666669,
          62249.5,
          60237.33333333334,
          44296.5,
          32037,
          25037,
          24882,
          24031,
          12985,
          7684,
          2396
         ],
         "yaxis": "y"
        }
       ],
       "layout": {
        "coloraxis": {
         "colorbar": {
          "title": {
           "text": "video_num"
          }
         },
         "colorscale": [
          [
           0,
           "#0d0887"
          ],
          [
           0.1111111111111111,
           "#46039f"
          ],
          [
           0.2222222222222222,
           "#7201a8"
          ],
          [
           0.3333333333333333,
           "#9c179e"
          ],
          [
           0.4444444444444444,
           "#bd3786"
          ],
          [
           0.5555555555555556,
           "#d8576b"
          ],
          [
           0.6666666666666666,
           "#ed7953"
          ],
          [
           0.7777777777777778,
           "#fb9f3a"
          ],
          [
           0.8888888888888888,
           "#fdca26"
          ],
          [
           1,
           "#f0f921"
          ]
         ]
        },
        "legend": {
         "tracegroupgap": 0
        },
        "margin": {
         "t": 60
        },
        "template": {
         "data": {
          "bar": [
           {
            "error_x": {
             "color": "#2a3f5f"
            },
            "error_y": {
             "color": "#2a3f5f"
            },
            "marker": {
             "line": {
              "color": "#E5ECF6",
              "width": 0.5
             }
            },
            "type": "bar"
           }
          ],
          "barpolar": [
           {
            "marker": {
             "line": {
              "color": "#E5ECF6",
              "width": 0.5
             }
            },
            "type": "barpolar"
           }
          ],
          "carpet": [
           {
            "aaxis": {
             "endlinecolor": "#2a3f5f",
             "gridcolor": "white",
             "linecolor": "white",
             "minorgridcolor": "white",
             "startlinecolor": "#2a3f5f"
            },
            "baxis": {
             "endlinecolor": "#2a3f5f",
             "gridcolor": "white",
             "linecolor": "white",
             "minorgridcolor": "white",
             "startlinecolor": "#2a3f5f"
            },
            "type": "carpet"
           }
          ],
          "choropleth": [
           {
            "colorbar": {
             "outlinewidth": 0,
             "ticks": ""
            },
            "type": "choropleth"
           }
          ],
          "contour": [
           {
            "colorbar": {
             "outlinewidth": 0,
             "ticks": ""
            },
            "colorscale": [
             [
              0,
              "#0d0887"
             ],
             [
              0.1111111111111111,
              "#46039f"
             ],
             [
              0.2222222222222222,
              "#7201a8"
             ],
             [
              0.3333333333333333,
              "#9c179e"
             ],
             [
              0.4444444444444444,
              "#bd3786"
             ],
             [
              0.5555555555555556,
              "#d8576b"
             ],
             [
              0.6666666666666666,
              "#ed7953"
             ],
             [
              0.7777777777777778,
              "#fb9f3a"
             ],
             [
              0.8888888888888888,
              "#fdca26"
             ],
             [
              1,
              "#f0f921"
             ]
            ],
            "type": "contour"
           }
          ],
          "contourcarpet": [
           {
            "colorbar": {
             "outlinewidth": 0,
             "ticks": ""
            },
            "type": "contourcarpet"
           }
          ],
          "heatmap": [
           {
            "colorbar": {
             "outlinewidth": 0,
             "ticks": ""
            },
            "colorscale": [
             [
              0,
              "#0d0887"
             ],
             [
              0.1111111111111111,
              "#46039f"
             ],
             [
              0.2222222222222222,
              "#7201a8"
             ],
             [
              0.3333333333333333,
              "#9c179e"
             ],
             [
              0.4444444444444444,
              "#bd3786"
             ],
             [
              0.5555555555555556,
              "#d8576b"
             ],
             [
              0.6666666666666666,
              "#ed7953"
             ],
             [
              0.7777777777777778,
              "#fb9f3a"
             ],
             [
              0.8888888888888888,
              "#fdca26"
             ],
             [
              1,
              "#f0f921"
             ]
            ],
            "type": "heatmap"
           }
          ],
          "heatmapgl": [
           {
            "colorbar": {
             "outlinewidth": 0,
             "ticks": ""
            },
            "colorscale": [
             [
              0,
              "#0d0887"
             ],
             [
              0.1111111111111111,
              "#46039f"
             ],
             [
              0.2222222222222222,
              "#7201a8"
             ],
             [
              0.3333333333333333,
              "#9c179e"
             ],
             [
              0.4444444444444444,
              "#bd3786"
             ],
             [
              0.5555555555555556,
              "#d8576b"
             ],
             [
              0.6666666666666666,
              "#ed7953"
             ],
             [
              0.7777777777777778,
              "#fb9f3a"
             ],
             [
              0.8888888888888888,
              "#fdca26"
             ],
             [
              1,
              "#f0f921"
             ]
            ],
            "type": "heatmapgl"
           }
          ],
          "histogram": [
           {
            "marker": {
             "colorbar": {
              "outlinewidth": 0,
              "ticks": ""
             }
            },
            "type": "histogram"
           }
          ],
          "histogram2d": [
           {
            "colorbar": {
             "outlinewidth": 0,
             "ticks": ""
            },
            "colorscale": [
             [
              0,
              "#0d0887"
             ],
             [
              0.1111111111111111,
              "#46039f"
             ],
             [
              0.2222222222222222,
              "#7201a8"
             ],
             [
              0.3333333333333333,
              "#9c179e"
             ],
             [
              0.4444444444444444,
              "#bd3786"
             ],
             [
              0.5555555555555556,
              "#d8576b"
             ],
             [
              0.6666666666666666,
              "#ed7953"
             ],
             [
              0.7777777777777778,
              "#fb9f3a"
             ],
             [
              0.8888888888888888,
              "#fdca26"
             ],
             [
              1,
              "#f0f921"
             ]
            ],
            "type": "histogram2d"
           }
          ],
          "histogram2dcontour": [
           {
            "colorbar": {
             "outlinewidth": 0,
             "ticks": ""
            },
            "colorscale": [
             [
              0,
              "#0d0887"
             ],
             [
              0.1111111111111111,
              "#46039f"
             ],
             [
              0.2222222222222222,
              "#7201a8"
             ],
             [
              0.3333333333333333,
              "#9c179e"
             ],
             [
              0.4444444444444444,
              "#bd3786"
             ],
             [
              0.5555555555555556,
              "#d8576b"
             ],
             [
              0.6666666666666666,
              "#ed7953"
             ],
             [
              0.7777777777777778,
              "#fb9f3a"
             ],
             [
              0.8888888888888888,
              "#fdca26"
             ],
             [
              1,
              "#f0f921"
             ]
            ],
            "type": "histogram2dcontour"
           }
          ],
          "mesh3d": [
           {
            "colorbar": {
             "outlinewidth": 0,
             "ticks": ""
            },
            "type": "mesh3d"
           }
          ],
          "parcoords": [
           {
            "line": {
             "colorbar": {
              "outlinewidth": 0,
              "ticks": ""
             }
            },
            "type": "parcoords"
           }
          ],
          "pie": [
           {
            "automargin": true,
            "type": "pie"
           }
          ],
          "scatter": [
           {
            "marker": {
             "colorbar": {
              "outlinewidth": 0,
              "ticks": ""
             }
            },
            "type": "scatter"
           }
          ],
          "scatter3d": [
           {
            "line": {
             "colorbar": {
              "outlinewidth": 0,
              "ticks": ""
             }
            },
            "marker": {
             "colorbar": {
              "outlinewidth": 0,
              "ticks": ""
             }
            },
            "type": "scatter3d"
           }
          ],
          "scattercarpet": [
           {
            "marker": {
             "colorbar": {
              "outlinewidth": 0,
              "ticks": ""
             }
            },
            "type": "scattercarpet"
           }
          ],
          "scattergeo": [
           {
            "marker": {
             "colorbar": {
              "outlinewidth": 0,
              "ticks": ""
             }
            },
            "type": "scattergeo"
           }
          ],
          "scattergl": [
           {
            "marker": {
             "colorbar": {
              "outlinewidth": 0,
              "ticks": ""
             }
            },
            "type": "scattergl"
           }
          ],
          "scattermapbox": [
           {
            "marker": {
             "colorbar": {
              "outlinewidth": 0,
              "ticks": ""
             }
            },
            "type": "scattermapbox"
           }
          ],
          "scatterpolar": [
           {
            "marker": {
             "colorbar": {
              "outlinewidth": 0,
              "ticks": ""
             }
            },
            "type": "scatterpolar"
           }
          ],
          "scatterpolargl": [
           {
            "marker": {
             "colorbar": {
              "outlinewidth": 0,
              "ticks": ""
             }
            },
            "type": "scatterpolargl"
           }
          ],
          "scatterternary": [
           {
            "marker": {
             "colorbar": {
              "outlinewidth": 0,
              "ticks": ""
             }
            },
            "type": "scatterternary"
           }
          ],
          "surface": [
           {
            "colorbar": {
             "outlinewidth": 0,
             "ticks": ""
            },
            "colorscale": [
             [
              0,
              "#0d0887"
             ],
             [
              0.1111111111111111,
              "#46039f"
             ],
             [
              0.2222222222222222,
              "#7201a8"
             ],
             [
              0.3333333333333333,
              "#9c179e"
             ],
             [
              0.4444444444444444,
              "#bd3786"
             ],
             [
              0.5555555555555556,
              "#d8576b"
             ],
             [
              0.6666666666666666,
              "#ed7953"
             ],
             [
              0.7777777777777778,
              "#fb9f3a"
             ],
             [
              0.8888888888888888,
              "#fdca26"
             ],
             [
              1,
              "#f0f921"
             ]
            ],
            "type": "surface"
           }
          ],
          "table": [
           {
            "cells": {
             "fill": {
              "color": "#EBF0F8"
             },
             "line": {
              "color": "white"
             }
            },
            "header": {
             "fill": {
              "color": "#C8D4E3"
             },
             "line": {
              "color": "white"
             }
            },
            "type": "table"
           }
          ]
         },
         "layout": {
          "annotationdefaults": {
           "arrowcolor": "#2a3f5f",
           "arrowhead": 0,
           "arrowwidth": 1
          },
          "coloraxis": {
           "colorbar": {
            "outlinewidth": 0,
            "ticks": ""
           }
          },
          "colorscale": {
           "diverging": [
            [
             0,
             "#8e0152"
            ],
            [
             0.1,
             "#c51b7d"
            ],
            [
             0.2,
             "#de77ae"
            ],
            [
             0.3,
             "#f1b6da"
            ],
            [
             0.4,
             "#fde0ef"
            ],
            [
             0.5,
             "#f7f7f7"
            ],
            [
             0.6,
             "#e6f5d0"
            ],
            [
             0.7,
             "#b8e186"
            ],
            [
             0.8,
             "#7fbc41"
            ],
            [
             0.9,
             "#4d9221"
            ],
            [
             1,
             "#276419"
            ]
           ],
           "sequential": [
            [
             0,
             "#0d0887"
            ],
            [
             0.1111111111111111,
             "#46039f"
            ],
            [
             0.2222222222222222,
             "#7201a8"
            ],
            [
             0.3333333333333333,
             "#9c179e"
            ],
            [
             0.4444444444444444,
             "#bd3786"
            ],
            [
             0.5555555555555556,
             "#d8576b"
            ],
            [
             0.6666666666666666,
             "#ed7953"
            ],
            [
             0.7777777777777778,
             "#fb9f3a"
            ],
            [
             0.8888888888888888,
             "#fdca26"
            ],
            [
             1,
             "#f0f921"
            ]
           ],
           "sequentialminus": [
            [
             0,
             "#0d0887"
            ],
            [
             0.1111111111111111,
             "#46039f"
            ],
            [
             0.2222222222222222,
             "#7201a8"
            ],
            [
             0.3333333333333333,
             "#9c179e"
            ],
            [
             0.4444444444444444,
             "#bd3786"
            ],
            [
             0.5555555555555556,
             "#d8576b"
            ],
            [
             0.6666666666666666,
             "#ed7953"
            ],
            [
             0.7777777777777778,
             "#fb9f3a"
            ],
            [
             0.8888888888888888,
             "#fdca26"
            ],
            [
             1,
             "#f0f921"
            ]
           ]
          },
          "colorway": [
           "#636efa",
           "#EF553B",
           "#00cc96",
           "#ab63fa",
           "#FFA15A",
           "#19d3f3",
           "#FF6692",
           "#B6E880",
           "#FF97FF",
           "#FECB52"
          ],
          "font": {
           "color": "#2a3f5f"
          },
          "geo": {
           "bgcolor": "white",
           "lakecolor": "white",
           "landcolor": "#E5ECF6",
           "showlakes": true,
           "showland": true,
           "subunitcolor": "white"
          },
          "hoverlabel": {
           "align": "left"
          },
          "hovermode": "closest",
          "mapbox": {
           "style": "light"
          },
          "paper_bgcolor": "white",
          "plot_bgcolor": "#E5ECF6",
          "polar": {
           "angularaxis": {
            "gridcolor": "white",
            "linecolor": "white",
            "ticks": ""
           },
           "bgcolor": "#E5ECF6",
           "radialaxis": {
            "gridcolor": "white",
            "linecolor": "white",
            "ticks": ""
           }
          },
          "scene": {
           "xaxis": {
            "backgroundcolor": "#E5ECF6",
            "gridcolor": "white",
            "gridwidth": 2,
            "linecolor": "white",
            "showbackground": true,
            "ticks": "",
            "zerolinecolor": "white"
           },
           "yaxis": {
            "backgroundcolor": "#E5ECF6",
            "gridcolor": "white",
            "gridwidth": 2,
            "linecolor": "white",
            "showbackground": true,
            "ticks": "",
            "zerolinecolor": "white"
           },
           "zaxis": {
            "backgroundcolor": "#E5ECF6",
            "gridcolor": "white",
            "gridwidth": 2,
            "linecolor": "white",
            "showbackground": true,
            "ticks": "",
            "zerolinecolor": "white"
           }
          },
          "shapedefaults": {
           "line": {
            "color": "#2a3f5f"
           }
          },
          "ternary": {
           "aaxis": {
            "gridcolor": "white",
            "linecolor": "white",
            "ticks": ""
           },
           "baxis": {
            "gridcolor": "white",
            "linecolor": "white",
            "ticks": ""
           },
           "bgcolor": "#E5ECF6",
           "caxis": {
            "gridcolor": "white",
            "linecolor": "white",
            "ticks": ""
           }
          },
          "title": {
           "x": 0.05
          },
          "xaxis": {
           "automargin": true,
           "gridcolor": "white",
           "linecolor": "white",
           "ticks": "",
           "title": {
            "standoff": 15
           },
           "zerolinecolor": "white",
           "zerolinewidth": 2
          },
          "yaxis": {
           "automargin": true,
           "gridcolor": "white",
           "linecolor": "white",
           "ticks": "",
           "title": {
            "standoff": 15
           },
           "zerolinecolor": "white",
           "zerolinewidth": 2
          }
         }
        },
        "xaxis": {
         "anchor": "y",
         "domain": [
          0,
          1
         ],
         "title": {
          "text": "gni($)"
         }
        },
        "yaxis": {
         "anchor": "x",
         "domain": [
          0,
          1
         ],
         "title": {
          "text": "viewCount"
         }
        }
       }
      },
      "text/html": [
       "<div>                            <div id=\"c2fb1a27-c18f-4220-9ed5-bfd1a9853e67\" class=\"plotly-graph-div\" style=\"height:525px; width:100%;\"></div>            <script type=\"text/javascript\">                require([\"plotly\"], function(Plotly) {                    window.PLOTLYENV=window.PLOTLYENV || {};                                    if (document.getElementById(\"c2fb1a27-c18f-4220-9ed5-bfd1a9853e67\")) {                    Plotly.newPlot(                        \"c2fb1a27-c18f-4220-9ed5-bfd1a9853e67\",                        [{\"hovertemplate\": \"gni($)=%{x}<br>viewCount=%{y}<br>country=%{text}<br>video_num=%{marker.color}<extra></extra>\", \"legendgroup\": \"\", \"marker\": {\"color\": [2, 2, 4, 4, 1, 124, 1, 14, 2, 2, 1, 2, 11, 4, 6, 7, 76, 70, 7, 560, 4, 25, 1, 16, 374, 2, 63, 1, 27, 5, 4, 1, 4, 4, 45, 1327, 3, 4, 16, 2, 1, 11, 1, 4, 2, 23, 61, 7, 61, 21, 15, 18, 5, 15, 1, 2, 3, 3, 65, 2, 1, 6, 2, 3, 2, 1, 1, 1, 1, 1, 1, 1], \"coloraxis\": \"coloraxis\", \"symbol\": \"circle\"}, \"mode\": \"markers+text\", \"name\": \"\", \"orientation\": \"v\", \"showlegend\": false, \"text\": [\"\\ub098\\uc774\\uc9c0\\ub9ac\\uc544\", \"\\uc2ac\\ub85c\\ubca0\\ub2c8\\uc544\", \"\\ud540\\ub780\\ub4dc\", \"\\uc544\\ub974\\ud5e8\\ud2f0\\ub098\", \"\\ub9ac\\ud22c\\uc544\\ub2c8\\uc544\", \"\\uc601\\uad6d\", \"\\uadf8\\ub9ac\\uc2a4\", \"\\ud130\\ud0a4\", \"\\ud5dd\\uac00\\ub9ac\", \"\\uc2a4\\uc6e8\\ub374\", \"\\ub77c\\ud2b8\\ube44\\uc544\", \"\\uc5d0\\ud2f0\\uc624\\ud53c\\uc544\", \"\\uc774\\uc2a4\\ub77c\\uc5d8\", \"\\ud398\\ub8e8\", \"\\ubabd\\uace8\", \"\\ub124\\ub35c\\ub780\\ub4dc\", \"\\ub300\\ub9cc\", \"\\ub7ec\\uc2dc\\uc544\", \"\\ucf5c\\ub86c\\ube44\\uc544\", \"\\ubbf8\\uad6d\", \"\\ub374\\ub9c8\\ud06c\", \"\\ubbf8\\uc580\\ub9c8\", \"\\uc694\\ub974\\ub2e8\", \"\\uc2a4\\ud398\\uc778\", \"\\uc911\\uad6d\", \"\\ub77c\\uc624\\uc2a4\", \"\\ud504\\ub791\\uc2a4\", \"\\uc774\\ub77c\\ud06c\", \"\\uccb4\\ucf54\", \"\\uc2a4\\uc704\\uc2a4\", \"\\uc2a4\\ub9ac\\ub791\\uce74\", \"\\ud0a4\\ub974\\uae30\\uc2a4\\uc2a4\\ud0c4\", \"\\uc544\\uc77c\\ub79c\\ub4dc\", \"\\ub808\\ubc14\\ub17c\", \"\\uc778\\ub3c4\", \"\\uc77c\\ubcf8\", \"\\uc5d0\\uc2a4\\ud1a0\\ub2c8\\uc544\", \"\\ub9d0\\ub808\\uc774\\uc2dc\\uc544\", \"\\uce90\\ub098\\ub2e4\", \"\\uc5d0\\ucf70\\ub3c4\\ub974\", \"\\ubab0\\ub514\\ube0c\", \"\\ube0c\\ub77c\\uc9c8\", \"\\ub8e8\\ub9c8\\ub2c8\\uc544\", \"\\uac00\\ub098\", \"\\ud30c\\ub77c\\uacfc\\uc774\", \"\\ud544\\ub9ac\\ud540\", \"\\ub3c5\\uc77c\", \"\\ud3f4\\ub780\\ub4dc\", \"\\ubca0\\ud2b8\\ub0a8\", \"\\uc778\\ub3c4\\ub124\\uc2dc\\uc544\", \"\\uba55\\uc2dc\\ucf54\", \"\\ud0dc\\uad6d\", \"\\ud64d\\ucf69\", \"\\uce74\\ud0c0\\ub974\", \"\\uce84\\ubcf4\\ub514\\uc544\", \"\\ub274\\uc9c8\\ub79c\\ub4dc\", \"\\uc624\\uc2a4\\ud2b8\\ub9ac\\uc544\", \"\\uc6b0\\uc988\\ubca0\\ud0a4\\uc2a4\\ud0c4\", \"\\uc774\\ud0c8\\ub9ac\\uc544\", \"\\uc628\\ub450\\ub77c\\uc2a4\", \"\\uc6b0\\uac04\\ub2e4\", \"\\uc2f1\\uac00\\ud3ec\\ub974\", \"\\ud30c\\ud0a4\\uc2a4\\ud0c4\", \"\\ub178\\ub974\\uc6e8\\uc774\", \"\\uc774\\uc9d1\\ud2b8\", \"\\ucf00\\ub0d0\", \"\\ucf69\\uace0\", \"\\ud1a0\\uace0\", \"\\ucf54\\uc2a4\\ud0c0\\ub9ac\\uce74\", \"\\uce74\\uc790\\ud750\\uc2a4\\ud0c4\", \"\\uce60\\ub808\", \"\\ubaa8\\ub9ac\\uc154\\uc2a4\"], \"textposition\": \"bottom right\", \"type\": \"scatter\", \"x\": [2156.855561273, 25484.3329433816, 48471.7316884569, 9653.7696279967, 19030.5430407403, 41290.946174167, 20005.9817657725, 8892.510612221, 16020.4175231012, 54295.9591190112, 17650.8470196271, 853.3336768113, 46317.6378770984, 6652.1953722346, 3811.0578369906, 53353.8354649882, 26514.0, 11287.4382982507, 6227.604044114, 65716.503439958, 61898.7671281867, 1356.1156705571, 4299.19397994, 29889.2968328834, 9979.2317580243, 2475.2002283395, 42500.3987860691, 5926.8045108967, 22023.2919162716, 83450.8706276967, 3826.2779371399, 1221.4778745926, 61392.0985712455, 7752.2313552358, 2081.2827818958, 41490.8199704261, 23186.9005176436, 11086.0908193658, 45937.0833126912, 6005.0451623223, 9792.4757032162, 8486.010823712, 12737.5428783551, 2154.2380394673, 5216.2995137894, 3831.6872189388, 47388.6353293016, 14941.1573732776, 2511.5956960978, 4011.848820312, 9571.6766898496, 7520.1891751631, 51765.7913958652, 63224.6131564475, 1501.3340129622, 42035.7034410279, 49794.1882131601, 1782.6450362053, 33334.0102881571, 2378.4535851805, 756.0785791655, 58184.9120430579, 1371.1115608541, 78105.3404888218, 2910.2101088319, 1779.931083438, 1791.5653220757, 678.1031840129, 11527.516121726, 8509.9670591489, 14297.8190108265, 12318.4380572234], \"xaxis\": \"x\", \"y\": [1350104.5, 1263928.5, 1073385.0, 1040414.0, 853450.0, 652078.4516129033, 586656.0, 512670.2142857143, 500931.5, 467750.5, 467615.0, 466133.0, 430425.54545454547, 416513.5, 407045.66666666674, 395437.1428571429, 384516.48684210534, 374220.6285714286, 353467.2857142857, 341946.18279569893, 328070.25, 321149.72, 313917.0, 312721.3125, 307902.6380697051, 299249.5, 293775.1746031746, 280665.0, 263403.22222222225, 257625.0, 257317.25, 243560.0, 236444.75, 228431.25, 202505.66666666663, 199766.75867269986, 199114.0, 185558.25, 184753.5625, 179192.0, 174122.0, 173562.45454545456, 164316.0, 157423.0, 153892.0, 151442.30434782608, 150107.04918032786, 147758.57142857142, 146414.3606557377, 139786.04761904766, 135065.2, 126081.16666666669, 123017.0, 116496.8, 116326.0, 108972.5, 99025.0, 97530.0, 96577.44615384618, 90154.0, 88289.0, 67481.16666666669, 62249.5, 60237.33333333334, 44296.5, 32037.0, 25037.0, 24882.0, 24031.0, 12985.0, 7684.0, 2396.0], \"yaxis\": \"y\"}],                        {\"coloraxis\": {\"colorbar\": {\"title\": {\"text\": \"video_num\"}}, \"colorscale\": [[0.0, \"#0d0887\"], [0.1111111111111111, \"#46039f\"], [0.2222222222222222, \"#7201a8\"], [0.3333333333333333, \"#9c179e\"], [0.4444444444444444, \"#bd3786\"], [0.5555555555555556, \"#d8576b\"], [0.6666666666666666, \"#ed7953\"], [0.7777777777777778, \"#fb9f3a\"], [0.8888888888888888, \"#fdca26\"], [1.0, \"#f0f921\"]]}, \"legend\": {\"tracegroupgap\": 0}, \"margin\": {\"t\": 60}, \"template\": {\"data\": {\"bar\": [{\"error_x\": {\"color\": \"#2a3f5f\"}, \"error_y\": {\"color\": \"#2a3f5f\"}, \"marker\": {\"line\": {\"color\": \"#E5ECF6\", \"width\": 0.5}}, \"type\": \"bar\"}], \"barpolar\": [{\"marker\": {\"line\": {\"color\": \"#E5ECF6\", \"width\": 0.5}}, \"type\": \"barpolar\"}], \"carpet\": [{\"aaxis\": {\"endlinecolor\": \"#2a3f5f\", \"gridcolor\": \"white\", \"linecolor\": \"white\", \"minorgridcolor\": \"white\", \"startlinecolor\": \"#2a3f5f\"}, \"baxis\": {\"endlinecolor\": \"#2a3f5f\", \"gridcolor\": \"white\", \"linecolor\": \"white\", \"minorgridcolor\": \"white\", \"startlinecolor\": \"#2a3f5f\"}, \"type\": \"carpet\"}], \"choropleth\": [{\"colorbar\": {\"outlinewidth\": 0, \"ticks\": \"\"}, \"type\": \"choropleth\"}], \"contour\": [{\"colorbar\": {\"outlinewidth\": 0, \"ticks\": \"\"}, \"colorscale\": [[0.0, \"#0d0887\"], [0.1111111111111111, \"#46039f\"], [0.2222222222222222, \"#7201a8\"], [0.3333333333333333, \"#9c179e\"], [0.4444444444444444, \"#bd3786\"], [0.5555555555555556, \"#d8576b\"], [0.6666666666666666, \"#ed7953\"], [0.7777777777777778, \"#fb9f3a\"], [0.8888888888888888, \"#fdca26\"], [1.0, \"#f0f921\"]], \"type\": \"contour\"}], \"contourcarpet\": [{\"colorbar\": {\"outlinewidth\": 0, \"ticks\": \"\"}, \"type\": \"contourcarpet\"}], \"heatmap\": [{\"colorbar\": {\"outlinewidth\": 0, \"ticks\": \"\"}, \"colorscale\": [[0.0, \"#0d0887\"], [0.1111111111111111, \"#46039f\"], [0.2222222222222222, \"#7201a8\"], [0.3333333333333333, \"#9c179e\"], [0.4444444444444444, \"#bd3786\"], [0.5555555555555556, \"#d8576b\"], [0.6666666666666666, \"#ed7953\"], [0.7777777777777778, \"#fb9f3a\"], [0.8888888888888888, \"#fdca26\"], [1.0, \"#f0f921\"]], \"type\": \"heatmap\"}], \"heatmapgl\": [{\"colorbar\": {\"outlinewidth\": 0, \"ticks\": \"\"}, \"colorscale\": [[0.0, \"#0d0887\"], [0.1111111111111111, \"#46039f\"], [0.2222222222222222, \"#7201a8\"], [0.3333333333333333, \"#9c179e\"], [0.4444444444444444, \"#bd3786\"], [0.5555555555555556, \"#d8576b\"], [0.6666666666666666, \"#ed7953\"], [0.7777777777777778, \"#fb9f3a\"], [0.8888888888888888, \"#fdca26\"], [1.0, \"#f0f921\"]], \"type\": \"heatmapgl\"}], \"histogram\": [{\"marker\": {\"colorbar\": {\"outlinewidth\": 0, \"ticks\": \"\"}}, \"type\": \"histogram\"}], \"histogram2d\": [{\"colorbar\": {\"outlinewidth\": 0, \"ticks\": \"\"}, \"colorscale\": [[0.0, \"#0d0887\"], [0.1111111111111111, \"#46039f\"], [0.2222222222222222, \"#7201a8\"], [0.3333333333333333, \"#9c179e\"], [0.4444444444444444, \"#bd3786\"], [0.5555555555555556, \"#d8576b\"], [0.6666666666666666, \"#ed7953\"], [0.7777777777777778, \"#fb9f3a\"], [0.8888888888888888, \"#fdca26\"], [1.0, \"#f0f921\"]], \"type\": \"histogram2d\"}], \"histogram2dcontour\": [{\"colorbar\": {\"outlinewidth\": 0, \"ticks\": \"\"}, \"colorscale\": [[0.0, \"#0d0887\"], [0.1111111111111111, \"#46039f\"], [0.2222222222222222, \"#7201a8\"], [0.3333333333333333, \"#9c179e\"], [0.4444444444444444, \"#bd3786\"], [0.5555555555555556, \"#d8576b\"], [0.6666666666666666, \"#ed7953\"], [0.7777777777777778, \"#fb9f3a\"], [0.8888888888888888, \"#fdca26\"], [1.0, \"#f0f921\"]], \"type\": \"histogram2dcontour\"}], \"mesh3d\": [{\"colorbar\": {\"outlinewidth\": 0, \"ticks\": \"\"}, \"type\": \"mesh3d\"}], \"parcoords\": [{\"line\": {\"colorbar\": {\"outlinewidth\": 0, \"ticks\": \"\"}}, \"type\": \"parcoords\"}], \"pie\": [{\"automargin\": true, \"type\": \"pie\"}], \"scatter\": [{\"marker\": {\"colorbar\": {\"outlinewidth\": 0, \"ticks\": \"\"}}, \"type\": \"scatter\"}], \"scatter3d\": [{\"line\": {\"colorbar\": {\"outlinewidth\": 0, \"ticks\": \"\"}}, \"marker\": {\"colorbar\": {\"outlinewidth\": 0, \"ticks\": \"\"}}, \"type\": \"scatter3d\"}], \"scattercarpet\": [{\"marker\": {\"colorbar\": {\"outlinewidth\": 0, \"ticks\": \"\"}}, \"type\": \"scattercarpet\"}], \"scattergeo\": [{\"marker\": {\"colorbar\": {\"outlinewidth\": 0, \"ticks\": \"\"}}, \"type\": \"scattergeo\"}], \"scattergl\": [{\"marker\": {\"colorbar\": {\"outlinewidth\": 0, \"ticks\": \"\"}}, \"type\": \"scattergl\"}], \"scattermapbox\": [{\"marker\": {\"colorbar\": {\"outlinewidth\": 0, \"ticks\": \"\"}}, \"type\": \"scattermapbox\"}], \"scatterpolar\": [{\"marker\": {\"colorbar\": {\"outlinewidth\": 0, \"ticks\": \"\"}}, \"type\": \"scatterpolar\"}], \"scatterpolargl\": [{\"marker\": {\"colorbar\": {\"outlinewidth\": 0, \"ticks\": \"\"}}, \"type\": \"scatterpolargl\"}], \"scatterternary\": [{\"marker\": {\"colorbar\": {\"outlinewidth\": 0, \"ticks\": \"\"}}, \"type\": \"scatterternary\"}], \"surface\": [{\"colorbar\": {\"outlinewidth\": 0, \"ticks\": \"\"}, \"colorscale\": [[0.0, \"#0d0887\"], [0.1111111111111111, \"#46039f\"], [0.2222222222222222, \"#7201a8\"], [0.3333333333333333, \"#9c179e\"], [0.4444444444444444, \"#bd3786\"], [0.5555555555555556, \"#d8576b\"], [0.6666666666666666, \"#ed7953\"], [0.7777777777777778, \"#fb9f3a\"], [0.8888888888888888, \"#fdca26\"], [1.0, \"#f0f921\"]], \"type\": \"surface\"}], \"table\": [{\"cells\": {\"fill\": {\"color\": \"#EBF0F8\"}, \"line\": {\"color\": \"white\"}}, \"header\": {\"fill\": {\"color\": \"#C8D4E3\"}, \"line\": {\"color\": \"white\"}}, \"type\": \"table\"}]}, \"layout\": {\"annotationdefaults\": {\"arrowcolor\": \"#2a3f5f\", \"arrowhead\": 0, \"arrowwidth\": 1}, \"coloraxis\": {\"colorbar\": {\"outlinewidth\": 0, \"ticks\": \"\"}}, \"colorscale\": {\"diverging\": [[0, \"#8e0152\"], [0.1, \"#c51b7d\"], [0.2, \"#de77ae\"], [0.3, \"#f1b6da\"], [0.4, \"#fde0ef\"], [0.5, \"#f7f7f7\"], [0.6, \"#e6f5d0\"], [0.7, \"#b8e186\"], [0.8, \"#7fbc41\"], [0.9, \"#4d9221\"], [1, \"#276419\"]], \"sequential\": [[0.0, \"#0d0887\"], [0.1111111111111111, \"#46039f\"], [0.2222222222222222, \"#7201a8\"], [0.3333333333333333, \"#9c179e\"], [0.4444444444444444, \"#bd3786\"], [0.5555555555555556, \"#d8576b\"], [0.6666666666666666, \"#ed7953\"], [0.7777777777777778, \"#fb9f3a\"], [0.8888888888888888, \"#fdca26\"], [1.0, \"#f0f921\"]], \"sequentialminus\": [[0.0, \"#0d0887\"], [0.1111111111111111, \"#46039f\"], [0.2222222222222222, \"#7201a8\"], [0.3333333333333333, \"#9c179e\"], [0.4444444444444444, \"#bd3786\"], [0.5555555555555556, \"#d8576b\"], [0.6666666666666666, \"#ed7953\"], [0.7777777777777778, \"#fb9f3a\"], [0.8888888888888888, \"#fdca26\"], [1.0, \"#f0f921\"]]}, \"colorway\": [\"#636efa\", \"#EF553B\", \"#00cc96\", \"#ab63fa\", \"#FFA15A\", \"#19d3f3\", \"#FF6692\", \"#B6E880\", \"#FF97FF\", \"#FECB52\"], \"font\": {\"color\": \"#2a3f5f\"}, \"geo\": {\"bgcolor\": \"white\", \"lakecolor\": \"white\", \"landcolor\": \"#E5ECF6\", \"showlakes\": true, \"showland\": true, \"subunitcolor\": \"white\"}, \"hoverlabel\": {\"align\": \"left\"}, \"hovermode\": \"closest\", \"mapbox\": {\"style\": \"light\"}, \"paper_bgcolor\": \"white\", \"plot_bgcolor\": \"#E5ECF6\", \"polar\": {\"angularaxis\": {\"gridcolor\": \"white\", \"linecolor\": \"white\", \"ticks\": \"\"}, \"bgcolor\": \"#E5ECF6\", \"radialaxis\": {\"gridcolor\": \"white\", \"linecolor\": \"white\", \"ticks\": \"\"}}, \"scene\": {\"xaxis\": {\"backgroundcolor\": \"#E5ECF6\", \"gridcolor\": \"white\", \"gridwidth\": 2, \"linecolor\": \"white\", \"showbackground\": true, \"ticks\": \"\", \"zerolinecolor\": \"white\"}, \"yaxis\": {\"backgroundcolor\": \"#E5ECF6\", \"gridcolor\": \"white\", \"gridwidth\": 2, \"linecolor\": \"white\", \"showbackground\": true, \"ticks\": \"\", \"zerolinecolor\": \"white\"}, \"zaxis\": {\"backgroundcolor\": \"#E5ECF6\", \"gridcolor\": \"white\", \"gridwidth\": 2, \"linecolor\": \"white\", \"showbackground\": true, \"ticks\": \"\", \"zerolinecolor\": \"white\"}}, \"shapedefaults\": {\"line\": {\"color\": \"#2a3f5f\"}}, \"ternary\": {\"aaxis\": {\"gridcolor\": \"white\", \"linecolor\": \"white\", \"ticks\": \"\"}, \"baxis\": {\"gridcolor\": \"white\", \"linecolor\": \"white\", \"ticks\": \"\"}, \"bgcolor\": \"#E5ECF6\", \"caxis\": {\"gridcolor\": \"white\", \"linecolor\": \"white\", \"ticks\": \"\"}}, \"title\": {\"x\": 0.05}, \"xaxis\": {\"automargin\": true, \"gridcolor\": \"white\", \"linecolor\": \"white\", \"ticks\": \"\", \"title\": {\"standoff\": 15}, \"zerolinecolor\": \"white\", \"zerolinewidth\": 2}, \"yaxis\": {\"automargin\": true, \"gridcolor\": \"white\", \"linecolor\": \"white\", \"ticks\": \"\", \"title\": {\"standoff\": 15}, \"zerolinecolor\": \"white\", \"zerolinewidth\": 2}}}, \"xaxis\": {\"anchor\": \"y\", \"domain\": [0.0, 1.0], \"title\": {\"text\": \"gni($)\"}}, \"yaxis\": {\"anchor\": \"x\", \"domain\": [0.0, 1.0], \"title\": {\"text\": \"viewCount\"}}},                        {\"responsive\": true}                    ).then(function(){\n",
       "                            \n",
       "var gd = document.getElementById('c2fb1a27-c18f-4220-9ed5-bfd1a9853e67');\n",
       "var x = new MutationObserver(function (mutations, observer) {{\n",
       "        var display = window.getComputedStyle(gd).display;\n",
       "        if (!display || display === 'none') {{\n",
       "            console.log([gd, 'removed!']);\n",
       "            Plotly.purge(gd);\n",
       "            observer.disconnect();\n",
       "        }}\n",
       "}});\n",
       "\n",
       "// Listen for the removal of the full notebook cells\n",
       "var notebookContainer = gd.closest('#notebook-container');\n",
       "if (notebookContainer) {{\n",
       "    x.observe(notebookContainer, {childList: true});\n",
       "}}\n",
       "\n",
       "// Listen for the clearing of the current output cell\n",
       "var outputEl = gd.closest('.output');\n",
       "if (outputEl) {{\n",
       "    x.observe(outputEl, {childList: true});\n",
       "}}\n",
       "\n",
       "                        })                };                });            </script>        </div>"
      ]
     },
     "metadata": {},
     "output_type": "display_data"
    }
   ],
   "source": [
    "import plotly.express as px\n",
    "countires_stat = countires_stat.sort_values(by='viewCount', ascending=False)[1:].dropna()\n",
    "fig = px.scatter(countires_stat, x=\"gni($)\", y=\"viewCount\", color = \"video_num\", text=\"country\")\n",
    "fig.update_traces(textposition=\"bottom right\")\n",
    "fig.show()"
   ]
  },
  {
   "cell_type": "code",
   "execution_count": 355,
   "metadata": {
    "scrolled": true
   },
   "outputs": [
    {
     "data": {
      "application/vnd.plotly.v1+json": {
       "config": {
        "plotlyServerURL": "https://plot.ly"
       },
       "data": [
        {
         "hovertemplate": "gni($)=%{x}<br>video_num=%{y}<br>country=%{text}<extra></extra>",
         "legendgroup": "",
         "marker": {
          "color": "#636efa",
          "symbol": "circle"
         },
         "mode": "markers+text",
         "name": "",
         "orientation": "v",
         "showlegend": false,
         "text": [
          "일본",
          "대만",
          "홍콩",
          "마카오",
          "태국",
          "말레이시아",
          "필리핀",
          "인도네시아",
          "싱가포르",
          "브루나이",
          "미얀마",
          "라오스",
          "베트남",
          "티모르",
          "인도",
          "스리랑카",
          "파키스탄",
          "네팔",
          "방글라데시",
          "아프가니스탄",
          "캄보디아",
          "부탄",
          "몰디브",
          "몽골",
          "시킴",
          "중국",
          "북한",
          "마요테",
          "영령인도양섬",
          "국제연합",
          "이란",
          "사우디아라비아",
          "이스라엘",
          "요르단",
          "레바논",
          "쿠웨이트",
          "시리아",
          "터키",
          "예멘공화국",
          "예멘인민민주주의공화국",
          "카타르",
          "아랍에미리트연합",
          "오만",
          "이라크",
          "바레인",
          "키프로스",
          "팔레스타인",
          "우즈베키스탄",
          "카자흐스탄",
          "키르기스스탄",
          "투르크메니스탄",
          "타지키스탄",
          "중동 기타",
          "미국",
          "캐나다",
          "멕시코",
          "니카라과",
          "온두라스",
          "도미니카연방",
          "엘살바도르",
          "아이티",
          "트리니다드토바고",
          "과테말라",
          "자메이카",
          "바베이도스",
          "세인트빈센트 그레나딘",
          "바하마",
          "버뮤다",
          "벨리즈",
          "세인트루시아",
          "푸에르토리코",
          "쿠바",
          "앤티가바부다",
          "파나마",
          "코스타리카",
          "도미니카공화국",
          "터크스케이커스",
          "영령 버진아일랜드",
          "네덜란드령 앤틸리스",
          "케이만아일랜드",
          "앵귈라",
          "세인트키츠네비스",
          "아루바",
          "미령아모르",
          "상피에르 미클롱",
          "브라질",
          "콜롬비아",
          "아르헨티나",
          "우루과이",
          "파라과이",
          "칠레",
          "베네수엘라",
          "볼리비아",
          "가이아나",
          "페루",
          "에콰도르",
          "수리남",
          "불령 가이아나",
          "그레나다",
          "몬서래트",
          "팔랜드군도",
          "과들루프",
          "이스터제도",
          "포클랜드",
          "미령 버진아일랜드",
          "마르티니크",
          "세인트크리스토퍼 네비스",
          "부베트",
          "남조지아 남샌드위치 군도",
          "미국 인근섬",
          "영국",
          "독일",
          "동독",
          "프랑스",
          "네덜란드",
          "스웨덴",
          "스위스",
          "이탈리아",
          "덴마크",
          "노르웨이",
          "벨기에",
          "오스트리아",
          "스페인",
          "그리스",
          "포르투갈",
          "핀란드",
          "아일랜드",
          "룩셈부르크",
          "바티칸",
          "몰타",
          "아이슬란드",
          "리히텐슈타인",
          "산마리노",
          "스발바르",
          "페로섬",
          "안도라",
          "모나코",
          "지브롤터",
          "리투아니아",
          "라트비아",
          "에스토니아",
          "유고슬라비아",
          "슬로베니아",
          "크로아티아",
          "보스니아-헤르체코비나",
          "마케도니아",
          "세르비아 앤 몬테네그로",
          "몬테네그로",
          "세르비아",
          "코소보",
          "루마니아",
          "체코",
          "슬로바크",
          "불가리아",
          "폴란드",
          "헝가리",
          "알바니아",
          "러시아",
          "우크라이나",
          "벨로루시",
          "몰도바",
          "아르메니아",
          "아제르바이잔",
          "그루지아",
          "그린랜드",
          "오스트레일리아",
          "뉴질랜드",
          "피지",
          "파푸아뉴기니",
          "나우루",
          "미크로네시아",
          "사모아",
          "괌",
          "투발루",
          "키리바시",
          "통가",
          "팔라우",
          "호주령 솔로몬군도",
          "미령사모아",
          "비누아투",
          "마리아나 군도",
          "뉴칼레도니아",
          "마샬군도",
          "솔로몬군도",
          "불령 폴리네시아",
          "쿡아일랜드",
          "캐롤라인 군도",
          "크리스마스",
          "웨이크아일랜드",
          "미드웨이군도",
          "코코스군도",
          "니우에",
          "핏캐른",
          "토켈라우",
          "나이지리아",
          "이집트",
          "남수단공화국",
          "남아프리카 공화국",
          "튀니지",
          "리비아",
          "가나",
          "모로코",
          "수단",
          "에티오피아",
          "모리셔스",
          "잠비아",
          "우간다",
          "탄자니아",
          "케냐",
          "라이베리아",
          "가봉",
          "말리",
          "소말리아",
          "알제리",
          "기니비사우",
          "말라위",
          "코트디부아르",
          "세네갈",
          "자이르",
          "짐바브웨",
          "카메룬",
          "스와질랜드",
          "오트볼타",
          "콩고",
          "콩고 민주공화국",
          "마다가스카르",
          "말라가시",
          "부룬디",
          "모리타니",
          "레소토",
          "시에라리온",
          "기니",
          "니제르",
          "앙골라",
          "차드",
          "적도기니",
          "중앙 아프리카 공화국",
          "지부티",
          "세이셸",
          "보츠와나",
          "나미비아",
          "카보베르데",
          "감비아",
          "토고",
          "카나리아 군도",
          "르완다",
          "코모로",
          "상투메 프린시페",
          "모잠비크",
          "베냉",
          "서사하라",
          "부르키나파소",
          "세인트 헬레나",
          "레위니옹",
          "에리트리아",
          "아시아",
          "동아시아",
          "동남아시아",
          "서아시아",
          "중동",
          "아랍",
          "아프리카",
          "북아프리카",
          "유럽",
          "서유럽",
          "동유럽",
          "남유럽",
          "북유럽",
          "오세아니아",
          "아메리카",
          "북아메리카",
          "남아메리카"
         ],
         "textposition": "bottom right",
         "type": "scatter",
         "x": [
          41490.8199704261,
          26514,
          51765.7913958652,
          null,
          7520.1891751631,
          11086.0908193658,
          3831.6872189388,
          4011.848820312,
          58184.9120430579,
          31919.3200272998,
          1356.1156705571,
          2475.2002283395,
          2511.5956960978,
          null,
          2081.2827818958,
          3826.2779371399,
          1371.1115608541,
          1083.4326118635,
          1943.6664399495,
          510.0263066038,
          1501.3340129622,
          null,
          9792.4757032162,
          3811.0578369906,
          null,
          9979.2317580243,
          null,
          null,
          null,
          null,
          null,
          23372.3894565732,
          46317.6378770984,
          4299.19397994,
          7752.2313552358,
          null,
          null,
          8892.510612221,
          null,
          null,
          63224.6131564475,
          null,
          15225.169191926,
          5926.8045108967,
          22126.6313732594,
          19789.6460292155,
          null,
          1782.6450362053,
          8509.9670591489,
          1221.4778745926,
          null,
          1013.5303293918,
          null,
          65716.503439958,
          45937.0833126912,
          9571.6766898496,
          1863.7995481532,
          2378.4535851805,
          8172.2096131323,
          3984.8594959363,
          749.8824503691,
          17078.2182186862,
          4290.6173373394,
          5363.9041350052,
          17525.1101835754,
          null,
          31599.949048458,
          null,
          4373.1460915945,
          10925.6777223625,
          24129.1346163024,
          null,
          16764.2394604493,
          14694.0410320174,
          11527.516121726,
          7894.1646381532,
          null,
          null,
          null,
          null,
          null,
          18785.7762748174,
          null,
          null,
          null,
          8486.010823712,
          6227.604044114,
          9653.7696279967,
          15229.8389695886,
          5216.2995137894,
          14297.8190108265,
          null,
          3483.0450177684,
          5355.448585627,
          6652.1953722346,
          6005.0451623223,
          6127.1713888652,
          null,
          9924.6610675603,
          null,
          null,
          null,
          null,
          null,
          null,
          null,
          null,
          null,
          null,
          null,
          41290.946174167,
          47388.6353293016,
          null,
          42500.3987860691,
          53353.8354649882,
          54295.9591190112,
          83450.8706276967,
          33334.0102881571,
          61898.7671281867,
          78105.3404888218,
          46052.3997869817,
          49794.1882131601,
          29889.2968328834,
          20005.9817657725,
          22686.7067091061,
          48471.7316884569,
          61392.0985712455,
          73849.0504180119,
          null,
          30663.915342355,
          72659.4282556227,
          null,
          null,
          null,
          null,
          null,
          null,
          null,
          19030.5430407403,
          17650.8470196271,
          23186.9005176436,
          null,
          25484.3329433816,
          14404.0465706836,
          null,
          null,
          null,
          8780.0151885634,
          5544.2736134288,
          null,
          12737.5428783551,
          22023.2919162716,
          null,
          9434.9998360838,
          14941.1573732776,
          16020.4175231012,
          5248.8924457768,
          11287.4382982507,
          3603.5676144505,
          null,
          null,
          4699.818684628,
          4576.8231634288,
          null,
          null,
          53430.8549067549,
          42035.7034410279,
          5716.1468810226,
          2783.1980523439,
          16179.1603272265,
          null,
          4126.7575064606,
          null,
          5605.0151149213,
          3245.0815380821,
          null,
          null,
          null,
          null,
          null,
          null,
          null,
          null,
          null,
          null,
          null,
          null,
          null,
          null,
          null,
          null,
          null,
          null,
          null,
          2156.855561273,
          2910.2101088319,
          null,
          null,
          3197.2356034254,
          7821.2836265127,
          2154.2380394673,
          3192.731314006,
          427.1040523211,
          853.3336768113,
          12318.4380572234,
          1274.6560636593,
          756.0785791655,
          1061.5882439026,
          1779.931083438,
          550.4124054609,
          7139.5062385008,
          867.5975130872,
          null,
          3850.7892238754,
          748.2450574312,
          401.8025748594,
          2215.5224871918,
          1409.0802463688,
          null,
          1354.4012269184,
          1468.6895626015,
          null,
          null,
          1791.5653220757,
          null,
          505.3561888093,
          null,
          261.872364187,
          1657.8228119632,
          1320.181954079,
          469.5172602795,
          1003.7612468425,
          546.3100188289,
          2739.9246845991,
          698.631782398,
          6143.0881905975,
          null,
          3545.2010403284,
          16827.9622953026,
          7362.4214736671,
          4818.0018077362,
          3526.6921467681,
          738.5194027244,
          678.1031840129,
          null,
          775.9561845796,
          1399.0900153984,
          null,
          479.9176043864,
          1207.2749860268,
          null,
          754.2012306288,
          null,
          null,
          null,
          null,
          null,
          null,
          null,
          null,
          null,
          null,
          null,
          null,
          null,
          null,
          null,
          null,
          null,
          null,
          null,
          null
         ],
         "xaxis": "x",
         "y": [
          1327,
          76,
          5,
          1,
          18,
          4,
          23,
          21,
          6,
          0,
          25,
          2,
          61,
          0,
          45,
          4,
          2,
          0,
          0,
          0,
          1,
          0,
          1,
          6,
          0,
          374,
          34,
          0,
          0,
          0,
          18,
          0,
          11,
          1,
          4,
          0,
          0,
          14,
          0,
          0,
          15,
          0,
          0,
          1,
          0,
          0,
          0,
          3,
          1,
          1,
          6,
          0,
          0,
          560,
          16,
          15,
          0,
          2,
          0,
          0,
          0,
          0,
          0,
          1,
          0,
          0,
          0,
          0,
          0,
          0,
          0,
          1,
          0,
          0,
          1,
          0,
          0,
          0,
          0,
          0,
          0,
          0,
          0,
          0,
          0,
          11,
          7,
          4,
          0,
          2,
          1,
          0,
          0,
          0,
          4,
          2,
          0,
          0,
          0,
          0,
          0,
          0,
          0,
          0,
          0,
          0,
          0,
          0,
          0,
          0,
          124,
          61,
          0,
          63,
          7,
          2,
          5,
          65,
          4,
          3,
          1,
          3,
          16,
          1,
          0,
          4,
          4,
          0,
          0,
          0,
          0,
          0,
          0,
          0,
          0,
          0,
          0,
          0,
          1,
          1,
          3,
          0,
          2,
          0,
          0,
          0,
          0,
          0,
          0,
          0,
          1,
          27,
          0,
          0,
          7,
          2,
          0,
          70,
          0,
          0,
          0,
          0,
          0,
          0,
          0,
          0,
          2,
          0,
          0,
          0,
          0,
          0,
          1,
          0,
          0,
          0,
          0,
          0,
          0,
          0,
          0,
          0,
          0,
          0,
          0,
          0,
          0,
          7,
          0,
          0,
          0,
          0,
          0,
          0,
          2,
          2,
          0,
          0,
          0,
          0,
          4,
          0,
          0,
          2,
          1,
          0,
          1,
          0,
          1,
          0,
          0,
          0,
          0,
          0,
          0,
          0,
          0,
          0,
          0,
          0,
          0,
          0,
          0,
          1,
          0,
          0,
          0,
          0,
          0,
          0,
          0,
          0,
          0,
          0,
          0,
          0,
          0,
          0,
          0,
          0,
          0,
          0,
          0,
          1,
          0,
          0,
          0,
          0,
          0,
          0,
          0,
          0,
          0,
          0,
          0,
          50,
          4,
          2,
          0,
          2,
          2,
          20,
          0,
          48,
          0,
          1,
          0,
          2,
          0,
          3,
          0,
          0
         ],
         "yaxis": "y"
        }
       ],
       "layout": {
        "legend": {
         "tracegroupgap": 0
        },
        "margin": {
         "t": 60
        },
        "template": {
         "data": {
          "bar": [
           {
            "error_x": {
             "color": "#2a3f5f"
            },
            "error_y": {
             "color": "#2a3f5f"
            },
            "marker": {
             "line": {
              "color": "#E5ECF6",
              "width": 0.5
             }
            },
            "type": "bar"
           }
          ],
          "barpolar": [
           {
            "marker": {
             "line": {
              "color": "#E5ECF6",
              "width": 0.5
             }
            },
            "type": "barpolar"
           }
          ],
          "carpet": [
           {
            "aaxis": {
             "endlinecolor": "#2a3f5f",
             "gridcolor": "white",
             "linecolor": "white",
             "minorgridcolor": "white",
             "startlinecolor": "#2a3f5f"
            },
            "baxis": {
             "endlinecolor": "#2a3f5f",
             "gridcolor": "white",
             "linecolor": "white",
             "minorgridcolor": "white",
             "startlinecolor": "#2a3f5f"
            },
            "type": "carpet"
           }
          ],
          "choropleth": [
           {
            "colorbar": {
             "outlinewidth": 0,
             "ticks": ""
            },
            "type": "choropleth"
           }
          ],
          "contour": [
           {
            "colorbar": {
             "outlinewidth": 0,
             "ticks": ""
            },
            "colorscale": [
             [
              0,
              "#0d0887"
             ],
             [
              0.1111111111111111,
              "#46039f"
             ],
             [
              0.2222222222222222,
              "#7201a8"
             ],
             [
              0.3333333333333333,
              "#9c179e"
             ],
             [
              0.4444444444444444,
              "#bd3786"
             ],
             [
              0.5555555555555556,
              "#d8576b"
             ],
             [
              0.6666666666666666,
              "#ed7953"
             ],
             [
              0.7777777777777778,
              "#fb9f3a"
             ],
             [
              0.8888888888888888,
              "#fdca26"
             ],
             [
              1,
              "#f0f921"
             ]
            ],
            "type": "contour"
           }
          ],
          "contourcarpet": [
           {
            "colorbar": {
             "outlinewidth": 0,
             "ticks": ""
            },
            "type": "contourcarpet"
           }
          ],
          "heatmap": [
           {
            "colorbar": {
             "outlinewidth": 0,
             "ticks": ""
            },
            "colorscale": [
             [
              0,
              "#0d0887"
             ],
             [
              0.1111111111111111,
              "#46039f"
             ],
             [
              0.2222222222222222,
              "#7201a8"
             ],
             [
              0.3333333333333333,
              "#9c179e"
             ],
             [
              0.4444444444444444,
              "#bd3786"
             ],
             [
              0.5555555555555556,
              "#d8576b"
             ],
             [
              0.6666666666666666,
              "#ed7953"
             ],
             [
              0.7777777777777778,
              "#fb9f3a"
             ],
             [
              0.8888888888888888,
              "#fdca26"
             ],
             [
              1,
              "#f0f921"
             ]
            ],
            "type": "heatmap"
           }
          ],
          "heatmapgl": [
           {
            "colorbar": {
             "outlinewidth": 0,
             "ticks": ""
            },
            "colorscale": [
             [
              0,
              "#0d0887"
             ],
             [
              0.1111111111111111,
              "#46039f"
             ],
             [
              0.2222222222222222,
              "#7201a8"
             ],
             [
              0.3333333333333333,
              "#9c179e"
             ],
             [
              0.4444444444444444,
              "#bd3786"
             ],
             [
              0.5555555555555556,
              "#d8576b"
             ],
             [
              0.6666666666666666,
              "#ed7953"
             ],
             [
              0.7777777777777778,
              "#fb9f3a"
             ],
             [
              0.8888888888888888,
              "#fdca26"
             ],
             [
              1,
              "#f0f921"
             ]
            ],
            "type": "heatmapgl"
           }
          ],
          "histogram": [
           {
            "marker": {
             "colorbar": {
              "outlinewidth": 0,
              "ticks": ""
             }
            },
            "type": "histogram"
           }
          ],
          "histogram2d": [
           {
            "colorbar": {
             "outlinewidth": 0,
             "ticks": ""
            },
            "colorscale": [
             [
              0,
              "#0d0887"
             ],
             [
              0.1111111111111111,
              "#46039f"
             ],
             [
              0.2222222222222222,
              "#7201a8"
             ],
             [
              0.3333333333333333,
              "#9c179e"
             ],
             [
              0.4444444444444444,
              "#bd3786"
             ],
             [
              0.5555555555555556,
              "#d8576b"
             ],
             [
              0.6666666666666666,
              "#ed7953"
             ],
             [
              0.7777777777777778,
              "#fb9f3a"
             ],
             [
              0.8888888888888888,
              "#fdca26"
             ],
             [
              1,
              "#f0f921"
             ]
            ],
            "type": "histogram2d"
           }
          ],
          "histogram2dcontour": [
           {
            "colorbar": {
             "outlinewidth": 0,
             "ticks": ""
            },
            "colorscale": [
             [
              0,
              "#0d0887"
             ],
             [
              0.1111111111111111,
              "#46039f"
             ],
             [
              0.2222222222222222,
              "#7201a8"
             ],
             [
              0.3333333333333333,
              "#9c179e"
             ],
             [
              0.4444444444444444,
              "#bd3786"
             ],
             [
              0.5555555555555556,
              "#d8576b"
             ],
             [
              0.6666666666666666,
              "#ed7953"
             ],
             [
              0.7777777777777778,
              "#fb9f3a"
             ],
             [
              0.8888888888888888,
              "#fdca26"
             ],
             [
              1,
              "#f0f921"
             ]
            ],
            "type": "histogram2dcontour"
           }
          ],
          "mesh3d": [
           {
            "colorbar": {
             "outlinewidth": 0,
             "ticks": ""
            },
            "type": "mesh3d"
           }
          ],
          "parcoords": [
           {
            "line": {
             "colorbar": {
              "outlinewidth": 0,
              "ticks": ""
             }
            },
            "type": "parcoords"
           }
          ],
          "pie": [
           {
            "automargin": true,
            "type": "pie"
           }
          ],
          "scatter": [
           {
            "marker": {
             "colorbar": {
              "outlinewidth": 0,
              "ticks": ""
             }
            },
            "type": "scatter"
           }
          ],
          "scatter3d": [
           {
            "line": {
             "colorbar": {
              "outlinewidth": 0,
              "ticks": ""
             }
            },
            "marker": {
             "colorbar": {
              "outlinewidth": 0,
              "ticks": ""
             }
            },
            "type": "scatter3d"
           }
          ],
          "scattercarpet": [
           {
            "marker": {
             "colorbar": {
              "outlinewidth": 0,
              "ticks": ""
             }
            },
            "type": "scattercarpet"
           }
          ],
          "scattergeo": [
           {
            "marker": {
             "colorbar": {
              "outlinewidth": 0,
              "ticks": ""
             }
            },
            "type": "scattergeo"
           }
          ],
          "scattergl": [
           {
            "marker": {
             "colorbar": {
              "outlinewidth": 0,
              "ticks": ""
             }
            },
            "type": "scattergl"
           }
          ],
          "scattermapbox": [
           {
            "marker": {
             "colorbar": {
              "outlinewidth": 0,
              "ticks": ""
             }
            },
            "type": "scattermapbox"
           }
          ],
          "scatterpolar": [
           {
            "marker": {
             "colorbar": {
              "outlinewidth": 0,
              "ticks": ""
             }
            },
            "type": "scatterpolar"
           }
          ],
          "scatterpolargl": [
           {
            "marker": {
             "colorbar": {
              "outlinewidth": 0,
              "ticks": ""
             }
            },
            "type": "scatterpolargl"
           }
          ],
          "scatterternary": [
           {
            "marker": {
             "colorbar": {
              "outlinewidth": 0,
              "ticks": ""
             }
            },
            "type": "scatterternary"
           }
          ],
          "surface": [
           {
            "colorbar": {
             "outlinewidth": 0,
             "ticks": ""
            },
            "colorscale": [
             [
              0,
              "#0d0887"
             ],
             [
              0.1111111111111111,
              "#46039f"
             ],
             [
              0.2222222222222222,
              "#7201a8"
             ],
             [
              0.3333333333333333,
              "#9c179e"
             ],
             [
              0.4444444444444444,
              "#bd3786"
             ],
             [
              0.5555555555555556,
              "#d8576b"
             ],
             [
              0.6666666666666666,
              "#ed7953"
             ],
             [
              0.7777777777777778,
              "#fb9f3a"
             ],
             [
              0.8888888888888888,
              "#fdca26"
             ],
             [
              1,
              "#f0f921"
             ]
            ],
            "type": "surface"
           }
          ],
          "table": [
           {
            "cells": {
             "fill": {
              "color": "#EBF0F8"
             },
             "line": {
              "color": "white"
             }
            },
            "header": {
             "fill": {
              "color": "#C8D4E3"
             },
             "line": {
              "color": "white"
             }
            },
            "type": "table"
           }
          ]
         },
         "layout": {
          "annotationdefaults": {
           "arrowcolor": "#2a3f5f",
           "arrowhead": 0,
           "arrowwidth": 1
          },
          "coloraxis": {
           "colorbar": {
            "outlinewidth": 0,
            "ticks": ""
           }
          },
          "colorscale": {
           "diverging": [
            [
             0,
             "#8e0152"
            ],
            [
             0.1,
             "#c51b7d"
            ],
            [
             0.2,
             "#de77ae"
            ],
            [
             0.3,
             "#f1b6da"
            ],
            [
             0.4,
             "#fde0ef"
            ],
            [
             0.5,
             "#f7f7f7"
            ],
            [
             0.6,
             "#e6f5d0"
            ],
            [
             0.7,
             "#b8e186"
            ],
            [
             0.8,
             "#7fbc41"
            ],
            [
             0.9,
             "#4d9221"
            ],
            [
             1,
             "#276419"
            ]
           ],
           "sequential": [
            [
             0,
             "#0d0887"
            ],
            [
             0.1111111111111111,
             "#46039f"
            ],
            [
             0.2222222222222222,
             "#7201a8"
            ],
            [
             0.3333333333333333,
             "#9c179e"
            ],
            [
             0.4444444444444444,
             "#bd3786"
            ],
            [
             0.5555555555555556,
             "#d8576b"
            ],
            [
             0.6666666666666666,
             "#ed7953"
            ],
            [
             0.7777777777777778,
             "#fb9f3a"
            ],
            [
             0.8888888888888888,
             "#fdca26"
            ],
            [
             1,
             "#f0f921"
            ]
           ],
           "sequentialminus": [
            [
             0,
             "#0d0887"
            ],
            [
             0.1111111111111111,
             "#46039f"
            ],
            [
             0.2222222222222222,
             "#7201a8"
            ],
            [
             0.3333333333333333,
             "#9c179e"
            ],
            [
             0.4444444444444444,
             "#bd3786"
            ],
            [
             0.5555555555555556,
             "#d8576b"
            ],
            [
             0.6666666666666666,
             "#ed7953"
            ],
            [
             0.7777777777777778,
             "#fb9f3a"
            ],
            [
             0.8888888888888888,
             "#fdca26"
            ],
            [
             1,
             "#f0f921"
            ]
           ]
          },
          "colorway": [
           "#636efa",
           "#EF553B",
           "#00cc96",
           "#ab63fa",
           "#FFA15A",
           "#19d3f3",
           "#FF6692",
           "#B6E880",
           "#FF97FF",
           "#FECB52"
          ],
          "font": {
           "color": "#2a3f5f"
          },
          "geo": {
           "bgcolor": "white",
           "lakecolor": "white",
           "landcolor": "#E5ECF6",
           "showlakes": true,
           "showland": true,
           "subunitcolor": "white"
          },
          "hoverlabel": {
           "align": "left"
          },
          "hovermode": "closest",
          "mapbox": {
           "style": "light"
          },
          "paper_bgcolor": "white",
          "plot_bgcolor": "#E5ECF6",
          "polar": {
           "angularaxis": {
            "gridcolor": "white",
            "linecolor": "white",
            "ticks": ""
           },
           "bgcolor": "#E5ECF6",
           "radialaxis": {
            "gridcolor": "white",
            "linecolor": "white",
            "ticks": ""
           }
          },
          "scene": {
           "xaxis": {
            "backgroundcolor": "#E5ECF6",
            "gridcolor": "white",
            "gridwidth": 2,
            "linecolor": "white",
            "showbackground": true,
            "ticks": "",
            "zerolinecolor": "white"
           },
           "yaxis": {
            "backgroundcolor": "#E5ECF6",
            "gridcolor": "white",
            "gridwidth": 2,
            "linecolor": "white",
            "showbackground": true,
            "ticks": "",
            "zerolinecolor": "white"
           },
           "zaxis": {
            "backgroundcolor": "#E5ECF6",
            "gridcolor": "white",
            "gridwidth": 2,
            "linecolor": "white",
            "showbackground": true,
            "ticks": "",
            "zerolinecolor": "white"
           }
          },
          "shapedefaults": {
           "line": {
            "color": "#2a3f5f"
           }
          },
          "ternary": {
           "aaxis": {
            "gridcolor": "white",
            "linecolor": "white",
            "ticks": ""
           },
           "baxis": {
            "gridcolor": "white",
            "linecolor": "white",
            "ticks": ""
           },
           "bgcolor": "#E5ECF6",
           "caxis": {
            "gridcolor": "white",
            "linecolor": "white",
            "ticks": ""
           }
          },
          "title": {
           "x": 0.05
          },
          "xaxis": {
           "automargin": true,
           "gridcolor": "white",
           "linecolor": "white",
           "ticks": "",
           "title": {
            "standoff": 15
           },
           "zerolinecolor": "white",
           "zerolinewidth": 2
          },
          "yaxis": {
           "automargin": true,
           "gridcolor": "white",
           "linecolor": "white",
           "ticks": "",
           "title": {
            "standoff": 15
           },
           "zerolinecolor": "white",
           "zerolinewidth": 2
          }
         }
        },
        "xaxis": {
         "anchor": "y",
         "domain": [
          0,
          1
         ],
         "title": {
          "text": "gni($)"
         }
        },
        "yaxis": {
         "anchor": "x",
         "domain": [
          0,
          1
         ],
         "title": {
          "text": "video_num"
         }
        }
       }
      },
      "text/html": [
       "<div>                            <div id=\"971d7b6c-ddd0-4841-9d97-fc51aa339497\" class=\"plotly-graph-div\" style=\"height:525px; width:100%;\"></div>            <script type=\"text/javascript\">                require([\"plotly\"], function(Plotly) {                    window.PLOTLYENV=window.PLOTLYENV || {};                                    if (document.getElementById(\"971d7b6c-ddd0-4841-9d97-fc51aa339497\")) {                    Plotly.newPlot(                        \"971d7b6c-ddd0-4841-9d97-fc51aa339497\",                        [{\"hovertemplate\": \"gni($)=%{x}<br>video_num=%{y}<br>country=%{text}<extra></extra>\", \"legendgroup\": \"\", \"marker\": {\"color\": \"#636efa\", \"symbol\": \"circle\"}, \"mode\": \"markers+text\", \"name\": \"\", \"orientation\": \"v\", \"showlegend\": false, \"text\": [\"\\uc77c\\ubcf8\", \"\\ub300\\ub9cc\", \"\\ud64d\\ucf69\", \"\\ub9c8\\uce74\\uc624\", \"\\ud0dc\\uad6d\", \"\\ub9d0\\ub808\\uc774\\uc2dc\\uc544\", \"\\ud544\\ub9ac\\ud540\", \"\\uc778\\ub3c4\\ub124\\uc2dc\\uc544\", \"\\uc2f1\\uac00\\ud3ec\\ub974\", \"\\ube0c\\ub8e8\\ub098\\uc774\", \"\\ubbf8\\uc580\\ub9c8\", \"\\ub77c\\uc624\\uc2a4\", \"\\ubca0\\ud2b8\\ub0a8\", \"\\ud2f0\\ubaa8\\ub974\", \"\\uc778\\ub3c4\", \"\\uc2a4\\ub9ac\\ub791\\uce74\", \"\\ud30c\\ud0a4\\uc2a4\\ud0c4\", \"\\ub124\\ud314\", \"\\ubc29\\uae00\\ub77c\\ub370\\uc2dc\", \"\\uc544\\ud504\\uac00\\ub2c8\\uc2a4\\ud0c4\", \"\\uce84\\ubcf4\\ub514\\uc544\", \"\\ubd80\\ud0c4\", \"\\ubab0\\ub514\\ube0c\", \"\\ubabd\\uace8\", \"\\uc2dc\\ud0b4\", \"\\uc911\\uad6d\", \"\\ubd81\\ud55c\", \"\\ub9c8\\uc694\\ud14c\", \"\\uc601\\ub839\\uc778\\ub3c4\\uc591\\uc12c\", \"\\uad6d\\uc81c\\uc5f0\\ud569\", \"\\uc774\\ub780\", \"\\uc0ac\\uc6b0\\ub514\\uc544\\ub77c\\ube44\\uc544\", \"\\uc774\\uc2a4\\ub77c\\uc5d8\", \"\\uc694\\ub974\\ub2e8\", \"\\ub808\\ubc14\\ub17c\", \"\\ucfe0\\uc6e8\\uc774\\ud2b8\", \"\\uc2dc\\ub9ac\\uc544\", \"\\ud130\\ud0a4\", \"\\uc608\\uba58\\uacf5\\ud654\\uad6d\", \"\\uc608\\uba58\\uc778\\ubbfc\\ubbfc\\uc8fc\\uc8fc\\uc758\\uacf5\\ud654\\uad6d\", \"\\uce74\\ud0c0\\ub974\", \"\\uc544\\ub78d\\uc5d0\\ubbf8\\ub9ac\\ud2b8\\uc5f0\\ud569\", \"\\uc624\\ub9cc\", \"\\uc774\\ub77c\\ud06c\", \"\\ubc14\\ub808\\uc778\", \"\\ud0a4\\ud504\\ub85c\\uc2a4\", \"\\ud314\\ub808\\uc2a4\\ud0c0\\uc778\", \"\\uc6b0\\uc988\\ubca0\\ud0a4\\uc2a4\\ud0c4\", \"\\uce74\\uc790\\ud750\\uc2a4\\ud0c4\", \"\\ud0a4\\ub974\\uae30\\uc2a4\\uc2a4\\ud0c4\", \"\\ud22c\\ub974\\ud06c\\uba54\\ub2c8\\uc2a4\\ud0c4\", \"\\ud0c0\\uc9c0\\ud0a4\\uc2a4\\ud0c4\", \"\\uc911\\ub3d9 \\uae30\\ud0c0\", \"\\ubbf8\\uad6d\", \"\\uce90\\ub098\\ub2e4\", \"\\uba55\\uc2dc\\ucf54\", \"\\ub2c8\\uce74\\ub77c\\uacfc\", \"\\uc628\\ub450\\ub77c\\uc2a4\", \"\\ub3c4\\ubbf8\\ub2c8\\uce74\\uc5f0\\ubc29\", \"\\uc5d8\\uc0b4\\ubc14\\ub3c4\\ub974\", \"\\uc544\\uc774\\ud2f0\", \"\\ud2b8\\ub9ac\\ub2c8\\ub2e4\\ub4dc\\ud1a0\\ubc14\\uace0\", \"\\uacfc\\ud14c\\ub9d0\\ub77c\", \"\\uc790\\uba54\\uc774\\uce74\", \"\\ubc14\\ubca0\\uc774\\ub3c4\\uc2a4\", \"\\uc138\\uc778\\ud2b8\\ube48\\uc13c\\ud2b8 \\uadf8\\ub808\\ub098\\ub518\", \"\\ubc14\\ud558\\ub9c8\", \"\\ubc84\\ubba4\\ub2e4\", \"\\ubca8\\ub9ac\\uc988\", \"\\uc138\\uc778\\ud2b8\\ub8e8\\uc2dc\\uc544\", \"\\ud478\\uc5d0\\ub974\\ud1a0\\ub9ac\\ucf54\", \"\\ucfe0\\ubc14\", \"\\uc564\\ud2f0\\uac00\\ubc14\\ubd80\\ub2e4\", \"\\ud30c\\ub098\\ub9c8\", \"\\ucf54\\uc2a4\\ud0c0\\ub9ac\\uce74\", \"\\ub3c4\\ubbf8\\ub2c8\\uce74\\uacf5\\ud654\\uad6d\", \"\\ud130\\ud06c\\uc2a4\\ucf00\\uc774\\ucee4\\uc2a4\", \"\\uc601\\ub839 \\ubc84\\uc9c4\\uc544\\uc77c\\ub79c\\ub4dc\", \"\\ub124\\ub35c\\ub780\\ub4dc\\ub839 \\uc564\\ud2f8\\ub9ac\\uc2a4\", \"\\ucf00\\uc774\\ub9cc\\uc544\\uc77c\\ub79c\\ub4dc\", \"\\uc575\\uadc8\\ub77c\", \"\\uc138\\uc778\\ud2b8\\ud0a4\\uce20\\ub124\\ube44\\uc2a4\", \"\\uc544\\ub8e8\\ubc14\", \"\\ubbf8\\ub839\\uc544\\ubaa8\\ub974\", \"\\uc0c1\\ud53c\\uc5d0\\ub974 \\ubbf8\\ud074\\ub871\", \"\\ube0c\\ub77c\\uc9c8\", \"\\ucf5c\\ub86c\\ube44\\uc544\", \"\\uc544\\ub974\\ud5e8\\ud2f0\\ub098\", \"\\uc6b0\\ub8e8\\uacfc\\uc774\", \"\\ud30c\\ub77c\\uacfc\\uc774\", \"\\uce60\\ub808\", \"\\ubca0\\ub124\\uc218\\uc5d8\\ub77c\", \"\\ubcfc\\ub9ac\\ube44\\uc544\", \"\\uac00\\uc774\\uc544\\ub098\", \"\\ud398\\ub8e8\", \"\\uc5d0\\ucf70\\ub3c4\\ub974\", \"\\uc218\\ub9ac\\ub0a8\", \"\\ubd88\\ub839 \\uac00\\uc774\\uc544\\ub098\", \"\\uadf8\\ub808\\ub098\\ub2e4\", \"\\ubaac\\uc11c\\ub798\\ud2b8\", \"\\ud314\\ub79c\\ub4dc\\uad70\\ub3c4\", \"\\uacfc\\ub4e4\\ub8e8\\ud504\", \"\\uc774\\uc2a4\\ud130\\uc81c\\ub3c4\", \"\\ud3ec\\ud074\\ub79c\\ub4dc\", \"\\ubbf8\\ub839 \\ubc84\\uc9c4\\uc544\\uc77c\\ub79c\\ub4dc\", \"\\ub9c8\\ub974\\ud2f0\\ub2c8\\ud06c\", \"\\uc138\\uc778\\ud2b8\\ud06c\\ub9ac\\uc2a4\\ud1a0\\ud37c \\ub124\\ube44\\uc2a4\", \"\\ubd80\\ubca0\\ud2b8\", \"\\ub0a8\\uc870\\uc9c0\\uc544 \\ub0a8\\uc0cc\\ub4dc\\uc704\\uce58 \\uad70\\ub3c4\", \"\\ubbf8\\uad6d \\uc778\\uadfc\\uc12c\", \"\\uc601\\uad6d\", \"\\ub3c5\\uc77c\", \"\\ub3d9\\ub3c5\", \"\\ud504\\ub791\\uc2a4\", \"\\ub124\\ub35c\\ub780\\ub4dc\", \"\\uc2a4\\uc6e8\\ub374\", \"\\uc2a4\\uc704\\uc2a4\", \"\\uc774\\ud0c8\\ub9ac\\uc544\", \"\\ub374\\ub9c8\\ud06c\", \"\\ub178\\ub974\\uc6e8\\uc774\", \"\\ubca8\\uae30\\uc5d0\", \"\\uc624\\uc2a4\\ud2b8\\ub9ac\\uc544\", \"\\uc2a4\\ud398\\uc778\", \"\\uadf8\\ub9ac\\uc2a4\", \"\\ud3ec\\ub974\\ud22c\\uac08\", \"\\ud540\\ub780\\ub4dc\", \"\\uc544\\uc77c\\ub79c\\ub4dc\", \"\\ub8e9\\uc148\\ubd80\\ub974\\ud06c\", \"\\ubc14\\ud2f0\\uce78\", \"\\ubab0\\ud0c0\", \"\\uc544\\uc774\\uc2ac\\ub780\\ub4dc\", \"\\ub9ac\\ud788\\ud150\\uc288\\ud0c0\\uc778\", \"\\uc0b0\\ub9c8\\ub9ac\\ub178\", \"\\uc2a4\\ubc1c\\ubc14\\ub974\", \"\\ud398\\ub85c\\uc12c\", \"\\uc548\\ub3c4\\ub77c\", \"\\ubaa8\\ub098\\ucf54\", \"\\uc9c0\\ube0c\\ub864\\ud130\", \"\\ub9ac\\ud22c\\uc544\\ub2c8\\uc544\", \"\\ub77c\\ud2b8\\ube44\\uc544\", \"\\uc5d0\\uc2a4\\ud1a0\\ub2c8\\uc544\", \"\\uc720\\uace0\\uc2ac\\ub77c\\ube44\\uc544\", \"\\uc2ac\\ub85c\\ubca0\\ub2c8\\uc544\", \"\\ud06c\\ub85c\\uc544\\ud2f0\\uc544\", \"\\ubcf4\\uc2a4\\ub2c8\\uc544-\\ud5e4\\ub974\\uccb4\\ucf54\\ube44\\ub098\", \"\\ub9c8\\ucf00\\ub3c4\\ub2c8\\uc544\", \"\\uc138\\ub974\\ube44\\uc544 \\uc564 \\ubaac\\ud14c\\ub124\\uadf8\\ub85c\", \"\\ubaac\\ud14c\\ub124\\uadf8\\ub85c\", \"\\uc138\\ub974\\ube44\\uc544\", \"\\ucf54\\uc18c\\ubcf4\", \"\\ub8e8\\ub9c8\\ub2c8\\uc544\", \"\\uccb4\\ucf54\", \"\\uc2ac\\ub85c\\ubc14\\ud06c\", \"\\ubd88\\uac00\\ub9ac\\uc544\", \"\\ud3f4\\ub780\\ub4dc\", \"\\ud5dd\\uac00\\ub9ac\", \"\\uc54c\\ubc14\\ub2c8\\uc544\", \"\\ub7ec\\uc2dc\\uc544\", \"\\uc6b0\\ud06c\\ub77c\\uc774\\ub098\", \"\\ubca8\\ub85c\\ub8e8\\uc2dc\", \"\\ubab0\\ub3c4\\ubc14\", \"\\uc544\\ub974\\uba54\\ub2c8\\uc544\", \"\\uc544\\uc81c\\ub974\\ubc14\\uc774\\uc794\", \"\\uadf8\\ub8e8\\uc9c0\\uc544\", \"\\uadf8\\ub9b0\\ub79c\\ub4dc\", \"\\uc624\\uc2a4\\ud2b8\\ub808\\uc77c\\ub9ac\\uc544\", \"\\ub274\\uc9c8\\ub79c\\ub4dc\", \"\\ud53c\\uc9c0\", \"\\ud30c\\ud478\\uc544\\ub274\\uae30\\ub2c8\", \"\\ub098\\uc6b0\\ub8e8\", \"\\ubbf8\\ud06c\\ub85c\\ub124\\uc2dc\\uc544\", \"\\uc0ac\\ubaa8\\uc544\", \"\\uad0c\", \"\\ud22c\\ubc1c\\ub8e8\", \"\\ud0a4\\ub9ac\\ubc14\\uc2dc\", \"\\ud1b5\\uac00\", \"\\ud314\\ub77c\\uc6b0\", \"\\ud638\\uc8fc\\ub839 \\uc194\\ub85c\\ubaac\\uad70\\ub3c4\", \"\\ubbf8\\ub839\\uc0ac\\ubaa8\\uc544\", \"\\ube44\\ub204\\uc544\\ud22c\", \"\\ub9c8\\ub9ac\\uc544\\ub098 \\uad70\\ub3c4\", \"\\ub274\\uce7c\\ub808\\ub3c4\\ub2c8\\uc544\", \"\\ub9c8\\uc0ec\\uad70\\ub3c4\", \"\\uc194\\ub85c\\ubaac\\uad70\\ub3c4\", \"\\ubd88\\ub839 \\ud3f4\\ub9ac\\ub124\\uc2dc\\uc544\", \"\\ucfe1\\uc544\\uc77c\\ub79c\\ub4dc\", \"\\uce90\\ub864\\ub77c\\uc778 \\uad70\\ub3c4\", \"\\ud06c\\ub9ac\\uc2a4\\ub9c8\\uc2a4\", \"\\uc6e8\\uc774\\ud06c\\uc544\\uc77c\\ub79c\\ub4dc\", \"\\ubbf8\\ub4dc\\uc6e8\\uc774\\uad70\\ub3c4\", \"\\ucf54\\ucf54\\uc2a4\\uad70\\ub3c4\", \"\\ub2c8\\uc6b0\\uc5d0\", \"\\ud54f\\uce90\\ub978\", \"\\ud1a0\\ucf08\\ub77c\\uc6b0\", \"\\ub098\\uc774\\uc9c0\\ub9ac\\uc544\", \"\\uc774\\uc9d1\\ud2b8\", \"\\ub0a8\\uc218\\ub2e8\\uacf5\\ud654\\uad6d\", \"\\ub0a8\\uc544\\ud504\\ub9ac\\uce74 \\uacf5\\ud654\\uad6d\", \"\\ud280\\ub2c8\\uc9c0\", \"\\ub9ac\\ube44\\uc544\", \"\\uac00\\ub098\", \"\\ubaa8\\ub85c\\ucf54\", \"\\uc218\\ub2e8\", \"\\uc5d0\\ud2f0\\uc624\\ud53c\\uc544\", \"\\ubaa8\\ub9ac\\uc154\\uc2a4\", \"\\uc7a0\\ube44\\uc544\", \"\\uc6b0\\uac04\\ub2e4\", \"\\ud0c4\\uc790\\ub2c8\\uc544\", \"\\ucf00\\ub0d0\", \"\\ub77c\\uc774\\ubca0\\ub9ac\\uc544\", \"\\uac00\\ubd09\", \"\\ub9d0\\ub9ac\", \"\\uc18c\\ub9d0\\ub9ac\\uc544\", \"\\uc54c\\uc81c\\ub9ac\", \"\\uae30\\ub2c8\\ube44\\uc0ac\\uc6b0\", \"\\ub9d0\\ub77c\\uc704\", \"\\ucf54\\ud2b8\\ub514\\ubd80\\uc544\\ub974\", \"\\uc138\\ub124\\uac08\", \"\\uc790\\uc774\\ub974\", \"\\uc9d0\\ubc14\\ube0c\\uc6e8\", \"\\uce74\\uba54\\ub8ec\", \"\\uc2a4\\uc640\\uc9c8\\ub79c\\ub4dc\", \"\\uc624\\ud2b8\\ubcfc\\ud0c0\", \"\\ucf69\\uace0\", \"\\ucf69\\uace0 \\ubbfc\\uc8fc\\uacf5\\ud654\\uad6d\", \"\\ub9c8\\ub2e4\\uac00\\uc2a4\\uce74\\ub974\", \"\\ub9d0\\ub77c\\uac00\\uc2dc\", \"\\ubd80\\ub8ec\\ub514\", \"\\ubaa8\\ub9ac\\ud0c0\\ub2c8\", \"\\ub808\\uc18c\\ud1a0\", \"\\uc2dc\\uc5d0\\ub77c\\ub9ac\\uc628\", \"\\uae30\\ub2c8\", \"\\ub2c8\\uc81c\\ub974\", \"\\uc559\\uace8\\ub77c\", \"\\ucc28\\ub4dc\", \"\\uc801\\ub3c4\\uae30\\ub2c8\", \"\\uc911\\uc559 \\uc544\\ud504\\ub9ac\\uce74 \\uacf5\\ud654\\uad6d\", \"\\uc9c0\\ubd80\\ud2f0\", \"\\uc138\\uc774\\uc178\", \"\\ubcf4\\uce20\\uc640\\ub098\", \"\\ub098\\ubbf8\\ube44\\uc544\", \"\\uce74\\ubcf4\\ubca0\\ub974\\ub370\", \"\\uac10\\ube44\\uc544\", \"\\ud1a0\\uace0\", \"\\uce74\\ub098\\ub9ac\\uc544 \\uad70\\ub3c4\", \"\\ub974\\uc644\\ub2e4\", \"\\ucf54\\ubaa8\\ub85c\", \"\\uc0c1\\ud22c\\uba54 \\ud504\\ub9b0\\uc2dc\\ud398\", \"\\ubaa8\\uc7a0\\ube44\\ud06c\", \"\\ubca0\\ub0c9\", \"\\uc11c\\uc0ac\\ud558\\ub77c\", \"\\ubd80\\ub974\\ud0a4\\ub098\\ud30c\\uc18c\", \"\\uc138\\uc778\\ud2b8 \\ud5ec\\ub808\\ub098\", \"\\ub808\\uc704\\ub2c8\\uc639\", \"\\uc5d0\\ub9ac\\ud2b8\\ub9ac\\uc544\", \"\\uc544\\uc2dc\\uc544\", \"\\ub3d9\\uc544\\uc2dc\\uc544\", \"\\ub3d9\\ub0a8\\uc544\\uc2dc\\uc544\", \"\\uc11c\\uc544\\uc2dc\\uc544\", \"\\uc911\\ub3d9\", \"\\uc544\\ub78d\", \"\\uc544\\ud504\\ub9ac\\uce74\", \"\\ubd81\\uc544\\ud504\\ub9ac\\uce74\", \"\\uc720\\ub7fd\", \"\\uc11c\\uc720\\ub7fd\", \"\\ub3d9\\uc720\\ub7fd\", \"\\ub0a8\\uc720\\ub7fd\", \"\\ubd81\\uc720\\ub7fd\", \"\\uc624\\uc138\\uc544\\ub2c8\\uc544\", \"\\uc544\\uba54\\ub9ac\\uce74\", \"\\ubd81\\uc544\\uba54\\ub9ac\\uce74\", \"\\ub0a8\\uc544\\uba54\\ub9ac\\uce74\"], \"textposition\": \"bottom right\", \"type\": \"scatter\", \"x\": [41490.8199704261, 26514.0, 51765.7913958652, null, 7520.1891751631, 11086.0908193658, 3831.6872189388, 4011.848820312, 58184.9120430579, 31919.3200272998, 1356.1156705571, 2475.2002283395, 2511.5956960978, null, 2081.2827818958, 3826.2779371399, 1371.1115608541, 1083.4326118635, 1943.6664399495, 510.0263066038, 1501.3340129622, null, 9792.4757032162, 3811.0578369906, null, 9979.2317580243, null, null, null, null, null, 23372.3894565732, 46317.6378770984, 4299.19397994, 7752.2313552358, null, null, 8892.510612221, null, null, 63224.6131564475, null, 15225.169191926, 5926.8045108967, 22126.6313732594, 19789.6460292155, null, 1782.6450362053, 8509.9670591489, 1221.4778745926, null, 1013.5303293918, null, 65716.503439958, 45937.0833126912, 9571.6766898496, 1863.7995481532, 2378.4535851805, 8172.2096131323, 3984.8594959363, 749.8824503691, 17078.2182186862, 4290.6173373394, 5363.9041350052, 17525.1101835754, null, 31599.949048458, null, 4373.1460915945, 10925.6777223625, 24129.1346163024, null, 16764.2394604493, 14694.0410320174, 11527.516121726, 7894.1646381532, null, null, null, null, null, 18785.7762748174, null, null, null, 8486.010823712, 6227.604044114, 9653.7696279967, 15229.8389695886, 5216.2995137894, 14297.8190108265, null, 3483.0450177684, 5355.448585627, 6652.1953722346, 6005.0451623223, 6127.1713888652, null, 9924.6610675603, null, null, null, null, null, null, null, null, null, null, null, 41290.946174167, 47388.6353293016, null, 42500.3987860691, 53353.8354649882, 54295.9591190112, 83450.8706276967, 33334.0102881571, 61898.7671281867, 78105.3404888218, 46052.3997869817, 49794.1882131601, 29889.2968328834, 20005.9817657725, 22686.7067091061, 48471.7316884569, 61392.0985712455, 73849.0504180119, null, 30663.915342355, 72659.4282556227, null, null, null, null, null, null, null, 19030.5430407403, 17650.8470196271, 23186.9005176436, null, 25484.3329433816, 14404.0465706836, null, null, null, 8780.0151885634, 5544.2736134288, null, 12737.5428783551, 22023.2919162716, null, 9434.9998360838, 14941.1573732776, 16020.4175231012, 5248.8924457768, 11287.4382982507, 3603.5676144505, null, null, 4699.818684628, 4576.8231634288, null, null, 53430.8549067549, 42035.7034410279, 5716.1468810226, 2783.1980523439, 16179.1603272265, null, 4126.7575064606, null, 5605.0151149213, 3245.0815380821, null, null, null, null, null, null, null, null, null, null, null, null, null, null, null, null, null, null, null, 2156.855561273, 2910.2101088319, null, null, 3197.2356034254, 7821.2836265127, 2154.2380394673, 3192.731314006, 427.1040523211, 853.3336768113, 12318.4380572234, 1274.6560636593, 756.0785791655, 1061.5882439026, 1779.931083438, 550.4124054609, 7139.5062385008, 867.5975130872, null, 3850.7892238754, 748.2450574312, 401.8025748594, 2215.5224871918, 1409.0802463688, null, 1354.4012269184, 1468.6895626015, null, null, 1791.5653220757, null, 505.3561888093, null, 261.872364187, 1657.8228119632, 1320.181954079, 469.5172602795, 1003.7612468425, 546.3100188289, 2739.9246845991, 698.631782398, 6143.0881905975, null, 3545.2010403284, 16827.9622953026, 7362.4214736671, 4818.0018077362, 3526.6921467681, 738.5194027244, 678.1031840129, null, 775.9561845796, 1399.0900153984, null, 479.9176043864, 1207.2749860268, null, 754.2012306288, null, null, null, null, null, null, null, null, null, null, null, null, null, null, null, null, null, null, null, null], \"xaxis\": \"x\", \"y\": [1327, 76, 5, 1, 18, 4, 23, 21, 6, 0, 25, 2, 61, 0, 45, 4, 2, 0, 0, 0, 1, 0, 1, 6, 0, 374, 34, 0, 0, 0, 18, 0, 11, 1, 4, 0, 0, 14, 0, 0, 15, 0, 0, 1, 0, 0, 0, 3, 1, 1, 6, 0, 0, 560, 16, 15, 0, 2, 0, 0, 0, 0, 0, 1, 0, 0, 0, 0, 0, 0, 0, 1, 0, 0, 1, 0, 0, 0, 0, 0, 0, 0, 0, 0, 0, 11, 7, 4, 0, 2, 1, 0, 0, 0, 4, 2, 0, 0, 0, 0, 0, 0, 0, 0, 0, 0, 0, 0, 0, 0, 124, 61, 0, 63, 7, 2, 5, 65, 4, 3, 1, 3, 16, 1, 0, 4, 4, 0, 0, 0, 0, 0, 0, 0, 0, 0, 0, 0, 1, 1, 3, 0, 2, 0, 0, 0, 0, 0, 0, 0, 1, 27, 0, 0, 7, 2, 0, 70, 0, 0, 0, 0, 0, 0, 0, 0, 2, 0, 0, 0, 0, 0, 1, 0, 0, 0, 0, 0, 0, 0, 0, 0, 0, 0, 0, 0, 0, 7, 0, 0, 0, 0, 0, 0, 2, 2, 0, 0, 0, 0, 4, 0, 0, 2, 1, 0, 1, 0, 1, 0, 0, 0, 0, 0, 0, 0, 0, 0, 0, 0, 0, 0, 0, 1, 0, 0, 0, 0, 0, 0, 0, 0, 0, 0, 0, 0, 0, 0, 0, 0, 0, 0, 0, 1, 0, 0, 0, 0, 0, 0, 0, 0, 0, 0, 0, 50, 4, 2, 0, 2, 2, 20, 0, 48, 0, 1, 0, 2, 0, 3, 0, 0], \"yaxis\": \"y\"}],                        {\"legend\": {\"tracegroupgap\": 0}, \"margin\": {\"t\": 60}, \"template\": {\"data\": {\"bar\": [{\"error_x\": {\"color\": \"#2a3f5f\"}, \"error_y\": {\"color\": \"#2a3f5f\"}, \"marker\": {\"line\": {\"color\": \"#E5ECF6\", \"width\": 0.5}}, \"type\": \"bar\"}], \"barpolar\": [{\"marker\": {\"line\": {\"color\": \"#E5ECF6\", \"width\": 0.5}}, \"type\": \"barpolar\"}], \"carpet\": [{\"aaxis\": {\"endlinecolor\": \"#2a3f5f\", \"gridcolor\": \"white\", \"linecolor\": \"white\", \"minorgridcolor\": \"white\", \"startlinecolor\": \"#2a3f5f\"}, \"baxis\": {\"endlinecolor\": \"#2a3f5f\", \"gridcolor\": \"white\", \"linecolor\": \"white\", \"minorgridcolor\": \"white\", \"startlinecolor\": \"#2a3f5f\"}, \"type\": \"carpet\"}], \"choropleth\": [{\"colorbar\": {\"outlinewidth\": 0, \"ticks\": \"\"}, \"type\": \"choropleth\"}], \"contour\": [{\"colorbar\": {\"outlinewidth\": 0, \"ticks\": \"\"}, \"colorscale\": [[0.0, \"#0d0887\"], [0.1111111111111111, \"#46039f\"], [0.2222222222222222, \"#7201a8\"], [0.3333333333333333, \"#9c179e\"], [0.4444444444444444, \"#bd3786\"], [0.5555555555555556, \"#d8576b\"], [0.6666666666666666, \"#ed7953\"], [0.7777777777777778, \"#fb9f3a\"], [0.8888888888888888, \"#fdca26\"], [1.0, \"#f0f921\"]], \"type\": \"contour\"}], \"contourcarpet\": [{\"colorbar\": {\"outlinewidth\": 0, \"ticks\": \"\"}, \"type\": \"contourcarpet\"}], \"heatmap\": [{\"colorbar\": {\"outlinewidth\": 0, \"ticks\": \"\"}, \"colorscale\": [[0.0, \"#0d0887\"], [0.1111111111111111, \"#46039f\"], [0.2222222222222222, \"#7201a8\"], [0.3333333333333333, \"#9c179e\"], [0.4444444444444444, \"#bd3786\"], [0.5555555555555556, \"#d8576b\"], [0.6666666666666666, \"#ed7953\"], [0.7777777777777778, \"#fb9f3a\"], [0.8888888888888888, \"#fdca26\"], [1.0, \"#f0f921\"]], \"type\": \"heatmap\"}], \"heatmapgl\": [{\"colorbar\": {\"outlinewidth\": 0, \"ticks\": \"\"}, \"colorscale\": [[0.0, \"#0d0887\"], [0.1111111111111111, \"#46039f\"], [0.2222222222222222, \"#7201a8\"], [0.3333333333333333, \"#9c179e\"], [0.4444444444444444, \"#bd3786\"], [0.5555555555555556, \"#d8576b\"], [0.6666666666666666, \"#ed7953\"], [0.7777777777777778, \"#fb9f3a\"], [0.8888888888888888, \"#fdca26\"], [1.0, \"#f0f921\"]], \"type\": \"heatmapgl\"}], \"histogram\": [{\"marker\": {\"colorbar\": {\"outlinewidth\": 0, \"ticks\": \"\"}}, \"type\": \"histogram\"}], \"histogram2d\": [{\"colorbar\": {\"outlinewidth\": 0, \"ticks\": \"\"}, \"colorscale\": [[0.0, \"#0d0887\"], [0.1111111111111111, \"#46039f\"], [0.2222222222222222, \"#7201a8\"], [0.3333333333333333, \"#9c179e\"], [0.4444444444444444, \"#bd3786\"], [0.5555555555555556, \"#d8576b\"], [0.6666666666666666, \"#ed7953\"], [0.7777777777777778, \"#fb9f3a\"], [0.8888888888888888, \"#fdca26\"], [1.0, \"#f0f921\"]], \"type\": \"histogram2d\"}], \"histogram2dcontour\": [{\"colorbar\": {\"outlinewidth\": 0, \"ticks\": \"\"}, \"colorscale\": [[0.0, \"#0d0887\"], [0.1111111111111111, \"#46039f\"], [0.2222222222222222, \"#7201a8\"], [0.3333333333333333, \"#9c179e\"], [0.4444444444444444, \"#bd3786\"], [0.5555555555555556, \"#d8576b\"], [0.6666666666666666, \"#ed7953\"], [0.7777777777777778, \"#fb9f3a\"], [0.8888888888888888, \"#fdca26\"], [1.0, \"#f0f921\"]], \"type\": \"histogram2dcontour\"}], \"mesh3d\": [{\"colorbar\": {\"outlinewidth\": 0, \"ticks\": \"\"}, \"type\": \"mesh3d\"}], \"parcoords\": [{\"line\": {\"colorbar\": {\"outlinewidth\": 0, \"ticks\": \"\"}}, \"type\": \"parcoords\"}], \"pie\": [{\"automargin\": true, \"type\": \"pie\"}], \"scatter\": [{\"marker\": {\"colorbar\": {\"outlinewidth\": 0, \"ticks\": \"\"}}, \"type\": \"scatter\"}], \"scatter3d\": [{\"line\": {\"colorbar\": {\"outlinewidth\": 0, \"ticks\": \"\"}}, \"marker\": {\"colorbar\": {\"outlinewidth\": 0, \"ticks\": \"\"}}, \"type\": \"scatter3d\"}], \"scattercarpet\": [{\"marker\": {\"colorbar\": {\"outlinewidth\": 0, \"ticks\": \"\"}}, \"type\": \"scattercarpet\"}], \"scattergeo\": [{\"marker\": {\"colorbar\": {\"outlinewidth\": 0, \"ticks\": \"\"}}, \"type\": \"scattergeo\"}], \"scattergl\": [{\"marker\": {\"colorbar\": {\"outlinewidth\": 0, \"ticks\": \"\"}}, \"type\": \"scattergl\"}], \"scattermapbox\": [{\"marker\": {\"colorbar\": {\"outlinewidth\": 0, \"ticks\": \"\"}}, \"type\": \"scattermapbox\"}], \"scatterpolar\": [{\"marker\": {\"colorbar\": {\"outlinewidth\": 0, \"ticks\": \"\"}}, \"type\": \"scatterpolar\"}], \"scatterpolargl\": [{\"marker\": {\"colorbar\": {\"outlinewidth\": 0, \"ticks\": \"\"}}, \"type\": \"scatterpolargl\"}], \"scatterternary\": [{\"marker\": {\"colorbar\": {\"outlinewidth\": 0, \"ticks\": \"\"}}, \"type\": \"scatterternary\"}], \"surface\": [{\"colorbar\": {\"outlinewidth\": 0, \"ticks\": \"\"}, \"colorscale\": [[0.0, \"#0d0887\"], [0.1111111111111111, \"#46039f\"], [0.2222222222222222, \"#7201a8\"], [0.3333333333333333, \"#9c179e\"], [0.4444444444444444, \"#bd3786\"], [0.5555555555555556, \"#d8576b\"], [0.6666666666666666, \"#ed7953\"], [0.7777777777777778, \"#fb9f3a\"], [0.8888888888888888, \"#fdca26\"], [1.0, \"#f0f921\"]], \"type\": \"surface\"}], \"table\": [{\"cells\": {\"fill\": {\"color\": \"#EBF0F8\"}, \"line\": {\"color\": \"white\"}}, \"header\": {\"fill\": {\"color\": \"#C8D4E3\"}, \"line\": {\"color\": \"white\"}}, \"type\": \"table\"}]}, \"layout\": {\"annotationdefaults\": {\"arrowcolor\": \"#2a3f5f\", \"arrowhead\": 0, \"arrowwidth\": 1}, \"coloraxis\": {\"colorbar\": {\"outlinewidth\": 0, \"ticks\": \"\"}}, \"colorscale\": {\"diverging\": [[0, \"#8e0152\"], [0.1, \"#c51b7d\"], [0.2, \"#de77ae\"], [0.3, \"#f1b6da\"], [0.4, \"#fde0ef\"], [0.5, \"#f7f7f7\"], [0.6, \"#e6f5d0\"], [0.7, \"#b8e186\"], [0.8, \"#7fbc41\"], [0.9, \"#4d9221\"], [1, \"#276419\"]], \"sequential\": [[0.0, \"#0d0887\"], [0.1111111111111111, \"#46039f\"], [0.2222222222222222, \"#7201a8\"], [0.3333333333333333, \"#9c179e\"], [0.4444444444444444, \"#bd3786\"], [0.5555555555555556, \"#d8576b\"], [0.6666666666666666, \"#ed7953\"], [0.7777777777777778, \"#fb9f3a\"], [0.8888888888888888, \"#fdca26\"], [1.0, \"#f0f921\"]], \"sequentialminus\": [[0.0, \"#0d0887\"], [0.1111111111111111, \"#46039f\"], [0.2222222222222222, \"#7201a8\"], [0.3333333333333333, \"#9c179e\"], [0.4444444444444444, \"#bd3786\"], [0.5555555555555556, \"#d8576b\"], [0.6666666666666666, \"#ed7953\"], [0.7777777777777778, \"#fb9f3a\"], [0.8888888888888888, \"#fdca26\"], [1.0, \"#f0f921\"]]}, \"colorway\": [\"#636efa\", \"#EF553B\", \"#00cc96\", \"#ab63fa\", \"#FFA15A\", \"#19d3f3\", \"#FF6692\", \"#B6E880\", \"#FF97FF\", \"#FECB52\"], \"font\": {\"color\": \"#2a3f5f\"}, \"geo\": {\"bgcolor\": \"white\", \"lakecolor\": \"white\", \"landcolor\": \"#E5ECF6\", \"showlakes\": true, \"showland\": true, \"subunitcolor\": \"white\"}, \"hoverlabel\": {\"align\": \"left\"}, \"hovermode\": \"closest\", \"mapbox\": {\"style\": \"light\"}, \"paper_bgcolor\": \"white\", \"plot_bgcolor\": \"#E5ECF6\", \"polar\": {\"angularaxis\": {\"gridcolor\": \"white\", \"linecolor\": \"white\", \"ticks\": \"\"}, \"bgcolor\": \"#E5ECF6\", \"radialaxis\": {\"gridcolor\": \"white\", \"linecolor\": \"white\", \"ticks\": \"\"}}, \"scene\": {\"xaxis\": {\"backgroundcolor\": \"#E5ECF6\", \"gridcolor\": \"white\", \"gridwidth\": 2, \"linecolor\": \"white\", \"showbackground\": true, \"ticks\": \"\", \"zerolinecolor\": \"white\"}, \"yaxis\": {\"backgroundcolor\": \"#E5ECF6\", \"gridcolor\": \"white\", \"gridwidth\": 2, \"linecolor\": \"white\", \"showbackground\": true, \"ticks\": \"\", \"zerolinecolor\": \"white\"}, \"zaxis\": {\"backgroundcolor\": \"#E5ECF6\", \"gridcolor\": \"white\", \"gridwidth\": 2, \"linecolor\": \"white\", \"showbackground\": true, \"ticks\": \"\", \"zerolinecolor\": \"white\"}}, \"shapedefaults\": {\"line\": {\"color\": \"#2a3f5f\"}}, \"ternary\": {\"aaxis\": {\"gridcolor\": \"white\", \"linecolor\": \"white\", \"ticks\": \"\"}, \"baxis\": {\"gridcolor\": \"white\", \"linecolor\": \"white\", \"ticks\": \"\"}, \"bgcolor\": \"#E5ECF6\", \"caxis\": {\"gridcolor\": \"white\", \"linecolor\": \"white\", \"ticks\": \"\"}}, \"title\": {\"x\": 0.05}, \"xaxis\": {\"automargin\": true, \"gridcolor\": \"white\", \"linecolor\": \"white\", \"ticks\": \"\", \"title\": {\"standoff\": 15}, \"zerolinecolor\": \"white\", \"zerolinewidth\": 2}, \"yaxis\": {\"automargin\": true, \"gridcolor\": \"white\", \"linecolor\": \"white\", \"ticks\": \"\", \"title\": {\"standoff\": 15}, \"zerolinecolor\": \"white\", \"zerolinewidth\": 2}}}, \"xaxis\": {\"anchor\": \"y\", \"domain\": [0.0, 1.0], \"title\": {\"text\": \"gni($)\"}}, \"yaxis\": {\"anchor\": \"x\", \"domain\": [0.0, 1.0], \"title\": {\"text\": \"video_num\"}}},                        {\"responsive\": true}                    ).then(function(){\n",
       "                            \n",
       "var gd = document.getElementById('971d7b6c-ddd0-4841-9d97-fc51aa339497');\n",
       "var x = new MutationObserver(function (mutations, observer) {{\n",
       "        var display = window.getComputedStyle(gd).display;\n",
       "        if (!display || display === 'none') {{\n",
       "            console.log([gd, 'removed!']);\n",
       "            Plotly.purge(gd);\n",
       "            observer.disconnect();\n",
       "        }}\n",
       "}});\n",
       "\n",
       "// Listen for the removal of the full notebook cells\n",
       "var notebookContainer = gd.closest('#notebook-container');\n",
       "if (notebookContainer) {{\n",
       "    x.observe(notebookContainer, {childList: true});\n",
       "}}\n",
       "\n",
       "// Listen for the clearing of the current output cell\n",
       "var outputEl = gd.closest('.output');\n",
       "if (outputEl) {{\n",
       "    x.observe(outputEl, {childList: true});\n",
       "}}\n",
       "\n",
       "                        })                };                });            </script>        </div>"
      ]
     },
     "metadata": {},
     "output_type": "display_data"
    }
   ],
   "source": [
    "fig = px.scatter(countires_stat, x=\"gni($)\", y=\"video_num\", text=\"country\")\n",
    "fig.update_traces(textposition=\"bottom right\")\n",
    "fig.show()"
   ]
  },
  {
   "cell_type": "code",
   "execution_count": 358,
   "metadata": {},
   "outputs": [
    {
     "data": {
      "application/vnd.plotly.v1+json": {
       "config": {
        "plotlyServerURL": "https://plot.ly"
       },
       "data": [
        {
         "hovertemplate": "gni($)=%{x}<br>video_num=%{y}<br>country=%{text}<extra></extra>",
         "legendgroup": "",
         "marker": {
          "color": "#636efa",
          "symbol": "circle"
         },
         "mode": "markers+text",
         "name": "",
         "orientation": "v",
         "showlegend": false,
         "text": [
          "대만",
          "홍콩",
          "마카오",
          "태국",
          "말레이시아",
          "필리핀",
          "인도네시아",
          "싱가포르",
          "브루나이",
          "미얀마",
          "라오스",
          "베트남",
          "티모르",
          "인도",
          "스리랑카",
          "파키스탄",
          "네팔",
          "방글라데시",
          "아프가니스탄",
          "캄보디아",
          "부탄",
          "몰디브",
          "몽골",
          "시킴",
          "북한",
          "마요테",
          "영령인도양섬",
          "국제연합",
          "이란",
          "사우디아라비아",
          "이스라엘",
          "요르단",
          "레바논",
          "쿠웨이트",
          "시리아",
          "터키",
          "예멘공화국",
          "예멘인민민주주의공화국",
          "카타르",
          "아랍에미리트연합",
          "오만",
          "이라크",
          "바레인",
          "키프로스",
          "팔레스타인",
          "우즈베키스탄",
          "카자흐스탄",
          "키르기스스탄",
          "투르크메니스탄",
          "타지키스탄",
          "중동 기타",
          "캐나다",
          "멕시코",
          "니카라과",
          "온두라스",
          "도미니카연방",
          "엘살바도르",
          "아이티",
          "트리니다드토바고",
          "과테말라",
          "자메이카",
          "바베이도스",
          "세인트빈센트 그레나딘",
          "바하마",
          "버뮤다",
          "벨리즈",
          "세인트루시아",
          "푸에르토리코",
          "쿠바",
          "앤티가바부다",
          "파나마",
          "코스타리카",
          "도미니카공화국",
          "터크스케이커스",
          "영령 버진아일랜드",
          "네덜란드령 앤틸리스",
          "케이만아일랜드",
          "앵귈라",
          "세인트키츠네비스",
          "아루바",
          "미령아모르",
          "상피에르 미클롱",
          "브라질",
          "콜롬비아",
          "아르헨티나",
          "우루과이",
          "파라과이",
          "칠레",
          "베네수엘라",
          "볼리비아",
          "가이아나",
          "페루",
          "에콰도르",
          "수리남",
          "불령 가이아나",
          "그레나다",
          "몬서래트",
          "팔랜드군도",
          "과들루프",
          "이스터제도",
          "포클랜드",
          "미령 버진아일랜드",
          "마르티니크",
          "세인트크리스토퍼 네비스",
          "부베트",
          "남조지아 남샌드위치 군도",
          "미국 인근섬",
          "독일",
          "동독",
          "프랑스",
          "네덜란드",
          "스웨덴",
          "스위스",
          "이탈리아",
          "덴마크",
          "노르웨이",
          "벨기에",
          "오스트리아",
          "스페인",
          "그리스",
          "포르투갈",
          "핀란드",
          "아일랜드",
          "룩셈부르크",
          "바티칸",
          "몰타",
          "아이슬란드",
          "리히텐슈타인",
          "산마리노",
          "스발바르",
          "페로섬",
          "안도라",
          "모나코",
          "지브롤터",
          "리투아니아",
          "라트비아",
          "에스토니아",
          "유고슬라비아",
          "슬로베니아",
          "크로아티아",
          "보스니아-헤르체코비나",
          "마케도니아",
          "세르비아 앤 몬테네그로",
          "몬테네그로",
          "세르비아",
          "코소보",
          "루마니아",
          "체코",
          "슬로바크",
          "불가리아",
          "폴란드",
          "헝가리",
          "알바니아",
          "러시아",
          "우크라이나",
          "벨로루시",
          "몰도바",
          "아르메니아",
          "아제르바이잔",
          "그루지아",
          "그린랜드",
          "오스트레일리아",
          "뉴질랜드",
          "피지",
          "파푸아뉴기니",
          "나우루",
          "미크로네시아",
          "사모아",
          "괌",
          "투발루",
          "키리바시",
          "통가",
          "팔라우",
          "호주령 솔로몬군도",
          "미령사모아",
          "비누아투",
          "마리아나 군도",
          "뉴칼레도니아",
          "마샬군도",
          "솔로몬군도",
          "불령 폴리네시아",
          "쿡아일랜드",
          "캐롤라인 군도",
          "크리스마스",
          "웨이크아일랜드",
          "미드웨이군도",
          "코코스군도",
          "니우에",
          "핏캐른",
          "토켈라우",
          "나이지리아",
          "이집트",
          "남수단공화국",
          "남아프리카 공화국",
          "튀니지",
          "리비아",
          "가나",
          "모로코",
          "수단",
          "에티오피아",
          "모리셔스",
          "잠비아",
          "우간다",
          "탄자니아",
          "케냐",
          "라이베리아",
          "가봉",
          "말리",
          "소말리아",
          "알제리",
          "기니비사우",
          "말라위",
          "코트디부아르",
          "세네갈",
          "자이르",
          "짐바브웨",
          "카메룬",
          "스와질랜드",
          "오트볼타",
          "콩고",
          "콩고 민주공화국",
          "마다가스카르",
          "말라가시",
          "부룬디",
          "모리타니",
          "레소토",
          "시에라리온",
          "기니",
          "니제르",
          "앙골라",
          "차드",
          "적도기니",
          "중앙 아프리카 공화국",
          "지부티",
          "세이셸",
          "보츠와나",
          "나미비아",
          "카보베르데",
          "감비아",
          "토고",
          "카나리아 군도",
          "르완다",
          "코모로",
          "상투메 프린시페",
          "모잠비크",
          "베냉",
          "서사하라",
          "부르키나파소",
          "세인트 헬레나",
          "레위니옹",
          "에리트리아",
          "아시아",
          "동아시아",
          "동남아시아",
          "서아시아",
          "중동",
          "아랍",
          "아프리카",
          "북아프리카",
          "유럽",
          "서유럽",
          "동유럽",
          "남유럽",
          "북유럽",
          "오세아니아",
          "아메리카",
          "북아메리카",
          "남아메리카"
         ],
         "textposition": "bottom right",
         "type": "scatter",
         "x": [
          26514,
          51765.7913958652,
          null,
          7520.1891751631,
          11086.0908193658,
          3831.6872189388,
          4011.848820312,
          58184.9120430579,
          31919.3200272998,
          1356.1156705571,
          2475.2002283395,
          2511.5956960978,
          null,
          2081.2827818958,
          3826.2779371399,
          1371.1115608541,
          1083.4326118635,
          1943.6664399495,
          510.0263066038,
          1501.3340129622,
          null,
          9792.4757032162,
          3811.0578369906,
          null,
          null,
          null,
          null,
          null,
          null,
          23372.3894565732,
          46317.6378770984,
          4299.19397994,
          7752.2313552358,
          null,
          null,
          8892.510612221,
          null,
          null,
          63224.6131564475,
          null,
          15225.169191926,
          5926.8045108967,
          22126.6313732594,
          19789.6460292155,
          null,
          1782.6450362053,
          8509.9670591489,
          1221.4778745926,
          null,
          1013.5303293918,
          null,
          45937.0833126912,
          9571.6766898496,
          1863.7995481532,
          2378.4535851805,
          8172.2096131323,
          3984.8594959363,
          749.8824503691,
          17078.2182186862,
          4290.6173373394,
          5363.9041350052,
          17525.1101835754,
          null,
          31599.949048458,
          null,
          4373.1460915945,
          10925.6777223625,
          24129.1346163024,
          null,
          16764.2394604493,
          14694.0410320174,
          11527.516121726,
          7894.1646381532,
          null,
          null,
          null,
          null,
          null,
          18785.7762748174,
          null,
          null,
          null,
          8486.010823712,
          6227.604044114,
          9653.7696279967,
          15229.8389695886,
          5216.2995137894,
          14297.8190108265,
          null,
          3483.0450177684,
          5355.448585627,
          6652.1953722346,
          6005.0451623223,
          6127.1713888652,
          null,
          9924.6610675603,
          null,
          null,
          null,
          null,
          null,
          null,
          null,
          null,
          null,
          null,
          null,
          47388.6353293016,
          null,
          42500.3987860691,
          53353.8354649882,
          54295.9591190112,
          83450.8706276967,
          33334.0102881571,
          61898.7671281867,
          78105.3404888218,
          46052.3997869817,
          49794.1882131601,
          29889.2968328834,
          20005.9817657725,
          22686.7067091061,
          48471.7316884569,
          61392.0985712455,
          73849.0504180119,
          null,
          30663.915342355,
          72659.4282556227,
          null,
          null,
          null,
          null,
          null,
          null,
          null,
          19030.5430407403,
          17650.8470196271,
          23186.9005176436,
          null,
          25484.3329433816,
          14404.0465706836,
          null,
          null,
          null,
          8780.0151885634,
          5544.2736134288,
          null,
          12737.5428783551,
          22023.2919162716,
          null,
          9434.9998360838,
          14941.1573732776,
          16020.4175231012,
          5248.8924457768,
          11287.4382982507,
          3603.5676144505,
          null,
          null,
          4699.818684628,
          4576.8231634288,
          null,
          null,
          53430.8549067549,
          42035.7034410279,
          5716.1468810226,
          2783.1980523439,
          16179.1603272265,
          null,
          4126.7575064606,
          null,
          5605.0151149213,
          3245.0815380821,
          null,
          null,
          null,
          null,
          null,
          null,
          null,
          null,
          null,
          null,
          null,
          null,
          null,
          null,
          null,
          null,
          null,
          null,
          null,
          2156.855561273,
          2910.2101088319,
          null,
          null,
          3197.2356034254,
          7821.2836265127,
          2154.2380394673,
          3192.731314006,
          427.1040523211,
          853.3336768113,
          12318.4380572234,
          1274.6560636593,
          756.0785791655,
          1061.5882439026,
          1779.931083438,
          550.4124054609,
          7139.5062385008,
          867.5975130872,
          null,
          3850.7892238754,
          748.2450574312,
          401.8025748594,
          2215.5224871918,
          1409.0802463688,
          null,
          1354.4012269184,
          1468.6895626015,
          null,
          null,
          1791.5653220757,
          null,
          505.3561888093,
          null,
          261.872364187,
          1657.8228119632,
          1320.181954079,
          469.5172602795,
          1003.7612468425,
          546.3100188289,
          2739.9246845991,
          698.631782398,
          6143.0881905975,
          null,
          3545.2010403284,
          16827.9622953026,
          7362.4214736671,
          4818.0018077362,
          3526.6921467681,
          738.5194027244,
          678.1031840129,
          null,
          775.9561845796,
          1399.0900153984,
          null,
          479.9176043864,
          1207.2749860268,
          null,
          754.2012306288,
          null,
          null,
          null,
          null,
          null,
          null,
          null,
          null,
          null,
          null,
          null,
          null,
          null,
          null,
          null,
          null,
          null,
          null,
          null,
          null
         ],
         "xaxis": "x",
         "y": [
          76,
          5,
          1,
          18,
          4,
          23,
          21,
          6,
          0,
          25,
          2,
          61,
          0,
          45,
          4,
          2,
          0,
          0,
          0,
          1,
          0,
          1,
          6,
          0,
          34,
          0,
          0,
          0,
          18,
          0,
          11,
          1,
          4,
          0,
          0,
          14,
          0,
          0,
          15,
          0,
          0,
          1,
          0,
          0,
          0,
          3,
          1,
          1,
          6,
          0,
          0,
          16,
          15,
          0,
          2,
          0,
          0,
          0,
          0,
          0,
          1,
          0,
          0,
          0,
          0,
          0,
          0,
          0,
          1,
          0,
          0,
          1,
          0,
          0,
          0,
          0,
          0,
          0,
          0,
          0,
          0,
          0,
          11,
          7,
          4,
          0,
          2,
          1,
          0,
          0,
          0,
          4,
          2,
          0,
          0,
          0,
          0,
          0,
          0,
          0,
          0,
          0,
          0,
          0,
          0,
          0,
          0,
          61,
          0,
          63,
          7,
          2,
          5,
          65,
          4,
          3,
          1,
          3,
          16,
          1,
          0,
          4,
          4,
          0,
          0,
          0,
          0,
          0,
          0,
          0,
          0,
          0,
          0,
          0,
          1,
          1,
          3,
          0,
          2,
          0,
          0,
          0,
          0,
          0,
          0,
          0,
          1,
          27,
          0,
          0,
          7,
          2,
          0,
          70,
          0,
          0,
          0,
          0,
          0,
          0,
          0,
          0,
          2,
          0,
          0,
          0,
          0,
          0,
          1,
          0,
          0,
          0,
          0,
          0,
          0,
          0,
          0,
          0,
          0,
          0,
          0,
          0,
          0,
          7,
          0,
          0,
          0,
          0,
          0,
          0,
          2,
          2,
          0,
          0,
          0,
          0,
          4,
          0,
          0,
          2,
          1,
          0,
          1,
          0,
          1,
          0,
          0,
          0,
          0,
          0,
          0,
          0,
          0,
          0,
          0,
          0,
          0,
          0,
          0,
          1,
          0,
          0,
          0,
          0,
          0,
          0,
          0,
          0,
          0,
          0,
          0,
          0,
          0,
          0,
          0,
          0,
          0,
          0,
          0,
          1,
          0,
          0,
          0,
          0,
          0,
          0,
          0,
          0,
          0,
          0,
          0,
          50,
          4,
          2,
          0,
          2,
          2,
          20,
          0,
          48,
          0,
          1,
          0,
          2,
          0,
          3,
          0,
          0
         ],
         "yaxis": "y"
        }
       ],
       "layout": {
        "legend": {
         "tracegroupgap": 0
        },
        "margin": {
         "t": 60
        },
        "template": {
         "data": {
          "bar": [
           {
            "error_x": {
             "color": "#2a3f5f"
            },
            "error_y": {
             "color": "#2a3f5f"
            },
            "marker": {
             "line": {
              "color": "#E5ECF6",
              "width": 0.5
             }
            },
            "type": "bar"
           }
          ],
          "barpolar": [
           {
            "marker": {
             "line": {
              "color": "#E5ECF6",
              "width": 0.5
             }
            },
            "type": "barpolar"
           }
          ],
          "carpet": [
           {
            "aaxis": {
             "endlinecolor": "#2a3f5f",
             "gridcolor": "white",
             "linecolor": "white",
             "minorgridcolor": "white",
             "startlinecolor": "#2a3f5f"
            },
            "baxis": {
             "endlinecolor": "#2a3f5f",
             "gridcolor": "white",
             "linecolor": "white",
             "minorgridcolor": "white",
             "startlinecolor": "#2a3f5f"
            },
            "type": "carpet"
           }
          ],
          "choropleth": [
           {
            "colorbar": {
             "outlinewidth": 0,
             "ticks": ""
            },
            "type": "choropleth"
           }
          ],
          "contour": [
           {
            "colorbar": {
             "outlinewidth": 0,
             "ticks": ""
            },
            "colorscale": [
             [
              0,
              "#0d0887"
             ],
             [
              0.1111111111111111,
              "#46039f"
             ],
             [
              0.2222222222222222,
              "#7201a8"
             ],
             [
              0.3333333333333333,
              "#9c179e"
             ],
             [
              0.4444444444444444,
              "#bd3786"
             ],
             [
              0.5555555555555556,
              "#d8576b"
             ],
             [
              0.6666666666666666,
              "#ed7953"
             ],
             [
              0.7777777777777778,
              "#fb9f3a"
             ],
             [
              0.8888888888888888,
              "#fdca26"
             ],
             [
              1,
              "#f0f921"
             ]
            ],
            "type": "contour"
           }
          ],
          "contourcarpet": [
           {
            "colorbar": {
             "outlinewidth": 0,
             "ticks": ""
            },
            "type": "contourcarpet"
           }
          ],
          "heatmap": [
           {
            "colorbar": {
             "outlinewidth": 0,
             "ticks": ""
            },
            "colorscale": [
             [
              0,
              "#0d0887"
             ],
             [
              0.1111111111111111,
              "#46039f"
             ],
             [
              0.2222222222222222,
              "#7201a8"
             ],
             [
              0.3333333333333333,
              "#9c179e"
             ],
             [
              0.4444444444444444,
              "#bd3786"
             ],
             [
              0.5555555555555556,
              "#d8576b"
             ],
             [
              0.6666666666666666,
              "#ed7953"
             ],
             [
              0.7777777777777778,
              "#fb9f3a"
             ],
             [
              0.8888888888888888,
              "#fdca26"
             ],
             [
              1,
              "#f0f921"
             ]
            ],
            "type": "heatmap"
           }
          ],
          "heatmapgl": [
           {
            "colorbar": {
             "outlinewidth": 0,
             "ticks": ""
            },
            "colorscale": [
             [
              0,
              "#0d0887"
             ],
             [
              0.1111111111111111,
              "#46039f"
             ],
             [
              0.2222222222222222,
              "#7201a8"
             ],
             [
              0.3333333333333333,
              "#9c179e"
             ],
             [
              0.4444444444444444,
              "#bd3786"
             ],
             [
              0.5555555555555556,
              "#d8576b"
             ],
             [
              0.6666666666666666,
              "#ed7953"
             ],
             [
              0.7777777777777778,
              "#fb9f3a"
             ],
             [
              0.8888888888888888,
              "#fdca26"
             ],
             [
              1,
              "#f0f921"
             ]
            ],
            "type": "heatmapgl"
           }
          ],
          "histogram": [
           {
            "marker": {
             "colorbar": {
              "outlinewidth": 0,
              "ticks": ""
             }
            },
            "type": "histogram"
           }
          ],
          "histogram2d": [
           {
            "colorbar": {
             "outlinewidth": 0,
             "ticks": ""
            },
            "colorscale": [
             [
              0,
              "#0d0887"
             ],
             [
              0.1111111111111111,
              "#46039f"
             ],
             [
              0.2222222222222222,
              "#7201a8"
             ],
             [
              0.3333333333333333,
              "#9c179e"
             ],
             [
              0.4444444444444444,
              "#bd3786"
             ],
             [
              0.5555555555555556,
              "#d8576b"
             ],
             [
              0.6666666666666666,
              "#ed7953"
             ],
             [
              0.7777777777777778,
              "#fb9f3a"
             ],
             [
              0.8888888888888888,
              "#fdca26"
             ],
             [
              1,
              "#f0f921"
             ]
            ],
            "type": "histogram2d"
           }
          ],
          "histogram2dcontour": [
           {
            "colorbar": {
             "outlinewidth": 0,
             "ticks": ""
            },
            "colorscale": [
             [
              0,
              "#0d0887"
             ],
             [
              0.1111111111111111,
              "#46039f"
             ],
             [
              0.2222222222222222,
              "#7201a8"
             ],
             [
              0.3333333333333333,
              "#9c179e"
             ],
             [
              0.4444444444444444,
              "#bd3786"
             ],
             [
              0.5555555555555556,
              "#d8576b"
             ],
             [
              0.6666666666666666,
              "#ed7953"
             ],
             [
              0.7777777777777778,
              "#fb9f3a"
             ],
             [
              0.8888888888888888,
              "#fdca26"
             ],
             [
              1,
              "#f0f921"
             ]
            ],
            "type": "histogram2dcontour"
           }
          ],
          "mesh3d": [
           {
            "colorbar": {
             "outlinewidth": 0,
             "ticks": ""
            },
            "type": "mesh3d"
           }
          ],
          "parcoords": [
           {
            "line": {
             "colorbar": {
              "outlinewidth": 0,
              "ticks": ""
             }
            },
            "type": "parcoords"
           }
          ],
          "pie": [
           {
            "automargin": true,
            "type": "pie"
           }
          ],
          "scatter": [
           {
            "marker": {
             "colorbar": {
              "outlinewidth": 0,
              "ticks": ""
             }
            },
            "type": "scatter"
           }
          ],
          "scatter3d": [
           {
            "line": {
             "colorbar": {
              "outlinewidth": 0,
              "ticks": ""
             }
            },
            "marker": {
             "colorbar": {
              "outlinewidth": 0,
              "ticks": ""
             }
            },
            "type": "scatter3d"
           }
          ],
          "scattercarpet": [
           {
            "marker": {
             "colorbar": {
              "outlinewidth": 0,
              "ticks": ""
             }
            },
            "type": "scattercarpet"
           }
          ],
          "scattergeo": [
           {
            "marker": {
             "colorbar": {
              "outlinewidth": 0,
              "ticks": ""
             }
            },
            "type": "scattergeo"
           }
          ],
          "scattergl": [
           {
            "marker": {
             "colorbar": {
              "outlinewidth": 0,
              "ticks": ""
             }
            },
            "type": "scattergl"
           }
          ],
          "scattermapbox": [
           {
            "marker": {
             "colorbar": {
              "outlinewidth": 0,
              "ticks": ""
             }
            },
            "type": "scattermapbox"
           }
          ],
          "scatterpolar": [
           {
            "marker": {
             "colorbar": {
              "outlinewidth": 0,
              "ticks": ""
             }
            },
            "type": "scatterpolar"
           }
          ],
          "scatterpolargl": [
           {
            "marker": {
             "colorbar": {
              "outlinewidth": 0,
              "ticks": ""
             }
            },
            "type": "scatterpolargl"
           }
          ],
          "scatterternary": [
           {
            "marker": {
             "colorbar": {
              "outlinewidth": 0,
              "ticks": ""
             }
            },
            "type": "scatterternary"
           }
          ],
          "surface": [
           {
            "colorbar": {
             "outlinewidth": 0,
             "ticks": ""
            },
            "colorscale": [
             [
              0,
              "#0d0887"
             ],
             [
              0.1111111111111111,
              "#46039f"
             ],
             [
              0.2222222222222222,
              "#7201a8"
             ],
             [
              0.3333333333333333,
              "#9c179e"
             ],
             [
              0.4444444444444444,
              "#bd3786"
             ],
             [
              0.5555555555555556,
              "#d8576b"
             ],
             [
              0.6666666666666666,
              "#ed7953"
             ],
             [
              0.7777777777777778,
              "#fb9f3a"
             ],
             [
              0.8888888888888888,
              "#fdca26"
             ],
             [
              1,
              "#f0f921"
             ]
            ],
            "type": "surface"
           }
          ],
          "table": [
           {
            "cells": {
             "fill": {
              "color": "#EBF0F8"
             },
             "line": {
              "color": "white"
             }
            },
            "header": {
             "fill": {
              "color": "#C8D4E3"
             },
             "line": {
              "color": "white"
             }
            },
            "type": "table"
           }
          ]
         },
         "layout": {
          "annotationdefaults": {
           "arrowcolor": "#2a3f5f",
           "arrowhead": 0,
           "arrowwidth": 1
          },
          "coloraxis": {
           "colorbar": {
            "outlinewidth": 0,
            "ticks": ""
           }
          },
          "colorscale": {
           "diverging": [
            [
             0,
             "#8e0152"
            ],
            [
             0.1,
             "#c51b7d"
            ],
            [
             0.2,
             "#de77ae"
            ],
            [
             0.3,
             "#f1b6da"
            ],
            [
             0.4,
             "#fde0ef"
            ],
            [
             0.5,
             "#f7f7f7"
            ],
            [
             0.6,
             "#e6f5d0"
            ],
            [
             0.7,
             "#b8e186"
            ],
            [
             0.8,
             "#7fbc41"
            ],
            [
             0.9,
             "#4d9221"
            ],
            [
             1,
             "#276419"
            ]
           ],
           "sequential": [
            [
             0,
             "#0d0887"
            ],
            [
             0.1111111111111111,
             "#46039f"
            ],
            [
             0.2222222222222222,
             "#7201a8"
            ],
            [
             0.3333333333333333,
             "#9c179e"
            ],
            [
             0.4444444444444444,
             "#bd3786"
            ],
            [
             0.5555555555555556,
             "#d8576b"
            ],
            [
             0.6666666666666666,
             "#ed7953"
            ],
            [
             0.7777777777777778,
             "#fb9f3a"
            ],
            [
             0.8888888888888888,
             "#fdca26"
            ],
            [
             1,
             "#f0f921"
            ]
           ],
           "sequentialminus": [
            [
             0,
             "#0d0887"
            ],
            [
             0.1111111111111111,
             "#46039f"
            ],
            [
             0.2222222222222222,
             "#7201a8"
            ],
            [
             0.3333333333333333,
             "#9c179e"
            ],
            [
             0.4444444444444444,
             "#bd3786"
            ],
            [
             0.5555555555555556,
             "#d8576b"
            ],
            [
             0.6666666666666666,
             "#ed7953"
            ],
            [
             0.7777777777777778,
             "#fb9f3a"
            ],
            [
             0.8888888888888888,
             "#fdca26"
            ],
            [
             1,
             "#f0f921"
            ]
           ]
          },
          "colorway": [
           "#636efa",
           "#EF553B",
           "#00cc96",
           "#ab63fa",
           "#FFA15A",
           "#19d3f3",
           "#FF6692",
           "#B6E880",
           "#FF97FF",
           "#FECB52"
          ],
          "font": {
           "color": "#2a3f5f"
          },
          "geo": {
           "bgcolor": "white",
           "lakecolor": "white",
           "landcolor": "#E5ECF6",
           "showlakes": true,
           "showland": true,
           "subunitcolor": "white"
          },
          "hoverlabel": {
           "align": "left"
          },
          "hovermode": "closest",
          "mapbox": {
           "style": "light"
          },
          "paper_bgcolor": "white",
          "plot_bgcolor": "#E5ECF6",
          "polar": {
           "angularaxis": {
            "gridcolor": "white",
            "linecolor": "white",
            "ticks": ""
           },
           "bgcolor": "#E5ECF6",
           "radialaxis": {
            "gridcolor": "white",
            "linecolor": "white",
            "ticks": ""
           }
          },
          "scene": {
           "xaxis": {
            "backgroundcolor": "#E5ECF6",
            "gridcolor": "white",
            "gridwidth": 2,
            "linecolor": "white",
            "showbackground": true,
            "ticks": "",
            "zerolinecolor": "white"
           },
           "yaxis": {
            "backgroundcolor": "#E5ECF6",
            "gridcolor": "white",
            "gridwidth": 2,
            "linecolor": "white",
            "showbackground": true,
            "ticks": "",
            "zerolinecolor": "white"
           },
           "zaxis": {
            "backgroundcolor": "#E5ECF6",
            "gridcolor": "white",
            "gridwidth": 2,
            "linecolor": "white",
            "showbackground": true,
            "ticks": "",
            "zerolinecolor": "white"
           }
          },
          "shapedefaults": {
           "line": {
            "color": "#2a3f5f"
           }
          },
          "ternary": {
           "aaxis": {
            "gridcolor": "white",
            "linecolor": "white",
            "ticks": ""
           },
           "baxis": {
            "gridcolor": "white",
            "linecolor": "white",
            "ticks": ""
           },
           "bgcolor": "#E5ECF6",
           "caxis": {
            "gridcolor": "white",
            "linecolor": "white",
            "ticks": ""
           }
          },
          "title": {
           "x": 0.05
          },
          "xaxis": {
           "automargin": true,
           "gridcolor": "white",
           "linecolor": "white",
           "ticks": "",
           "title": {
            "standoff": 15
           },
           "zerolinecolor": "white",
           "zerolinewidth": 2
          },
          "yaxis": {
           "automargin": true,
           "gridcolor": "white",
           "linecolor": "white",
           "ticks": "",
           "title": {
            "standoff": 15
           },
           "zerolinecolor": "white",
           "zerolinewidth": 2
          }
         }
        },
        "xaxis": {
         "anchor": "y",
         "domain": [
          0,
          1
         ],
         "title": {
          "text": "gni($)"
         }
        },
        "yaxis": {
         "anchor": "x",
         "domain": [
          0,
          1
         ],
         "title": {
          "text": "video_num"
         }
        }
       }
      },
      "text/html": [
       "<div>                            <div id=\"ebff9a69-1aab-4cad-b2d4-e5180f551a09\" class=\"plotly-graph-div\" style=\"height:525px; width:100%;\"></div>            <script type=\"text/javascript\">                require([\"plotly\"], function(Plotly) {                    window.PLOTLYENV=window.PLOTLYENV || {};                                    if (document.getElementById(\"ebff9a69-1aab-4cad-b2d4-e5180f551a09\")) {                    Plotly.newPlot(                        \"ebff9a69-1aab-4cad-b2d4-e5180f551a09\",                        [{\"hovertemplate\": \"gni($)=%{x}<br>video_num=%{y}<br>country=%{text}<extra></extra>\", \"legendgroup\": \"\", \"marker\": {\"color\": \"#636efa\", \"symbol\": \"circle\"}, \"mode\": \"markers+text\", \"name\": \"\", \"orientation\": \"v\", \"showlegend\": false, \"text\": [\"\\ub300\\ub9cc\", \"\\ud64d\\ucf69\", \"\\ub9c8\\uce74\\uc624\", \"\\ud0dc\\uad6d\", \"\\ub9d0\\ub808\\uc774\\uc2dc\\uc544\", \"\\ud544\\ub9ac\\ud540\", \"\\uc778\\ub3c4\\ub124\\uc2dc\\uc544\", \"\\uc2f1\\uac00\\ud3ec\\ub974\", \"\\ube0c\\ub8e8\\ub098\\uc774\", \"\\ubbf8\\uc580\\ub9c8\", \"\\ub77c\\uc624\\uc2a4\", \"\\ubca0\\ud2b8\\ub0a8\", \"\\ud2f0\\ubaa8\\ub974\", \"\\uc778\\ub3c4\", \"\\uc2a4\\ub9ac\\ub791\\uce74\", \"\\ud30c\\ud0a4\\uc2a4\\ud0c4\", \"\\ub124\\ud314\", \"\\ubc29\\uae00\\ub77c\\ub370\\uc2dc\", \"\\uc544\\ud504\\uac00\\ub2c8\\uc2a4\\ud0c4\", \"\\uce84\\ubcf4\\ub514\\uc544\", \"\\ubd80\\ud0c4\", \"\\ubab0\\ub514\\ube0c\", \"\\ubabd\\uace8\", \"\\uc2dc\\ud0b4\", \"\\ubd81\\ud55c\", \"\\ub9c8\\uc694\\ud14c\", \"\\uc601\\ub839\\uc778\\ub3c4\\uc591\\uc12c\", \"\\uad6d\\uc81c\\uc5f0\\ud569\", \"\\uc774\\ub780\", \"\\uc0ac\\uc6b0\\ub514\\uc544\\ub77c\\ube44\\uc544\", \"\\uc774\\uc2a4\\ub77c\\uc5d8\", \"\\uc694\\ub974\\ub2e8\", \"\\ub808\\ubc14\\ub17c\", \"\\ucfe0\\uc6e8\\uc774\\ud2b8\", \"\\uc2dc\\ub9ac\\uc544\", \"\\ud130\\ud0a4\", \"\\uc608\\uba58\\uacf5\\ud654\\uad6d\", \"\\uc608\\uba58\\uc778\\ubbfc\\ubbfc\\uc8fc\\uc8fc\\uc758\\uacf5\\ud654\\uad6d\", \"\\uce74\\ud0c0\\ub974\", \"\\uc544\\ub78d\\uc5d0\\ubbf8\\ub9ac\\ud2b8\\uc5f0\\ud569\", \"\\uc624\\ub9cc\", \"\\uc774\\ub77c\\ud06c\", \"\\ubc14\\ub808\\uc778\", \"\\ud0a4\\ud504\\ub85c\\uc2a4\", \"\\ud314\\ub808\\uc2a4\\ud0c0\\uc778\", \"\\uc6b0\\uc988\\ubca0\\ud0a4\\uc2a4\\ud0c4\", \"\\uce74\\uc790\\ud750\\uc2a4\\ud0c4\", \"\\ud0a4\\ub974\\uae30\\uc2a4\\uc2a4\\ud0c4\", \"\\ud22c\\ub974\\ud06c\\uba54\\ub2c8\\uc2a4\\ud0c4\", \"\\ud0c0\\uc9c0\\ud0a4\\uc2a4\\ud0c4\", \"\\uc911\\ub3d9 \\uae30\\ud0c0\", \"\\uce90\\ub098\\ub2e4\", \"\\uba55\\uc2dc\\ucf54\", \"\\ub2c8\\uce74\\ub77c\\uacfc\", \"\\uc628\\ub450\\ub77c\\uc2a4\", \"\\ub3c4\\ubbf8\\ub2c8\\uce74\\uc5f0\\ubc29\", \"\\uc5d8\\uc0b4\\ubc14\\ub3c4\\ub974\", \"\\uc544\\uc774\\ud2f0\", \"\\ud2b8\\ub9ac\\ub2c8\\ub2e4\\ub4dc\\ud1a0\\ubc14\\uace0\", \"\\uacfc\\ud14c\\ub9d0\\ub77c\", \"\\uc790\\uba54\\uc774\\uce74\", \"\\ubc14\\ubca0\\uc774\\ub3c4\\uc2a4\", \"\\uc138\\uc778\\ud2b8\\ube48\\uc13c\\ud2b8 \\uadf8\\ub808\\ub098\\ub518\", \"\\ubc14\\ud558\\ub9c8\", \"\\ubc84\\ubba4\\ub2e4\", \"\\ubca8\\ub9ac\\uc988\", \"\\uc138\\uc778\\ud2b8\\ub8e8\\uc2dc\\uc544\", \"\\ud478\\uc5d0\\ub974\\ud1a0\\ub9ac\\ucf54\", \"\\ucfe0\\ubc14\", \"\\uc564\\ud2f0\\uac00\\ubc14\\ubd80\\ub2e4\", \"\\ud30c\\ub098\\ub9c8\", \"\\ucf54\\uc2a4\\ud0c0\\ub9ac\\uce74\", \"\\ub3c4\\ubbf8\\ub2c8\\uce74\\uacf5\\ud654\\uad6d\", \"\\ud130\\ud06c\\uc2a4\\ucf00\\uc774\\ucee4\\uc2a4\", \"\\uc601\\ub839 \\ubc84\\uc9c4\\uc544\\uc77c\\ub79c\\ub4dc\", \"\\ub124\\ub35c\\ub780\\ub4dc\\ub839 \\uc564\\ud2f8\\ub9ac\\uc2a4\", \"\\ucf00\\uc774\\ub9cc\\uc544\\uc77c\\ub79c\\ub4dc\", \"\\uc575\\uadc8\\ub77c\", \"\\uc138\\uc778\\ud2b8\\ud0a4\\uce20\\ub124\\ube44\\uc2a4\", \"\\uc544\\ub8e8\\ubc14\", \"\\ubbf8\\ub839\\uc544\\ubaa8\\ub974\", \"\\uc0c1\\ud53c\\uc5d0\\ub974 \\ubbf8\\ud074\\ub871\", \"\\ube0c\\ub77c\\uc9c8\", \"\\ucf5c\\ub86c\\ube44\\uc544\", \"\\uc544\\ub974\\ud5e8\\ud2f0\\ub098\", \"\\uc6b0\\ub8e8\\uacfc\\uc774\", \"\\ud30c\\ub77c\\uacfc\\uc774\", \"\\uce60\\ub808\", \"\\ubca0\\ub124\\uc218\\uc5d8\\ub77c\", \"\\ubcfc\\ub9ac\\ube44\\uc544\", \"\\uac00\\uc774\\uc544\\ub098\", \"\\ud398\\ub8e8\", \"\\uc5d0\\ucf70\\ub3c4\\ub974\", \"\\uc218\\ub9ac\\ub0a8\", \"\\ubd88\\ub839 \\uac00\\uc774\\uc544\\ub098\", \"\\uadf8\\ub808\\ub098\\ub2e4\", \"\\ubaac\\uc11c\\ub798\\ud2b8\", \"\\ud314\\ub79c\\ub4dc\\uad70\\ub3c4\", \"\\uacfc\\ub4e4\\ub8e8\\ud504\", \"\\uc774\\uc2a4\\ud130\\uc81c\\ub3c4\", \"\\ud3ec\\ud074\\ub79c\\ub4dc\", \"\\ubbf8\\ub839 \\ubc84\\uc9c4\\uc544\\uc77c\\ub79c\\ub4dc\", \"\\ub9c8\\ub974\\ud2f0\\ub2c8\\ud06c\", \"\\uc138\\uc778\\ud2b8\\ud06c\\ub9ac\\uc2a4\\ud1a0\\ud37c \\ub124\\ube44\\uc2a4\", \"\\ubd80\\ubca0\\ud2b8\", \"\\ub0a8\\uc870\\uc9c0\\uc544 \\ub0a8\\uc0cc\\ub4dc\\uc704\\uce58 \\uad70\\ub3c4\", \"\\ubbf8\\uad6d \\uc778\\uadfc\\uc12c\", \"\\ub3c5\\uc77c\", \"\\ub3d9\\ub3c5\", \"\\ud504\\ub791\\uc2a4\", \"\\ub124\\ub35c\\ub780\\ub4dc\", \"\\uc2a4\\uc6e8\\ub374\", \"\\uc2a4\\uc704\\uc2a4\", \"\\uc774\\ud0c8\\ub9ac\\uc544\", \"\\ub374\\ub9c8\\ud06c\", \"\\ub178\\ub974\\uc6e8\\uc774\", \"\\ubca8\\uae30\\uc5d0\", \"\\uc624\\uc2a4\\ud2b8\\ub9ac\\uc544\", \"\\uc2a4\\ud398\\uc778\", \"\\uadf8\\ub9ac\\uc2a4\", \"\\ud3ec\\ub974\\ud22c\\uac08\", \"\\ud540\\ub780\\ub4dc\", \"\\uc544\\uc77c\\ub79c\\ub4dc\", \"\\ub8e9\\uc148\\ubd80\\ub974\\ud06c\", \"\\ubc14\\ud2f0\\uce78\", \"\\ubab0\\ud0c0\", \"\\uc544\\uc774\\uc2ac\\ub780\\ub4dc\", \"\\ub9ac\\ud788\\ud150\\uc288\\ud0c0\\uc778\", \"\\uc0b0\\ub9c8\\ub9ac\\ub178\", \"\\uc2a4\\ubc1c\\ubc14\\ub974\", \"\\ud398\\ub85c\\uc12c\", \"\\uc548\\ub3c4\\ub77c\", \"\\ubaa8\\ub098\\ucf54\", \"\\uc9c0\\ube0c\\ub864\\ud130\", \"\\ub9ac\\ud22c\\uc544\\ub2c8\\uc544\", \"\\ub77c\\ud2b8\\ube44\\uc544\", \"\\uc5d0\\uc2a4\\ud1a0\\ub2c8\\uc544\", \"\\uc720\\uace0\\uc2ac\\ub77c\\ube44\\uc544\", \"\\uc2ac\\ub85c\\ubca0\\ub2c8\\uc544\", \"\\ud06c\\ub85c\\uc544\\ud2f0\\uc544\", \"\\ubcf4\\uc2a4\\ub2c8\\uc544-\\ud5e4\\ub974\\uccb4\\ucf54\\ube44\\ub098\", \"\\ub9c8\\ucf00\\ub3c4\\ub2c8\\uc544\", \"\\uc138\\ub974\\ube44\\uc544 \\uc564 \\ubaac\\ud14c\\ub124\\uadf8\\ub85c\", \"\\ubaac\\ud14c\\ub124\\uadf8\\ub85c\", \"\\uc138\\ub974\\ube44\\uc544\", \"\\ucf54\\uc18c\\ubcf4\", \"\\ub8e8\\ub9c8\\ub2c8\\uc544\", \"\\uccb4\\ucf54\", \"\\uc2ac\\ub85c\\ubc14\\ud06c\", \"\\ubd88\\uac00\\ub9ac\\uc544\", \"\\ud3f4\\ub780\\ub4dc\", \"\\ud5dd\\uac00\\ub9ac\", \"\\uc54c\\ubc14\\ub2c8\\uc544\", \"\\ub7ec\\uc2dc\\uc544\", \"\\uc6b0\\ud06c\\ub77c\\uc774\\ub098\", \"\\ubca8\\ub85c\\ub8e8\\uc2dc\", \"\\ubab0\\ub3c4\\ubc14\", \"\\uc544\\ub974\\uba54\\ub2c8\\uc544\", \"\\uc544\\uc81c\\ub974\\ubc14\\uc774\\uc794\", \"\\uadf8\\ub8e8\\uc9c0\\uc544\", \"\\uadf8\\ub9b0\\ub79c\\ub4dc\", \"\\uc624\\uc2a4\\ud2b8\\ub808\\uc77c\\ub9ac\\uc544\", \"\\ub274\\uc9c8\\ub79c\\ub4dc\", \"\\ud53c\\uc9c0\", \"\\ud30c\\ud478\\uc544\\ub274\\uae30\\ub2c8\", \"\\ub098\\uc6b0\\ub8e8\", \"\\ubbf8\\ud06c\\ub85c\\ub124\\uc2dc\\uc544\", \"\\uc0ac\\ubaa8\\uc544\", \"\\uad0c\", \"\\ud22c\\ubc1c\\ub8e8\", \"\\ud0a4\\ub9ac\\ubc14\\uc2dc\", \"\\ud1b5\\uac00\", \"\\ud314\\ub77c\\uc6b0\", \"\\ud638\\uc8fc\\ub839 \\uc194\\ub85c\\ubaac\\uad70\\ub3c4\", \"\\ubbf8\\ub839\\uc0ac\\ubaa8\\uc544\", \"\\ube44\\ub204\\uc544\\ud22c\", \"\\ub9c8\\ub9ac\\uc544\\ub098 \\uad70\\ub3c4\", \"\\ub274\\uce7c\\ub808\\ub3c4\\ub2c8\\uc544\", \"\\ub9c8\\uc0ec\\uad70\\ub3c4\", \"\\uc194\\ub85c\\ubaac\\uad70\\ub3c4\", \"\\ubd88\\ub839 \\ud3f4\\ub9ac\\ub124\\uc2dc\\uc544\", \"\\ucfe1\\uc544\\uc77c\\ub79c\\ub4dc\", \"\\uce90\\ub864\\ub77c\\uc778 \\uad70\\ub3c4\", \"\\ud06c\\ub9ac\\uc2a4\\ub9c8\\uc2a4\", \"\\uc6e8\\uc774\\ud06c\\uc544\\uc77c\\ub79c\\ub4dc\", \"\\ubbf8\\ub4dc\\uc6e8\\uc774\\uad70\\ub3c4\", \"\\ucf54\\ucf54\\uc2a4\\uad70\\ub3c4\", \"\\ub2c8\\uc6b0\\uc5d0\", \"\\ud54f\\uce90\\ub978\", \"\\ud1a0\\ucf08\\ub77c\\uc6b0\", \"\\ub098\\uc774\\uc9c0\\ub9ac\\uc544\", \"\\uc774\\uc9d1\\ud2b8\", \"\\ub0a8\\uc218\\ub2e8\\uacf5\\ud654\\uad6d\", \"\\ub0a8\\uc544\\ud504\\ub9ac\\uce74 \\uacf5\\ud654\\uad6d\", \"\\ud280\\ub2c8\\uc9c0\", \"\\ub9ac\\ube44\\uc544\", \"\\uac00\\ub098\", \"\\ubaa8\\ub85c\\ucf54\", \"\\uc218\\ub2e8\", \"\\uc5d0\\ud2f0\\uc624\\ud53c\\uc544\", \"\\ubaa8\\ub9ac\\uc154\\uc2a4\", \"\\uc7a0\\ube44\\uc544\", \"\\uc6b0\\uac04\\ub2e4\", \"\\ud0c4\\uc790\\ub2c8\\uc544\", \"\\ucf00\\ub0d0\", \"\\ub77c\\uc774\\ubca0\\ub9ac\\uc544\", \"\\uac00\\ubd09\", \"\\ub9d0\\ub9ac\", \"\\uc18c\\ub9d0\\ub9ac\\uc544\", \"\\uc54c\\uc81c\\ub9ac\", \"\\uae30\\ub2c8\\ube44\\uc0ac\\uc6b0\", \"\\ub9d0\\ub77c\\uc704\", \"\\ucf54\\ud2b8\\ub514\\ubd80\\uc544\\ub974\", \"\\uc138\\ub124\\uac08\", \"\\uc790\\uc774\\ub974\", \"\\uc9d0\\ubc14\\ube0c\\uc6e8\", \"\\uce74\\uba54\\ub8ec\", \"\\uc2a4\\uc640\\uc9c8\\ub79c\\ub4dc\", \"\\uc624\\ud2b8\\ubcfc\\ud0c0\", \"\\ucf69\\uace0\", \"\\ucf69\\uace0 \\ubbfc\\uc8fc\\uacf5\\ud654\\uad6d\", \"\\ub9c8\\ub2e4\\uac00\\uc2a4\\uce74\\ub974\", \"\\ub9d0\\ub77c\\uac00\\uc2dc\", \"\\ubd80\\ub8ec\\ub514\", \"\\ubaa8\\ub9ac\\ud0c0\\ub2c8\", \"\\ub808\\uc18c\\ud1a0\", \"\\uc2dc\\uc5d0\\ub77c\\ub9ac\\uc628\", \"\\uae30\\ub2c8\", \"\\ub2c8\\uc81c\\ub974\", \"\\uc559\\uace8\\ub77c\", \"\\ucc28\\ub4dc\", \"\\uc801\\ub3c4\\uae30\\ub2c8\", \"\\uc911\\uc559 \\uc544\\ud504\\ub9ac\\uce74 \\uacf5\\ud654\\uad6d\", \"\\uc9c0\\ubd80\\ud2f0\", \"\\uc138\\uc774\\uc178\", \"\\ubcf4\\uce20\\uc640\\ub098\", \"\\ub098\\ubbf8\\ube44\\uc544\", \"\\uce74\\ubcf4\\ubca0\\ub974\\ub370\", \"\\uac10\\ube44\\uc544\", \"\\ud1a0\\uace0\", \"\\uce74\\ub098\\ub9ac\\uc544 \\uad70\\ub3c4\", \"\\ub974\\uc644\\ub2e4\", \"\\ucf54\\ubaa8\\ub85c\", \"\\uc0c1\\ud22c\\uba54 \\ud504\\ub9b0\\uc2dc\\ud398\", \"\\ubaa8\\uc7a0\\ube44\\ud06c\", \"\\ubca0\\ub0c9\", \"\\uc11c\\uc0ac\\ud558\\ub77c\", \"\\ubd80\\ub974\\ud0a4\\ub098\\ud30c\\uc18c\", \"\\uc138\\uc778\\ud2b8 \\ud5ec\\ub808\\ub098\", \"\\ub808\\uc704\\ub2c8\\uc639\", \"\\uc5d0\\ub9ac\\ud2b8\\ub9ac\\uc544\", \"\\uc544\\uc2dc\\uc544\", \"\\ub3d9\\uc544\\uc2dc\\uc544\", \"\\ub3d9\\ub0a8\\uc544\\uc2dc\\uc544\", \"\\uc11c\\uc544\\uc2dc\\uc544\", \"\\uc911\\ub3d9\", \"\\uc544\\ub78d\", \"\\uc544\\ud504\\ub9ac\\uce74\", \"\\ubd81\\uc544\\ud504\\ub9ac\\uce74\", \"\\uc720\\ub7fd\", \"\\uc11c\\uc720\\ub7fd\", \"\\ub3d9\\uc720\\ub7fd\", \"\\ub0a8\\uc720\\ub7fd\", \"\\ubd81\\uc720\\ub7fd\", \"\\uc624\\uc138\\uc544\\ub2c8\\uc544\", \"\\uc544\\uba54\\ub9ac\\uce74\", \"\\ubd81\\uc544\\uba54\\ub9ac\\uce74\", \"\\ub0a8\\uc544\\uba54\\ub9ac\\uce74\"], \"textposition\": \"bottom right\", \"type\": \"scatter\", \"x\": [26514.0, 51765.7913958652, null, 7520.1891751631, 11086.0908193658, 3831.6872189388, 4011.848820312, 58184.9120430579, 31919.3200272998, 1356.1156705571, 2475.2002283395, 2511.5956960978, null, 2081.2827818958, 3826.2779371399, 1371.1115608541, 1083.4326118635, 1943.6664399495, 510.0263066038, 1501.3340129622, null, 9792.4757032162, 3811.0578369906, null, null, null, null, null, null, 23372.3894565732, 46317.6378770984, 4299.19397994, 7752.2313552358, null, null, 8892.510612221, null, null, 63224.6131564475, null, 15225.169191926, 5926.8045108967, 22126.6313732594, 19789.6460292155, null, 1782.6450362053, 8509.9670591489, 1221.4778745926, null, 1013.5303293918, null, 45937.0833126912, 9571.6766898496, 1863.7995481532, 2378.4535851805, 8172.2096131323, 3984.8594959363, 749.8824503691, 17078.2182186862, 4290.6173373394, 5363.9041350052, 17525.1101835754, null, 31599.949048458, null, 4373.1460915945, 10925.6777223625, 24129.1346163024, null, 16764.2394604493, 14694.0410320174, 11527.516121726, 7894.1646381532, null, null, null, null, null, 18785.7762748174, null, null, null, 8486.010823712, 6227.604044114, 9653.7696279967, 15229.8389695886, 5216.2995137894, 14297.8190108265, null, 3483.0450177684, 5355.448585627, 6652.1953722346, 6005.0451623223, 6127.1713888652, null, 9924.6610675603, null, null, null, null, null, null, null, null, null, null, null, 47388.6353293016, null, 42500.3987860691, 53353.8354649882, 54295.9591190112, 83450.8706276967, 33334.0102881571, 61898.7671281867, 78105.3404888218, 46052.3997869817, 49794.1882131601, 29889.2968328834, 20005.9817657725, 22686.7067091061, 48471.7316884569, 61392.0985712455, 73849.0504180119, null, 30663.915342355, 72659.4282556227, null, null, null, null, null, null, null, 19030.5430407403, 17650.8470196271, 23186.9005176436, null, 25484.3329433816, 14404.0465706836, null, null, null, 8780.0151885634, 5544.2736134288, null, 12737.5428783551, 22023.2919162716, null, 9434.9998360838, 14941.1573732776, 16020.4175231012, 5248.8924457768, 11287.4382982507, 3603.5676144505, null, null, 4699.818684628, 4576.8231634288, null, null, 53430.8549067549, 42035.7034410279, 5716.1468810226, 2783.1980523439, 16179.1603272265, null, 4126.7575064606, null, 5605.0151149213, 3245.0815380821, null, null, null, null, null, null, null, null, null, null, null, null, null, null, null, null, null, null, null, 2156.855561273, 2910.2101088319, null, null, 3197.2356034254, 7821.2836265127, 2154.2380394673, 3192.731314006, 427.1040523211, 853.3336768113, 12318.4380572234, 1274.6560636593, 756.0785791655, 1061.5882439026, 1779.931083438, 550.4124054609, 7139.5062385008, 867.5975130872, null, 3850.7892238754, 748.2450574312, 401.8025748594, 2215.5224871918, 1409.0802463688, null, 1354.4012269184, 1468.6895626015, null, null, 1791.5653220757, null, 505.3561888093, null, 261.872364187, 1657.8228119632, 1320.181954079, 469.5172602795, 1003.7612468425, 546.3100188289, 2739.9246845991, 698.631782398, 6143.0881905975, null, 3545.2010403284, 16827.9622953026, 7362.4214736671, 4818.0018077362, 3526.6921467681, 738.5194027244, 678.1031840129, null, 775.9561845796, 1399.0900153984, null, 479.9176043864, 1207.2749860268, null, 754.2012306288, null, null, null, null, null, null, null, null, null, null, null, null, null, null, null, null, null, null, null, null], \"xaxis\": \"x\", \"y\": [76, 5, 1, 18, 4, 23, 21, 6, 0, 25, 2, 61, 0, 45, 4, 2, 0, 0, 0, 1, 0, 1, 6, 0, 34, 0, 0, 0, 18, 0, 11, 1, 4, 0, 0, 14, 0, 0, 15, 0, 0, 1, 0, 0, 0, 3, 1, 1, 6, 0, 0, 16, 15, 0, 2, 0, 0, 0, 0, 0, 1, 0, 0, 0, 0, 0, 0, 0, 1, 0, 0, 1, 0, 0, 0, 0, 0, 0, 0, 0, 0, 0, 11, 7, 4, 0, 2, 1, 0, 0, 0, 4, 2, 0, 0, 0, 0, 0, 0, 0, 0, 0, 0, 0, 0, 0, 0, 61, 0, 63, 7, 2, 5, 65, 4, 3, 1, 3, 16, 1, 0, 4, 4, 0, 0, 0, 0, 0, 0, 0, 0, 0, 0, 0, 1, 1, 3, 0, 2, 0, 0, 0, 0, 0, 0, 0, 1, 27, 0, 0, 7, 2, 0, 70, 0, 0, 0, 0, 0, 0, 0, 0, 2, 0, 0, 0, 0, 0, 1, 0, 0, 0, 0, 0, 0, 0, 0, 0, 0, 0, 0, 0, 0, 7, 0, 0, 0, 0, 0, 0, 2, 2, 0, 0, 0, 0, 4, 0, 0, 2, 1, 0, 1, 0, 1, 0, 0, 0, 0, 0, 0, 0, 0, 0, 0, 0, 0, 0, 0, 1, 0, 0, 0, 0, 0, 0, 0, 0, 0, 0, 0, 0, 0, 0, 0, 0, 0, 0, 0, 1, 0, 0, 0, 0, 0, 0, 0, 0, 0, 0, 0, 50, 4, 2, 0, 2, 2, 20, 0, 48, 0, 1, 0, 2, 0, 3, 0, 0], \"yaxis\": \"y\"}],                        {\"legend\": {\"tracegroupgap\": 0}, \"margin\": {\"t\": 60}, \"template\": {\"data\": {\"bar\": [{\"error_x\": {\"color\": \"#2a3f5f\"}, \"error_y\": {\"color\": \"#2a3f5f\"}, \"marker\": {\"line\": {\"color\": \"#E5ECF6\", \"width\": 0.5}}, \"type\": \"bar\"}], \"barpolar\": [{\"marker\": {\"line\": {\"color\": \"#E5ECF6\", \"width\": 0.5}}, \"type\": \"barpolar\"}], \"carpet\": [{\"aaxis\": {\"endlinecolor\": \"#2a3f5f\", \"gridcolor\": \"white\", \"linecolor\": \"white\", \"minorgridcolor\": \"white\", \"startlinecolor\": \"#2a3f5f\"}, \"baxis\": {\"endlinecolor\": \"#2a3f5f\", \"gridcolor\": \"white\", \"linecolor\": \"white\", \"minorgridcolor\": \"white\", \"startlinecolor\": \"#2a3f5f\"}, \"type\": \"carpet\"}], \"choropleth\": [{\"colorbar\": {\"outlinewidth\": 0, \"ticks\": \"\"}, \"type\": \"choropleth\"}], \"contour\": [{\"colorbar\": {\"outlinewidth\": 0, \"ticks\": \"\"}, \"colorscale\": [[0.0, \"#0d0887\"], [0.1111111111111111, \"#46039f\"], [0.2222222222222222, \"#7201a8\"], [0.3333333333333333, \"#9c179e\"], [0.4444444444444444, \"#bd3786\"], [0.5555555555555556, \"#d8576b\"], [0.6666666666666666, \"#ed7953\"], [0.7777777777777778, \"#fb9f3a\"], [0.8888888888888888, \"#fdca26\"], [1.0, \"#f0f921\"]], \"type\": \"contour\"}], \"contourcarpet\": [{\"colorbar\": {\"outlinewidth\": 0, \"ticks\": \"\"}, \"type\": \"contourcarpet\"}], \"heatmap\": [{\"colorbar\": {\"outlinewidth\": 0, \"ticks\": \"\"}, \"colorscale\": [[0.0, \"#0d0887\"], [0.1111111111111111, \"#46039f\"], [0.2222222222222222, \"#7201a8\"], [0.3333333333333333, \"#9c179e\"], [0.4444444444444444, \"#bd3786\"], [0.5555555555555556, \"#d8576b\"], [0.6666666666666666, \"#ed7953\"], [0.7777777777777778, \"#fb9f3a\"], [0.8888888888888888, \"#fdca26\"], [1.0, \"#f0f921\"]], \"type\": \"heatmap\"}], \"heatmapgl\": [{\"colorbar\": {\"outlinewidth\": 0, \"ticks\": \"\"}, \"colorscale\": [[0.0, \"#0d0887\"], [0.1111111111111111, \"#46039f\"], [0.2222222222222222, \"#7201a8\"], [0.3333333333333333, \"#9c179e\"], [0.4444444444444444, \"#bd3786\"], [0.5555555555555556, \"#d8576b\"], [0.6666666666666666, \"#ed7953\"], [0.7777777777777778, \"#fb9f3a\"], [0.8888888888888888, \"#fdca26\"], [1.0, \"#f0f921\"]], \"type\": \"heatmapgl\"}], \"histogram\": [{\"marker\": {\"colorbar\": {\"outlinewidth\": 0, \"ticks\": \"\"}}, \"type\": \"histogram\"}], \"histogram2d\": [{\"colorbar\": {\"outlinewidth\": 0, \"ticks\": \"\"}, \"colorscale\": [[0.0, \"#0d0887\"], [0.1111111111111111, \"#46039f\"], [0.2222222222222222, \"#7201a8\"], [0.3333333333333333, \"#9c179e\"], [0.4444444444444444, \"#bd3786\"], [0.5555555555555556, \"#d8576b\"], [0.6666666666666666, \"#ed7953\"], [0.7777777777777778, \"#fb9f3a\"], [0.8888888888888888, \"#fdca26\"], [1.0, \"#f0f921\"]], \"type\": \"histogram2d\"}], \"histogram2dcontour\": [{\"colorbar\": {\"outlinewidth\": 0, \"ticks\": \"\"}, \"colorscale\": [[0.0, \"#0d0887\"], [0.1111111111111111, \"#46039f\"], [0.2222222222222222, \"#7201a8\"], [0.3333333333333333, \"#9c179e\"], [0.4444444444444444, \"#bd3786\"], [0.5555555555555556, \"#d8576b\"], [0.6666666666666666, \"#ed7953\"], [0.7777777777777778, \"#fb9f3a\"], [0.8888888888888888, \"#fdca26\"], [1.0, \"#f0f921\"]], \"type\": \"histogram2dcontour\"}], \"mesh3d\": [{\"colorbar\": {\"outlinewidth\": 0, \"ticks\": \"\"}, \"type\": \"mesh3d\"}], \"parcoords\": [{\"line\": {\"colorbar\": {\"outlinewidth\": 0, \"ticks\": \"\"}}, \"type\": \"parcoords\"}], \"pie\": [{\"automargin\": true, \"type\": \"pie\"}], \"scatter\": [{\"marker\": {\"colorbar\": {\"outlinewidth\": 0, \"ticks\": \"\"}}, \"type\": \"scatter\"}], \"scatter3d\": [{\"line\": {\"colorbar\": {\"outlinewidth\": 0, \"ticks\": \"\"}}, \"marker\": {\"colorbar\": {\"outlinewidth\": 0, \"ticks\": \"\"}}, \"type\": \"scatter3d\"}], \"scattercarpet\": [{\"marker\": {\"colorbar\": {\"outlinewidth\": 0, \"ticks\": \"\"}}, \"type\": \"scattercarpet\"}], \"scattergeo\": [{\"marker\": {\"colorbar\": {\"outlinewidth\": 0, \"ticks\": \"\"}}, \"type\": \"scattergeo\"}], \"scattergl\": [{\"marker\": {\"colorbar\": {\"outlinewidth\": 0, \"ticks\": \"\"}}, \"type\": \"scattergl\"}], \"scattermapbox\": [{\"marker\": {\"colorbar\": {\"outlinewidth\": 0, \"ticks\": \"\"}}, \"type\": \"scattermapbox\"}], \"scatterpolar\": [{\"marker\": {\"colorbar\": {\"outlinewidth\": 0, \"ticks\": \"\"}}, \"type\": \"scatterpolar\"}], \"scatterpolargl\": [{\"marker\": {\"colorbar\": {\"outlinewidth\": 0, \"ticks\": \"\"}}, \"type\": \"scatterpolargl\"}], \"scatterternary\": [{\"marker\": {\"colorbar\": {\"outlinewidth\": 0, \"ticks\": \"\"}}, \"type\": \"scatterternary\"}], \"surface\": [{\"colorbar\": {\"outlinewidth\": 0, \"ticks\": \"\"}, \"colorscale\": [[0.0, \"#0d0887\"], [0.1111111111111111, \"#46039f\"], [0.2222222222222222, \"#7201a8\"], [0.3333333333333333, \"#9c179e\"], [0.4444444444444444, \"#bd3786\"], [0.5555555555555556, \"#d8576b\"], [0.6666666666666666, \"#ed7953\"], [0.7777777777777778, \"#fb9f3a\"], [0.8888888888888888, \"#fdca26\"], [1.0, \"#f0f921\"]], \"type\": \"surface\"}], \"table\": [{\"cells\": {\"fill\": {\"color\": \"#EBF0F8\"}, \"line\": {\"color\": \"white\"}}, \"header\": {\"fill\": {\"color\": \"#C8D4E3\"}, \"line\": {\"color\": \"white\"}}, \"type\": \"table\"}]}, \"layout\": {\"annotationdefaults\": {\"arrowcolor\": \"#2a3f5f\", \"arrowhead\": 0, \"arrowwidth\": 1}, \"coloraxis\": {\"colorbar\": {\"outlinewidth\": 0, \"ticks\": \"\"}}, \"colorscale\": {\"diverging\": [[0, \"#8e0152\"], [0.1, \"#c51b7d\"], [0.2, \"#de77ae\"], [0.3, \"#f1b6da\"], [0.4, \"#fde0ef\"], [0.5, \"#f7f7f7\"], [0.6, \"#e6f5d0\"], [0.7, \"#b8e186\"], [0.8, \"#7fbc41\"], [0.9, \"#4d9221\"], [1, \"#276419\"]], \"sequential\": [[0.0, \"#0d0887\"], [0.1111111111111111, \"#46039f\"], [0.2222222222222222, \"#7201a8\"], [0.3333333333333333, \"#9c179e\"], [0.4444444444444444, \"#bd3786\"], [0.5555555555555556, \"#d8576b\"], [0.6666666666666666, \"#ed7953\"], [0.7777777777777778, \"#fb9f3a\"], [0.8888888888888888, \"#fdca26\"], [1.0, \"#f0f921\"]], \"sequentialminus\": [[0.0, \"#0d0887\"], [0.1111111111111111, \"#46039f\"], [0.2222222222222222, \"#7201a8\"], [0.3333333333333333, \"#9c179e\"], [0.4444444444444444, \"#bd3786\"], [0.5555555555555556, \"#d8576b\"], [0.6666666666666666, \"#ed7953\"], [0.7777777777777778, \"#fb9f3a\"], [0.8888888888888888, \"#fdca26\"], [1.0, \"#f0f921\"]]}, \"colorway\": [\"#636efa\", \"#EF553B\", \"#00cc96\", \"#ab63fa\", \"#FFA15A\", \"#19d3f3\", \"#FF6692\", \"#B6E880\", \"#FF97FF\", \"#FECB52\"], \"font\": {\"color\": \"#2a3f5f\"}, \"geo\": {\"bgcolor\": \"white\", \"lakecolor\": \"white\", \"landcolor\": \"#E5ECF6\", \"showlakes\": true, \"showland\": true, \"subunitcolor\": \"white\"}, \"hoverlabel\": {\"align\": \"left\"}, \"hovermode\": \"closest\", \"mapbox\": {\"style\": \"light\"}, \"paper_bgcolor\": \"white\", \"plot_bgcolor\": \"#E5ECF6\", \"polar\": {\"angularaxis\": {\"gridcolor\": \"white\", \"linecolor\": \"white\", \"ticks\": \"\"}, \"bgcolor\": \"#E5ECF6\", \"radialaxis\": {\"gridcolor\": \"white\", \"linecolor\": \"white\", \"ticks\": \"\"}}, \"scene\": {\"xaxis\": {\"backgroundcolor\": \"#E5ECF6\", \"gridcolor\": \"white\", \"gridwidth\": 2, \"linecolor\": \"white\", \"showbackground\": true, \"ticks\": \"\", \"zerolinecolor\": \"white\"}, \"yaxis\": {\"backgroundcolor\": \"#E5ECF6\", \"gridcolor\": \"white\", \"gridwidth\": 2, \"linecolor\": \"white\", \"showbackground\": true, \"ticks\": \"\", \"zerolinecolor\": \"white\"}, \"zaxis\": {\"backgroundcolor\": \"#E5ECF6\", \"gridcolor\": \"white\", \"gridwidth\": 2, \"linecolor\": \"white\", \"showbackground\": true, \"ticks\": \"\", \"zerolinecolor\": \"white\"}}, \"shapedefaults\": {\"line\": {\"color\": \"#2a3f5f\"}}, \"ternary\": {\"aaxis\": {\"gridcolor\": \"white\", \"linecolor\": \"white\", \"ticks\": \"\"}, \"baxis\": {\"gridcolor\": \"white\", \"linecolor\": \"white\", \"ticks\": \"\"}, \"bgcolor\": \"#E5ECF6\", \"caxis\": {\"gridcolor\": \"white\", \"linecolor\": \"white\", \"ticks\": \"\"}}, \"title\": {\"x\": 0.05}, \"xaxis\": {\"automargin\": true, \"gridcolor\": \"white\", \"linecolor\": \"white\", \"ticks\": \"\", \"title\": {\"standoff\": 15}, \"zerolinecolor\": \"white\", \"zerolinewidth\": 2}, \"yaxis\": {\"automargin\": true, \"gridcolor\": \"white\", \"linecolor\": \"white\", \"ticks\": \"\", \"title\": {\"standoff\": 15}, \"zerolinecolor\": \"white\", \"zerolinewidth\": 2}}}, \"xaxis\": {\"anchor\": \"y\", \"domain\": [0.0, 1.0], \"title\": {\"text\": \"gni($)\"}}, \"yaxis\": {\"anchor\": \"x\", \"domain\": [0.0, 1.0], \"title\": {\"text\": \"video_num\"}}},                        {\"responsive\": true}                    ).then(function(){\n",
       "                            \n",
       "var gd = document.getElementById('ebff9a69-1aab-4cad-b2d4-e5180f551a09');\n",
       "var x = new MutationObserver(function (mutations, observer) {{\n",
       "        var display = window.getComputedStyle(gd).display;\n",
       "        if (!display || display === 'none') {{\n",
       "            console.log([gd, 'removed!']);\n",
       "            Plotly.purge(gd);\n",
       "            observer.disconnect();\n",
       "        }}\n",
       "}});\n",
       "\n",
       "// Listen for the removal of the full notebook cells\n",
       "var notebookContainer = gd.closest('#notebook-container');\n",
       "if (notebookContainer) {{\n",
       "    x.observe(notebookContainer, {childList: true});\n",
       "}}\n",
       "\n",
       "// Listen for the clearing of the current output cell\n",
       "var outputEl = gd.closest('.output');\n",
       "if (outputEl) {{\n",
       "    x.observe(outputEl, {childList: true});\n",
       "}}\n",
       "\n",
       "                        })                };                });            </script>        </div>"
      ]
     },
     "metadata": {},
     "output_type": "display_data"
    }
   ],
   "source": [
    "countires_stat_re = countires_stat[countires_stat['video_num']<100]\n",
    "fig = px.scatter(countires_stat_re, x=\"gni($)\", y=\"video_num\", text=\"country\")\n",
    "fig.update_traces(textposition=\"bottom right\")\n",
    "fig.show()"
   ]
  },
  {
   "cell_type": "code",
   "execution_count": 250,
   "metadata": {},
   "outputs": [
    {
     "data": {
      "application/vnd.plotly.v1+json": {
       "config": {
        "plotlyServerURL": "https://plot.ly"
       },
       "data": [
        {
         "hovertemplate": "gni($)=%{x}<br>viewCount=%{y}<br>country=%{text}<br>video_num=%{marker.color}<extra></extra>",
         "legendgroup": "",
         "marker": {
          "color": [
           124,
           14,
           11,
           6,
           7,
           76,
           70,
           7,
           560,
           25,
           16,
           374,
           63,
           27,
           45,
           1327,
           16,
           11,
           23,
           61,
           7,
           61,
           21,
           15,
           18,
           15,
           65,
           6
          ],
          "coloraxis": "coloraxis",
          "symbol": "circle"
         },
         "mode": "markers+text",
         "name": "",
         "orientation": "v",
         "showlegend": false,
         "text": [
          "영국",
          "터키",
          "이스라엘",
          "몽골",
          "네덜란드",
          "대만",
          "러시아",
          "콜롬비아",
          "미국",
          "미얀마",
          "스페인",
          "중국",
          "프랑스",
          "체코",
          "인도",
          "일본",
          "캐나다",
          "브라질",
          "필리핀",
          "독일",
          "폴란드",
          "베트남",
          "인도네시아",
          "멕시코",
          "태국",
          "카타르",
          "이탈리아",
          "싱가포르"
         ],
         "textposition": "bottom right",
         "type": "scatter",
         "x": [
          41290.946174167,
          8892.510612221,
          46317.6378770984,
          3811.0578369906,
          53353.8354649882,
          26514,
          11287.4382982507,
          6227.604044114,
          65716.503439958,
          1356.1156705571,
          29889.2968328834,
          9979.2317580243,
          42500.3987860691,
          22023.2919162716,
          2081.2827818958,
          41490.8199704261,
          45937.0833126912,
          8486.010823712,
          3831.6872189388,
          47388.6353293016,
          14941.1573732776,
          2511.5956960978,
          4011.848820312,
          9571.6766898496,
          7520.1891751631,
          63224.6131564475,
          33334.0102881571,
          58184.9120430579
         ],
         "xaxis": "x",
         "y": [
          652078.4516129033,
          512670.2142857143,
          430425.54545454547,
          407045.66666666674,
          395437.1428571429,
          384516.48684210534,
          374220.6285714286,
          353467.2857142857,
          341946.18279569893,
          321149.72,
          312721.3125,
          307902.6380697051,
          293775.1746031746,
          263403.22222222225,
          202505.66666666663,
          199766.75867269986,
          184753.5625,
          173562.45454545456,
          151442.30434782608,
          150107.04918032786,
          147758.57142857142,
          146414.3606557377,
          139786.04761904766,
          135065.2,
          126081.16666666669,
          116496.8,
          96577.44615384618,
          67481.16666666669
         ],
         "yaxis": "y"
        }
       ],
       "layout": {
        "coloraxis": {
         "colorbar": {
          "title": {
           "text": "video_num"
          }
         },
         "colorscale": [
          [
           0,
           "#0d0887"
          ],
          [
           0.1111111111111111,
           "#46039f"
          ],
          [
           0.2222222222222222,
           "#7201a8"
          ],
          [
           0.3333333333333333,
           "#9c179e"
          ],
          [
           0.4444444444444444,
           "#bd3786"
          ],
          [
           0.5555555555555556,
           "#d8576b"
          ],
          [
           0.6666666666666666,
           "#ed7953"
          ],
          [
           0.7777777777777778,
           "#fb9f3a"
          ],
          [
           0.8888888888888888,
           "#fdca26"
          ],
          [
           1,
           "#f0f921"
          ]
         ]
        },
        "legend": {
         "tracegroupgap": 0
        },
        "margin": {
         "t": 60
        },
        "template": {
         "data": {
          "bar": [
           {
            "error_x": {
             "color": "#2a3f5f"
            },
            "error_y": {
             "color": "#2a3f5f"
            },
            "marker": {
             "line": {
              "color": "#E5ECF6",
              "width": 0.5
             }
            },
            "type": "bar"
           }
          ],
          "barpolar": [
           {
            "marker": {
             "line": {
              "color": "#E5ECF6",
              "width": 0.5
             }
            },
            "type": "barpolar"
           }
          ],
          "carpet": [
           {
            "aaxis": {
             "endlinecolor": "#2a3f5f",
             "gridcolor": "white",
             "linecolor": "white",
             "minorgridcolor": "white",
             "startlinecolor": "#2a3f5f"
            },
            "baxis": {
             "endlinecolor": "#2a3f5f",
             "gridcolor": "white",
             "linecolor": "white",
             "minorgridcolor": "white",
             "startlinecolor": "#2a3f5f"
            },
            "type": "carpet"
           }
          ],
          "choropleth": [
           {
            "colorbar": {
             "outlinewidth": 0,
             "ticks": ""
            },
            "type": "choropleth"
           }
          ],
          "contour": [
           {
            "colorbar": {
             "outlinewidth": 0,
             "ticks": ""
            },
            "colorscale": [
             [
              0,
              "#0d0887"
             ],
             [
              0.1111111111111111,
              "#46039f"
             ],
             [
              0.2222222222222222,
              "#7201a8"
             ],
             [
              0.3333333333333333,
              "#9c179e"
             ],
             [
              0.4444444444444444,
              "#bd3786"
             ],
             [
              0.5555555555555556,
              "#d8576b"
             ],
             [
              0.6666666666666666,
              "#ed7953"
             ],
             [
              0.7777777777777778,
              "#fb9f3a"
             ],
             [
              0.8888888888888888,
              "#fdca26"
             ],
             [
              1,
              "#f0f921"
             ]
            ],
            "type": "contour"
           }
          ],
          "contourcarpet": [
           {
            "colorbar": {
             "outlinewidth": 0,
             "ticks": ""
            },
            "type": "contourcarpet"
           }
          ],
          "heatmap": [
           {
            "colorbar": {
             "outlinewidth": 0,
             "ticks": ""
            },
            "colorscale": [
             [
              0,
              "#0d0887"
             ],
             [
              0.1111111111111111,
              "#46039f"
             ],
             [
              0.2222222222222222,
              "#7201a8"
             ],
             [
              0.3333333333333333,
              "#9c179e"
             ],
             [
              0.4444444444444444,
              "#bd3786"
             ],
             [
              0.5555555555555556,
              "#d8576b"
             ],
             [
              0.6666666666666666,
              "#ed7953"
             ],
             [
              0.7777777777777778,
              "#fb9f3a"
             ],
             [
              0.8888888888888888,
              "#fdca26"
             ],
             [
              1,
              "#f0f921"
             ]
            ],
            "type": "heatmap"
           }
          ],
          "heatmapgl": [
           {
            "colorbar": {
             "outlinewidth": 0,
             "ticks": ""
            },
            "colorscale": [
             [
              0,
              "#0d0887"
             ],
             [
              0.1111111111111111,
              "#46039f"
             ],
             [
              0.2222222222222222,
              "#7201a8"
             ],
             [
              0.3333333333333333,
              "#9c179e"
             ],
             [
              0.4444444444444444,
              "#bd3786"
             ],
             [
              0.5555555555555556,
              "#d8576b"
             ],
             [
              0.6666666666666666,
              "#ed7953"
             ],
             [
              0.7777777777777778,
              "#fb9f3a"
             ],
             [
              0.8888888888888888,
              "#fdca26"
             ],
             [
              1,
              "#f0f921"
             ]
            ],
            "type": "heatmapgl"
           }
          ],
          "histogram": [
           {
            "marker": {
             "colorbar": {
              "outlinewidth": 0,
              "ticks": ""
             }
            },
            "type": "histogram"
           }
          ],
          "histogram2d": [
           {
            "colorbar": {
             "outlinewidth": 0,
             "ticks": ""
            },
            "colorscale": [
             [
              0,
              "#0d0887"
             ],
             [
              0.1111111111111111,
              "#46039f"
             ],
             [
              0.2222222222222222,
              "#7201a8"
             ],
             [
              0.3333333333333333,
              "#9c179e"
             ],
             [
              0.4444444444444444,
              "#bd3786"
             ],
             [
              0.5555555555555556,
              "#d8576b"
             ],
             [
              0.6666666666666666,
              "#ed7953"
             ],
             [
              0.7777777777777778,
              "#fb9f3a"
             ],
             [
              0.8888888888888888,
              "#fdca26"
             ],
             [
              1,
              "#f0f921"
             ]
            ],
            "type": "histogram2d"
           }
          ],
          "histogram2dcontour": [
           {
            "colorbar": {
             "outlinewidth": 0,
             "ticks": ""
            },
            "colorscale": [
             [
              0,
              "#0d0887"
             ],
             [
              0.1111111111111111,
              "#46039f"
             ],
             [
              0.2222222222222222,
              "#7201a8"
             ],
             [
              0.3333333333333333,
              "#9c179e"
             ],
             [
              0.4444444444444444,
              "#bd3786"
             ],
             [
              0.5555555555555556,
              "#d8576b"
             ],
             [
              0.6666666666666666,
              "#ed7953"
             ],
             [
              0.7777777777777778,
              "#fb9f3a"
             ],
             [
              0.8888888888888888,
              "#fdca26"
             ],
             [
              1,
              "#f0f921"
             ]
            ],
            "type": "histogram2dcontour"
           }
          ],
          "mesh3d": [
           {
            "colorbar": {
             "outlinewidth": 0,
             "ticks": ""
            },
            "type": "mesh3d"
           }
          ],
          "parcoords": [
           {
            "line": {
             "colorbar": {
              "outlinewidth": 0,
              "ticks": ""
             }
            },
            "type": "parcoords"
           }
          ],
          "pie": [
           {
            "automargin": true,
            "type": "pie"
           }
          ],
          "scatter": [
           {
            "marker": {
             "colorbar": {
              "outlinewidth": 0,
              "ticks": ""
             }
            },
            "type": "scatter"
           }
          ],
          "scatter3d": [
           {
            "line": {
             "colorbar": {
              "outlinewidth": 0,
              "ticks": ""
             }
            },
            "marker": {
             "colorbar": {
              "outlinewidth": 0,
              "ticks": ""
             }
            },
            "type": "scatter3d"
           }
          ],
          "scattercarpet": [
           {
            "marker": {
             "colorbar": {
              "outlinewidth": 0,
              "ticks": ""
             }
            },
            "type": "scattercarpet"
           }
          ],
          "scattergeo": [
           {
            "marker": {
             "colorbar": {
              "outlinewidth": 0,
              "ticks": ""
             }
            },
            "type": "scattergeo"
           }
          ],
          "scattergl": [
           {
            "marker": {
             "colorbar": {
              "outlinewidth": 0,
              "ticks": ""
             }
            },
            "type": "scattergl"
           }
          ],
          "scattermapbox": [
           {
            "marker": {
             "colorbar": {
              "outlinewidth": 0,
              "ticks": ""
             }
            },
            "type": "scattermapbox"
           }
          ],
          "scatterpolar": [
           {
            "marker": {
             "colorbar": {
              "outlinewidth": 0,
              "ticks": ""
             }
            },
            "type": "scatterpolar"
           }
          ],
          "scatterpolargl": [
           {
            "marker": {
             "colorbar": {
              "outlinewidth": 0,
              "ticks": ""
             }
            },
            "type": "scatterpolargl"
           }
          ],
          "scatterternary": [
           {
            "marker": {
             "colorbar": {
              "outlinewidth": 0,
              "ticks": ""
             }
            },
            "type": "scatterternary"
           }
          ],
          "surface": [
           {
            "colorbar": {
             "outlinewidth": 0,
             "ticks": ""
            },
            "colorscale": [
             [
              0,
              "#0d0887"
             ],
             [
              0.1111111111111111,
              "#46039f"
             ],
             [
              0.2222222222222222,
              "#7201a8"
             ],
             [
              0.3333333333333333,
              "#9c179e"
             ],
             [
              0.4444444444444444,
              "#bd3786"
             ],
             [
              0.5555555555555556,
              "#d8576b"
             ],
             [
              0.6666666666666666,
              "#ed7953"
             ],
             [
              0.7777777777777778,
              "#fb9f3a"
             ],
             [
              0.8888888888888888,
              "#fdca26"
             ],
             [
              1,
              "#f0f921"
             ]
            ],
            "type": "surface"
           }
          ],
          "table": [
           {
            "cells": {
             "fill": {
              "color": "#EBF0F8"
             },
             "line": {
              "color": "white"
             }
            },
            "header": {
             "fill": {
              "color": "#C8D4E3"
             },
             "line": {
              "color": "white"
             }
            },
            "type": "table"
           }
          ]
         },
         "layout": {
          "annotationdefaults": {
           "arrowcolor": "#2a3f5f",
           "arrowhead": 0,
           "arrowwidth": 1
          },
          "coloraxis": {
           "colorbar": {
            "outlinewidth": 0,
            "ticks": ""
           }
          },
          "colorscale": {
           "diverging": [
            [
             0,
             "#8e0152"
            ],
            [
             0.1,
             "#c51b7d"
            ],
            [
             0.2,
             "#de77ae"
            ],
            [
             0.3,
             "#f1b6da"
            ],
            [
             0.4,
             "#fde0ef"
            ],
            [
             0.5,
             "#f7f7f7"
            ],
            [
             0.6,
             "#e6f5d0"
            ],
            [
             0.7,
             "#b8e186"
            ],
            [
             0.8,
             "#7fbc41"
            ],
            [
             0.9,
             "#4d9221"
            ],
            [
             1,
             "#276419"
            ]
           ],
           "sequential": [
            [
             0,
             "#0d0887"
            ],
            [
             0.1111111111111111,
             "#46039f"
            ],
            [
             0.2222222222222222,
             "#7201a8"
            ],
            [
             0.3333333333333333,
             "#9c179e"
            ],
            [
             0.4444444444444444,
             "#bd3786"
            ],
            [
             0.5555555555555556,
             "#d8576b"
            ],
            [
             0.6666666666666666,
             "#ed7953"
            ],
            [
             0.7777777777777778,
             "#fb9f3a"
            ],
            [
             0.8888888888888888,
             "#fdca26"
            ],
            [
             1,
             "#f0f921"
            ]
           ],
           "sequentialminus": [
            [
             0,
             "#0d0887"
            ],
            [
             0.1111111111111111,
             "#46039f"
            ],
            [
             0.2222222222222222,
             "#7201a8"
            ],
            [
             0.3333333333333333,
             "#9c179e"
            ],
            [
             0.4444444444444444,
             "#bd3786"
            ],
            [
             0.5555555555555556,
             "#d8576b"
            ],
            [
             0.6666666666666666,
             "#ed7953"
            ],
            [
             0.7777777777777778,
             "#fb9f3a"
            ],
            [
             0.8888888888888888,
             "#fdca26"
            ],
            [
             1,
             "#f0f921"
            ]
           ]
          },
          "colorway": [
           "#636efa",
           "#EF553B",
           "#00cc96",
           "#ab63fa",
           "#FFA15A",
           "#19d3f3",
           "#FF6692",
           "#B6E880",
           "#FF97FF",
           "#FECB52"
          ],
          "font": {
           "color": "#2a3f5f"
          },
          "geo": {
           "bgcolor": "white",
           "lakecolor": "white",
           "landcolor": "#E5ECF6",
           "showlakes": true,
           "showland": true,
           "subunitcolor": "white"
          },
          "hoverlabel": {
           "align": "left"
          },
          "hovermode": "closest",
          "mapbox": {
           "style": "light"
          },
          "paper_bgcolor": "white",
          "plot_bgcolor": "#E5ECF6",
          "polar": {
           "angularaxis": {
            "gridcolor": "white",
            "linecolor": "white",
            "ticks": ""
           },
           "bgcolor": "#E5ECF6",
           "radialaxis": {
            "gridcolor": "white",
            "linecolor": "white",
            "ticks": ""
           }
          },
          "scene": {
           "xaxis": {
            "backgroundcolor": "#E5ECF6",
            "gridcolor": "white",
            "gridwidth": 2,
            "linecolor": "white",
            "showbackground": true,
            "ticks": "",
            "zerolinecolor": "white"
           },
           "yaxis": {
            "backgroundcolor": "#E5ECF6",
            "gridcolor": "white",
            "gridwidth": 2,
            "linecolor": "white",
            "showbackground": true,
            "ticks": "",
            "zerolinecolor": "white"
           },
           "zaxis": {
            "backgroundcolor": "#E5ECF6",
            "gridcolor": "white",
            "gridwidth": 2,
            "linecolor": "white",
            "showbackground": true,
            "ticks": "",
            "zerolinecolor": "white"
           }
          },
          "shapedefaults": {
           "line": {
            "color": "#2a3f5f"
           }
          },
          "ternary": {
           "aaxis": {
            "gridcolor": "white",
            "linecolor": "white",
            "ticks": ""
           },
           "baxis": {
            "gridcolor": "white",
            "linecolor": "white",
            "ticks": ""
           },
           "bgcolor": "#E5ECF6",
           "caxis": {
            "gridcolor": "white",
            "linecolor": "white",
            "ticks": ""
           }
          },
          "title": {
           "x": 0.05
          },
          "xaxis": {
           "automargin": true,
           "gridcolor": "white",
           "linecolor": "white",
           "ticks": "",
           "title": {
            "standoff": 15
           },
           "zerolinecolor": "white",
           "zerolinewidth": 2
          },
          "yaxis": {
           "automargin": true,
           "gridcolor": "white",
           "linecolor": "white",
           "ticks": "",
           "title": {
            "standoff": 15
           },
           "zerolinecolor": "white",
           "zerolinewidth": 2
          }
         }
        },
        "xaxis": {
         "anchor": "y",
         "domain": [
          0,
          1
         ],
         "title": {
          "text": "gni($)"
         }
        },
        "yaxis": {
         "anchor": "x",
         "domain": [
          0,
          1
         ],
         "title": {
          "text": "viewCount"
         }
        }
       }
      },
      "text/html": [
       "<div>                            <div id=\"08ca13db-6c94-4cf5-82e6-4c2284cee28a\" class=\"plotly-graph-div\" style=\"height:525px; width:100%;\"></div>            <script type=\"text/javascript\">                require([\"plotly\"], function(Plotly) {                    window.PLOTLYENV=window.PLOTLYENV || {};                                    if (document.getElementById(\"08ca13db-6c94-4cf5-82e6-4c2284cee28a\")) {                    Plotly.newPlot(                        \"08ca13db-6c94-4cf5-82e6-4c2284cee28a\",                        [{\"hovertemplate\": \"gni($)=%{x}<br>viewCount=%{y}<br>country=%{text}<br>video_num=%{marker.color}<extra></extra>\", \"legendgroup\": \"\", \"marker\": {\"color\": [124, 14, 11, 6, 7, 76, 70, 7, 560, 25, 16, 374, 63, 27, 45, 1327, 16, 11, 23, 61, 7, 61, 21, 15, 18, 15, 65, 6], \"coloraxis\": \"coloraxis\", \"symbol\": \"circle\"}, \"mode\": \"markers+text\", \"name\": \"\", \"orientation\": \"v\", \"showlegend\": false, \"text\": [\"\\uc601\\uad6d\", \"\\ud130\\ud0a4\", \"\\uc774\\uc2a4\\ub77c\\uc5d8\", \"\\ubabd\\uace8\", \"\\ub124\\ub35c\\ub780\\ub4dc\", \"\\ub300\\ub9cc\", \"\\ub7ec\\uc2dc\\uc544\", \"\\ucf5c\\ub86c\\ube44\\uc544\", \"\\ubbf8\\uad6d\", \"\\ubbf8\\uc580\\ub9c8\", \"\\uc2a4\\ud398\\uc778\", \"\\uc911\\uad6d\", \"\\ud504\\ub791\\uc2a4\", \"\\uccb4\\ucf54\", \"\\uc778\\ub3c4\", \"\\uc77c\\ubcf8\", \"\\uce90\\ub098\\ub2e4\", \"\\ube0c\\ub77c\\uc9c8\", \"\\ud544\\ub9ac\\ud540\", \"\\ub3c5\\uc77c\", \"\\ud3f4\\ub780\\ub4dc\", \"\\ubca0\\ud2b8\\ub0a8\", \"\\uc778\\ub3c4\\ub124\\uc2dc\\uc544\", \"\\uba55\\uc2dc\\ucf54\", \"\\ud0dc\\uad6d\", \"\\uce74\\ud0c0\\ub974\", \"\\uc774\\ud0c8\\ub9ac\\uc544\", \"\\uc2f1\\uac00\\ud3ec\\ub974\"], \"textposition\": \"bottom right\", \"type\": \"scatter\", \"x\": [41290.946174167, 8892.510612221, 46317.6378770984, 3811.0578369906, 53353.8354649882, 26514.0, 11287.4382982507, 6227.604044114, 65716.503439958, 1356.1156705571, 29889.2968328834, 9979.2317580243, 42500.3987860691, 22023.2919162716, 2081.2827818958, 41490.8199704261, 45937.0833126912, 8486.010823712, 3831.6872189388, 47388.6353293016, 14941.1573732776, 2511.5956960978, 4011.848820312, 9571.6766898496, 7520.1891751631, 63224.6131564475, 33334.0102881571, 58184.9120430579], \"xaxis\": \"x\", \"y\": [652078.4516129033, 512670.2142857143, 430425.54545454547, 407045.66666666674, 395437.1428571429, 384516.48684210534, 374220.6285714286, 353467.2857142857, 341946.18279569893, 321149.72, 312721.3125, 307902.6380697051, 293775.1746031746, 263403.22222222225, 202505.66666666663, 199766.75867269986, 184753.5625, 173562.45454545456, 151442.30434782608, 150107.04918032786, 147758.57142857142, 146414.3606557377, 139786.04761904766, 135065.2, 126081.16666666669, 116496.8, 96577.44615384618, 67481.16666666669], \"yaxis\": \"y\"}],                        {\"coloraxis\": {\"colorbar\": {\"title\": {\"text\": \"video_num\"}}, \"colorscale\": [[0.0, \"#0d0887\"], [0.1111111111111111, \"#46039f\"], [0.2222222222222222, \"#7201a8\"], [0.3333333333333333, \"#9c179e\"], [0.4444444444444444, \"#bd3786\"], [0.5555555555555556, \"#d8576b\"], [0.6666666666666666, \"#ed7953\"], [0.7777777777777778, \"#fb9f3a\"], [0.8888888888888888, \"#fdca26\"], [1.0, \"#f0f921\"]]}, \"legend\": {\"tracegroupgap\": 0}, \"margin\": {\"t\": 60}, \"template\": {\"data\": {\"bar\": [{\"error_x\": {\"color\": \"#2a3f5f\"}, \"error_y\": {\"color\": \"#2a3f5f\"}, \"marker\": {\"line\": {\"color\": \"#E5ECF6\", \"width\": 0.5}}, \"type\": \"bar\"}], \"barpolar\": [{\"marker\": {\"line\": {\"color\": \"#E5ECF6\", \"width\": 0.5}}, \"type\": \"barpolar\"}], \"carpet\": [{\"aaxis\": {\"endlinecolor\": \"#2a3f5f\", \"gridcolor\": \"white\", \"linecolor\": \"white\", \"minorgridcolor\": \"white\", \"startlinecolor\": \"#2a3f5f\"}, \"baxis\": {\"endlinecolor\": \"#2a3f5f\", \"gridcolor\": \"white\", \"linecolor\": \"white\", \"minorgridcolor\": \"white\", \"startlinecolor\": \"#2a3f5f\"}, \"type\": \"carpet\"}], \"choropleth\": [{\"colorbar\": {\"outlinewidth\": 0, \"ticks\": \"\"}, \"type\": \"choropleth\"}], \"contour\": [{\"colorbar\": {\"outlinewidth\": 0, \"ticks\": \"\"}, \"colorscale\": [[0.0, \"#0d0887\"], [0.1111111111111111, \"#46039f\"], [0.2222222222222222, \"#7201a8\"], [0.3333333333333333, \"#9c179e\"], [0.4444444444444444, \"#bd3786\"], [0.5555555555555556, \"#d8576b\"], [0.6666666666666666, \"#ed7953\"], [0.7777777777777778, \"#fb9f3a\"], [0.8888888888888888, \"#fdca26\"], [1.0, \"#f0f921\"]], \"type\": \"contour\"}], \"contourcarpet\": [{\"colorbar\": {\"outlinewidth\": 0, \"ticks\": \"\"}, \"type\": \"contourcarpet\"}], \"heatmap\": [{\"colorbar\": {\"outlinewidth\": 0, \"ticks\": \"\"}, \"colorscale\": [[0.0, \"#0d0887\"], [0.1111111111111111, \"#46039f\"], [0.2222222222222222, \"#7201a8\"], [0.3333333333333333, \"#9c179e\"], [0.4444444444444444, \"#bd3786\"], [0.5555555555555556, \"#d8576b\"], [0.6666666666666666, \"#ed7953\"], [0.7777777777777778, \"#fb9f3a\"], [0.8888888888888888, \"#fdca26\"], [1.0, \"#f0f921\"]], \"type\": \"heatmap\"}], \"heatmapgl\": [{\"colorbar\": {\"outlinewidth\": 0, \"ticks\": \"\"}, \"colorscale\": [[0.0, \"#0d0887\"], [0.1111111111111111, \"#46039f\"], [0.2222222222222222, \"#7201a8\"], [0.3333333333333333, \"#9c179e\"], [0.4444444444444444, \"#bd3786\"], [0.5555555555555556, \"#d8576b\"], [0.6666666666666666, \"#ed7953\"], [0.7777777777777778, \"#fb9f3a\"], [0.8888888888888888, \"#fdca26\"], [1.0, \"#f0f921\"]], \"type\": \"heatmapgl\"}], \"histogram\": [{\"marker\": {\"colorbar\": {\"outlinewidth\": 0, \"ticks\": \"\"}}, \"type\": \"histogram\"}], \"histogram2d\": [{\"colorbar\": {\"outlinewidth\": 0, \"ticks\": \"\"}, \"colorscale\": [[0.0, \"#0d0887\"], [0.1111111111111111, \"#46039f\"], [0.2222222222222222, \"#7201a8\"], [0.3333333333333333, \"#9c179e\"], [0.4444444444444444, \"#bd3786\"], [0.5555555555555556, \"#d8576b\"], [0.6666666666666666, \"#ed7953\"], [0.7777777777777778, \"#fb9f3a\"], [0.8888888888888888, \"#fdca26\"], [1.0, \"#f0f921\"]], \"type\": \"histogram2d\"}], \"histogram2dcontour\": [{\"colorbar\": {\"outlinewidth\": 0, \"ticks\": \"\"}, \"colorscale\": [[0.0, \"#0d0887\"], [0.1111111111111111, \"#46039f\"], [0.2222222222222222, \"#7201a8\"], [0.3333333333333333, \"#9c179e\"], [0.4444444444444444, \"#bd3786\"], [0.5555555555555556, \"#d8576b\"], [0.6666666666666666, \"#ed7953\"], [0.7777777777777778, \"#fb9f3a\"], [0.8888888888888888, \"#fdca26\"], [1.0, \"#f0f921\"]], \"type\": \"histogram2dcontour\"}], \"mesh3d\": [{\"colorbar\": {\"outlinewidth\": 0, \"ticks\": \"\"}, \"type\": \"mesh3d\"}], \"parcoords\": [{\"line\": {\"colorbar\": {\"outlinewidth\": 0, \"ticks\": \"\"}}, \"type\": \"parcoords\"}], \"pie\": [{\"automargin\": true, \"type\": \"pie\"}], \"scatter\": [{\"marker\": {\"colorbar\": {\"outlinewidth\": 0, \"ticks\": \"\"}}, \"type\": \"scatter\"}], \"scatter3d\": [{\"line\": {\"colorbar\": {\"outlinewidth\": 0, \"ticks\": \"\"}}, \"marker\": {\"colorbar\": {\"outlinewidth\": 0, \"ticks\": \"\"}}, \"type\": \"scatter3d\"}], \"scattercarpet\": [{\"marker\": {\"colorbar\": {\"outlinewidth\": 0, \"ticks\": \"\"}}, \"type\": \"scattercarpet\"}], \"scattergeo\": [{\"marker\": {\"colorbar\": {\"outlinewidth\": 0, \"ticks\": \"\"}}, \"type\": \"scattergeo\"}], \"scattergl\": [{\"marker\": {\"colorbar\": {\"outlinewidth\": 0, \"ticks\": \"\"}}, \"type\": \"scattergl\"}], \"scattermapbox\": [{\"marker\": {\"colorbar\": {\"outlinewidth\": 0, \"ticks\": \"\"}}, \"type\": \"scattermapbox\"}], \"scatterpolar\": [{\"marker\": {\"colorbar\": {\"outlinewidth\": 0, \"ticks\": \"\"}}, \"type\": \"scatterpolar\"}], \"scatterpolargl\": [{\"marker\": {\"colorbar\": {\"outlinewidth\": 0, \"ticks\": \"\"}}, \"type\": \"scatterpolargl\"}], \"scatterternary\": [{\"marker\": {\"colorbar\": {\"outlinewidth\": 0, \"ticks\": \"\"}}, \"type\": \"scatterternary\"}], \"surface\": [{\"colorbar\": {\"outlinewidth\": 0, \"ticks\": \"\"}, \"colorscale\": [[0.0, \"#0d0887\"], [0.1111111111111111, \"#46039f\"], [0.2222222222222222, \"#7201a8\"], [0.3333333333333333, \"#9c179e\"], [0.4444444444444444, \"#bd3786\"], [0.5555555555555556, \"#d8576b\"], [0.6666666666666666, \"#ed7953\"], [0.7777777777777778, \"#fb9f3a\"], [0.8888888888888888, \"#fdca26\"], [1.0, \"#f0f921\"]], \"type\": \"surface\"}], \"table\": [{\"cells\": {\"fill\": {\"color\": \"#EBF0F8\"}, \"line\": {\"color\": \"white\"}}, \"header\": {\"fill\": {\"color\": \"#C8D4E3\"}, \"line\": {\"color\": \"white\"}}, \"type\": \"table\"}]}, \"layout\": {\"annotationdefaults\": {\"arrowcolor\": \"#2a3f5f\", \"arrowhead\": 0, \"arrowwidth\": 1}, \"coloraxis\": {\"colorbar\": {\"outlinewidth\": 0, \"ticks\": \"\"}}, \"colorscale\": {\"diverging\": [[0, \"#8e0152\"], [0.1, \"#c51b7d\"], [0.2, \"#de77ae\"], [0.3, \"#f1b6da\"], [0.4, \"#fde0ef\"], [0.5, \"#f7f7f7\"], [0.6, \"#e6f5d0\"], [0.7, \"#b8e186\"], [0.8, \"#7fbc41\"], [0.9, \"#4d9221\"], [1, \"#276419\"]], \"sequential\": [[0.0, \"#0d0887\"], [0.1111111111111111, \"#46039f\"], [0.2222222222222222, \"#7201a8\"], [0.3333333333333333, \"#9c179e\"], [0.4444444444444444, \"#bd3786\"], [0.5555555555555556, \"#d8576b\"], [0.6666666666666666, \"#ed7953\"], [0.7777777777777778, \"#fb9f3a\"], [0.8888888888888888, \"#fdca26\"], [1.0, \"#f0f921\"]], \"sequentialminus\": [[0.0, \"#0d0887\"], [0.1111111111111111, \"#46039f\"], [0.2222222222222222, \"#7201a8\"], [0.3333333333333333, \"#9c179e\"], [0.4444444444444444, \"#bd3786\"], [0.5555555555555556, \"#d8576b\"], [0.6666666666666666, \"#ed7953\"], [0.7777777777777778, \"#fb9f3a\"], [0.8888888888888888, \"#fdca26\"], [1.0, \"#f0f921\"]]}, \"colorway\": [\"#636efa\", \"#EF553B\", \"#00cc96\", \"#ab63fa\", \"#FFA15A\", \"#19d3f3\", \"#FF6692\", \"#B6E880\", \"#FF97FF\", \"#FECB52\"], \"font\": {\"color\": \"#2a3f5f\"}, \"geo\": {\"bgcolor\": \"white\", \"lakecolor\": \"white\", \"landcolor\": \"#E5ECF6\", \"showlakes\": true, \"showland\": true, \"subunitcolor\": \"white\"}, \"hoverlabel\": {\"align\": \"left\"}, \"hovermode\": \"closest\", \"mapbox\": {\"style\": \"light\"}, \"paper_bgcolor\": \"white\", \"plot_bgcolor\": \"#E5ECF6\", \"polar\": {\"angularaxis\": {\"gridcolor\": \"white\", \"linecolor\": \"white\", \"ticks\": \"\"}, \"bgcolor\": \"#E5ECF6\", \"radialaxis\": {\"gridcolor\": \"white\", \"linecolor\": \"white\", \"ticks\": \"\"}}, \"scene\": {\"xaxis\": {\"backgroundcolor\": \"#E5ECF6\", \"gridcolor\": \"white\", \"gridwidth\": 2, \"linecolor\": \"white\", \"showbackground\": true, \"ticks\": \"\", \"zerolinecolor\": \"white\"}, \"yaxis\": {\"backgroundcolor\": \"#E5ECF6\", \"gridcolor\": \"white\", \"gridwidth\": 2, \"linecolor\": \"white\", \"showbackground\": true, \"ticks\": \"\", \"zerolinecolor\": \"white\"}, \"zaxis\": {\"backgroundcolor\": \"#E5ECF6\", \"gridcolor\": \"white\", \"gridwidth\": 2, \"linecolor\": \"white\", \"showbackground\": true, \"ticks\": \"\", \"zerolinecolor\": \"white\"}}, \"shapedefaults\": {\"line\": {\"color\": \"#2a3f5f\"}}, \"ternary\": {\"aaxis\": {\"gridcolor\": \"white\", \"linecolor\": \"white\", \"ticks\": \"\"}, \"baxis\": {\"gridcolor\": \"white\", \"linecolor\": \"white\", \"ticks\": \"\"}, \"bgcolor\": \"#E5ECF6\", \"caxis\": {\"gridcolor\": \"white\", \"linecolor\": \"white\", \"ticks\": \"\"}}, \"title\": {\"x\": 0.05}, \"xaxis\": {\"automargin\": true, \"gridcolor\": \"white\", \"linecolor\": \"white\", \"ticks\": \"\", \"title\": {\"standoff\": 15}, \"zerolinecolor\": \"white\", \"zerolinewidth\": 2}, \"yaxis\": {\"automargin\": true, \"gridcolor\": \"white\", \"linecolor\": \"white\", \"ticks\": \"\", \"title\": {\"standoff\": 15}, \"zerolinecolor\": \"white\", \"zerolinewidth\": 2}}}, \"xaxis\": {\"anchor\": \"y\", \"domain\": [0.0, 1.0], \"title\": {\"text\": \"gni($)\"}}, \"yaxis\": {\"anchor\": \"x\", \"domain\": [0.0, 1.0], \"title\": {\"text\": \"viewCount\"}}},                        {\"responsive\": true}                    ).then(function(){\n",
       "                            \n",
       "var gd = document.getElementById('08ca13db-6c94-4cf5-82e6-4c2284cee28a');\n",
       "var x = new MutationObserver(function (mutations, observer) {{\n",
       "        var display = window.getComputedStyle(gd).display;\n",
       "        if (!display || display === 'none') {{\n",
       "            console.log([gd, 'removed!']);\n",
       "            Plotly.purge(gd);\n",
       "            observer.disconnect();\n",
       "        }}\n",
       "}});\n",
       "\n",
       "// Listen for the removal of the full notebook cells\n",
       "var notebookContainer = gd.closest('#notebook-container');\n",
       "if (notebookContainer) {{\n",
       "    x.observe(notebookContainer, {childList: true});\n",
       "}}\n",
       "\n",
       "// Listen for the clearing of the current output cell\n",
       "var outputEl = gd.closest('.output');\n",
       "if (outputEl) {{\n",
       "    x.observe(outputEl, {childList: true});\n",
       "}}\n",
       "\n",
       "                        })                };                });            </script>        </div>"
      ]
     },
     "metadata": {},
     "output_type": "display_data"
    }
   ],
   "source": [
    "countires_stat_re = countires_stat[countires_stat['video_num']>5].dropna()\n",
    "\n",
    "fig = px.scatter(countires_stat_re, x=\"gni($)\", y=\"viewCount\",  color = \"video_num\", text=\"country\")\n",
    "fig.update_traces(textposition=\"bottom right\")\n",
    "fig.show()"
   ]
  },
  {
   "cell_type": "code",
   "execution_count": 251,
   "metadata": {},
   "outputs": [
    {
     "data": {
      "application/vnd.plotly.v1+json": {
       "config": {
        "plotlyServerURL": "https://plot.ly"
       },
       "data": [
        {
         "hovertemplate": "gni($)=%{x}<br>likeCount=%{y}<br>country=%{text}<br>video_num=%{marker.color}<extra></extra>",
         "legendgroup": "",
         "marker": {
          "color": [
           2,
           2,
           4,
           4,
           1,
           124,
           1,
           14,
           2,
           2,
           1,
           2,
           11,
           4,
           6,
           7,
           76,
           70,
           7,
           560,
           4,
           25,
           1,
           16,
           374,
           2,
           63,
           1,
           27,
           5,
           4,
           1,
           4,
           4,
           45,
           1327,
           3,
           4,
           16,
           2,
           1,
           11,
           1,
           4,
           2,
           23,
           61,
           7,
           61,
           21,
           15,
           18,
           5,
           15,
           1,
           2,
           3,
           3,
           65,
           2,
           1,
           6,
           2,
           3,
           2,
           1,
           1,
           1,
           1,
           1,
           1,
           1
          ],
          "coloraxis": "coloraxis",
          "symbol": "circle"
         },
         "mode": "markers+text",
         "name": "",
         "orientation": "v",
         "showlegend": false,
         "text": [
          "나이지리아",
          "슬로베니아",
          "핀란드",
          "아르헨티나",
          "리투아니아",
          "영국",
          "그리스",
          "터키",
          "헝가리",
          "스웨덴",
          "라트비아",
          "에티오피아",
          "이스라엘",
          "페루",
          "몽골",
          "네덜란드",
          "대만",
          "러시아",
          "콜롬비아",
          "미국",
          "덴마크",
          "미얀마",
          "요르단",
          "스페인",
          "중국",
          "라오스",
          "프랑스",
          "이라크",
          "체코",
          "스위스",
          "스리랑카",
          "키르기스스탄",
          "아일랜드",
          "레바논",
          "인도",
          "일본",
          "에스토니아",
          "말레이시아",
          "캐나다",
          "에콰도르",
          "몰디브",
          "브라질",
          "루마니아",
          "가나",
          "파라과이",
          "필리핀",
          "독일",
          "폴란드",
          "베트남",
          "인도네시아",
          "멕시코",
          "태국",
          "홍콩",
          "카타르",
          "캄보디아",
          "뉴질랜드",
          "오스트리아",
          "우즈베키스탄",
          "이탈리아",
          "온두라스",
          "우간다",
          "싱가포르",
          "파키스탄",
          "노르웨이",
          "이집트",
          "케냐",
          "콩고",
          "토고",
          "코스타리카",
          "카자흐스탄",
          "칠레",
          "모리셔스"
         ],
         "textposition": "bottom right",
         "type": "scatter",
         "x": [
          2156.855561273,
          25484.3329433816,
          48471.7316884569,
          9653.7696279967,
          19030.5430407403,
          41290.946174167,
          20005.9817657725,
          8892.510612221,
          16020.4175231012,
          54295.9591190112,
          17650.8470196271,
          853.3336768113,
          46317.6378770984,
          6652.1953722346,
          3811.0578369906,
          53353.8354649882,
          26514,
          11287.4382982507,
          6227.604044114,
          65716.503439958,
          61898.7671281867,
          1356.1156705571,
          4299.19397994,
          29889.2968328834,
          9979.2317580243,
          2475.2002283395,
          42500.3987860691,
          5926.8045108967,
          22023.2919162716,
          83450.8706276967,
          3826.2779371399,
          1221.4778745926,
          61392.0985712455,
          7752.2313552358,
          2081.2827818958,
          41490.8199704261,
          23186.9005176436,
          11086.0908193658,
          45937.0833126912,
          6005.0451623223,
          9792.4757032162,
          8486.010823712,
          12737.5428783551,
          2154.2380394673,
          5216.2995137894,
          3831.6872189388,
          47388.6353293016,
          14941.1573732776,
          2511.5956960978,
          4011.848820312,
          9571.6766898496,
          7520.1891751631,
          51765.7913958652,
          63224.6131564475,
          1501.3340129622,
          42035.7034410279,
          49794.1882131601,
          1782.6450362053,
          33334.0102881571,
          2378.4535851805,
          756.0785791655,
          58184.9120430579,
          1371.1115608541,
          78105.3404888218,
          2910.2101088319,
          1779.931083438,
          1791.5653220757,
          678.1031840129,
          11527.516121726,
          8509.9670591489,
          14297.8190108265,
          12318.4380572234
         ],
         "xaxis": "x",
         "y": [
          18197,
          12592,
          16672.5,
          9437.5,
          23357,
          13672.169354838708,
          10029,
          6688.357142857143,
          11366,
          6296,
          5431,
          12764,
          8686.181818181818,
          6421.25,
          9419.166666666666,
          5528.714285714284,
          5243.618421052632,
          9371.057142857142,
          7115.857142857143,
          5757.921146953405,
          6600,
          7729.76,
          8466,
          4896.0625,
          5349.375335120642,
          5642,
          3996.7936507936506,
          5769,
          7921.3703703703695,
          4879.2,
          3922.5,
          8808,
          4455.25,
          4079.75,
          3844.488888888889,
          3632.146304675716,
          5218.333333333333,
          3533.25,
          3994.5,
          4571,
          3256,
          4110.727272727273,
          1578,
          3680.5,
          3661,
          3287.826086956521,
          3347.344262295082,
          1997.857142857143,
          2621.459016393443,
          3384.857142857143,
          3016.133333333333,
          2876.5,
          1594.4,
          1825,
          0,
          1517.5,
          1202,
          4204,
          2081.6,
          1138.5,
          3111,
          1800.333333333333,
          1571.5,
          1292,
          639.5,
          610,
          1261,
          371,
          808,
          489,
          204,
          49
         ],
         "yaxis": "y"
        }
       ],
       "layout": {
        "coloraxis": {
         "colorbar": {
          "title": {
           "text": "video_num"
          }
         },
         "colorscale": [
          [
           0,
           "#0d0887"
          ],
          [
           0.1111111111111111,
           "#46039f"
          ],
          [
           0.2222222222222222,
           "#7201a8"
          ],
          [
           0.3333333333333333,
           "#9c179e"
          ],
          [
           0.4444444444444444,
           "#bd3786"
          ],
          [
           0.5555555555555556,
           "#d8576b"
          ],
          [
           0.6666666666666666,
           "#ed7953"
          ],
          [
           0.7777777777777778,
           "#fb9f3a"
          ],
          [
           0.8888888888888888,
           "#fdca26"
          ],
          [
           1,
           "#f0f921"
          ]
         ]
        },
        "legend": {
         "tracegroupgap": 0
        },
        "margin": {
         "t": 60
        },
        "template": {
         "data": {
          "bar": [
           {
            "error_x": {
             "color": "#2a3f5f"
            },
            "error_y": {
             "color": "#2a3f5f"
            },
            "marker": {
             "line": {
              "color": "#E5ECF6",
              "width": 0.5
             }
            },
            "type": "bar"
           }
          ],
          "barpolar": [
           {
            "marker": {
             "line": {
              "color": "#E5ECF6",
              "width": 0.5
             }
            },
            "type": "barpolar"
           }
          ],
          "carpet": [
           {
            "aaxis": {
             "endlinecolor": "#2a3f5f",
             "gridcolor": "white",
             "linecolor": "white",
             "minorgridcolor": "white",
             "startlinecolor": "#2a3f5f"
            },
            "baxis": {
             "endlinecolor": "#2a3f5f",
             "gridcolor": "white",
             "linecolor": "white",
             "minorgridcolor": "white",
             "startlinecolor": "#2a3f5f"
            },
            "type": "carpet"
           }
          ],
          "choropleth": [
           {
            "colorbar": {
             "outlinewidth": 0,
             "ticks": ""
            },
            "type": "choropleth"
           }
          ],
          "contour": [
           {
            "colorbar": {
             "outlinewidth": 0,
             "ticks": ""
            },
            "colorscale": [
             [
              0,
              "#0d0887"
             ],
             [
              0.1111111111111111,
              "#46039f"
             ],
             [
              0.2222222222222222,
              "#7201a8"
             ],
             [
              0.3333333333333333,
              "#9c179e"
             ],
             [
              0.4444444444444444,
              "#bd3786"
             ],
             [
              0.5555555555555556,
              "#d8576b"
             ],
             [
              0.6666666666666666,
              "#ed7953"
             ],
             [
              0.7777777777777778,
              "#fb9f3a"
             ],
             [
              0.8888888888888888,
              "#fdca26"
             ],
             [
              1,
              "#f0f921"
             ]
            ],
            "type": "contour"
           }
          ],
          "contourcarpet": [
           {
            "colorbar": {
             "outlinewidth": 0,
             "ticks": ""
            },
            "type": "contourcarpet"
           }
          ],
          "heatmap": [
           {
            "colorbar": {
             "outlinewidth": 0,
             "ticks": ""
            },
            "colorscale": [
             [
              0,
              "#0d0887"
             ],
             [
              0.1111111111111111,
              "#46039f"
             ],
             [
              0.2222222222222222,
              "#7201a8"
             ],
             [
              0.3333333333333333,
              "#9c179e"
             ],
             [
              0.4444444444444444,
              "#bd3786"
             ],
             [
              0.5555555555555556,
              "#d8576b"
             ],
             [
              0.6666666666666666,
              "#ed7953"
             ],
             [
              0.7777777777777778,
              "#fb9f3a"
             ],
             [
              0.8888888888888888,
              "#fdca26"
             ],
             [
              1,
              "#f0f921"
             ]
            ],
            "type": "heatmap"
           }
          ],
          "heatmapgl": [
           {
            "colorbar": {
             "outlinewidth": 0,
             "ticks": ""
            },
            "colorscale": [
             [
              0,
              "#0d0887"
             ],
             [
              0.1111111111111111,
              "#46039f"
             ],
             [
              0.2222222222222222,
              "#7201a8"
             ],
             [
              0.3333333333333333,
              "#9c179e"
             ],
             [
              0.4444444444444444,
              "#bd3786"
             ],
             [
              0.5555555555555556,
              "#d8576b"
             ],
             [
              0.6666666666666666,
              "#ed7953"
             ],
             [
              0.7777777777777778,
              "#fb9f3a"
             ],
             [
              0.8888888888888888,
              "#fdca26"
             ],
             [
              1,
              "#f0f921"
             ]
            ],
            "type": "heatmapgl"
           }
          ],
          "histogram": [
           {
            "marker": {
             "colorbar": {
              "outlinewidth": 0,
              "ticks": ""
             }
            },
            "type": "histogram"
           }
          ],
          "histogram2d": [
           {
            "colorbar": {
             "outlinewidth": 0,
             "ticks": ""
            },
            "colorscale": [
             [
              0,
              "#0d0887"
             ],
             [
              0.1111111111111111,
              "#46039f"
             ],
             [
              0.2222222222222222,
              "#7201a8"
             ],
             [
              0.3333333333333333,
              "#9c179e"
             ],
             [
              0.4444444444444444,
              "#bd3786"
             ],
             [
              0.5555555555555556,
              "#d8576b"
             ],
             [
              0.6666666666666666,
              "#ed7953"
             ],
             [
              0.7777777777777778,
              "#fb9f3a"
             ],
             [
              0.8888888888888888,
              "#fdca26"
             ],
             [
              1,
              "#f0f921"
             ]
            ],
            "type": "histogram2d"
           }
          ],
          "histogram2dcontour": [
           {
            "colorbar": {
             "outlinewidth": 0,
             "ticks": ""
            },
            "colorscale": [
             [
              0,
              "#0d0887"
             ],
             [
              0.1111111111111111,
              "#46039f"
             ],
             [
              0.2222222222222222,
              "#7201a8"
             ],
             [
              0.3333333333333333,
              "#9c179e"
             ],
             [
              0.4444444444444444,
              "#bd3786"
             ],
             [
              0.5555555555555556,
              "#d8576b"
             ],
             [
              0.6666666666666666,
              "#ed7953"
             ],
             [
              0.7777777777777778,
              "#fb9f3a"
             ],
             [
              0.8888888888888888,
              "#fdca26"
             ],
             [
              1,
              "#f0f921"
             ]
            ],
            "type": "histogram2dcontour"
           }
          ],
          "mesh3d": [
           {
            "colorbar": {
             "outlinewidth": 0,
             "ticks": ""
            },
            "type": "mesh3d"
           }
          ],
          "parcoords": [
           {
            "line": {
             "colorbar": {
              "outlinewidth": 0,
              "ticks": ""
             }
            },
            "type": "parcoords"
           }
          ],
          "pie": [
           {
            "automargin": true,
            "type": "pie"
           }
          ],
          "scatter": [
           {
            "marker": {
             "colorbar": {
              "outlinewidth": 0,
              "ticks": ""
             }
            },
            "type": "scatter"
           }
          ],
          "scatter3d": [
           {
            "line": {
             "colorbar": {
              "outlinewidth": 0,
              "ticks": ""
             }
            },
            "marker": {
             "colorbar": {
              "outlinewidth": 0,
              "ticks": ""
             }
            },
            "type": "scatter3d"
           }
          ],
          "scattercarpet": [
           {
            "marker": {
             "colorbar": {
              "outlinewidth": 0,
              "ticks": ""
             }
            },
            "type": "scattercarpet"
           }
          ],
          "scattergeo": [
           {
            "marker": {
             "colorbar": {
              "outlinewidth": 0,
              "ticks": ""
             }
            },
            "type": "scattergeo"
           }
          ],
          "scattergl": [
           {
            "marker": {
             "colorbar": {
              "outlinewidth": 0,
              "ticks": ""
             }
            },
            "type": "scattergl"
           }
          ],
          "scattermapbox": [
           {
            "marker": {
             "colorbar": {
              "outlinewidth": 0,
              "ticks": ""
             }
            },
            "type": "scattermapbox"
           }
          ],
          "scatterpolar": [
           {
            "marker": {
             "colorbar": {
              "outlinewidth": 0,
              "ticks": ""
             }
            },
            "type": "scatterpolar"
           }
          ],
          "scatterpolargl": [
           {
            "marker": {
             "colorbar": {
              "outlinewidth": 0,
              "ticks": ""
             }
            },
            "type": "scatterpolargl"
           }
          ],
          "scatterternary": [
           {
            "marker": {
             "colorbar": {
              "outlinewidth": 0,
              "ticks": ""
             }
            },
            "type": "scatterternary"
           }
          ],
          "surface": [
           {
            "colorbar": {
             "outlinewidth": 0,
             "ticks": ""
            },
            "colorscale": [
             [
              0,
              "#0d0887"
             ],
             [
              0.1111111111111111,
              "#46039f"
             ],
             [
              0.2222222222222222,
              "#7201a8"
             ],
             [
              0.3333333333333333,
              "#9c179e"
             ],
             [
              0.4444444444444444,
              "#bd3786"
             ],
             [
              0.5555555555555556,
              "#d8576b"
             ],
             [
              0.6666666666666666,
              "#ed7953"
             ],
             [
              0.7777777777777778,
              "#fb9f3a"
             ],
             [
              0.8888888888888888,
              "#fdca26"
             ],
             [
              1,
              "#f0f921"
             ]
            ],
            "type": "surface"
           }
          ],
          "table": [
           {
            "cells": {
             "fill": {
              "color": "#EBF0F8"
             },
             "line": {
              "color": "white"
             }
            },
            "header": {
             "fill": {
              "color": "#C8D4E3"
             },
             "line": {
              "color": "white"
             }
            },
            "type": "table"
           }
          ]
         },
         "layout": {
          "annotationdefaults": {
           "arrowcolor": "#2a3f5f",
           "arrowhead": 0,
           "arrowwidth": 1
          },
          "coloraxis": {
           "colorbar": {
            "outlinewidth": 0,
            "ticks": ""
           }
          },
          "colorscale": {
           "diverging": [
            [
             0,
             "#8e0152"
            ],
            [
             0.1,
             "#c51b7d"
            ],
            [
             0.2,
             "#de77ae"
            ],
            [
             0.3,
             "#f1b6da"
            ],
            [
             0.4,
             "#fde0ef"
            ],
            [
             0.5,
             "#f7f7f7"
            ],
            [
             0.6,
             "#e6f5d0"
            ],
            [
             0.7,
             "#b8e186"
            ],
            [
             0.8,
             "#7fbc41"
            ],
            [
             0.9,
             "#4d9221"
            ],
            [
             1,
             "#276419"
            ]
           ],
           "sequential": [
            [
             0,
             "#0d0887"
            ],
            [
             0.1111111111111111,
             "#46039f"
            ],
            [
             0.2222222222222222,
             "#7201a8"
            ],
            [
             0.3333333333333333,
             "#9c179e"
            ],
            [
             0.4444444444444444,
             "#bd3786"
            ],
            [
             0.5555555555555556,
             "#d8576b"
            ],
            [
             0.6666666666666666,
             "#ed7953"
            ],
            [
             0.7777777777777778,
             "#fb9f3a"
            ],
            [
             0.8888888888888888,
             "#fdca26"
            ],
            [
             1,
             "#f0f921"
            ]
           ],
           "sequentialminus": [
            [
             0,
             "#0d0887"
            ],
            [
             0.1111111111111111,
             "#46039f"
            ],
            [
             0.2222222222222222,
             "#7201a8"
            ],
            [
             0.3333333333333333,
             "#9c179e"
            ],
            [
             0.4444444444444444,
             "#bd3786"
            ],
            [
             0.5555555555555556,
             "#d8576b"
            ],
            [
             0.6666666666666666,
             "#ed7953"
            ],
            [
             0.7777777777777778,
             "#fb9f3a"
            ],
            [
             0.8888888888888888,
             "#fdca26"
            ],
            [
             1,
             "#f0f921"
            ]
           ]
          },
          "colorway": [
           "#636efa",
           "#EF553B",
           "#00cc96",
           "#ab63fa",
           "#FFA15A",
           "#19d3f3",
           "#FF6692",
           "#B6E880",
           "#FF97FF",
           "#FECB52"
          ],
          "font": {
           "color": "#2a3f5f"
          },
          "geo": {
           "bgcolor": "white",
           "lakecolor": "white",
           "landcolor": "#E5ECF6",
           "showlakes": true,
           "showland": true,
           "subunitcolor": "white"
          },
          "hoverlabel": {
           "align": "left"
          },
          "hovermode": "closest",
          "mapbox": {
           "style": "light"
          },
          "paper_bgcolor": "white",
          "plot_bgcolor": "#E5ECF6",
          "polar": {
           "angularaxis": {
            "gridcolor": "white",
            "linecolor": "white",
            "ticks": ""
           },
           "bgcolor": "#E5ECF6",
           "radialaxis": {
            "gridcolor": "white",
            "linecolor": "white",
            "ticks": ""
           }
          },
          "scene": {
           "xaxis": {
            "backgroundcolor": "#E5ECF6",
            "gridcolor": "white",
            "gridwidth": 2,
            "linecolor": "white",
            "showbackground": true,
            "ticks": "",
            "zerolinecolor": "white"
           },
           "yaxis": {
            "backgroundcolor": "#E5ECF6",
            "gridcolor": "white",
            "gridwidth": 2,
            "linecolor": "white",
            "showbackground": true,
            "ticks": "",
            "zerolinecolor": "white"
           },
           "zaxis": {
            "backgroundcolor": "#E5ECF6",
            "gridcolor": "white",
            "gridwidth": 2,
            "linecolor": "white",
            "showbackground": true,
            "ticks": "",
            "zerolinecolor": "white"
           }
          },
          "shapedefaults": {
           "line": {
            "color": "#2a3f5f"
           }
          },
          "ternary": {
           "aaxis": {
            "gridcolor": "white",
            "linecolor": "white",
            "ticks": ""
           },
           "baxis": {
            "gridcolor": "white",
            "linecolor": "white",
            "ticks": ""
           },
           "bgcolor": "#E5ECF6",
           "caxis": {
            "gridcolor": "white",
            "linecolor": "white",
            "ticks": ""
           }
          },
          "title": {
           "x": 0.05
          },
          "xaxis": {
           "automargin": true,
           "gridcolor": "white",
           "linecolor": "white",
           "ticks": "",
           "title": {
            "standoff": 15
           },
           "zerolinecolor": "white",
           "zerolinewidth": 2
          },
          "yaxis": {
           "automargin": true,
           "gridcolor": "white",
           "linecolor": "white",
           "ticks": "",
           "title": {
            "standoff": 15
           },
           "zerolinecolor": "white",
           "zerolinewidth": 2
          }
         }
        },
        "xaxis": {
         "anchor": "y",
         "domain": [
          0,
          1
         ],
         "title": {
          "text": "gni($)"
         }
        },
        "yaxis": {
         "anchor": "x",
         "domain": [
          0,
          1
         ],
         "title": {
          "text": "likeCount"
         }
        }
       }
      },
      "text/html": [
       "<div>                            <div id=\"0d05de4e-0f9f-4cb4-9fe6-24db44e4e9aa\" class=\"plotly-graph-div\" style=\"height:525px; width:100%;\"></div>            <script type=\"text/javascript\">                require([\"plotly\"], function(Plotly) {                    window.PLOTLYENV=window.PLOTLYENV || {};                                    if (document.getElementById(\"0d05de4e-0f9f-4cb4-9fe6-24db44e4e9aa\")) {                    Plotly.newPlot(                        \"0d05de4e-0f9f-4cb4-9fe6-24db44e4e9aa\",                        [{\"hovertemplate\": \"gni($)=%{x}<br>likeCount=%{y}<br>country=%{text}<br>video_num=%{marker.color}<extra></extra>\", \"legendgroup\": \"\", \"marker\": {\"color\": [2, 2, 4, 4, 1, 124, 1, 14, 2, 2, 1, 2, 11, 4, 6, 7, 76, 70, 7, 560, 4, 25, 1, 16, 374, 2, 63, 1, 27, 5, 4, 1, 4, 4, 45, 1327, 3, 4, 16, 2, 1, 11, 1, 4, 2, 23, 61, 7, 61, 21, 15, 18, 5, 15, 1, 2, 3, 3, 65, 2, 1, 6, 2, 3, 2, 1, 1, 1, 1, 1, 1, 1], \"coloraxis\": \"coloraxis\", \"symbol\": \"circle\"}, \"mode\": \"markers+text\", \"name\": \"\", \"orientation\": \"v\", \"showlegend\": false, \"text\": [\"\\ub098\\uc774\\uc9c0\\ub9ac\\uc544\", \"\\uc2ac\\ub85c\\ubca0\\ub2c8\\uc544\", \"\\ud540\\ub780\\ub4dc\", \"\\uc544\\ub974\\ud5e8\\ud2f0\\ub098\", \"\\ub9ac\\ud22c\\uc544\\ub2c8\\uc544\", \"\\uc601\\uad6d\", \"\\uadf8\\ub9ac\\uc2a4\", \"\\ud130\\ud0a4\", \"\\ud5dd\\uac00\\ub9ac\", \"\\uc2a4\\uc6e8\\ub374\", \"\\ub77c\\ud2b8\\ube44\\uc544\", \"\\uc5d0\\ud2f0\\uc624\\ud53c\\uc544\", \"\\uc774\\uc2a4\\ub77c\\uc5d8\", \"\\ud398\\ub8e8\", \"\\ubabd\\uace8\", \"\\ub124\\ub35c\\ub780\\ub4dc\", \"\\ub300\\ub9cc\", \"\\ub7ec\\uc2dc\\uc544\", \"\\ucf5c\\ub86c\\ube44\\uc544\", \"\\ubbf8\\uad6d\", \"\\ub374\\ub9c8\\ud06c\", \"\\ubbf8\\uc580\\ub9c8\", \"\\uc694\\ub974\\ub2e8\", \"\\uc2a4\\ud398\\uc778\", \"\\uc911\\uad6d\", \"\\ub77c\\uc624\\uc2a4\", \"\\ud504\\ub791\\uc2a4\", \"\\uc774\\ub77c\\ud06c\", \"\\uccb4\\ucf54\", \"\\uc2a4\\uc704\\uc2a4\", \"\\uc2a4\\ub9ac\\ub791\\uce74\", \"\\ud0a4\\ub974\\uae30\\uc2a4\\uc2a4\\ud0c4\", \"\\uc544\\uc77c\\ub79c\\ub4dc\", \"\\ub808\\ubc14\\ub17c\", \"\\uc778\\ub3c4\", \"\\uc77c\\ubcf8\", \"\\uc5d0\\uc2a4\\ud1a0\\ub2c8\\uc544\", \"\\ub9d0\\ub808\\uc774\\uc2dc\\uc544\", \"\\uce90\\ub098\\ub2e4\", \"\\uc5d0\\ucf70\\ub3c4\\ub974\", \"\\ubab0\\ub514\\ube0c\", \"\\ube0c\\ub77c\\uc9c8\", \"\\ub8e8\\ub9c8\\ub2c8\\uc544\", \"\\uac00\\ub098\", \"\\ud30c\\ub77c\\uacfc\\uc774\", \"\\ud544\\ub9ac\\ud540\", \"\\ub3c5\\uc77c\", \"\\ud3f4\\ub780\\ub4dc\", \"\\ubca0\\ud2b8\\ub0a8\", \"\\uc778\\ub3c4\\ub124\\uc2dc\\uc544\", \"\\uba55\\uc2dc\\ucf54\", \"\\ud0dc\\uad6d\", \"\\ud64d\\ucf69\", \"\\uce74\\ud0c0\\ub974\", \"\\uce84\\ubcf4\\ub514\\uc544\", \"\\ub274\\uc9c8\\ub79c\\ub4dc\", \"\\uc624\\uc2a4\\ud2b8\\ub9ac\\uc544\", \"\\uc6b0\\uc988\\ubca0\\ud0a4\\uc2a4\\ud0c4\", \"\\uc774\\ud0c8\\ub9ac\\uc544\", \"\\uc628\\ub450\\ub77c\\uc2a4\", \"\\uc6b0\\uac04\\ub2e4\", \"\\uc2f1\\uac00\\ud3ec\\ub974\", \"\\ud30c\\ud0a4\\uc2a4\\ud0c4\", \"\\ub178\\ub974\\uc6e8\\uc774\", \"\\uc774\\uc9d1\\ud2b8\", \"\\ucf00\\ub0d0\", \"\\ucf69\\uace0\", \"\\ud1a0\\uace0\", \"\\ucf54\\uc2a4\\ud0c0\\ub9ac\\uce74\", \"\\uce74\\uc790\\ud750\\uc2a4\\ud0c4\", \"\\uce60\\ub808\", \"\\ubaa8\\ub9ac\\uc154\\uc2a4\"], \"textposition\": \"bottom right\", \"type\": \"scatter\", \"x\": [2156.855561273, 25484.3329433816, 48471.7316884569, 9653.7696279967, 19030.5430407403, 41290.946174167, 20005.9817657725, 8892.510612221, 16020.4175231012, 54295.9591190112, 17650.8470196271, 853.3336768113, 46317.6378770984, 6652.1953722346, 3811.0578369906, 53353.8354649882, 26514.0, 11287.4382982507, 6227.604044114, 65716.503439958, 61898.7671281867, 1356.1156705571, 4299.19397994, 29889.2968328834, 9979.2317580243, 2475.2002283395, 42500.3987860691, 5926.8045108967, 22023.2919162716, 83450.8706276967, 3826.2779371399, 1221.4778745926, 61392.0985712455, 7752.2313552358, 2081.2827818958, 41490.8199704261, 23186.9005176436, 11086.0908193658, 45937.0833126912, 6005.0451623223, 9792.4757032162, 8486.010823712, 12737.5428783551, 2154.2380394673, 5216.2995137894, 3831.6872189388, 47388.6353293016, 14941.1573732776, 2511.5956960978, 4011.848820312, 9571.6766898496, 7520.1891751631, 51765.7913958652, 63224.6131564475, 1501.3340129622, 42035.7034410279, 49794.1882131601, 1782.6450362053, 33334.0102881571, 2378.4535851805, 756.0785791655, 58184.9120430579, 1371.1115608541, 78105.3404888218, 2910.2101088319, 1779.931083438, 1791.5653220757, 678.1031840129, 11527.516121726, 8509.9670591489, 14297.8190108265, 12318.4380572234], \"xaxis\": \"x\", \"y\": [18197.0, 12592.0, 16672.5, 9437.5, 23357.0, 13672.169354838708, 10029.0, 6688.357142857143, 11366.0, 6296.0, 5431.0, 12764.0, 8686.181818181818, 6421.25, 9419.166666666666, 5528.714285714284, 5243.618421052632, 9371.057142857142, 7115.857142857143, 5757.921146953405, 6600.0, 7729.76, 8466.0, 4896.0625, 5349.375335120642, 5642.0, 3996.7936507936506, 5769.0, 7921.3703703703695, 4879.2, 3922.5, 8808.0, 4455.25, 4079.75, 3844.488888888889, 3632.146304675716, 5218.333333333333, 3533.25, 3994.5, 4571.0, 3256.0, 4110.727272727273, 1578.0, 3680.5, 3661.0, 3287.826086956521, 3347.344262295082, 1997.857142857143, 2621.459016393443, 3384.857142857143, 3016.133333333333, 2876.5, 1594.4, 1825.0, 0.0, 1517.5, 1202.0, 4204.0, 2081.6, 1138.5, 3111.0, 1800.333333333333, 1571.5, 1292.0, 639.5, 610.0, 1261.0, 371.0, 808.0, 489.0, 204.0, 49.0], \"yaxis\": \"y\"}],                        {\"coloraxis\": {\"colorbar\": {\"title\": {\"text\": \"video_num\"}}, \"colorscale\": [[0.0, \"#0d0887\"], [0.1111111111111111, \"#46039f\"], [0.2222222222222222, \"#7201a8\"], [0.3333333333333333, \"#9c179e\"], [0.4444444444444444, \"#bd3786\"], [0.5555555555555556, \"#d8576b\"], [0.6666666666666666, \"#ed7953\"], [0.7777777777777778, \"#fb9f3a\"], [0.8888888888888888, \"#fdca26\"], [1.0, \"#f0f921\"]]}, \"legend\": {\"tracegroupgap\": 0}, \"margin\": {\"t\": 60}, \"template\": {\"data\": {\"bar\": [{\"error_x\": {\"color\": \"#2a3f5f\"}, \"error_y\": {\"color\": \"#2a3f5f\"}, \"marker\": {\"line\": {\"color\": \"#E5ECF6\", \"width\": 0.5}}, \"type\": \"bar\"}], \"barpolar\": [{\"marker\": {\"line\": {\"color\": \"#E5ECF6\", \"width\": 0.5}}, \"type\": \"barpolar\"}], \"carpet\": [{\"aaxis\": {\"endlinecolor\": \"#2a3f5f\", \"gridcolor\": \"white\", \"linecolor\": \"white\", \"minorgridcolor\": \"white\", \"startlinecolor\": \"#2a3f5f\"}, \"baxis\": {\"endlinecolor\": \"#2a3f5f\", \"gridcolor\": \"white\", \"linecolor\": \"white\", \"minorgridcolor\": \"white\", \"startlinecolor\": \"#2a3f5f\"}, \"type\": \"carpet\"}], \"choropleth\": [{\"colorbar\": {\"outlinewidth\": 0, \"ticks\": \"\"}, \"type\": \"choropleth\"}], \"contour\": [{\"colorbar\": {\"outlinewidth\": 0, \"ticks\": \"\"}, \"colorscale\": [[0.0, \"#0d0887\"], [0.1111111111111111, \"#46039f\"], [0.2222222222222222, \"#7201a8\"], [0.3333333333333333, \"#9c179e\"], [0.4444444444444444, \"#bd3786\"], [0.5555555555555556, \"#d8576b\"], [0.6666666666666666, \"#ed7953\"], [0.7777777777777778, \"#fb9f3a\"], [0.8888888888888888, \"#fdca26\"], [1.0, \"#f0f921\"]], \"type\": \"contour\"}], \"contourcarpet\": [{\"colorbar\": {\"outlinewidth\": 0, \"ticks\": \"\"}, \"type\": \"contourcarpet\"}], \"heatmap\": [{\"colorbar\": {\"outlinewidth\": 0, \"ticks\": \"\"}, \"colorscale\": [[0.0, \"#0d0887\"], [0.1111111111111111, \"#46039f\"], [0.2222222222222222, \"#7201a8\"], [0.3333333333333333, \"#9c179e\"], [0.4444444444444444, \"#bd3786\"], [0.5555555555555556, \"#d8576b\"], [0.6666666666666666, \"#ed7953\"], [0.7777777777777778, \"#fb9f3a\"], [0.8888888888888888, \"#fdca26\"], [1.0, \"#f0f921\"]], \"type\": \"heatmap\"}], \"heatmapgl\": [{\"colorbar\": {\"outlinewidth\": 0, \"ticks\": \"\"}, \"colorscale\": [[0.0, \"#0d0887\"], [0.1111111111111111, \"#46039f\"], [0.2222222222222222, \"#7201a8\"], [0.3333333333333333, \"#9c179e\"], [0.4444444444444444, \"#bd3786\"], [0.5555555555555556, \"#d8576b\"], [0.6666666666666666, \"#ed7953\"], [0.7777777777777778, \"#fb9f3a\"], [0.8888888888888888, \"#fdca26\"], [1.0, \"#f0f921\"]], \"type\": \"heatmapgl\"}], \"histogram\": [{\"marker\": {\"colorbar\": {\"outlinewidth\": 0, \"ticks\": \"\"}}, \"type\": \"histogram\"}], \"histogram2d\": [{\"colorbar\": {\"outlinewidth\": 0, \"ticks\": \"\"}, \"colorscale\": [[0.0, \"#0d0887\"], [0.1111111111111111, \"#46039f\"], [0.2222222222222222, \"#7201a8\"], [0.3333333333333333, \"#9c179e\"], [0.4444444444444444, \"#bd3786\"], [0.5555555555555556, \"#d8576b\"], [0.6666666666666666, \"#ed7953\"], [0.7777777777777778, \"#fb9f3a\"], [0.8888888888888888, \"#fdca26\"], [1.0, \"#f0f921\"]], \"type\": \"histogram2d\"}], \"histogram2dcontour\": [{\"colorbar\": {\"outlinewidth\": 0, \"ticks\": \"\"}, \"colorscale\": [[0.0, \"#0d0887\"], [0.1111111111111111, \"#46039f\"], [0.2222222222222222, \"#7201a8\"], [0.3333333333333333, \"#9c179e\"], [0.4444444444444444, \"#bd3786\"], [0.5555555555555556, \"#d8576b\"], [0.6666666666666666, \"#ed7953\"], [0.7777777777777778, \"#fb9f3a\"], [0.8888888888888888, \"#fdca26\"], [1.0, \"#f0f921\"]], \"type\": \"histogram2dcontour\"}], \"mesh3d\": [{\"colorbar\": {\"outlinewidth\": 0, \"ticks\": \"\"}, \"type\": \"mesh3d\"}], \"parcoords\": [{\"line\": {\"colorbar\": {\"outlinewidth\": 0, \"ticks\": \"\"}}, \"type\": \"parcoords\"}], \"pie\": [{\"automargin\": true, \"type\": \"pie\"}], \"scatter\": [{\"marker\": {\"colorbar\": {\"outlinewidth\": 0, \"ticks\": \"\"}}, \"type\": \"scatter\"}], \"scatter3d\": [{\"line\": {\"colorbar\": {\"outlinewidth\": 0, \"ticks\": \"\"}}, \"marker\": {\"colorbar\": {\"outlinewidth\": 0, \"ticks\": \"\"}}, \"type\": \"scatter3d\"}], \"scattercarpet\": [{\"marker\": {\"colorbar\": {\"outlinewidth\": 0, \"ticks\": \"\"}}, \"type\": \"scattercarpet\"}], \"scattergeo\": [{\"marker\": {\"colorbar\": {\"outlinewidth\": 0, \"ticks\": \"\"}}, \"type\": \"scattergeo\"}], \"scattergl\": [{\"marker\": {\"colorbar\": {\"outlinewidth\": 0, \"ticks\": \"\"}}, \"type\": \"scattergl\"}], \"scattermapbox\": [{\"marker\": {\"colorbar\": {\"outlinewidth\": 0, \"ticks\": \"\"}}, \"type\": \"scattermapbox\"}], \"scatterpolar\": [{\"marker\": {\"colorbar\": {\"outlinewidth\": 0, \"ticks\": \"\"}}, \"type\": \"scatterpolar\"}], \"scatterpolargl\": [{\"marker\": {\"colorbar\": {\"outlinewidth\": 0, \"ticks\": \"\"}}, \"type\": \"scatterpolargl\"}], \"scatterternary\": [{\"marker\": {\"colorbar\": {\"outlinewidth\": 0, \"ticks\": \"\"}}, \"type\": \"scatterternary\"}], \"surface\": [{\"colorbar\": {\"outlinewidth\": 0, \"ticks\": \"\"}, \"colorscale\": [[0.0, \"#0d0887\"], [0.1111111111111111, \"#46039f\"], [0.2222222222222222, \"#7201a8\"], [0.3333333333333333, \"#9c179e\"], [0.4444444444444444, \"#bd3786\"], [0.5555555555555556, \"#d8576b\"], [0.6666666666666666, \"#ed7953\"], [0.7777777777777778, \"#fb9f3a\"], [0.8888888888888888, \"#fdca26\"], [1.0, \"#f0f921\"]], \"type\": \"surface\"}], \"table\": [{\"cells\": {\"fill\": {\"color\": \"#EBF0F8\"}, \"line\": {\"color\": \"white\"}}, \"header\": {\"fill\": {\"color\": \"#C8D4E3\"}, \"line\": {\"color\": \"white\"}}, \"type\": \"table\"}]}, \"layout\": {\"annotationdefaults\": {\"arrowcolor\": \"#2a3f5f\", \"arrowhead\": 0, \"arrowwidth\": 1}, \"coloraxis\": {\"colorbar\": {\"outlinewidth\": 0, \"ticks\": \"\"}}, \"colorscale\": {\"diverging\": [[0, \"#8e0152\"], [0.1, \"#c51b7d\"], [0.2, \"#de77ae\"], [0.3, \"#f1b6da\"], [0.4, \"#fde0ef\"], [0.5, \"#f7f7f7\"], [0.6, \"#e6f5d0\"], [0.7, \"#b8e186\"], [0.8, \"#7fbc41\"], [0.9, \"#4d9221\"], [1, \"#276419\"]], \"sequential\": [[0.0, \"#0d0887\"], [0.1111111111111111, \"#46039f\"], [0.2222222222222222, \"#7201a8\"], [0.3333333333333333, \"#9c179e\"], [0.4444444444444444, \"#bd3786\"], [0.5555555555555556, \"#d8576b\"], [0.6666666666666666, \"#ed7953\"], [0.7777777777777778, \"#fb9f3a\"], [0.8888888888888888, \"#fdca26\"], [1.0, \"#f0f921\"]], \"sequentialminus\": [[0.0, \"#0d0887\"], [0.1111111111111111, \"#46039f\"], [0.2222222222222222, \"#7201a8\"], [0.3333333333333333, \"#9c179e\"], [0.4444444444444444, \"#bd3786\"], [0.5555555555555556, \"#d8576b\"], [0.6666666666666666, \"#ed7953\"], [0.7777777777777778, \"#fb9f3a\"], [0.8888888888888888, \"#fdca26\"], [1.0, \"#f0f921\"]]}, \"colorway\": [\"#636efa\", \"#EF553B\", \"#00cc96\", \"#ab63fa\", \"#FFA15A\", \"#19d3f3\", \"#FF6692\", \"#B6E880\", \"#FF97FF\", \"#FECB52\"], \"font\": {\"color\": \"#2a3f5f\"}, \"geo\": {\"bgcolor\": \"white\", \"lakecolor\": \"white\", \"landcolor\": \"#E5ECF6\", \"showlakes\": true, \"showland\": true, \"subunitcolor\": \"white\"}, \"hoverlabel\": {\"align\": \"left\"}, \"hovermode\": \"closest\", \"mapbox\": {\"style\": \"light\"}, \"paper_bgcolor\": \"white\", \"plot_bgcolor\": \"#E5ECF6\", \"polar\": {\"angularaxis\": {\"gridcolor\": \"white\", \"linecolor\": \"white\", \"ticks\": \"\"}, \"bgcolor\": \"#E5ECF6\", \"radialaxis\": {\"gridcolor\": \"white\", \"linecolor\": \"white\", \"ticks\": \"\"}}, \"scene\": {\"xaxis\": {\"backgroundcolor\": \"#E5ECF6\", \"gridcolor\": \"white\", \"gridwidth\": 2, \"linecolor\": \"white\", \"showbackground\": true, \"ticks\": \"\", \"zerolinecolor\": \"white\"}, \"yaxis\": {\"backgroundcolor\": \"#E5ECF6\", \"gridcolor\": \"white\", \"gridwidth\": 2, \"linecolor\": \"white\", \"showbackground\": true, \"ticks\": \"\", \"zerolinecolor\": \"white\"}, \"zaxis\": {\"backgroundcolor\": \"#E5ECF6\", \"gridcolor\": \"white\", \"gridwidth\": 2, \"linecolor\": \"white\", \"showbackground\": true, \"ticks\": \"\", \"zerolinecolor\": \"white\"}}, \"shapedefaults\": {\"line\": {\"color\": \"#2a3f5f\"}}, \"ternary\": {\"aaxis\": {\"gridcolor\": \"white\", \"linecolor\": \"white\", \"ticks\": \"\"}, \"baxis\": {\"gridcolor\": \"white\", \"linecolor\": \"white\", \"ticks\": \"\"}, \"bgcolor\": \"#E5ECF6\", \"caxis\": {\"gridcolor\": \"white\", \"linecolor\": \"white\", \"ticks\": \"\"}}, \"title\": {\"x\": 0.05}, \"xaxis\": {\"automargin\": true, \"gridcolor\": \"white\", \"linecolor\": \"white\", \"ticks\": \"\", \"title\": {\"standoff\": 15}, \"zerolinecolor\": \"white\", \"zerolinewidth\": 2}, \"yaxis\": {\"automargin\": true, \"gridcolor\": \"white\", \"linecolor\": \"white\", \"ticks\": \"\", \"title\": {\"standoff\": 15}, \"zerolinecolor\": \"white\", \"zerolinewidth\": 2}}}, \"xaxis\": {\"anchor\": \"y\", \"domain\": [0.0, 1.0], \"title\": {\"text\": \"gni($)\"}}, \"yaxis\": {\"anchor\": \"x\", \"domain\": [0.0, 1.0], \"title\": {\"text\": \"likeCount\"}}},                        {\"responsive\": true}                    ).then(function(){\n",
       "                            \n",
       "var gd = document.getElementById('0d05de4e-0f9f-4cb4-9fe6-24db44e4e9aa');\n",
       "var x = new MutationObserver(function (mutations, observer) {{\n",
       "        var display = window.getComputedStyle(gd).display;\n",
       "        if (!display || display === 'none') {{\n",
       "            console.log([gd, 'removed!']);\n",
       "            Plotly.purge(gd);\n",
       "            observer.disconnect();\n",
       "        }}\n",
       "}});\n",
       "\n",
       "// Listen for the removal of the full notebook cells\n",
       "var notebookContainer = gd.closest('#notebook-container');\n",
       "if (notebookContainer) {{\n",
       "    x.observe(notebookContainer, {childList: true});\n",
       "}}\n",
       "\n",
       "// Listen for the clearing of the current output cell\n",
       "var outputEl = gd.closest('.output');\n",
       "if (outputEl) {{\n",
       "    x.observe(outputEl, {childList: true});\n",
       "}}\n",
       "\n",
       "                        })                };                });            </script>        </div>"
      ]
     },
     "metadata": {},
     "output_type": "display_data"
    }
   ],
   "source": [
    "fig = px.scatter(countires_stat, x=\"gni($)\", y=\"likeCount\", color = \"video_num\", text=\"country\")\n",
    "fig.update_traces(textposition=\"bottom right\")\n",
    "fig.show()"
   ]
  },
  {
   "cell_type": "code",
   "execution_count": 252,
   "metadata": {},
   "outputs": [
    {
     "data": {
      "application/vnd.plotly.v1+json": {
       "config": {
        "plotlyServerURL": "https://plot.ly"
       },
       "data": [
        {
         "hovertemplate": "gni($)=%{x}<br>dislikeCount=%{y}<br>country=%{text}<br>video_num=%{marker.color}<extra></extra>",
         "legendgroup": "",
         "marker": {
          "color": [
           2,
           2,
           4,
           4,
           1,
           124,
           1,
           14,
           2,
           2,
           1,
           2,
           11,
           4,
           6,
           7,
           76,
           70,
           7,
           560,
           4,
           25,
           1,
           16,
           374,
           2,
           63,
           1,
           27,
           5,
           4,
           1,
           4,
           4,
           45,
           1327,
           3,
           4,
           16,
           2,
           1,
           11,
           1,
           4,
           2,
           23,
           61,
           7,
           61,
           21,
           15,
           18,
           5,
           15,
           1,
           2,
           3,
           3,
           65,
           2,
           1,
           6,
           2,
           3,
           2,
           1,
           1,
           1,
           1,
           1,
           1,
           1
          ],
          "coloraxis": "coloraxis",
          "symbol": "circle"
         },
         "mode": "markers+text",
         "name": "",
         "orientation": "v",
         "showlegend": false,
         "text": [
          "나이지리아",
          "슬로베니아",
          "핀란드",
          "아르헨티나",
          "리투아니아",
          "영국",
          "그리스",
          "터키",
          "헝가리",
          "스웨덴",
          "라트비아",
          "에티오피아",
          "이스라엘",
          "페루",
          "몽골",
          "네덜란드",
          "대만",
          "러시아",
          "콜롬비아",
          "미국",
          "덴마크",
          "미얀마",
          "요르단",
          "스페인",
          "중국",
          "라오스",
          "프랑스",
          "이라크",
          "체코",
          "스위스",
          "스리랑카",
          "키르기스스탄",
          "아일랜드",
          "레바논",
          "인도",
          "일본",
          "에스토니아",
          "말레이시아",
          "캐나다",
          "에콰도르",
          "몰디브",
          "브라질",
          "루마니아",
          "가나",
          "파라과이",
          "필리핀",
          "독일",
          "폴란드",
          "베트남",
          "인도네시아",
          "멕시코",
          "태국",
          "홍콩",
          "카타르",
          "캄보디아",
          "뉴질랜드",
          "오스트리아",
          "우즈베키스탄",
          "이탈리아",
          "온두라스",
          "우간다",
          "싱가포르",
          "파키스탄",
          "노르웨이",
          "이집트",
          "케냐",
          "콩고",
          "토고",
          "코스타리카",
          "카자흐스탄",
          "칠레",
          "모리셔스"
         ],
         "textposition": "bottom right",
         "type": "scatter",
         "x": [
          2156.855561273,
          25484.3329433816,
          48471.7316884569,
          9653.7696279967,
          19030.5430407403,
          41290.946174167,
          20005.9817657725,
          8892.510612221,
          16020.4175231012,
          54295.9591190112,
          17650.8470196271,
          853.3336768113,
          46317.6378770984,
          6652.1953722346,
          3811.0578369906,
          53353.8354649882,
          26514,
          11287.4382982507,
          6227.604044114,
          65716.503439958,
          61898.7671281867,
          1356.1156705571,
          4299.19397994,
          29889.2968328834,
          9979.2317580243,
          2475.2002283395,
          42500.3987860691,
          5926.8045108967,
          22023.2919162716,
          83450.8706276967,
          3826.2779371399,
          1221.4778745926,
          61392.0985712455,
          7752.2313552358,
          2081.2827818958,
          41490.8199704261,
          23186.9005176436,
          11086.0908193658,
          45937.0833126912,
          6005.0451623223,
          9792.4757032162,
          8486.010823712,
          12737.5428783551,
          2154.2380394673,
          5216.2995137894,
          3831.6872189388,
          47388.6353293016,
          14941.1573732776,
          2511.5956960978,
          4011.848820312,
          9571.6766898496,
          7520.1891751631,
          51765.7913958652,
          63224.6131564475,
          1501.3340129622,
          42035.7034410279,
          49794.1882131601,
          1782.6450362053,
          33334.0102881571,
          2378.4535851805,
          756.0785791655,
          58184.9120430579,
          1371.1115608541,
          78105.3404888218,
          2910.2101088319,
          1779.931083438,
          1791.5653220757,
          678.1031840129,
          11527.516121726,
          8509.9670591489,
          14297.8190108265,
          12318.4380572234
         ],
         "xaxis": "x",
         "y": [
          803,
          355,
          457.25,
          598,
          457,
          364.29032258064524,
          135,
          126.14285714285714,
          299,
          220.5,
          174,
          186.5,
          327.3636363636364,
          281.75,
          294.5,
          72.42857142857143,
          185.4736842105264,
          158.9,
          112.85714285714286,
          138.9820788530466,
          82,
          253.96,
          78,
          86.3125,
          177.40214477211796,
          134.5,
          116.22222222222223,
          46,
          87.37037037037037,
          127,
          107.75,
          224,
          108,
          132,
          103.31111111111113,
          116.06410256410255,
          98.66666666666669,
          155.75,
          77.75,
          96,
          111,
          91.54545454545456,
          73,
          94,
          45,
          94.78260869565216,
          80.39344262295081,
          61.85714285714285,
          106.1311475409836,
          84.04761904761905,
          43.8,
          54.88888888888889,
          85.4,
          69,
          0,
          45.5,
          19.33333333333333,
          83,
          68.69230769230771,
          42.5,
          50,
          36.5,
          51,
          46.33333333333334,
          7,
          9,
          23,
          5,
          9,
          9,
          4,
          1
         ],
         "yaxis": "y"
        }
       ],
       "layout": {
        "coloraxis": {
         "colorbar": {
          "title": {
           "text": "video_num"
          }
         },
         "colorscale": [
          [
           0,
           "#0d0887"
          ],
          [
           0.1111111111111111,
           "#46039f"
          ],
          [
           0.2222222222222222,
           "#7201a8"
          ],
          [
           0.3333333333333333,
           "#9c179e"
          ],
          [
           0.4444444444444444,
           "#bd3786"
          ],
          [
           0.5555555555555556,
           "#d8576b"
          ],
          [
           0.6666666666666666,
           "#ed7953"
          ],
          [
           0.7777777777777778,
           "#fb9f3a"
          ],
          [
           0.8888888888888888,
           "#fdca26"
          ],
          [
           1,
           "#f0f921"
          ]
         ]
        },
        "legend": {
         "tracegroupgap": 0
        },
        "margin": {
         "t": 60
        },
        "template": {
         "data": {
          "bar": [
           {
            "error_x": {
             "color": "#2a3f5f"
            },
            "error_y": {
             "color": "#2a3f5f"
            },
            "marker": {
             "line": {
              "color": "#E5ECF6",
              "width": 0.5
             }
            },
            "type": "bar"
           }
          ],
          "barpolar": [
           {
            "marker": {
             "line": {
              "color": "#E5ECF6",
              "width": 0.5
             }
            },
            "type": "barpolar"
           }
          ],
          "carpet": [
           {
            "aaxis": {
             "endlinecolor": "#2a3f5f",
             "gridcolor": "white",
             "linecolor": "white",
             "minorgridcolor": "white",
             "startlinecolor": "#2a3f5f"
            },
            "baxis": {
             "endlinecolor": "#2a3f5f",
             "gridcolor": "white",
             "linecolor": "white",
             "minorgridcolor": "white",
             "startlinecolor": "#2a3f5f"
            },
            "type": "carpet"
           }
          ],
          "choropleth": [
           {
            "colorbar": {
             "outlinewidth": 0,
             "ticks": ""
            },
            "type": "choropleth"
           }
          ],
          "contour": [
           {
            "colorbar": {
             "outlinewidth": 0,
             "ticks": ""
            },
            "colorscale": [
             [
              0,
              "#0d0887"
             ],
             [
              0.1111111111111111,
              "#46039f"
             ],
             [
              0.2222222222222222,
              "#7201a8"
             ],
             [
              0.3333333333333333,
              "#9c179e"
             ],
             [
              0.4444444444444444,
              "#bd3786"
             ],
             [
              0.5555555555555556,
              "#d8576b"
             ],
             [
              0.6666666666666666,
              "#ed7953"
             ],
             [
              0.7777777777777778,
              "#fb9f3a"
             ],
             [
              0.8888888888888888,
              "#fdca26"
             ],
             [
              1,
              "#f0f921"
             ]
            ],
            "type": "contour"
           }
          ],
          "contourcarpet": [
           {
            "colorbar": {
             "outlinewidth": 0,
             "ticks": ""
            },
            "type": "contourcarpet"
           }
          ],
          "heatmap": [
           {
            "colorbar": {
             "outlinewidth": 0,
             "ticks": ""
            },
            "colorscale": [
             [
              0,
              "#0d0887"
             ],
             [
              0.1111111111111111,
              "#46039f"
             ],
             [
              0.2222222222222222,
              "#7201a8"
             ],
             [
              0.3333333333333333,
              "#9c179e"
             ],
             [
              0.4444444444444444,
              "#bd3786"
             ],
             [
              0.5555555555555556,
              "#d8576b"
             ],
             [
              0.6666666666666666,
              "#ed7953"
             ],
             [
              0.7777777777777778,
              "#fb9f3a"
             ],
             [
              0.8888888888888888,
              "#fdca26"
             ],
             [
              1,
              "#f0f921"
             ]
            ],
            "type": "heatmap"
           }
          ],
          "heatmapgl": [
           {
            "colorbar": {
             "outlinewidth": 0,
             "ticks": ""
            },
            "colorscale": [
             [
              0,
              "#0d0887"
             ],
             [
              0.1111111111111111,
              "#46039f"
             ],
             [
              0.2222222222222222,
              "#7201a8"
             ],
             [
              0.3333333333333333,
              "#9c179e"
             ],
             [
              0.4444444444444444,
              "#bd3786"
             ],
             [
              0.5555555555555556,
              "#d8576b"
             ],
             [
              0.6666666666666666,
              "#ed7953"
             ],
             [
              0.7777777777777778,
              "#fb9f3a"
             ],
             [
              0.8888888888888888,
              "#fdca26"
             ],
             [
              1,
              "#f0f921"
             ]
            ],
            "type": "heatmapgl"
           }
          ],
          "histogram": [
           {
            "marker": {
             "colorbar": {
              "outlinewidth": 0,
              "ticks": ""
             }
            },
            "type": "histogram"
           }
          ],
          "histogram2d": [
           {
            "colorbar": {
             "outlinewidth": 0,
             "ticks": ""
            },
            "colorscale": [
             [
              0,
              "#0d0887"
             ],
             [
              0.1111111111111111,
              "#46039f"
             ],
             [
              0.2222222222222222,
              "#7201a8"
             ],
             [
              0.3333333333333333,
              "#9c179e"
             ],
             [
              0.4444444444444444,
              "#bd3786"
             ],
             [
              0.5555555555555556,
              "#d8576b"
             ],
             [
              0.6666666666666666,
              "#ed7953"
             ],
             [
              0.7777777777777778,
              "#fb9f3a"
             ],
             [
              0.8888888888888888,
              "#fdca26"
             ],
             [
              1,
              "#f0f921"
             ]
            ],
            "type": "histogram2d"
           }
          ],
          "histogram2dcontour": [
           {
            "colorbar": {
             "outlinewidth": 0,
             "ticks": ""
            },
            "colorscale": [
             [
              0,
              "#0d0887"
             ],
             [
              0.1111111111111111,
              "#46039f"
             ],
             [
              0.2222222222222222,
              "#7201a8"
             ],
             [
              0.3333333333333333,
              "#9c179e"
             ],
             [
              0.4444444444444444,
              "#bd3786"
             ],
             [
              0.5555555555555556,
              "#d8576b"
             ],
             [
              0.6666666666666666,
              "#ed7953"
             ],
             [
              0.7777777777777778,
              "#fb9f3a"
             ],
             [
              0.8888888888888888,
              "#fdca26"
             ],
             [
              1,
              "#f0f921"
             ]
            ],
            "type": "histogram2dcontour"
           }
          ],
          "mesh3d": [
           {
            "colorbar": {
             "outlinewidth": 0,
             "ticks": ""
            },
            "type": "mesh3d"
           }
          ],
          "parcoords": [
           {
            "line": {
             "colorbar": {
              "outlinewidth": 0,
              "ticks": ""
             }
            },
            "type": "parcoords"
           }
          ],
          "pie": [
           {
            "automargin": true,
            "type": "pie"
           }
          ],
          "scatter": [
           {
            "marker": {
             "colorbar": {
              "outlinewidth": 0,
              "ticks": ""
             }
            },
            "type": "scatter"
           }
          ],
          "scatter3d": [
           {
            "line": {
             "colorbar": {
              "outlinewidth": 0,
              "ticks": ""
             }
            },
            "marker": {
             "colorbar": {
              "outlinewidth": 0,
              "ticks": ""
             }
            },
            "type": "scatter3d"
           }
          ],
          "scattercarpet": [
           {
            "marker": {
             "colorbar": {
              "outlinewidth": 0,
              "ticks": ""
             }
            },
            "type": "scattercarpet"
           }
          ],
          "scattergeo": [
           {
            "marker": {
             "colorbar": {
              "outlinewidth": 0,
              "ticks": ""
             }
            },
            "type": "scattergeo"
           }
          ],
          "scattergl": [
           {
            "marker": {
             "colorbar": {
              "outlinewidth": 0,
              "ticks": ""
             }
            },
            "type": "scattergl"
           }
          ],
          "scattermapbox": [
           {
            "marker": {
             "colorbar": {
              "outlinewidth": 0,
              "ticks": ""
             }
            },
            "type": "scattermapbox"
           }
          ],
          "scatterpolar": [
           {
            "marker": {
             "colorbar": {
              "outlinewidth": 0,
              "ticks": ""
             }
            },
            "type": "scatterpolar"
           }
          ],
          "scatterpolargl": [
           {
            "marker": {
             "colorbar": {
              "outlinewidth": 0,
              "ticks": ""
             }
            },
            "type": "scatterpolargl"
           }
          ],
          "scatterternary": [
           {
            "marker": {
             "colorbar": {
              "outlinewidth": 0,
              "ticks": ""
             }
            },
            "type": "scatterternary"
           }
          ],
          "surface": [
           {
            "colorbar": {
             "outlinewidth": 0,
             "ticks": ""
            },
            "colorscale": [
             [
              0,
              "#0d0887"
             ],
             [
              0.1111111111111111,
              "#46039f"
             ],
             [
              0.2222222222222222,
              "#7201a8"
             ],
             [
              0.3333333333333333,
              "#9c179e"
             ],
             [
              0.4444444444444444,
              "#bd3786"
             ],
             [
              0.5555555555555556,
              "#d8576b"
             ],
             [
              0.6666666666666666,
              "#ed7953"
             ],
             [
              0.7777777777777778,
              "#fb9f3a"
             ],
             [
              0.8888888888888888,
              "#fdca26"
             ],
             [
              1,
              "#f0f921"
             ]
            ],
            "type": "surface"
           }
          ],
          "table": [
           {
            "cells": {
             "fill": {
              "color": "#EBF0F8"
             },
             "line": {
              "color": "white"
             }
            },
            "header": {
             "fill": {
              "color": "#C8D4E3"
             },
             "line": {
              "color": "white"
             }
            },
            "type": "table"
           }
          ]
         },
         "layout": {
          "annotationdefaults": {
           "arrowcolor": "#2a3f5f",
           "arrowhead": 0,
           "arrowwidth": 1
          },
          "coloraxis": {
           "colorbar": {
            "outlinewidth": 0,
            "ticks": ""
           }
          },
          "colorscale": {
           "diverging": [
            [
             0,
             "#8e0152"
            ],
            [
             0.1,
             "#c51b7d"
            ],
            [
             0.2,
             "#de77ae"
            ],
            [
             0.3,
             "#f1b6da"
            ],
            [
             0.4,
             "#fde0ef"
            ],
            [
             0.5,
             "#f7f7f7"
            ],
            [
             0.6,
             "#e6f5d0"
            ],
            [
             0.7,
             "#b8e186"
            ],
            [
             0.8,
             "#7fbc41"
            ],
            [
             0.9,
             "#4d9221"
            ],
            [
             1,
             "#276419"
            ]
           ],
           "sequential": [
            [
             0,
             "#0d0887"
            ],
            [
             0.1111111111111111,
             "#46039f"
            ],
            [
             0.2222222222222222,
             "#7201a8"
            ],
            [
             0.3333333333333333,
             "#9c179e"
            ],
            [
             0.4444444444444444,
             "#bd3786"
            ],
            [
             0.5555555555555556,
             "#d8576b"
            ],
            [
             0.6666666666666666,
             "#ed7953"
            ],
            [
             0.7777777777777778,
             "#fb9f3a"
            ],
            [
             0.8888888888888888,
             "#fdca26"
            ],
            [
             1,
             "#f0f921"
            ]
           ],
           "sequentialminus": [
            [
             0,
             "#0d0887"
            ],
            [
             0.1111111111111111,
             "#46039f"
            ],
            [
             0.2222222222222222,
             "#7201a8"
            ],
            [
             0.3333333333333333,
             "#9c179e"
            ],
            [
             0.4444444444444444,
             "#bd3786"
            ],
            [
             0.5555555555555556,
             "#d8576b"
            ],
            [
             0.6666666666666666,
             "#ed7953"
            ],
            [
             0.7777777777777778,
             "#fb9f3a"
            ],
            [
             0.8888888888888888,
             "#fdca26"
            ],
            [
             1,
             "#f0f921"
            ]
           ]
          },
          "colorway": [
           "#636efa",
           "#EF553B",
           "#00cc96",
           "#ab63fa",
           "#FFA15A",
           "#19d3f3",
           "#FF6692",
           "#B6E880",
           "#FF97FF",
           "#FECB52"
          ],
          "font": {
           "color": "#2a3f5f"
          },
          "geo": {
           "bgcolor": "white",
           "lakecolor": "white",
           "landcolor": "#E5ECF6",
           "showlakes": true,
           "showland": true,
           "subunitcolor": "white"
          },
          "hoverlabel": {
           "align": "left"
          },
          "hovermode": "closest",
          "mapbox": {
           "style": "light"
          },
          "paper_bgcolor": "white",
          "plot_bgcolor": "#E5ECF6",
          "polar": {
           "angularaxis": {
            "gridcolor": "white",
            "linecolor": "white",
            "ticks": ""
           },
           "bgcolor": "#E5ECF6",
           "radialaxis": {
            "gridcolor": "white",
            "linecolor": "white",
            "ticks": ""
           }
          },
          "scene": {
           "xaxis": {
            "backgroundcolor": "#E5ECF6",
            "gridcolor": "white",
            "gridwidth": 2,
            "linecolor": "white",
            "showbackground": true,
            "ticks": "",
            "zerolinecolor": "white"
           },
           "yaxis": {
            "backgroundcolor": "#E5ECF6",
            "gridcolor": "white",
            "gridwidth": 2,
            "linecolor": "white",
            "showbackground": true,
            "ticks": "",
            "zerolinecolor": "white"
           },
           "zaxis": {
            "backgroundcolor": "#E5ECF6",
            "gridcolor": "white",
            "gridwidth": 2,
            "linecolor": "white",
            "showbackground": true,
            "ticks": "",
            "zerolinecolor": "white"
           }
          },
          "shapedefaults": {
           "line": {
            "color": "#2a3f5f"
           }
          },
          "ternary": {
           "aaxis": {
            "gridcolor": "white",
            "linecolor": "white",
            "ticks": ""
           },
           "baxis": {
            "gridcolor": "white",
            "linecolor": "white",
            "ticks": ""
           },
           "bgcolor": "#E5ECF6",
           "caxis": {
            "gridcolor": "white",
            "linecolor": "white",
            "ticks": ""
           }
          },
          "title": {
           "x": 0.05
          },
          "xaxis": {
           "automargin": true,
           "gridcolor": "white",
           "linecolor": "white",
           "ticks": "",
           "title": {
            "standoff": 15
           },
           "zerolinecolor": "white",
           "zerolinewidth": 2
          },
          "yaxis": {
           "automargin": true,
           "gridcolor": "white",
           "linecolor": "white",
           "ticks": "",
           "title": {
            "standoff": 15
           },
           "zerolinecolor": "white",
           "zerolinewidth": 2
          }
         }
        },
        "xaxis": {
         "anchor": "y",
         "domain": [
          0,
          1
         ],
         "title": {
          "text": "gni($)"
         }
        },
        "yaxis": {
         "anchor": "x",
         "domain": [
          0,
          1
         ],
         "title": {
          "text": "dislikeCount"
         }
        }
       }
      },
      "text/html": [
       "<div>                            <div id=\"b99fca25-3e6f-40b7-b0bb-522590262635\" class=\"plotly-graph-div\" style=\"height:525px; width:100%;\"></div>            <script type=\"text/javascript\">                require([\"plotly\"], function(Plotly) {                    window.PLOTLYENV=window.PLOTLYENV || {};                                    if (document.getElementById(\"b99fca25-3e6f-40b7-b0bb-522590262635\")) {                    Plotly.newPlot(                        \"b99fca25-3e6f-40b7-b0bb-522590262635\",                        [{\"hovertemplate\": \"gni($)=%{x}<br>dislikeCount=%{y}<br>country=%{text}<br>video_num=%{marker.color}<extra></extra>\", \"legendgroup\": \"\", \"marker\": {\"color\": [2, 2, 4, 4, 1, 124, 1, 14, 2, 2, 1, 2, 11, 4, 6, 7, 76, 70, 7, 560, 4, 25, 1, 16, 374, 2, 63, 1, 27, 5, 4, 1, 4, 4, 45, 1327, 3, 4, 16, 2, 1, 11, 1, 4, 2, 23, 61, 7, 61, 21, 15, 18, 5, 15, 1, 2, 3, 3, 65, 2, 1, 6, 2, 3, 2, 1, 1, 1, 1, 1, 1, 1], \"coloraxis\": \"coloraxis\", \"symbol\": \"circle\"}, \"mode\": \"markers+text\", \"name\": \"\", \"orientation\": \"v\", \"showlegend\": false, \"text\": [\"\\ub098\\uc774\\uc9c0\\ub9ac\\uc544\", \"\\uc2ac\\ub85c\\ubca0\\ub2c8\\uc544\", \"\\ud540\\ub780\\ub4dc\", \"\\uc544\\ub974\\ud5e8\\ud2f0\\ub098\", \"\\ub9ac\\ud22c\\uc544\\ub2c8\\uc544\", \"\\uc601\\uad6d\", \"\\uadf8\\ub9ac\\uc2a4\", \"\\ud130\\ud0a4\", \"\\ud5dd\\uac00\\ub9ac\", \"\\uc2a4\\uc6e8\\ub374\", \"\\ub77c\\ud2b8\\ube44\\uc544\", \"\\uc5d0\\ud2f0\\uc624\\ud53c\\uc544\", \"\\uc774\\uc2a4\\ub77c\\uc5d8\", \"\\ud398\\ub8e8\", \"\\ubabd\\uace8\", \"\\ub124\\ub35c\\ub780\\ub4dc\", \"\\ub300\\ub9cc\", \"\\ub7ec\\uc2dc\\uc544\", \"\\ucf5c\\ub86c\\ube44\\uc544\", \"\\ubbf8\\uad6d\", \"\\ub374\\ub9c8\\ud06c\", \"\\ubbf8\\uc580\\ub9c8\", \"\\uc694\\ub974\\ub2e8\", \"\\uc2a4\\ud398\\uc778\", \"\\uc911\\uad6d\", \"\\ub77c\\uc624\\uc2a4\", \"\\ud504\\ub791\\uc2a4\", \"\\uc774\\ub77c\\ud06c\", \"\\uccb4\\ucf54\", \"\\uc2a4\\uc704\\uc2a4\", \"\\uc2a4\\ub9ac\\ub791\\uce74\", \"\\ud0a4\\ub974\\uae30\\uc2a4\\uc2a4\\ud0c4\", \"\\uc544\\uc77c\\ub79c\\ub4dc\", \"\\ub808\\ubc14\\ub17c\", \"\\uc778\\ub3c4\", \"\\uc77c\\ubcf8\", \"\\uc5d0\\uc2a4\\ud1a0\\ub2c8\\uc544\", \"\\ub9d0\\ub808\\uc774\\uc2dc\\uc544\", \"\\uce90\\ub098\\ub2e4\", \"\\uc5d0\\ucf70\\ub3c4\\ub974\", \"\\ubab0\\ub514\\ube0c\", \"\\ube0c\\ub77c\\uc9c8\", \"\\ub8e8\\ub9c8\\ub2c8\\uc544\", \"\\uac00\\ub098\", \"\\ud30c\\ub77c\\uacfc\\uc774\", \"\\ud544\\ub9ac\\ud540\", \"\\ub3c5\\uc77c\", \"\\ud3f4\\ub780\\ub4dc\", \"\\ubca0\\ud2b8\\ub0a8\", \"\\uc778\\ub3c4\\ub124\\uc2dc\\uc544\", \"\\uba55\\uc2dc\\ucf54\", \"\\ud0dc\\uad6d\", \"\\ud64d\\ucf69\", \"\\uce74\\ud0c0\\ub974\", \"\\uce84\\ubcf4\\ub514\\uc544\", \"\\ub274\\uc9c8\\ub79c\\ub4dc\", \"\\uc624\\uc2a4\\ud2b8\\ub9ac\\uc544\", \"\\uc6b0\\uc988\\ubca0\\ud0a4\\uc2a4\\ud0c4\", \"\\uc774\\ud0c8\\ub9ac\\uc544\", \"\\uc628\\ub450\\ub77c\\uc2a4\", \"\\uc6b0\\uac04\\ub2e4\", \"\\uc2f1\\uac00\\ud3ec\\ub974\", \"\\ud30c\\ud0a4\\uc2a4\\ud0c4\", \"\\ub178\\ub974\\uc6e8\\uc774\", \"\\uc774\\uc9d1\\ud2b8\", \"\\ucf00\\ub0d0\", \"\\ucf69\\uace0\", \"\\ud1a0\\uace0\", \"\\ucf54\\uc2a4\\ud0c0\\ub9ac\\uce74\", \"\\uce74\\uc790\\ud750\\uc2a4\\ud0c4\", \"\\uce60\\ub808\", \"\\ubaa8\\ub9ac\\uc154\\uc2a4\"], \"textposition\": \"bottom right\", \"type\": \"scatter\", \"x\": [2156.855561273, 25484.3329433816, 48471.7316884569, 9653.7696279967, 19030.5430407403, 41290.946174167, 20005.9817657725, 8892.510612221, 16020.4175231012, 54295.9591190112, 17650.8470196271, 853.3336768113, 46317.6378770984, 6652.1953722346, 3811.0578369906, 53353.8354649882, 26514.0, 11287.4382982507, 6227.604044114, 65716.503439958, 61898.7671281867, 1356.1156705571, 4299.19397994, 29889.2968328834, 9979.2317580243, 2475.2002283395, 42500.3987860691, 5926.8045108967, 22023.2919162716, 83450.8706276967, 3826.2779371399, 1221.4778745926, 61392.0985712455, 7752.2313552358, 2081.2827818958, 41490.8199704261, 23186.9005176436, 11086.0908193658, 45937.0833126912, 6005.0451623223, 9792.4757032162, 8486.010823712, 12737.5428783551, 2154.2380394673, 5216.2995137894, 3831.6872189388, 47388.6353293016, 14941.1573732776, 2511.5956960978, 4011.848820312, 9571.6766898496, 7520.1891751631, 51765.7913958652, 63224.6131564475, 1501.3340129622, 42035.7034410279, 49794.1882131601, 1782.6450362053, 33334.0102881571, 2378.4535851805, 756.0785791655, 58184.9120430579, 1371.1115608541, 78105.3404888218, 2910.2101088319, 1779.931083438, 1791.5653220757, 678.1031840129, 11527.516121726, 8509.9670591489, 14297.8190108265, 12318.4380572234], \"xaxis\": \"x\", \"y\": [803.0, 355.0, 457.25, 598.0, 457.0, 364.29032258064524, 135.0, 126.14285714285714, 299.0, 220.5, 174.0, 186.5, 327.3636363636364, 281.75, 294.5, 72.42857142857143, 185.4736842105264, 158.9, 112.85714285714286, 138.9820788530466, 82.0, 253.96, 78.0, 86.3125, 177.40214477211796, 134.5, 116.22222222222223, 46.0, 87.37037037037037, 127.0, 107.75, 224.0, 108.0, 132.0, 103.31111111111113, 116.06410256410255, 98.66666666666669, 155.75, 77.75, 96.0, 111.0, 91.54545454545456, 73.0, 94.0, 45.0, 94.78260869565216, 80.39344262295081, 61.85714285714285, 106.1311475409836, 84.04761904761905, 43.8, 54.88888888888889, 85.4, 69.0, 0.0, 45.5, 19.33333333333333, 83.0, 68.69230769230771, 42.5, 50.0, 36.5, 51.0, 46.33333333333334, 7.0, 9.0, 23.0, 5.0, 9.0, 9.0, 4.0, 1.0], \"yaxis\": \"y\"}],                        {\"coloraxis\": {\"colorbar\": {\"title\": {\"text\": \"video_num\"}}, \"colorscale\": [[0.0, \"#0d0887\"], [0.1111111111111111, \"#46039f\"], [0.2222222222222222, \"#7201a8\"], [0.3333333333333333, \"#9c179e\"], [0.4444444444444444, \"#bd3786\"], [0.5555555555555556, \"#d8576b\"], [0.6666666666666666, \"#ed7953\"], [0.7777777777777778, \"#fb9f3a\"], [0.8888888888888888, \"#fdca26\"], [1.0, \"#f0f921\"]]}, \"legend\": {\"tracegroupgap\": 0}, \"margin\": {\"t\": 60}, \"template\": {\"data\": {\"bar\": [{\"error_x\": {\"color\": \"#2a3f5f\"}, \"error_y\": {\"color\": \"#2a3f5f\"}, \"marker\": {\"line\": {\"color\": \"#E5ECF6\", \"width\": 0.5}}, \"type\": \"bar\"}], \"barpolar\": [{\"marker\": {\"line\": {\"color\": \"#E5ECF6\", \"width\": 0.5}}, \"type\": \"barpolar\"}], \"carpet\": [{\"aaxis\": {\"endlinecolor\": \"#2a3f5f\", \"gridcolor\": \"white\", \"linecolor\": \"white\", \"minorgridcolor\": \"white\", \"startlinecolor\": \"#2a3f5f\"}, \"baxis\": {\"endlinecolor\": \"#2a3f5f\", \"gridcolor\": \"white\", \"linecolor\": \"white\", \"minorgridcolor\": \"white\", \"startlinecolor\": \"#2a3f5f\"}, \"type\": \"carpet\"}], \"choropleth\": [{\"colorbar\": {\"outlinewidth\": 0, \"ticks\": \"\"}, \"type\": \"choropleth\"}], \"contour\": [{\"colorbar\": {\"outlinewidth\": 0, \"ticks\": \"\"}, \"colorscale\": [[0.0, \"#0d0887\"], [0.1111111111111111, \"#46039f\"], [0.2222222222222222, \"#7201a8\"], [0.3333333333333333, \"#9c179e\"], [0.4444444444444444, \"#bd3786\"], [0.5555555555555556, \"#d8576b\"], [0.6666666666666666, \"#ed7953\"], [0.7777777777777778, \"#fb9f3a\"], [0.8888888888888888, \"#fdca26\"], [1.0, \"#f0f921\"]], \"type\": \"contour\"}], \"contourcarpet\": [{\"colorbar\": {\"outlinewidth\": 0, \"ticks\": \"\"}, \"type\": \"contourcarpet\"}], \"heatmap\": [{\"colorbar\": {\"outlinewidth\": 0, \"ticks\": \"\"}, \"colorscale\": [[0.0, \"#0d0887\"], [0.1111111111111111, \"#46039f\"], [0.2222222222222222, \"#7201a8\"], [0.3333333333333333, \"#9c179e\"], [0.4444444444444444, \"#bd3786\"], [0.5555555555555556, \"#d8576b\"], [0.6666666666666666, \"#ed7953\"], [0.7777777777777778, \"#fb9f3a\"], [0.8888888888888888, \"#fdca26\"], [1.0, \"#f0f921\"]], \"type\": \"heatmap\"}], \"heatmapgl\": [{\"colorbar\": {\"outlinewidth\": 0, \"ticks\": \"\"}, \"colorscale\": [[0.0, \"#0d0887\"], [0.1111111111111111, \"#46039f\"], [0.2222222222222222, \"#7201a8\"], [0.3333333333333333, \"#9c179e\"], [0.4444444444444444, \"#bd3786\"], [0.5555555555555556, \"#d8576b\"], [0.6666666666666666, \"#ed7953\"], [0.7777777777777778, \"#fb9f3a\"], [0.8888888888888888, \"#fdca26\"], [1.0, \"#f0f921\"]], \"type\": \"heatmapgl\"}], \"histogram\": [{\"marker\": {\"colorbar\": {\"outlinewidth\": 0, \"ticks\": \"\"}}, \"type\": \"histogram\"}], \"histogram2d\": [{\"colorbar\": {\"outlinewidth\": 0, \"ticks\": \"\"}, \"colorscale\": [[0.0, \"#0d0887\"], [0.1111111111111111, \"#46039f\"], [0.2222222222222222, \"#7201a8\"], [0.3333333333333333, \"#9c179e\"], [0.4444444444444444, \"#bd3786\"], [0.5555555555555556, \"#d8576b\"], [0.6666666666666666, \"#ed7953\"], [0.7777777777777778, \"#fb9f3a\"], [0.8888888888888888, \"#fdca26\"], [1.0, \"#f0f921\"]], \"type\": \"histogram2d\"}], \"histogram2dcontour\": [{\"colorbar\": {\"outlinewidth\": 0, \"ticks\": \"\"}, \"colorscale\": [[0.0, \"#0d0887\"], [0.1111111111111111, \"#46039f\"], [0.2222222222222222, \"#7201a8\"], [0.3333333333333333, \"#9c179e\"], [0.4444444444444444, \"#bd3786\"], [0.5555555555555556, \"#d8576b\"], [0.6666666666666666, \"#ed7953\"], [0.7777777777777778, \"#fb9f3a\"], [0.8888888888888888, \"#fdca26\"], [1.0, \"#f0f921\"]], \"type\": \"histogram2dcontour\"}], \"mesh3d\": [{\"colorbar\": {\"outlinewidth\": 0, \"ticks\": \"\"}, \"type\": \"mesh3d\"}], \"parcoords\": [{\"line\": {\"colorbar\": {\"outlinewidth\": 0, \"ticks\": \"\"}}, \"type\": \"parcoords\"}], \"pie\": [{\"automargin\": true, \"type\": \"pie\"}], \"scatter\": [{\"marker\": {\"colorbar\": {\"outlinewidth\": 0, \"ticks\": \"\"}}, \"type\": \"scatter\"}], \"scatter3d\": [{\"line\": {\"colorbar\": {\"outlinewidth\": 0, \"ticks\": \"\"}}, \"marker\": {\"colorbar\": {\"outlinewidth\": 0, \"ticks\": \"\"}}, \"type\": \"scatter3d\"}], \"scattercarpet\": [{\"marker\": {\"colorbar\": {\"outlinewidth\": 0, \"ticks\": \"\"}}, \"type\": \"scattercarpet\"}], \"scattergeo\": [{\"marker\": {\"colorbar\": {\"outlinewidth\": 0, \"ticks\": \"\"}}, \"type\": \"scattergeo\"}], \"scattergl\": [{\"marker\": {\"colorbar\": {\"outlinewidth\": 0, \"ticks\": \"\"}}, \"type\": \"scattergl\"}], \"scattermapbox\": [{\"marker\": {\"colorbar\": {\"outlinewidth\": 0, \"ticks\": \"\"}}, \"type\": \"scattermapbox\"}], \"scatterpolar\": [{\"marker\": {\"colorbar\": {\"outlinewidth\": 0, \"ticks\": \"\"}}, \"type\": \"scatterpolar\"}], \"scatterpolargl\": [{\"marker\": {\"colorbar\": {\"outlinewidth\": 0, \"ticks\": \"\"}}, \"type\": \"scatterpolargl\"}], \"scatterternary\": [{\"marker\": {\"colorbar\": {\"outlinewidth\": 0, \"ticks\": \"\"}}, \"type\": \"scatterternary\"}], \"surface\": [{\"colorbar\": {\"outlinewidth\": 0, \"ticks\": \"\"}, \"colorscale\": [[0.0, \"#0d0887\"], [0.1111111111111111, \"#46039f\"], [0.2222222222222222, \"#7201a8\"], [0.3333333333333333, \"#9c179e\"], [0.4444444444444444, \"#bd3786\"], [0.5555555555555556, \"#d8576b\"], [0.6666666666666666, \"#ed7953\"], [0.7777777777777778, \"#fb9f3a\"], [0.8888888888888888, \"#fdca26\"], [1.0, \"#f0f921\"]], \"type\": \"surface\"}], \"table\": [{\"cells\": {\"fill\": {\"color\": \"#EBF0F8\"}, \"line\": {\"color\": \"white\"}}, \"header\": {\"fill\": {\"color\": \"#C8D4E3\"}, \"line\": {\"color\": \"white\"}}, \"type\": \"table\"}]}, \"layout\": {\"annotationdefaults\": {\"arrowcolor\": \"#2a3f5f\", \"arrowhead\": 0, \"arrowwidth\": 1}, \"coloraxis\": {\"colorbar\": {\"outlinewidth\": 0, \"ticks\": \"\"}}, \"colorscale\": {\"diverging\": [[0, \"#8e0152\"], [0.1, \"#c51b7d\"], [0.2, \"#de77ae\"], [0.3, \"#f1b6da\"], [0.4, \"#fde0ef\"], [0.5, \"#f7f7f7\"], [0.6, \"#e6f5d0\"], [0.7, \"#b8e186\"], [0.8, \"#7fbc41\"], [0.9, \"#4d9221\"], [1, \"#276419\"]], \"sequential\": [[0.0, \"#0d0887\"], [0.1111111111111111, \"#46039f\"], [0.2222222222222222, \"#7201a8\"], [0.3333333333333333, \"#9c179e\"], [0.4444444444444444, \"#bd3786\"], [0.5555555555555556, \"#d8576b\"], [0.6666666666666666, \"#ed7953\"], [0.7777777777777778, \"#fb9f3a\"], [0.8888888888888888, \"#fdca26\"], [1.0, \"#f0f921\"]], \"sequentialminus\": [[0.0, \"#0d0887\"], [0.1111111111111111, \"#46039f\"], [0.2222222222222222, \"#7201a8\"], [0.3333333333333333, \"#9c179e\"], [0.4444444444444444, \"#bd3786\"], [0.5555555555555556, \"#d8576b\"], [0.6666666666666666, \"#ed7953\"], [0.7777777777777778, \"#fb9f3a\"], [0.8888888888888888, \"#fdca26\"], [1.0, \"#f0f921\"]]}, \"colorway\": [\"#636efa\", \"#EF553B\", \"#00cc96\", \"#ab63fa\", \"#FFA15A\", \"#19d3f3\", \"#FF6692\", \"#B6E880\", \"#FF97FF\", \"#FECB52\"], \"font\": {\"color\": \"#2a3f5f\"}, \"geo\": {\"bgcolor\": \"white\", \"lakecolor\": \"white\", \"landcolor\": \"#E5ECF6\", \"showlakes\": true, \"showland\": true, \"subunitcolor\": \"white\"}, \"hoverlabel\": {\"align\": \"left\"}, \"hovermode\": \"closest\", \"mapbox\": {\"style\": \"light\"}, \"paper_bgcolor\": \"white\", \"plot_bgcolor\": \"#E5ECF6\", \"polar\": {\"angularaxis\": {\"gridcolor\": \"white\", \"linecolor\": \"white\", \"ticks\": \"\"}, \"bgcolor\": \"#E5ECF6\", \"radialaxis\": {\"gridcolor\": \"white\", \"linecolor\": \"white\", \"ticks\": \"\"}}, \"scene\": {\"xaxis\": {\"backgroundcolor\": \"#E5ECF6\", \"gridcolor\": \"white\", \"gridwidth\": 2, \"linecolor\": \"white\", \"showbackground\": true, \"ticks\": \"\", \"zerolinecolor\": \"white\"}, \"yaxis\": {\"backgroundcolor\": \"#E5ECF6\", \"gridcolor\": \"white\", \"gridwidth\": 2, \"linecolor\": \"white\", \"showbackground\": true, \"ticks\": \"\", \"zerolinecolor\": \"white\"}, \"zaxis\": {\"backgroundcolor\": \"#E5ECF6\", \"gridcolor\": \"white\", \"gridwidth\": 2, \"linecolor\": \"white\", \"showbackground\": true, \"ticks\": \"\", \"zerolinecolor\": \"white\"}}, \"shapedefaults\": {\"line\": {\"color\": \"#2a3f5f\"}}, \"ternary\": {\"aaxis\": {\"gridcolor\": \"white\", \"linecolor\": \"white\", \"ticks\": \"\"}, \"baxis\": {\"gridcolor\": \"white\", \"linecolor\": \"white\", \"ticks\": \"\"}, \"bgcolor\": \"#E5ECF6\", \"caxis\": {\"gridcolor\": \"white\", \"linecolor\": \"white\", \"ticks\": \"\"}}, \"title\": {\"x\": 0.05}, \"xaxis\": {\"automargin\": true, \"gridcolor\": \"white\", \"linecolor\": \"white\", \"ticks\": \"\", \"title\": {\"standoff\": 15}, \"zerolinecolor\": \"white\", \"zerolinewidth\": 2}, \"yaxis\": {\"automargin\": true, \"gridcolor\": \"white\", \"linecolor\": \"white\", \"ticks\": \"\", \"title\": {\"standoff\": 15}, \"zerolinecolor\": \"white\", \"zerolinewidth\": 2}}}, \"xaxis\": {\"anchor\": \"y\", \"domain\": [0.0, 1.0], \"title\": {\"text\": \"gni($)\"}}, \"yaxis\": {\"anchor\": \"x\", \"domain\": [0.0, 1.0], \"title\": {\"text\": \"dislikeCount\"}}},                        {\"responsive\": true}                    ).then(function(){\n",
       "                            \n",
       "var gd = document.getElementById('b99fca25-3e6f-40b7-b0bb-522590262635');\n",
       "var x = new MutationObserver(function (mutations, observer) {{\n",
       "        var display = window.getComputedStyle(gd).display;\n",
       "        if (!display || display === 'none') {{\n",
       "            console.log([gd, 'removed!']);\n",
       "            Plotly.purge(gd);\n",
       "            observer.disconnect();\n",
       "        }}\n",
       "}});\n",
       "\n",
       "// Listen for the removal of the full notebook cells\n",
       "var notebookContainer = gd.closest('#notebook-container');\n",
       "if (notebookContainer) {{\n",
       "    x.observe(notebookContainer, {childList: true});\n",
       "}}\n",
       "\n",
       "// Listen for the clearing of the current output cell\n",
       "var outputEl = gd.closest('.output');\n",
       "if (outputEl) {{\n",
       "    x.observe(outputEl, {childList: true});\n",
       "}}\n",
       "\n",
       "                        })                };                });            </script>        </div>"
      ]
     },
     "metadata": {},
     "output_type": "display_data"
    }
   ],
   "source": [
    "fig = px.scatter(countires_stat, x=\"gni($)\", y=\"dislikeCount\", color = \"video_num\", text=\"country\")\n",
    "fig.update_traces(textposition=\"bottom right\")\n",
    "fig.show()"
   ]
  },
  {
   "cell_type": "code",
   "execution_count": 253,
   "metadata": {},
   "outputs": [
    {
     "data": {
      "application/vnd.plotly.v1+json": {
       "config": {
        "plotlyServerURL": "https://plot.ly"
       },
       "data": [
        {
         "hovertemplate": "gni($)=%{x}<br>commentCount=%{y}<br>country=%{text}<br>video_num=%{marker.color}<extra></extra>",
         "legendgroup": "",
         "marker": {
          "color": [
           2,
           2,
           4,
           4,
           1,
           124,
           1,
           14,
           2,
           2,
           1,
           2,
           11,
           4,
           6,
           7,
           76,
           70,
           7,
           560,
           4,
           25,
           1,
           16,
           374,
           2,
           63,
           1,
           27,
           5,
           4,
           1,
           4,
           4,
           45,
           1327,
           3,
           4,
           16,
           2,
           1,
           11,
           1,
           4,
           2,
           23,
           61,
           7,
           61,
           21,
           15,
           18,
           5,
           15,
           1,
           2,
           3,
           3,
           65,
           2,
           1,
           6,
           2,
           3,
           2,
           1,
           1,
           1,
           1,
           1,
           1,
           1
          ],
          "coloraxis": "coloraxis",
          "symbol": "circle"
         },
         "mode": "markers+text",
         "name": "",
         "orientation": "v",
         "showlegend": false,
         "text": [
          "나이지리아",
          "슬로베니아",
          "핀란드",
          "아르헨티나",
          "리투아니아",
          "영국",
          "그리스",
          "터키",
          "헝가리",
          "스웨덴",
          "라트비아",
          "에티오피아",
          "이스라엘",
          "페루",
          "몽골",
          "네덜란드",
          "대만",
          "러시아",
          "콜롬비아",
          "미국",
          "덴마크",
          "미얀마",
          "요르단",
          "스페인",
          "중국",
          "라오스",
          "프랑스",
          "이라크",
          "체코",
          "스위스",
          "스리랑카",
          "키르기스스탄",
          "아일랜드",
          "레바논",
          "인도",
          "일본",
          "에스토니아",
          "말레이시아",
          "캐나다",
          "에콰도르",
          "몰디브",
          "브라질",
          "루마니아",
          "가나",
          "파라과이",
          "필리핀",
          "독일",
          "폴란드",
          "베트남",
          "인도네시아",
          "멕시코",
          "태국",
          "홍콩",
          "카타르",
          "캄보디아",
          "뉴질랜드",
          "오스트리아",
          "우즈베키스탄",
          "이탈리아",
          "온두라스",
          "우간다",
          "싱가포르",
          "파키스탄",
          "노르웨이",
          "이집트",
          "케냐",
          "콩고",
          "토고",
          "코스타리카",
          "카자흐스탄",
          "칠레",
          "모리셔스"
         ],
         "textposition": "bottom right",
         "type": "scatter",
         "x": [
          2156.855561273,
          25484.3329433816,
          48471.7316884569,
          9653.7696279967,
          19030.5430407403,
          41290.946174167,
          20005.9817657725,
          8892.510612221,
          16020.4175231012,
          54295.9591190112,
          17650.8470196271,
          853.3336768113,
          46317.6378770984,
          6652.1953722346,
          3811.0578369906,
          53353.8354649882,
          26514,
          11287.4382982507,
          6227.604044114,
          65716.503439958,
          61898.7671281867,
          1356.1156705571,
          4299.19397994,
          29889.2968328834,
          9979.2317580243,
          2475.2002283395,
          42500.3987860691,
          5926.8045108967,
          22023.2919162716,
          83450.8706276967,
          3826.2779371399,
          1221.4778745926,
          61392.0985712455,
          7752.2313552358,
          2081.2827818958,
          41490.8199704261,
          23186.9005176436,
          11086.0908193658,
          45937.0833126912,
          6005.0451623223,
          9792.4757032162,
          8486.010823712,
          12737.5428783551,
          2154.2380394673,
          5216.2995137894,
          3831.6872189388,
          47388.6353293016,
          14941.1573732776,
          2511.5956960978,
          4011.848820312,
          9571.6766898496,
          7520.1891751631,
          51765.7913958652,
          63224.6131564475,
          1501.3340129622,
          42035.7034410279,
          49794.1882131601,
          1782.6450362053,
          33334.0102881571,
          2378.4535851805,
          756.0785791655,
          58184.9120430579,
          1371.1115608541,
          78105.3404888218,
          2910.2101088319,
          1779.931083438,
          1791.5653220757,
          678.1031840129,
          11527.516121726,
          8509.9670591489,
          14297.8190108265,
          12318.4380572234
         ],
         "xaxis": "x",
         "y": [
          1693,
          729,
          1402.75,
          808.75,
          1296,
          1130.4112903225807,
          660,
          338.42857142857144,
          796,
          295.5,
          159,
          440.5,
          506.27272727272725,
          548.75,
          865.5,
          397.71428571428567,
          849.2763157894735,
          642.8142857142857,
          311.2857142857143,
          502.29032258064524,
          574.5,
          748.24,
          597,
          309.4375,
          694.798927613941,
          286.5,
          310.96825396825403,
          707,
          379.22222222222223,
          273.2,
          307.75,
          298,
          284.75,
          359.75,
          353.8,
          403.27073906485674,
          216.66666666666663,
          422,
          260.3125,
          181.5,
          350,
          221.0909090909091,
          252,
          345,
          395.5,
          352.69565217391306,
          206.78688524590163,
          237,
          374.9016393442623,
          245.09523809523807,
          240.8,
          357.11111111111114,
          355,
          363.06666666666666,
          140,
          245.5,
          278.6666666666667,
          191.33333333333331,
          210.6923076923077,
          167,
          408,
          76.5,
          78.5,
          91.66666666666669,
          90,
          38,
          90,
          27,
          35,
          38,
          17,
          13
         ],
         "yaxis": "y"
        }
       ],
       "layout": {
        "coloraxis": {
         "colorbar": {
          "title": {
           "text": "video_num"
          }
         },
         "colorscale": [
          [
           0,
           "#0d0887"
          ],
          [
           0.1111111111111111,
           "#46039f"
          ],
          [
           0.2222222222222222,
           "#7201a8"
          ],
          [
           0.3333333333333333,
           "#9c179e"
          ],
          [
           0.4444444444444444,
           "#bd3786"
          ],
          [
           0.5555555555555556,
           "#d8576b"
          ],
          [
           0.6666666666666666,
           "#ed7953"
          ],
          [
           0.7777777777777778,
           "#fb9f3a"
          ],
          [
           0.8888888888888888,
           "#fdca26"
          ],
          [
           1,
           "#f0f921"
          ]
         ]
        },
        "legend": {
         "tracegroupgap": 0
        },
        "margin": {
         "t": 60
        },
        "template": {
         "data": {
          "bar": [
           {
            "error_x": {
             "color": "#2a3f5f"
            },
            "error_y": {
             "color": "#2a3f5f"
            },
            "marker": {
             "line": {
              "color": "#E5ECF6",
              "width": 0.5
             }
            },
            "type": "bar"
           }
          ],
          "barpolar": [
           {
            "marker": {
             "line": {
              "color": "#E5ECF6",
              "width": 0.5
             }
            },
            "type": "barpolar"
           }
          ],
          "carpet": [
           {
            "aaxis": {
             "endlinecolor": "#2a3f5f",
             "gridcolor": "white",
             "linecolor": "white",
             "minorgridcolor": "white",
             "startlinecolor": "#2a3f5f"
            },
            "baxis": {
             "endlinecolor": "#2a3f5f",
             "gridcolor": "white",
             "linecolor": "white",
             "minorgridcolor": "white",
             "startlinecolor": "#2a3f5f"
            },
            "type": "carpet"
           }
          ],
          "choropleth": [
           {
            "colorbar": {
             "outlinewidth": 0,
             "ticks": ""
            },
            "type": "choropleth"
           }
          ],
          "contour": [
           {
            "colorbar": {
             "outlinewidth": 0,
             "ticks": ""
            },
            "colorscale": [
             [
              0,
              "#0d0887"
             ],
             [
              0.1111111111111111,
              "#46039f"
             ],
             [
              0.2222222222222222,
              "#7201a8"
             ],
             [
              0.3333333333333333,
              "#9c179e"
             ],
             [
              0.4444444444444444,
              "#bd3786"
             ],
             [
              0.5555555555555556,
              "#d8576b"
             ],
             [
              0.6666666666666666,
              "#ed7953"
             ],
             [
              0.7777777777777778,
              "#fb9f3a"
             ],
             [
              0.8888888888888888,
              "#fdca26"
             ],
             [
              1,
              "#f0f921"
             ]
            ],
            "type": "contour"
           }
          ],
          "contourcarpet": [
           {
            "colorbar": {
             "outlinewidth": 0,
             "ticks": ""
            },
            "type": "contourcarpet"
           }
          ],
          "heatmap": [
           {
            "colorbar": {
             "outlinewidth": 0,
             "ticks": ""
            },
            "colorscale": [
             [
              0,
              "#0d0887"
             ],
             [
              0.1111111111111111,
              "#46039f"
             ],
             [
              0.2222222222222222,
              "#7201a8"
             ],
             [
              0.3333333333333333,
              "#9c179e"
             ],
             [
              0.4444444444444444,
              "#bd3786"
             ],
             [
              0.5555555555555556,
              "#d8576b"
             ],
             [
              0.6666666666666666,
              "#ed7953"
             ],
             [
              0.7777777777777778,
              "#fb9f3a"
             ],
             [
              0.8888888888888888,
              "#fdca26"
             ],
             [
              1,
              "#f0f921"
             ]
            ],
            "type": "heatmap"
           }
          ],
          "heatmapgl": [
           {
            "colorbar": {
             "outlinewidth": 0,
             "ticks": ""
            },
            "colorscale": [
             [
              0,
              "#0d0887"
             ],
             [
              0.1111111111111111,
              "#46039f"
             ],
             [
              0.2222222222222222,
              "#7201a8"
             ],
             [
              0.3333333333333333,
              "#9c179e"
             ],
             [
              0.4444444444444444,
              "#bd3786"
             ],
             [
              0.5555555555555556,
              "#d8576b"
             ],
             [
              0.6666666666666666,
              "#ed7953"
             ],
             [
              0.7777777777777778,
              "#fb9f3a"
             ],
             [
              0.8888888888888888,
              "#fdca26"
             ],
             [
              1,
              "#f0f921"
             ]
            ],
            "type": "heatmapgl"
           }
          ],
          "histogram": [
           {
            "marker": {
             "colorbar": {
              "outlinewidth": 0,
              "ticks": ""
             }
            },
            "type": "histogram"
           }
          ],
          "histogram2d": [
           {
            "colorbar": {
             "outlinewidth": 0,
             "ticks": ""
            },
            "colorscale": [
             [
              0,
              "#0d0887"
             ],
             [
              0.1111111111111111,
              "#46039f"
             ],
             [
              0.2222222222222222,
              "#7201a8"
             ],
             [
              0.3333333333333333,
              "#9c179e"
             ],
             [
              0.4444444444444444,
              "#bd3786"
             ],
             [
              0.5555555555555556,
              "#d8576b"
             ],
             [
              0.6666666666666666,
              "#ed7953"
             ],
             [
              0.7777777777777778,
              "#fb9f3a"
             ],
             [
              0.8888888888888888,
              "#fdca26"
             ],
             [
              1,
              "#f0f921"
             ]
            ],
            "type": "histogram2d"
           }
          ],
          "histogram2dcontour": [
           {
            "colorbar": {
             "outlinewidth": 0,
             "ticks": ""
            },
            "colorscale": [
             [
              0,
              "#0d0887"
             ],
             [
              0.1111111111111111,
              "#46039f"
             ],
             [
              0.2222222222222222,
              "#7201a8"
             ],
             [
              0.3333333333333333,
              "#9c179e"
             ],
             [
              0.4444444444444444,
              "#bd3786"
             ],
             [
              0.5555555555555556,
              "#d8576b"
             ],
             [
              0.6666666666666666,
              "#ed7953"
             ],
             [
              0.7777777777777778,
              "#fb9f3a"
             ],
             [
              0.8888888888888888,
              "#fdca26"
             ],
             [
              1,
              "#f0f921"
             ]
            ],
            "type": "histogram2dcontour"
           }
          ],
          "mesh3d": [
           {
            "colorbar": {
             "outlinewidth": 0,
             "ticks": ""
            },
            "type": "mesh3d"
           }
          ],
          "parcoords": [
           {
            "line": {
             "colorbar": {
              "outlinewidth": 0,
              "ticks": ""
             }
            },
            "type": "parcoords"
           }
          ],
          "pie": [
           {
            "automargin": true,
            "type": "pie"
           }
          ],
          "scatter": [
           {
            "marker": {
             "colorbar": {
              "outlinewidth": 0,
              "ticks": ""
             }
            },
            "type": "scatter"
           }
          ],
          "scatter3d": [
           {
            "line": {
             "colorbar": {
              "outlinewidth": 0,
              "ticks": ""
             }
            },
            "marker": {
             "colorbar": {
              "outlinewidth": 0,
              "ticks": ""
             }
            },
            "type": "scatter3d"
           }
          ],
          "scattercarpet": [
           {
            "marker": {
             "colorbar": {
              "outlinewidth": 0,
              "ticks": ""
             }
            },
            "type": "scattercarpet"
           }
          ],
          "scattergeo": [
           {
            "marker": {
             "colorbar": {
              "outlinewidth": 0,
              "ticks": ""
             }
            },
            "type": "scattergeo"
           }
          ],
          "scattergl": [
           {
            "marker": {
             "colorbar": {
              "outlinewidth": 0,
              "ticks": ""
             }
            },
            "type": "scattergl"
           }
          ],
          "scattermapbox": [
           {
            "marker": {
             "colorbar": {
              "outlinewidth": 0,
              "ticks": ""
             }
            },
            "type": "scattermapbox"
           }
          ],
          "scatterpolar": [
           {
            "marker": {
             "colorbar": {
              "outlinewidth": 0,
              "ticks": ""
             }
            },
            "type": "scatterpolar"
           }
          ],
          "scatterpolargl": [
           {
            "marker": {
             "colorbar": {
              "outlinewidth": 0,
              "ticks": ""
             }
            },
            "type": "scatterpolargl"
           }
          ],
          "scatterternary": [
           {
            "marker": {
             "colorbar": {
              "outlinewidth": 0,
              "ticks": ""
             }
            },
            "type": "scatterternary"
           }
          ],
          "surface": [
           {
            "colorbar": {
             "outlinewidth": 0,
             "ticks": ""
            },
            "colorscale": [
             [
              0,
              "#0d0887"
             ],
             [
              0.1111111111111111,
              "#46039f"
             ],
             [
              0.2222222222222222,
              "#7201a8"
             ],
             [
              0.3333333333333333,
              "#9c179e"
             ],
             [
              0.4444444444444444,
              "#bd3786"
             ],
             [
              0.5555555555555556,
              "#d8576b"
             ],
             [
              0.6666666666666666,
              "#ed7953"
             ],
             [
              0.7777777777777778,
              "#fb9f3a"
             ],
             [
              0.8888888888888888,
              "#fdca26"
             ],
             [
              1,
              "#f0f921"
             ]
            ],
            "type": "surface"
           }
          ],
          "table": [
           {
            "cells": {
             "fill": {
              "color": "#EBF0F8"
             },
             "line": {
              "color": "white"
             }
            },
            "header": {
             "fill": {
              "color": "#C8D4E3"
             },
             "line": {
              "color": "white"
             }
            },
            "type": "table"
           }
          ]
         },
         "layout": {
          "annotationdefaults": {
           "arrowcolor": "#2a3f5f",
           "arrowhead": 0,
           "arrowwidth": 1
          },
          "coloraxis": {
           "colorbar": {
            "outlinewidth": 0,
            "ticks": ""
           }
          },
          "colorscale": {
           "diverging": [
            [
             0,
             "#8e0152"
            ],
            [
             0.1,
             "#c51b7d"
            ],
            [
             0.2,
             "#de77ae"
            ],
            [
             0.3,
             "#f1b6da"
            ],
            [
             0.4,
             "#fde0ef"
            ],
            [
             0.5,
             "#f7f7f7"
            ],
            [
             0.6,
             "#e6f5d0"
            ],
            [
             0.7,
             "#b8e186"
            ],
            [
             0.8,
             "#7fbc41"
            ],
            [
             0.9,
             "#4d9221"
            ],
            [
             1,
             "#276419"
            ]
           ],
           "sequential": [
            [
             0,
             "#0d0887"
            ],
            [
             0.1111111111111111,
             "#46039f"
            ],
            [
             0.2222222222222222,
             "#7201a8"
            ],
            [
             0.3333333333333333,
             "#9c179e"
            ],
            [
             0.4444444444444444,
             "#bd3786"
            ],
            [
             0.5555555555555556,
             "#d8576b"
            ],
            [
             0.6666666666666666,
             "#ed7953"
            ],
            [
             0.7777777777777778,
             "#fb9f3a"
            ],
            [
             0.8888888888888888,
             "#fdca26"
            ],
            [
             1,
             "#f0f921"
            ]
           ],
           "sequentialminus": [
            [
             0,
             "#0d0887"
            ],
            [
             0.1111111111111111,
             "#46039f"
            ],
            [
             0.2222222222222222,
             "#7201a8"
            ],
            [
             0.3333333333333333,
             "#9c179e"
            ],
            [
             0.4444444444444444,
             "#bd3786"
            ],
            [
             0.5555555555555556,
             "#d8576b"
            ],
            [
             0.6666666666666666,
             "#ed7953"
            ],
            [
             0.7777777777777778,
             "#fb9f3a"
            ],
            [
             0.8888888888888888,
             "#fdca26"
            ],
            [
             1,
             "#f0f921"
            ]
           ]
          },
          "colorway": [
           "#636efa",
           "#EF553B",
           "#00cc96",
           "#ab63fa",
           "#FFA15A",
           "#19d3f3",
           "#FF6692",
           "#B6E880",
           "#FF97FF",
           "#FECB52"
          ],
          "font": {
           "color": "#2a3f5f"
          },
          "geo": {
           "bgcolor": "white",
           "lakecolor": "white",
           "landcolor": "#E5ECF6",
           "showlakes": true,
           "showland": true,
           "subunitcolor": "white"
          },
          "hoverlabel": {
           "align": "left"
          },
          "hovermode": "closest",
          "mapbox": {
           "style": "light"
          },
          "paper_bgcolor": "white",
          "plot_bgcolor": "#E5ECF6",
          "polar": {
           "angularaxis": {
            "gridcolor": "white",
            "linecolor": "white",
            "ticks": ""
           },
           "bgcolor": "#E5ECF6",
           "radialaxis": {
            "gridcolor": "white",
            "linecolor": "white",
            "ticks": ""
           }
          },
          "scene": {
           "xaxis": {
            "backgroundcolor": "#E5ECF6",
            "gridcolor": "white",
            "gridwidth": 2,
            "linecolor": "white",
            "showbackground": true,
            "ticks": "",
            "zerolinecolor": "white"
           },
           "yaxis": {
            "backgroundcolor": "#E5ECF6",
            "gridcolor": "white",
            "gridwidth": 2,
            "linecolor": "white",
            "showbackground": true,
            "ticks": "",
            "zerolinecolor": "white"
           },
           "zaxis": {
            "backgroundcolor": "#E5ECF6",
            "gridcolor": "white",
            "gridwidth": 2,
            "linecolor": "white",
            "showbackground": true,
            "ticks": "",
            "zerolinecolor": "white"
           }
          },
          "shapedefaults": {
           "line": {
            "color": "#2a3f5f"
           }
          },
          "ternary": {
           "aaxis": {
            "gridcolor": "white",
            "linecolor": "white",
            "ticks": ""
           },
           "baxis": {
            "gridcolor": "white",
            "linecolor": "white",
            "ticks": ""
           },
           "bgcolor": "#E5ECF6",
           "caxis": {
            "gridcolor": "white",
            "linecolor": "white",
            "ticks": ""
           }
          },
          "title": {
           "x": 0.05
          },
          "xaxis": {
           "automargin": true,
           "gridcolor": "white",
           "linecolor": "white",
           "ticks": "",
           "title": {
            "standoff": 15
           },
           "zerolinecolor": "white",
           "zerolinewidth": 2
          },
          "yaxis": {
           "automargin": true,
           "gridcolor": "white",
           "linecolor": "white",
           "ticks": "",
           "title": {
            "standoff": 15
           },
           "zerolinecolor": "white",
           "zerolinewidth": 2
          }
         }
        },
        "xaxis": {
         "anchor": "y",
         "domain": [
          0,
          1
         ],
         "title": {
          "text": "gni($)"
         }
        },
        "yaxis": {
         "anchor": "x",
         "domain": [
          0,
          1
         ],
         "title": {
          "text": "commentCount"
         }
        }
       }
      },
      "text/html": [
       "<div>                            <div id=\"a583f09c-66e8-4fc5-8f52-997a67d50f95\" class=\"plotly-graph-div\" style=\"height:525px; width:100%;\"></div>            <script type=\"text/javascript\">                require([\"plotly\"], function(Plotly) {                    window.PLOTLYENV=window.PLOTLYENV || {};                                    if (document.getElementById(\"a583f09c-66e8-4fc5-8f52-997a67d50f95\")) {                    Plotly.newPlot(                        \"a583f09c-66e8-4fc5-8f52-997a67d50f95\",                        [{\"hovertemplate\": \"gni($)=%{x}<br>commentCount=%{y}<br>country=%{text}<br>video_num=%{marker.color}<extra></extra>\", \"legendgroup\": \"\", \"marker\": {\"color\": [2, 2, 4, 4, 1, 124, 1, 14, 2, 2, 1, 2, 11, 4, 6, 7, 76, 70, 7, 560, 4, 25, 1, 16, 374, 2, 63, 1, 27, 5, 4, 1, 4, 4, 45, 1327, 3, 4, 16, 2, 1, 11, 1, 4, 2, 23, 61, 7, 61, 21, 15, 18, 5, 15, 1, 2, 3, 3, 65, 2, 1, 6, 2, 3, 2, 1, 1, 1, 1, 1, 1, 1], \"coloraxis\": \"coloraxis\", \"symbol\": \"circle\"}, \"mode\": \"markers+text\", \"name\": \"\", \"orientation\": \"v\", \"showlegend\": false, \"text\": [\"\\ub098\\uc774\\uc9c0\\ub9ac\\uc544\", \"\\uc2ac\\ub85c\\ubca0\\ub2c8\\uc544\", \"\\ud540\\ub780\\ub4dc\", \"\\uc544\\ub974\\ud5e8\\ud2f0\\ub098\", \"\\ub9ac\\ud22c\\uc544\\ub2c8\\uc544\", \"\\uc601\\uad6d\", \"\\uadf8\\ub9ac\\uc2a4\", \"\\ud130\\ud0a4\", \"\\ud5dd\\uac00\\ub9ac\", \"\\uc2a4\\uc6e8\\ub374\", \"\\ub77c\\ud2b8\\ube44\\uc544\", \"\\uc5d0\\ud2f0\\uc624\\ud53c\\uc544\", \"\\uc774\\uc2a4\\ub77c\\uc5d8\", \"\\ud398\\ub8e8\", \"\\ubabd\\uace8\", \"\\ub124\\ub35c\\ub780\\ub4dc\", \"\\ub300\\ub9cc\", \"\\ub7ec\\uc2dc\\uc544\", \"\\ucf5c\\ub86c\\ube44\\uc544\", \"\\ubbf8\\uad6d\", \"\\ub374\\ub9c8\\ud06c\", \"\\ubbf8\\uc580\\ub9c8\", \"\\uc694\\ub974\\ub2e8\", \"\\uc2a4\\ud398\\uc778\", \"\\uc911\\uad6d\", \"\\ub77c\\uc624\\uc2a4\", \"\\ud504\\ub791\\uc2a4\", \"\\uc774\\ub77c\\ud06c\", \"\\uccb4\\ucf54\", \"\\uc2a4\\uc704\\uc2a4\", \"\\uc2a4\\ub9ac\\ub791\\uce74\", \"\\ud0a4\\ub974\\uae30\\uc2a4\\uc2a4\\ud0c4\", \"\\uc544\\uc77c\\ub79c\\ub4dc\", \"\\ub808\\ubc14\\ub17c\", \"\\uc778\\ub3c4\", \"\\uc77c\\ubcf8\", \"\\uc5d0\\uc2a4\\ud1a0\\ub2c8\\uc544\", \"\\ub9d0\\ub808\\uc774\\uc2dc\\uc544\", \"\\uce90\\ub098\\ub2e4\", \"\\uc5d0\\ucf70\\ub3c4\\ub974\", \"\\ubab0\\ub514\\ube0c\", \"\\ube0c\\ub77c\\uc9c8\", \"\\ub8e8\\ub9c8\\ub2c8\\uc544\", \"\\uac00\\ub098\", \"\\ud30c\\ub77c\\uacfc\\uc774\", \"\\ud544\\ub9ac\\ud540\", \"\\ub3c5\\uc77c\", \"\\ud3f4\\ub780\\ub4dc\", \"\\ubca0\\ud2b8\\ub0a8\", \"\\uc778\\ub3c4\\ub124\\uc2dc\\uc544\", \"\\uba55\\uc2dc\\ucf54\", \"\\ud0dc\\uad6d\", \"\\ud64d\\ucf69\", \"\\uce74\\ud0c0\\ub974\", \"\\uce84\\ubcf4\\ub514\\uc544\", \"\\ub274\\uc9c8\\ub79c\\ub4dc\", \"\\uc624\\uc2a4\\ud2b8\\ub9ac\\uc544\", \"\\uc6b0\\uc988\\ubca0\\ud0a4\\uc2a4\\ud0c4\", \"\\uc774\\ud0c8\\ub9ac\\uc544\", \"\\uc628\\ub450\\ub77c\\uc2a4\", \"\\uc6b0\\uac04\\ub2e4\", \"\\uc2f1\\uac00\\ud3ec\\ub974\", \"\\ud30c\\ud0a4\\uc2a4\\ud0c4\", \"\\ub178\\ub974\\uc6e8\\uc774\", \"\\uc774\\uc9d1\\ud2b8\", \"\\ucf00\\ub0d0\", \"\\ucf69\\uace0\", \"\\ud1a0\\uace0\", \"\\ucf54\\uc2a4\\ud0c0\\ub9ac\\uce74\", \"\\uce74\\uc790\\ud750\\uc2a4\\ud0c4\", \"\\uce60\\ub808\", \"\\ubaa8\\ub9ac\\uc154\\uc2a4\"], \"textposition\": \"bottom right\", \"type\": \"scatter\", \"x\": [2156.855561273, 25484.3329433816, 48471.7316884569, 9653.7696279967, 19030.5430407403, 41290.946174167, 20005.9817657725, 8892.510612221, 16020.4175231012, 54295.9591190112, 17650.8470196271, 853.3336768113, 46317.6378770984, 6652.1953722346, 3811.0578369906, 53353.8354649882, 26514.0, 11287.4382982507, 6227.604044114, 65716.503439958, 61898.7671281867, 1356.1156705571, 4299.19397994, 29889.2968328834, 9979.2317580243, 2475.2002283395, 42500.3987860691, 5926.8045108967, 22023.2919162716, 83450.8706276967, 3826.2779371399, 1221.4778745926, 61392.0985712455, 7752.2313552358, 2081.2827818958, 41490.8199704261, 23186.9005176436, 11086.0908193658, 45937.0833126912, 6005.0451623223, 9792.4757032162, 8486.010823712, 12737.5428783551, 2154.2380394673, 5216.2995137894, 3831.6872189388, 47388.6353293016, 14941.1573732776, 2511.5956960978, 4011.848820312, 9571.6766898496, 7520.1891751631, 51765.7913958652, 63224.6131564475, 1501.3340129622, 42035.7034410279, 49794.1882131601, 1782.6450362053, 33334.0102881571, 2378.4535851805, 756.0785791655, 58184.9120430579, 1371.1115608541, 78105.3404888218, 2910.2101088319, 1779.931083438, 1791.5653220757, 678.1031840129, 11527.516121726, 8509.9670591489, 14297.8190108265, 12318.4380572234], \"xaxis\": \"x\", \"y\": [1693.0, 729.0, 1402.75, 808.75, 1296.0, 1130.4112903225807, 660.0, 338.42857142857144, 796.0, 295.5, 159.0, 440.5, 506.27272727272725, 548.75, 865.5, 397.71428571428567, 849.2763157894735, 642.8142857142857, 311.2857142857143, 502.29032258064524, 574.5, 748.24, 597.0, 309.4375, 694.798927613941, 286.5, 310.96825396825403, 707.0, 379.22222222222223, 273.2, 307.75, 298.0, 284.75, 359.75, 353.8, 403.27073906485674, 216.66666666666663, 422.0, 260.3125, 181.5, 350.0, 221.0909090909091, 252.0, 345.0, 395.5, 352.69565217391306, 206.78688524590163, 237.0, 374.9016393442623, 245.09523809523807, 240.8, 357.11111111111114, 355.0, 363.06666666666666, 140.0, 245.5, 278.6666666666667, 191.33333333333331, 210.6923076923077, 167.0, 408.0, 76.5, 78.5, 91.66666666666669, 90.0, 38.0, 90.0, 27.0, 35.0, 38.0, 17.0, 13.0], \"yaxis\": \"y\"}],                        {\"coloraxis\": {\"colorbar\": {\"title\": {\"text\": \"video_num\"}}, \"colorscale\": [[0.0, \"#0d0887\"], [0.1111111111111111, \"#46039f\"], [0.2222222222222222, \"#7201a8\"], [0.3333333333333333, \"#9c179e\"], [0.4444444444444444, \"#bd3786\"], [0.5555555555555556, \"#d8576b\"], [0.6666666666666666, \"#ed7953\"], [0.7777777777777778, \"#fb9f3a\"], [0.8888888888888888, \"#fdca26\"], [1.0, \"#f0f921\"]]}, \"legend\": {\"tracegroupgap\": 0}, \"margin\": {\"t\": 60}, \"template\": {\"data\": {\"bar\": [{\"error_x\": {\"color\": \"#2a3f5f\"}, \"error_y\": {\"color\": \"#2a3f5f\"}, \"marker\": {\"line\": {\"color\": \"#E5ECF6\", \"width\": 0.5}}, \"type\": \"bar\"}], \"barpolar\": [{\"marker\": {\"line\": {\"color\": \"#E5ECF6\", \"width\": 0.5}}, \"type\": \"barpolar\"}], \"carpet\": [{\"aaxis\": {\"endlinecolor\": \"#2a3f5f\", \"gridcolor\": \"white\", \"linecolor\": \"white\", \"minorgridcolor\": \"white\", \"startlinecolor\": \"#2a3f5f\"}, \"baxis\": {\"endlinecolor\": \"#2a3f5f\", \"gridcolor\": \"white\", \"linecolor\": \"white\", \"minorgridcolor\": \"white\", \"startlinecolor\": \"#2a3f5f\"}, \"type\": \"carpet\"}], \"choropleth\": [{\"colorbar\": {\"outlinewidth\": 0, \"ticks\": \"\"}, \"type\": \"choropleth\"}], \"contour\": [{\"colorbar\": {\"outlinewidth\": 0, \"ticks\": \"\"}, \"colorscale\": [[0.0, \"#0d0887\"], [0.1111111111111111, \"#46039f\"], [0.2222222222222222, \"#7201a8\"], [0.3333333333333333, \"#9c179e\"], [0.4444444444444444, \"#bd3786\"], [0.5555555555555556, \"#d8576b\"], [0.6666666666666666, \"#ed7953\"], [0.7777777777777778, \"#fb9f3a\"], [0.8888888888888888, \"#fdca26\"], [1.0, \"#f0f921\"]], \"type\": \"contour\"}], \"contourcarpet\": [{\"colorbar\": {\"outlinewidth\": 0, \"ticks\": \"\"}, \"type\": \"contourcarpet\"}], \"heatmap\": [{\"colorbar\": {\"outlinewidth\": 0, \"ticks\": \"\"}, \"colorscale\": [[0.0, \"#0d0887\"], [0.1111111111111111, \"#46039f\"], [0.2222222222222222, \"#7201a8\"], [0.3333333333333333, \"#9c179e\"], [0.4444444444444444, \"#bd3786\"], [0.5555555555555556, \"#d8576b\"], [0.6666666666666666, \"#ed7953\"], [0.7777777777777778, \"#fb9f3a\"], [0.8888888888888888, \"#fdca26\"], [1.0, \"#f0f921\"]], \"type\": \"heatmap\"}], \"heatmapgl\": [{\"colorbar\": {\"outlinewidth\": 0, \"ticks\": \"\"}, \"colorscale\": [[0.0, \"#0d0887\"], [0.1111111111111111, \"#46039f\"], [0.2222222222222222, \"#7201a8\"], [0.3333333333333333, \"#9c179e\"], [0.4444444444444444, \"#bd3786\"], [0.5555555555555556, \"#d8576b\"], [0.6666666666666666, \"#ed7953\"], [0.7777777777777778, \"#fb9f3a\"], [0.8888888888888888, \"#fdca26\"], [1.0, \"#f0f921\"]], \"type\": \"heatmapgl\"}], \"histogram\": [{\"marker\": {\"colorbar\": {\"outlinewidth\": 0, \"ticks\": \"\"}}, \"type\": \"histogram\"}], \"histogram2d\": [{\"colorbar\": {\"outlinewidth\": 0, \"ticks\": \"\"}, \"colorscale\": [[0.0, \"#0d0887\"], [0.1111111111111111, \"#46039f\"], [0.2222222222222222, \"#7201a8\"], [0.3333333333333333, \"#9c179e\"], [0.4444444444444444, \"#bd3786\"], [0.5555555555555556, \"#d8576b\"], [0.6666666666666666, \"#ed7953\"], [0.7777777777777778, \"#fb9f3a\"], [0.8888888888888888, \"#fdca26\"], [1.0, \"#f0f921\"]], \"type\": \"histogram2d\"}], \"histogram2dcontour\": [{\"colorbar\": {\"outlinewidth\": 0, \"ticks\": \"\"}, \"colorscale\": [[0.0, \"#0d0887\"], [0.1111111111111111, \"#46039f\"], [0.2222222222222222, \"#7201a8\"], [0.3333333333333333, \"#9c179e\"], [0.4444444444444444, \"#bd3786\"], [0.5555555555555556, \"#d8576b\"], [0.6666666666666666, \"#ed7953\"], [0.7777777777777778, \"#fb9f3a\"], [0.8888888888888888, \"#fdca26\"], [1.0, \"#f0f921\"]], \"type\": \"histogram2dcontour\"}], \"mesh3d\": [{\"colorbar\": {\"outlinewidth\": 0, \"ticks\": \"\"}, \"type\": \"mesh3d\"}], \"parcoords\": [{\"line\": {\"colorbar\": {\"outlinewidth\": 0, \"ticks\": \"\"}}, \"type\": \"parcoords\"}], \"pie\": [{\"automargin\": true, \"type\": \"pie\"}], \"scatter\": [{\"marker\": {\"colorbar\": {\"outlinewidth\": 0, \"ticks\": \"\"}}, \"type\": \"scatter\"}], \"scatter3d\": [{\"line\": {\"colorbar\": {\"outlinewidth\": 0, \"ticks\": \"\"}}, \"marker\": {\"colorbar\": {\"outlinewidth\": 0, \"ticks\": \"\"}}, \"type\": \"scatter3d\"}], \"scattercarpet\": [{\"marker\": {\"colorbar\": {\"outlinewidth\": 0, \"ticks\": \"\"}}, \"type\": \"scattercarpet\"}], \"scattergeo\": [{\"marker\": {\"colorbar\": {\"outlinewidth\": 0, \"ticks\": \"\"}}, \"type\": \"scattergeo\"}], \"scattergl\": [{\"marker\": {\"colorbar\": {\"outlinewidth\": 0, \"ticks\": \"\"}}, \"type\": \"scattergl\"}], \"scattermapbox\": [{\"marker\": {\"colorbar\": {\"outlinewidth\": 0, \"ticks\": \"\"}}, \"type\": \"scattermapbox\"}], \"scatterpolar\": [{\"marker\": {\"colorbar\": {\"outlinewidth\": 0, \"ticks\": \"\"}}, \"type\": \"scatterpolar\"}], \"scatterpolargl\": [{\"marker\": {\"colorbar\": {\"outlinewidth\": 0, \"ticks\": \"\"}}, \"type\": \"scatterpolargl\"}], \"scatterternary\": [{\"marker\": {\"colorbar\": {\"outlinewidth\": 0, \"ticks\": \"\"}}, \"type\": \"scatterternary\"}], \"surface\": [{\"colorbar\": {\"outlinewidth\": 0, \"ticks\": \"\"}, \"colorscale\": [[0.0, \"#0d0887\"], [0.1111111111111111, \"#46039f\"], [0.2222222222222222, \"#7201a8\"], [0.3333333333333333, \"#9c179e\"], [0.4444444444444444, \"#bd3786\"], [0.5555555555555556, \"#d8576b\"], [0.6666666666666666, \"#ed7953\"], [0.7777777777777778, \"#fb9f3a\"], [0.8888888888888888, \"#fdca26\"], [1.0, \"#f0f921\"]], \"type\": \"surface\"}], \"table\": [{\"cells\": {\"fill\": {\"color\": \"#EBF0F8\"}, \"line\": {\"color\": \"white\"}}, \"header\": {\"fill\": {\"color\": \"#C8D4E3\"}, \"line\": {\"color\": \"white\"}}, \"type\": \"table\"}]}, \"layout\": {\"annotationdefaults\": {\"arrowcolor\": \"#2a3f5f\", \"arrowhead\": 0, \"arrowwidth\": 1}, \"coloraxis\": {\"colorbar\": {\"outlinewidth\": 0, \"ticks\": \"\"}}, \"colorscale\": {\"diverging\": [[0, \"#8e0152\"], [0.1, \"#c51b7d\"], [0.2, \"#de77ae\"], [0.3, \"#f1b6da\"], [0.4, \"#fde0ef\"], [0.5, \"#f7f7f7\"], [0.6, \"#e6f5d0\"], [0.7, \"#b8e186\"], [0.8, \"#7fbc41\"], [0.9, \"#4d9221\"], [1, \"#276419\"]], \"sequential\": [[0.0, \"#0d0887\"], [0.1111111111111111, \"#46039f\"], [0.2222222222222222, \"#7201a8\"], [0.3333333333333333, \"#9c179e\"], [0.4444444444444444, \"#bd3786\"], [0.5555555555555556, \"#d8576b\"], [0.6666666666666666, \"#ed7953\"], [0.7777777777777778, \"#fb9f3a\"], [0.8888888888888888, \"#fdca26\"], [1.0, \"#f0f921\"]], \"sequentialminus\": [[0.0, \"#0d0887\"], [0.1111111111111111, \"#46039f\"], [0.2222222222222222, \"#7201a8\"], [0.3333333333333333, \"#9c179e\"], [0.4444444444444444, \"#bd3786\"], [0.5555555555555556, \"#d8576b\"], [0.6666666666666666, \"#ed7953\"], [0.7777777777777778, \"#fb9f3a\"], [0.8888888888888888, \"#fdca26\"], [1.0, \"#f0f921\"]]}, \"colorway\": [\"#636efa\", \"#EF553B\", \"#00cc96\", \"#ab63fa\", \"#FFA15A\", \"#19d3f3\", \"#FF6692\", \"#B6E880\", \"#FF97FF\", \"#FECB52\"], \"font\": {\"color\": \"#2a3f5f\"}, \"geo\": {\"bgcolor\": \"white\", \"lakecolor\": \"white\", \"landcolor\": \"#E5ECF6\", \"showlakes\": true, \"showland\": true, \"subunitcolor\": \"white\"}, \"hoverlabel\": {\"align\": \"left\"}, \"hovermode\": \"closest\", \"mapbox\": {\"style\": \"light\"}, \"paper_bgcolor\": \"white\", \"plot_bgcolor\": \"#E5ECF6\", \"polar\": {\"angularaxis\": {\"gridcolor\": \"white\", \"linecolor\": \"white\", \"ticks\": \"\"}, \"bgcolor\": \"#E5ECF6\", \"radialaxis\": {\"gridcolor\": \"white\", \"linecolor\": \"white\", \"ticks\": \"\"}}, \"scene\": {\"xaxis\": {\"backgroundcolor\": \"#E5ECF6\", \"gridcolor\": \"white\", \"gridwidth\": 2, \"linecolor\": \"white\", \"showbackground\": true, \"ticks\": \"\", \"zerolinecolor\": \"white\"}, \"yaxis\": {\"backgroundcolor\": \"#E5ECF6\", \"gridcolor\": \"white\", \"gridwidth\": 2, \"linecolor\": \"white\", \"showbackground\": true, \"ticks\": \"\", \"zerolinecolor\": \"white\"}, \"zaxis\": {\"backgroundcolor\": \"#E5ECF6\", \"gridcolor\": \"white\", \"gridwidth\": 2, \"linecolor\": \"white\", \"showbackground\": true, \"ticks\": \"\", \"zerolinecolor\": \"white\"}}, \"shapedefaults\": {\"line\": {\"color\": \"#2a3f5f\"}}, \"ternary\": {\"aaxis\": {\"gridcolor\": \"white\", \"linecolor\": \"white\", \"ticks\": \"\"}, \"baxis\": {\"gridcolor\": \"white\", \"linecolor\": \"white\", \"ticks\": \"\"}, \"bgcolor\": \"#E5ECF6\", \"caxis\": {\"gridcolor\": \"white\", \"linecolor\": \"white\", \"ticks\": \"\"}}, \"title\": {\"x\": 0.05}, \"xaxis\": {\"automargin\": true, \"gridcolor\": \"white\", \"linecolor\": \"white\", \"ticks\": \"\", \"title\": {\"standoff\": 15}, \"zerolinecolor\": \"white\", \"zerolinewidth\": 2}, \"yaxis\": {\"automargin\": true, \"gridcolor\": \"white\", \"linecolor\": \"white\", \"ticks\": \"\", \"title\": {\"standoff\": 15}, \"zerolinecolor\": \"white\", \"zerolinewidth\": 2}}}, \"xaxis\": {\"anchor\": \"y\", \"domain\": [0.0, 1.0], \"title\": {\"text\": \"gni($)\"}}, \"yaxis\": {\"anchor\": \"x\", \"domain\": [0.0, 1.0], \"title\": {\"text\": \"commentCount\"}}},                        {\"responsive\": true}                    ).then(function(){\n",
       "                            \n",
       "var gd = document.getElementById('a583f09c-66e8-4fc5-8f52-997a67d50f95');\n",
       "var x = new MutationObserver(function (mutations, observer) {{\n",
       "        var display = window.getComputedStyle(gd).display;\n",
       "        if (!display || display === 'none') {{\n",
       "            console.log([gd, 'removed!']);\n",
       "            Plotly.purge(gd);\n",
       "            observer.disconnect();\n",
       "        }}\n",
       "}});\n",
       "\n",
       "// Listen for the removal of the full notebook cells\n",
       "var notebookContainer = gd.closest('#notebook-container');\n",
       "if (notebookContainer) {{\n",
       "    x.observe(notebookContainer, {childList: true});\n",
       "}}\n",
       "\n",
       "// Listen for the clearing of the current output cell\n",
       "var outputEl = gd.closest('.output');\n",
       "if (outputEl) {{\n",
       "    x.observe(outputEl, {childList: true});\n",
       "}}\n",
       "\n",
       "                        })                };                });            </script>        </div>"
      ]
     },
     "metadata": {},
     "output_type": "display_data"
    }
   ],
   "source": [
    "fig = px.scatter(countires_stat, x=\"gni($)\", y=\"commentCount\", color = \"video_num\", text=\"country\")\n",
    "fig.update_traces(textposition=\"bottom right\")\n",
    "fig.show()"
   ]
  },
  {
   "cell_type": "code",
   "execution_count": 267,
   "metadata": {},
   "outputs": [
    {
     "data": {
      "application/vnd.plotly.v1+json": {
       "config": {
        "plotlyServerURL": "https://plot.ly"
       },
       "data": [
        {
         "hovertemplate": "video_num=%{x}<br>viewCount=%{y}<br>country=%{text}<extra></extra>",
         "legendgroup": "",
         "marker": {
          "color": "#636efa",
          "symbol": "circle"
         },
         "mode": "markers+text",
         "name": "",
         "orientation": "v",
         "showlegend": false,
         "text": [
          "영국",
          "터키",
          "이스라엘",
          "몽골",
          "네덜란드",
          "대만",
          "러시아",
          "콜롬비아",
          "미국",
          "미얀마",
          "스페인",
          "중국",
          "프랑스",
          "체코",
          "인도",
          "일본",
          "캐나다",
          "브라질",
          "필리핀",
          "독일",
          "폴란드",
          "베트남",
          "인도네시아",
          "멕시코",
          "태국",
          "카타르",
          "이탈리아",
          "싱가포르"
         ],
         "textposition": "bottom right",
         "type": "scatter",
         "x": [
          124,
          14,
          11,
          6,
          7,
          76,
          70,
          7,
          560,
          25,
          16,
          374,
          63,
          27,
          45,
          1327,
          16,
          11,
          23,
          61,
          7,
          61,
          21,
          15,
          18,
          15,
          65,
          6
         ],
         "xaxis": "x",
         "y": [
          652078.4516129033,
          512670.2142857143,
          430425.54545454547,
          407045.66666666674,
          395437.1428571429,
          384516.48684210534,
          374220.6285714286,
          353467.2857142857,
          341946.18279569893,
          321149.72,
          312721.3125,
          307902.6380697051,
          293775.1746031746,
          263403.22222222225,
          202505.66666666663,
          199766.75867269986,
          184753.5625,
          173562.45454545456,
          151442.30434782608,
          150107.04918032786,
          147758.57142857142,
          146414.3606557377,
          139786.04761904766,
          135065.2,
          126081.16666666669,
          116496.8,
          96577.44615384618,
          67481.16666666669
         ],
         "yaxis": "y"
        }
       ],
       "layout": {
        "legend": {
         "tracegroupgap": 0
        },
        "margin": {
         "t": 60
        },
        "template": {
         "data": {
          "bar": [
           {
            "error_x": {
             "color": "#2a3f5f"
            },
            "error_y": {
             "color": "#2a3f5f"
            },
            "marker": {
             "line": {
              "color": "#E5ECF6",
              "width": 0.5
             }
            },
            "type": "bar"
           }
          ],
          "barpolar": [
           {
            "marker": {
             "line": {
              "color": "#E5ECF6",
              "width": 0.5
             }
            },
            "type": "barpolar"
           }
          ],
          "carpet": [
           {
            "aaxis": {
             "endlinecolor": "#2a3f5f",
             "gridcolor": "white",
             "linecolor": "white",
             "minorgridcolor": "white",
             "startlinecolor": "#2a3f5f"
            },
            "baxis": {
             "endlinecolor": "#2a3f5f",
             "gridcolor": "white",
             "linecolor": "white",
             "minorgridcolor": "white",
             "startlinecolor": "#2a3f5f"
            },
            "type": "carpet"
           }
          ],
          "choropleth": [
           {
            "colorbar": {
             "outlinewidth": 0,
             "ticks": ""
            },
            "type": "choropleth"
           }
          ],
          "contour": [
           {
            "colorbar": {
             "outlinewidth": 0,
             "ticks": ""
            },
            "colorscale": [
             [
              0,
              "#0d0887"
             ],
             [
              0.1111111111111111,
              "#46039f"
             ],
             [
              0.2222222222222222,
              "#7201a8"
             ],
             [
              0.3333333333333333,
              "#9c179e"
             ],
             [
              0.4444444444444444,
              "#bd3786"
             ],
             [
              0.5555555555555556,
              "#d8576b"
             ],
             [
              0.6666666666666666,
              "#ed7953"
             ],
             [
              0.7777777777777778,
              "#fb9f3a"
             ],
             [
              0.8888888888888888,
              "#fdca26"
             ],
             [
              1,
              "#f0f921"
             ]
            ],
            "type": "contour"
           }
          ],
          "contourcarpet": [
           {
            "colorbar": {
             "outlinewidth": 0,
             "ticks": ""
            },
            "type": "contourcarpet"
           }
          ],
          "heatmap": [
           {
            "colorbar": {
             "outlinewidth": 0,
             "ticks": ""
            },
            "colorscale": [
             [
              0,
              "#0d0887"
             ],
             [
              0.1111111111111111,
              "#46039f"
             ],
             [
              0.2222222222222222,
              "#7201a8"
             ],
             [
              0.3333333333333333,
              "#9c179e"
             ],
             [
              0.4444444444444444,
              "#bd3786"
             ],
             [
              0.5555555555555556,
              "#d8576b"
             ],
             [
              0.6666666666666666,
              "#ed7953"
             ],
             [
              0.7777777777777778,
              "#fb9f3a"
             ],
             [
              0.8888888888888888,
              "#fdca26"
             ],
             [
              1,
              "#f0f921"
             ]
            ],
            "type": "heatmap"
           }
          ],
          "heatmapgl": [
           {
            "colorbar": {
             "outlinewidth": 0,
             "ticks": ""
            },
            "colorscale": [
             [
              0,
              "#0d0887"
             ],
             [
              0.1111111111111111,
              "#46039f"
             ],
             [
              0.2222222222222222,
              "#7201a8"
             ],
             [
              0.3333333333333333,
              "#9c179e"
             ],
             [
              0.4444444444444444,
              "#bd3786"
             ],
             [
              0.5555555555555556,
              "#d8576b"
             ],
             [
              0.6666666666666666,
              "#ed7953"
             ],
             [
              0.7777777777777778,
              "#fb9f3a"
             ],
             [
              0.8888888888888888,
              "#fdca26"
             ],
             [
              1,
              "#f0f921"
             ]
            ],
            "type": "heatmapgl"
           }
          ],
          "histogram": [
           {
            "marker": {
             "colorbar": {
              "outlinewidth": 0,
              "ticks": ""
             }
            },
            "type": "histogram"
           }
          ],
          "histogram2d": [
           {
            "colorbar": {
             "outlinewidth": 0,
             "ticks": ""
            },
            "colorscale": [
             [
              0,
              "#0d0887"
             ],
             [
              0.1111111111111111,
              "#46039f"
             ],
             [
              0.2222222222222222,
              "#7201a8"
             ],
             [
              0.3333333333333333,
              "#9c179e"
             ],
             [
              0.4444444444444444,
              "#bd3786"
             ],
             [
              0.5555555555555556,
              "#d8576b"
             ],
             [
              0.6666666666666666,
              "#ed7953"
             ],
             [
              0.7777777777777778,
              "#fb9f3a"
             ],
             [
              0.8888888888888888,
              "#fdca26"
             ],
             [
              1,
              "#f0f921"
             ]
            ],
            "type": "histogram2d"
           }
          ],
          "histogram2dcontour": [
           {
            "colorbar": {
             "outlinewidth": 0,
             "ticks": ""
            },
            "colorscale": [
             [
              0,
              "#0d0887"
             ],
             [
              0.1111111111111111,
              "#46039f"
             ],
             [
              0.2222222222222222,
              "#7201a8"
             ],
             [
              0.3333333333333333,
              "#9c179e"
             ],
             [
              0.4444444444444444,
              "#bd3786"
             ],
             [
              0.5555555555555556,
              "#d8576b"
             ],
             [
              0.6666666666666666,
              "#ed7953"
             ],
             [
              0.7777777777777778,
              "#fb9f3a"
             ],
             [
              0.8888888888888888,
              "#fdca26"
             ],
             [
              1,
              "#f0f921"
             ]
            ],
            "type": "histogram2dcontour"
           }
          ],
          "mesh3d": [
           {
            "colorbar": {
             "outlinewidth": 0,
             "ticks": ""
            },
            "type": "mesh3d"
           }
          ],
          "parcoords": [
           {
            "line": {
             "colorbar": {
              "outlinewidth": 0,
              "ticks": ""
             }
            },
            "type": "parcoords"
           }
          ],
          "pie": [
           {
            "automargin": true,
            "type": "pie"
           }
          ],
          "scatter": [
           {
            "marker": {
             "colorbar": {
              "outlinewidth": 0,
              "ticks": ""
             }
            },
            "type": "scatter"
           }
          ],
          "scatter3d": [
           {
            "line": {
             "colorbar": {
              "outlinewidth": 0,
              "ticks": ""
             }
            },
            "marker": {
             "colorbar": {
              "outlinewidth": 0,
              "ticks": ""
             }
            },
            "type": "scatter3d"
           }
          ],
          "scattercarpet": [
           {
            "marker": {
             "colorbar": {
              "outlinewidth": 0,
              "ticks": ""
             }
            },
            "type": "scattercarpet"
           }
          ],
          "scattergeo": [
           {
            "marker": {
             "colorbar": {
              "outlinewidth": 0,
              "ticks": ""
             }
            },
            "type": "scattergeo"
           }
          ],
          "scattergl": [
           {
            "marker": {
             "colorbar": {
              "outlinewidth": 0,
              "ticks": ""
             }
            },
            "type": "scattergl"
           }
          ],
          "scattermapbox": [
           {
            "marker": {
             "colorbar": {
              "outlinewidth": 0,
              "ticks": ""
             }
            },
            "type": "scattermapbox"
           }
          ],
          "scatterpolar": [
           {
            "marker": {
             "colorbar": {
              "outlinewidth": 0,
              "ticks": ""
             }
            },
            "type": "scatterpolar"
           }
          ],
          "scatterpolargl": [
           {
            "marker": {
             "colorbar": {
              "outlinewidth": 0,
              "ticks": ""
             }
            },
            "type": "scatterpolargl"
           }
          ],
          "scatterternary": [
           {
            "marker": {
             "colorbar": {
              "outlinewidth": 0,
              "ticks": ""
             }
            },
            "type": "scatterternary"
           }
          ],
          "surface": [
           {
            "colorbar": {
             "outlinewidth": 0,
             "ticks": ""
            },
            "colorscale": [
             [
              0,
              "#0d0887"
             ],
             [
              0.1111111111111111,
              "#46039f"
             ],
             [
              0.2222222222222222,
              "#7201a8"
             ],
             [
              0.3333333333333333,
              "#9c179e"
             ],
             [
              0.4444444444444444,
              "#bd3786"
             ],
             [
              0.5555555555555556,
              "#d8576b"
             ],
             [
              0.6666666666666666,
              "#ed7953"
             ],
             [
              0.7777777777777778,
              "#fb9f3a"
             ],
             [
              0.8888888888888888,
              "#fdca26"
             ],
             [
              1,
              "#f0f921"
             ]
            ],
            "type": "surface"
           }
          ],
          "table": [
           {
            "cells": {
             "fill": {
              "color": "#EBF0F8"
             },
             "line": {
              "color": "white"
             }
            },
            "header": {
             "fill": {
              "color": "#C8D4E3"
             },
             "line": {
              "color": "white"
             }
            },
            "type": "table"
           }
          ]
         },
         "layout": {
          "annotationdefaults": {
           "arrowcolor": "#2a3f5f",
           "arrowhead": 0,
           "arrowwidth": 1
          },
          "coloraxis": {
           "colorbar": {
            "outlinewidth": 0,
            "ticks": ""
           }
          },
          "colorscale": {
           "diverging": [
            [
             0,
             "#8e0152"
            ],
            [
             0.1,
             "#c51b7d"
            ],
            [
             0.2,
             "#de77ae"
            ],
            [
             0.3,
             "#f1b6da"
            ],
            [
             0.4,
             "#fde0ef"
            ],
            [
             0.5,
             "#f7f7f7"
            ],
            [
             0.6,
             "#e6f5d0"
            ],
            [
             0.7,
             "#b8e186"
            ],
            [
             0.8,
             "#7fbc41"
            ],
            [
             0.9,
             "#4d9221"
            ],
            [
             1,
             "#276419"
            ]
           ],
           "sequential": [
            [
             0,
             "#0d0887"
            ],
            [
             0.1111111111111111,
             "#46039f"
            ],
            [
             0.2222222222222222,
             "#7201a8"
            ],
            [
             0.3333333333333333,
             "#9c179e"
            ],
            [
             0.4444444444444444,
             "#bd3786"
            ],
            [
             0.5555555555555556,
             "#d8576b"
            ],
            [
             0.6666666666666666,
             "#ed7953"
            ],
            [
             0.7777777777777778,
             "#fb9f3a"
            ],
            [
             0.8888888888888888,
             "#fdca26"
            ],
            [
             1,
             "#f0f921"
            ]
           ],
           "sequentialminus": [
            [
             0,
             "#0d0887"
            ],
            [
             0.1111111111111111,
             "#46039f"
            ],
            [
             0.2222222222222222,
             "#7201a8"
            ],
            [
             0.3333333333333333,
             "#9c179e"
            ],
            [
             0.4444444444444444,
             "#bd3786"
            ],
            [
             0.5555555555555556,
             "#d8576b"
            ],
            [
             0.6666666666666666,
             "#ed7953"
            ],
            [
             0.7777777777777778,
             "#fb9f3a"
            ],
            [
             0.8888888888888888,
             "#fdca26"
            ],
            [
             1,
             "#f0f921"
            ]
           ]
          },
          "colorway": [
           "#636efa",
           "#EF553B",
           "#00cc96",
           "#ab63fa",
           "#FFA15A",
           "#19d3f3",
           "#FF6692",
           "#B6E880",
           "#FF97FF",
           "#FECB52"
          ],
          "font": {
           "color": "#2a3f5f"
          },
          "geo": {
           "bgcolor": "white",
           "lakecolor": "white",
           "landcolor": "#E5ECF6",
           "showlakes": true,
           "showland": true,
           "subunitcolor": "white"
          },
          "hoverlabel": {
           "align": "left"
          },
          "hovermode": "closest",
          "mapbox": {
           "style": "light"
          },
          "paper_bgcolor": "white",
          "plot_bgcolor": "#E5ECF6",
          "polar": {
           "angularaxis": {
            "gridcolor": "white",
            "linecolor": "white",
            "ticks": ""
           },
           "bgcolor": "#E5ECF6",
           "radialaxis": {
            "gridcolor": "white",
            "linecolor": "white",
            "ticks": ""
           }
          },
          "scene": {
           "xaxis": {
            "backgroundcolor": "#E5ECF6",
            "gridcolor": "white",
            "gridwidth": 2,
            "linecolor": "white",
            "showbackground": true,
            "ticks": "",
            "zerolinecolor": "white"
           },
           "yaxis": {
            "backgroundcolor": "#E5ECF6",
            "gridcolor": "white",
            "gridwidth": 2,
            "linecolor": "white",
            "showbackground": true,
            "ticks": "",
            "zerolinecolor": "white"
           },
           "zaxis": {
            "backgroundcolor": "#E5ECF6",
            "gridcolor": "white",
            "gridwidth": 2,
            "linecolor": "white",
            "showbackground": true,
            "ticks": "",
            "zerolinecolor": "white"
           }
          },
          "shapedefaults": {
           "line": {
            "color": "#2a3f5f"
           }
          },
          "ternary": {
           "aaxis": {
            "gridcolor": "white",
            "linecolor": "white",
            "ticks": ""
           },
           "baxis": {
            "gridcolor": "white",
            "linecolor": "white",
            "ticks": ""
           },
           "bgcolor": "#E5ECF6",
           "caxis": {
            "gridcolor": "white",
            "linecolor": "white",
            "ticks": ""
           }
          },
          "title": {
           "x": 0.05
          },
          "xaxis": {
           "automargin": true,
           "gridcolor": "white",
           "linecolor": "white",
           "ticks": "",
           "title": {
            "standoff": 15
           },
           "zerolinecolor": "white",
           "zerolinewidth": 2
          },
          "yaxis": {
           "automargin": true,
           "gridcolor": "white",
           "linecolor": "white",
           "ticks": "",
           "title": {
            "standoff": 15
           },
           "zerolinecolor": "white",
           "zerolinewidth": 2
          }
         }
        },
        "xaxis": {
         "anchor": "y",
         "domain": [
          0,
          1
         ],
         "title": {
          "text": "video_num"
         }
        },
        "yaxis": {
         "anchor": "x",
         "domain": [
          0,
          1
         ],
         "title": {
          "text": "viewCount"
         }
        }
       }
      },
      "text/html": [
       "<div>                            <div id=\"6f47f357-e256-451c-813d-41963ed46d26\" class=\"plotly-graph-div\" style=\"height:525px; width:100%;\"></div>            <script type=\"text/javascript\">                require([\"plotly\"], function(Plotly) {                    window.PLOTLYENV=window.PLOTLYENV || {};                                    if (document.getElementById(\"6f47f357-e256-451c-813d-41963ed46d26\")) {                    Plotly.newPlot(                        \"6f47f357-e256-451c-813d-41963ed46d26\",                        [{\"hovertemplate\": \"video_num=%{x}<br>viewCount=%{y}<br>country=%{text}<extra></extra>\", \"legendgroup\": \"\", \"marker\": {\"color\": \"#636efa\", \"symbol\": \"circle\"}, \"mode\": \"markers+text\", \"name\": \"\", \"orientation\": \"v\", \"showlegend\": false, \"text\": [\"\\uc601\\uad6d\", \"\\ud130\\ud0a4\", \"\\uc774\\uc2a4\\ub77c\\uc5d8\", \"\\ubabd\\uace8\", \"\\ub124\\ub35c\\ub780\\ub4dc\", \"\\ub300\\ub9cc\", \"\\ub7ec\\uc2dc\\uc544\", \"\\ucf5c\\ub86c\\ube44\\uc544\", \"\\ubbf8\\uad6d\", \"\\ubbf8\\uc580\\ub9c8\", \"\\uc2a4\\ud398\\uc778\", \"\\uc911\\uad6d\", \"\\ud504\\ub791\\uc2a4\", \"\\uccb4\\ucf54\", \"\\uc778\\ub3c4\", \"\\uc77c\\ubcf8\", \"\\uce90\\ub098\\ub2e4\", \"\\ube0c\\ub77c\\uc9c8\", \"\\ud544\\ub9ac\\ud540\", \"\\ub3c5\\uc77c\", \"\\ud3f4\\ub780\\ub4dc\", \"\\ubca0\\ud2b8\\ub0a8\", \"\\uc778\\ub3c4\\ub124\\uc2dc\\uc544\", \"\\uba55\\uc2dc\\ucf54\", \"\\ud0dc\\uad6d\", \"\\uce74\\ud0c0\\ub974\", \"\\uc774\\ud0c8\\ub9ac\\uc544\", \"\\uc2f1\\uac00\\ud3ec\\ub974\"], \"textposition\": \"bottom right\", \"type\": \"scatter\", \"x\": [124, 14, 11, 6, 7, 76, 70, 7, 560, 25, 16, 374, 63, 27, 45, 1327, 16, 11, 23, 61, 7, 61, 21, 15, 18, 15, 65, 6], \"xaxis\": \"x\", \"y\": [652078.4516129033, 512670.2142857143, 430425.54545454547, 407045.66666666674, 395437.1428571429, 384516.48684210534, 374220.6285714286, 353467.2857142857, 341946.18279569893, 321149.72, 312721.3125, 307902.6380697051, 293775.1746031746, 263403.22222222225, 202505.66666666663, 199766.75867269986, 184753.5625, 173562.45454545456, 151442.30434782608, 150107.04918032786, 147758.57142857142, 146414.3606557377, 139786.04761904766, 135065.2, 126081.16666666669, 116496.8, 96577.44615384618, 67481.16666666669], \"yaxis\": \"y\"}],                        {\"legend\": {\"tracegroupgap\": 0}, \"margin\": {\"t\": 60}, \"template\": {\"data\": {\"bar\": [{\"error_x\": {\"color\": \"#2a3f5f\"}, \"error_y\": {\"color\": \"#2a3f5f\"}, \"marker\": {\"line\": {\"color\": \"#E5ECF6\", \"width\": 0.5}}, \"type\": \"bar\"}], \"barpolar\": [{\"marker\": {\"line\": {\"color\": \"#E5ECF6\", \"width\": 0.5}}, \"type\": \"barpolar\"}], \"carpet\": [{\"aaxis\": {\"endlinecolor\": \"#2a3f5f\", \"gridcolor\": \"white\", \"linecolor\": \"white\", \"minorgridcolor\": \"white\", \"startlinecolor\": \"#2a3f5f\"}, \"baxis\": {\"endlinecolor\": \"#2a3f5f\", \"gridcolor\": \"white\", \"linecolor\": \"white\", \"minorgridcolor\": \"white\", \"startlinecolor\": \"#2a3f5f\"}, \"type\": \"carpet\"}], \"choropleth\": [{\"colorbar\": {\"outlinewidth\": 0, \"ticks\": \"\"}, \"type\": \"choropleth\"}], \"contour\": [{\"colorbar\": {\"outlinewidth\": 0, \"ticks\": \"\"}, \"colorscale\": [[0.0, \"#0d0887\"], [0.1111111111111111, \"#46039f\"], [0.2222222222222222, \"#7201a8\"], [0.3333333333333333, \"#9c179e\"], [0.4444444444444444, \"#bd3786\"], [0.5555555555555556, \"#d8576b\"], [0.6666666666666666, \"#ed7953\"], [0.7777777777777778, \"#fb9f3a\"], [0.8888888888888888, \"#fdca26\"], [1.0, \"#f0f921\"]], \"type\": \"contour\"}], \"contourcarpet\": [{\"colorbar\": {\"outlinewidth\": 0, \"ticks\": \"\"}, \"type\": \"contourcarpet\"}], \"heatmap\": [{\"colorbar\": {\"outlinewidth\": 0, \"ticks\": \"\"}, \"colorscale\": [[0.0, \"#0d0887\"], [0.1111111111111111, \"#46039f\"], [0.2222222222222222, \"#7201a8\"], [0.3333333333333333, \"#9c179e\"], [0.4444444444444444, \"#bd3786\"], [0.5555555555555556, \"#d8576b\"], [0.6666666666666666, \"#ed7953\"], [0.7777777777777778, \"#fb9f3a\"], [0.8888888888888888, \"#fdca26\"], [1.0, \"#f0f921\"]], \"type\": \"heatmap\"}], \"heatmapgl\": [{\"colorbar\": {\"outlinewidth\": 0, \"ticks\": \"\"}, \"colorscale\": [[0.0, \"#0d0887\"], [0.1111111111111111, \"#46039f\"], [0.2222222222222222, \"#7201a8\"], [0.3333333333333333, \"#9c179e\"], [0.4444444444444444, \"#bd3786\"], [0.5555555555555556, \"#d8576b\"], [0.6666666666666666, \"#ed7953\"], [0.7777777777777778, \"#fb9f3a\"], [0.8888888888888888, \"#fdca26\"], [1.0, \"#f0f921\"]], \"type\": \"heatmapgl\"}], \"histogram\": [{\"marker\": {\"colorbar\": {\"outlinewidth\": 0, \"ticks\": \"\"}}, \"type\": \"histogram\"}], \"histogram2d\": [{\"colorbar\": {\"outlinewidth\": 0, \"ticks\": \"\"}, \"colorscale\": [[0.0, \"#0d0887\"], [0.1111111111111111, \"#46039f\"], [0.2222222222222222, \"#7201a8\"], [0.3333333333333333, \"#9c179e\"], [0.4444444444444444, \"#bd3786\"], [0.5555555555555556, \"#d8576b\"], [0.6666666666666666, \"#ed7953\"], [0.7777777777777778, \"#fb9f3a\"], [0.8888888888888888, \"#fdca26\"], [1.0, \"#f0f921\"]], \"type\": \"histogram2d\"}], \"histogram2dcontour\": [{\"colorbar\": {\"outlinewidth\": 0, \"ticks\": \"\"}, \"colorscale\": [[0.0, \"#0d0887\"], [0.1111111111111111, \"#46039f\"], [0.2222222222222222, \"#7201a8\"], [0.3333333333333333, \"#9c179e\"], [0.4444444444444444, \"#bd3786\"], [0.5555555555555556, \"#d8576b\"], [0.6666666666666666, \"#ed7953\"], [0.7777777777777778, \"#fb9f3a\"], [0.8888888888888888, \"#fdca26\"], [1.0, \"#f0f921\"]], \"type\": \"histogram2dcontour\"}], \"mesh3d\": [{\"colorbar\": {\"outlinewidth\": 0, \"ticks\": \"\"}, \"type\": \"mesh3d\"}], \"parcoords\": [{\"line\": {\"colorbar\": {\"outlinewidth\": 0, \"ticks\": \"\"}}, \"type\": \"parcoords\"}], \"pie\": [{\"automargin\": true, \"type\": \"pie\"}], \"scatter\": [{\"marker\": {\"colorbar\": {\"outlinewidth\": 0, \"ticks\": \"\"}}, \"type\": \"scatter\"}], \"scatter3d\": [{\"line\": {\"colorbar\": {\"outlinewidth\": 0, \"ticks\": \"\"}}, \"marker\": {\"colorbar\": {\"outlinewidth\": 0, \"ticks\": \"\"}}, \"type\": \"scatter3d\"}], \"scattercarpet\": [{\"marker\": {\"colorbar\": {\"outlinewidth\": 0, \"ticks\": \"\"}}, \"type\": \"scattercarpet\"}], \"scattergeo\": [{\"marker\": {\"colorbar\": {\"outlinewidth\": 0, \"ticks\": \"\"}}, \"type\": \"scattergeo\"}], \"scattergl\": [{\"marker\": {\"colorbar\": {\"outlinewidth\": 0, \"ticks\": \"\"}}, \"type\": \"scattergl\"}], \"scattermapbox\": [{\"marker\": {\"colorbar\": {\"outlinewidth\": 0, \"ticks\": \"\"}}, \"type\": \"scattermapbox\"}], \"scatterpolar\": [{\"marker\": {\"colorbar\": {\"outlinewidth\": 0, \"ticks\": \"\"}}, \"type\": \"scatterpolar\"}], \"scatterpolargl\": [{\"marker\": {\"colorbar\": {\"outlinewidth\": 0, \"ticks\": \"\"}}, \"type\": \"scatterpolargl\"}], \"scatterternary\": [{\"marker\": {\"colorbar\": {\"outlinewidth\": 0, \"ticks\": \"\"}}, \"type\": \"scatterternary\"}], \"surface\": [{\"colorbar\": {\"outlinewidth\": 0, \"ticks\": \"\"}, \"colorscale\": [[0.0, \"#0d0887\"], [0.1111111111111111, \"#46039f\"], [0.2222222222222222, \"#7201a8\"], [0.3333333333333333, \"#9c179e\"], [0.4444444444444444, \"#bd3786\"], [0.5555555555555556, \"#d8576b\"], [0.6666666666666666, \"#ed7953\"], [0.7777777777777778, \"#fb9f3a\"], [0.8888888888888888, \"#fdca26\"], [1.0, \"#f0f921\"]], \"type\": \"surface\"}], \"table\": [{\"cells\": {\"fill\": {\"color\": \"#EBF0F8\"}, \"line\": {\"color\": \"white\"}}, \"header\": {\"fill\": {\"color\": \"#C8D4E3\"}, \"line\": {\"color\": \"white\"}}, \"type\": \"table\"}]}, \"layout\": {\"annotationdefaults\": {\"arrowcolor\": \"#2a3f5f\", \"arrowhead\": 0, \"arrowwidth\": 1}, \"coloraxis\": {\"colorbar\": {\"outlinewidth\": 0, \"ticks\": \"\"}}, \"colorscale\": {\"diverging\": [[0, \"#8e0152\"], [0.1, \"#c51b7d\"], [0.2, \"#de77ae\"], [0.3, \"#f1b6da\"], [0.4, \"#fde0ef\"], [0.5, \"#f7f7f7\"], [0.6, \"#e6f5d0\"], [0.7, \"#b8e186\"], [0.8, \"#7fbc41\"], [0.9, \"#4d9221\"], [1, \"#276419\"]], \"sequential\": [[0.0, \"#0d0887\"], [0.1111111111111111, \"#46039f\"], [0.2222222222222222, \"#7201a8\"], [0.3333333333333333, \"#9c179e\"], [0.4444444444444444, \"#bd3786\"], [0.5555555555555556, \"#d8576b\"], [0.6666666666666666, \"#ed7953\"], [0.7777777777777778, \"#fb9f3a\"], [0.8888888888888888, \"#fdca26\"], [1.0, \"#f0f921\"]], \"sequentialminus\": [[0.0, \"#0d0887\"], [0.1111111111111111, \"#46039f\"], [0.2222222222222222, \"#7201a8\"], [0.3333333333333333, \"#9c179e\"], [0.4444444444444444, \"#bd3786\"], [0.5555555555555556, \"#d8576b\"], [0.6666666666666666, \"#ed7953\"], [0.7777777777777778, \"#fb9f3a\"], [0.8888888888888888, \"#fdca26\"], [1.0, \"#f0f921\"]]}, \"colorway\": [\"#636efa\", \"#EF553B\", \"#00cc96\", \"#ab63fa\", \"#FFA15A\", \"#19d3f3\", \"#FF6692\", \"#B6E880\", \"#FF97FF\", \"#FECB52\"], \"font\": {\"color\": \"#2a3f5f\"}, \"geo\": {\"bgcolor\": \"white\", \"lakecolor\": \"white\", \"landcolor\": \"#E5ECF6\", \"showlakes\": true, \"showland\": true, \"subunitcolor\": \"white\"}, \"hoverlabel\": {\"align\": \"left\"}, \"hovermode\": \"closest\", \"mapbox\": {\"style\": \"light\"}, \"paper_bgcolor\": \"white\", \"plot_bgcolor\": \"#E5ECF6\", \"polar\": {\"angularaxis\": {\"gridcolor\": \"white\", \"linecolor\": \"white\", \"ticks\": \"\"}, \"bgcolor\": \"#E5ECF6\", \"radialaxis\": {\"gridcolor\": \"white\", \"linecolor\": \"white\", \"ticks\": \"\"}}, \"scene\": {\"xaxis\": {\"backgroundcolor\": \"#E5ECF6\", \"gridcolor\": \"white\", \"gridwidth\": 2, \"linecolor\": \"white\", \"showbackground\": true, \"ticks\": \"\", \"zerolinecolor\": \"white\"}, \"yaxis\": {\"backgroundcolor\": \"#E5ECF6\", \"gridcolor\": \"white\", \"gridwidth\": 2, \"linecolor\": \"white\", \"showbackground\": true, \"ticks\": \"\", \"zerolinecolor\": \"white\"}, \"zaxis\": {\"backgroundcolor\": \"#E5ECF6\", \"gridcolor\": \"white\", \"gridwidth\": 2, \"linecolor\": \"white\", \"showbackground\": true, \"ticks\": \"\", \"zerolinecolor\": \"white\"}}, \"shapedefaults\": {\"line\": {\"color\": \"#2a3f5f\"}}, \"ternary\": {\"aaxis\": {\"gridcolor\": \"white\", \"linecolor\": \"white\", \"ticks\": \"\"}, \"baxis\": {\"gridcolor\": \"white\", \"linecolor\": \"white\", \"ticks\": \"\"}, \"bgcolor\": \"#E5ECF6\", \"caxis\": {\"gridcolor\": \"white\", \"linecolor\": \"white\", \"ticks\": \"\"}}, \"title\": {\"x\": 0.05}, \"xaxis\": {\"automargin\": true, \"gridcolor\": \"white\", \"linecolor\": \"white\", \"ticks\": \"\", \"title\": {\"standoff\": 15}, \"zerolinecolor\": \"white\", \"zerolinewidth\": 2}, \"yaxis\": {\"automargin\": true, \"gridcolor\": \"white\", \"linecolor\": \"white\", \"ticks\": \"\", \"title\": {\"standoff\": 15}, \"zerolinecolor\": \"white\", \"zerolinewidth\": 2}}}, \"xaxis\": {\"anchor\": \"y\", \"domain\": [0.0, 1.0], \"title\": {\"text\": \"video_num\"}}, \"yaxis\": {\"anchor\": \"x\", \"domain\": [0.0, 1.0], \"title\": {\"text\": \"viewCount\"}}},                        {\"responsive\": true}                    ).then(function(){\n",
       "                            \n",
       "var gd = document.getElementById('6f47f357-e256-451c-813d-41963ed46d26');\n",
       "var x = new MutationObserver(function (mutations, observer) {{\n",
       "        var display = window.getComputedStyle(gd).display;\n",
       "        if (!display || display === 'none') {{\n",
       "            console.log([gd, 'removed!']);\n",
       "            Plotly.purge(gd);\n",
       "            observer.disconnect();\n",
       "        }}\n",
       "}});\n",
       "\n",
       "// Listen for the removal of the full notebook cells\n",
       "var notebookContainer = gd.closest('#notebook-container');\n",
       "if (notebookContainer) {{\n",
       "    x.observe(notebookContainer, {childList: true});\n",
       "}}\n",
       "\n",
       "// Listen for the clearing of the current output cell\n",
       "var outputEl = gd.closest('.output');\n",
       "if (outputEl) {{\n",
       "    x.observe(outputEl, {childList: true});\n",
       "}}\n",
       "\n",
       "                        })                };                });            </script>        </div>"
      ]
     },
     "metadata": {},
     "output_type": "display_data"
    }
   ],
   "source": [
    "fig = px.scatter(countires_stat_re, x=\"video_num\", y=\"viewCount\",  text=\"country\")\n",
    "fig.update_traces(textposition=\"bottom right\")\n",
    "fig.show()"
   ]
  },
  {
   "cell_type": "code",
   "execution_count": null,
   "metadata": {},
   "outputs": [],
   "source": []
  },
  {
   "cell_type": "code",
   "execution_count": null,
   "metadata": {},
   "outputs": [],
   "source": []
  },
  {
   "cell_type": "code",
   "execution_count": null,
   "metadata": {},
   "outputs": [],
   "source": []
  },
  {
   "cell_type": "code",
   "execution_count": null,
   "metadata": {},
   "outputs": [],
   "source": []
  },
  {
   "cell_type": "code",
   "execution_count": 100,
   "metadata": {},
   "outputs": [
    {
     "data": {
      "text/html": [
       "<script>\n",
       "    require.config({\n",
       "        paths: {\n",
       "            'echarts': '/nbextensions/echarts/echarts.min'\n",
       "        }\n",
       "    });\n",
       "</script>\n",
       "    <div id=\"76ff00f650df404984379b8525600060\" style=\"width:800px;height:400px;\"></div>\n",
       "\n",
       "\n",
       "<script>\n",
       "    require(['echarts'], function(echarts) {\n",
       "        \n",
       "var myChart_76ff00f650df404984379b8525600060 = echarts.init(document.getElementById('76ff00f650df404984379b8525600060'), 'light', {renderer: 'canvas'});\n",
       "\n",
       "var option_76ff00f650df404984379b8525600060 = {\n",
       "    \"title\": [\n",
       "        {\n",
       "            \"left\": \"auto\",\n",
       "            \"top\": \"auto\",\n",
       "            \"textStyle\": {\n",
       "                \"fontSize\": 18\n",
       "            },\n",
       "            \"subtextStyle\": {\n",
       "                \"fontSize\": 12\n",
       "            }\n",
       "        }\n",
       "    ],\n",
       "    \"toolbox\": {\n",
       "        \"show\": true,\n",
       "        \"orient\": \"vertical\",\n",
       "        \"left\": \"95%\",\n",
       "        \"top\": \"center\",\n",
       "        \"feature\": {\n",
       "            \"saveAsImage\": {\n",
       "                \"show\": true,\n",
       "                \"title\": \"save as image\"\n",
       "            },\n",
       "            \"restore\": {\n",
       "                \"show\": true,\n",
       "                \"title\": \"restore\"\n",
       "            },\n",
       "            \"dataView\": {\n",
       "                \"show\": true,\n",
       "                \"title\": \"data view\"\n",
       "            }\n",
       "        }\n",
       "    },\n",
       "    \"series_id\": 8338941,\n",
       "    \"tooltip\": {\n",
       "        \"trigger\": \"item\",\n",
       "        \"triggerOn\": \"mousemove|click\",\n",
       "        \"axisPointer\": {\n",
       "            \"type\": \"line\"\n",
       "        },\n",
       "        \"textStyle\": {\n",
       "            \"fontSize\": 14\n",
       "        },\n",
       "        \"backgroundColor\": \"rgba(50,50,50,0.7)\",\n",
       "        \"borderColor\": \"#333\",\n",
       "        \"borderWidth\": 0\n",
       "    },\n",
       "    \"series\": [\n",
       "        {\n",
       "            \"type\": \"bar\",\n",
       "            \"name\": \"bar\",\n",
       "            \"data\": [\n",
       "                52,\n",
       "                42,\n",
       "                52,\n",
       "                54,\n",
       "                28,\n",
       "                26,\n",
       "                37,\n",
       "                24,\n",
       "                22,\n",
       "                37,\n",
       "                24,\n",
       "                36\n",
       "            ],\n",
       "            \"barCategoryGap\": \"20%\",\n",
       "            \"label\": {\n",
       "                \"normal\": {\n",
       "                    \"show\": true,\n",
       "                    \"position\": \"top\",\n",
       "                    \"textStyle\": {\n",
       "                        \"fontSize\": 12\n",
       "                    }\n",
       "                },\n",
       "                \"emphasis\": {\n",
       "                    \"show\": true,\n",
       "                    \"textStyle\": {\n",
       "                        \"fontSize\": 12\n",
       "                    }\n",
       "                }\n",
       "            },\n",
       "            \"markPoint\": {\n",
       "                \"data\": []\n",
       "            },\n",
       "            \"markLine\": {\n",
       "                \"data\": []\n",
       "            },\n",
       "            \"seriesId\": 8338941\n",
       "        }\n",
       "    ],\n",
       "    \"legend\": [\n",
       "        {\n",
       "            \"data\": [\n",
       "                \"bar\"\n",
       "            ],\n",
       "            \"selectedMode\": \"multiple\",\n",
       "            \"show\": true,\n",
       "            \"left\": \"center\",\n",
       "            \"top\": \"top\",\n",
       "            \"orient\": \"horizontal\",\n",
       "            \"textStyle\": {\n",
       "                \"fontSize\": 12\n",
       "            }\n",
       "        }\n",
       "    ],\n",
       "    \"animation\": true,\n",
       "    \"xAxis\": [\n",
       "        {\n",
       "            \"show\": true,\n",
       "            \"nameLocation\": \"middle\",\n",
       "            \"nameGap\": 25,\n",
       "            \"nameTextStyle\": {\n",
       "                \"fontSize\": 14\n",
       "            },\n",
       "            \"axisTick\": {\n",
       "                \"alignWithLabel\": false\n",
       "            },\n",
       "            \"inverse\": false,\n",
       "            \"boundaryGap\": true,\n",
       "            \"type\": \"category\",\n",
       "            \"splitLine\": {\n",
       "                \"show\": false\n",
       "            },\n",
       "            \"axisLine\": {\n",
       "                \"lineStyle\": {\n",
       "                    \"width\": 1\n",
       "                }\n",
       "            },\n",
       "            \"axisLabel\": {\n",
       "                \"interval\": \"auto\",\n",
       "                \"rotate\": 0,\n",
       "                \"margin\": 8,\n",
       "                \"textStyle\": {\n",
       "                    \"fontSize\": 12\n",
       "                }\n",
       "            },\n",
       "            \"data\": [\n",
       "                \"2020-07-01\",\n",
       "                \"2020-08-01\",\n",
       "                \"2020-09-01\",\n",
       "                \"2020-10-01\",\n",
       "                \"2020-11-01\",\n",
       "                \"2020-12-01\",\n",
       "                \"2021-01-01\",\n",
       "                \"2021-02-01\",\n",
       "                \"2021-03-01\",\n",
       "                \"2021-04-01\",\n",
       "                \"2021-05-01\",\n",
       "                \"2021-06-01\"\n",
       "            ]\n",
       "        }\n",
       "    ],\n",
       "    \"yAxis\": [\n",
       "        {\n",
       "            \"show\": true,\n",
       "            \"nameLocation\": \"middle\",\n",
       "            \"nameGap\": 25,\n",
       "            \"nameTextStyle\": {\n",
       "                \"fontSize\": 14\n",
       "            },\n",
       "            \"axisTick\": {\n",
       "                \"alignWithLabel\": false\n",
       "            },\n",
       "            \"inverse\": false,\n",
       "            \"boundaryGap\": true,\n",
       "            \"type\": \"value\",\n",
       "            \"splitLine\": {\n",
       "                \"show\": true\n",
       "            },\n",
       "            \"axisLine\": {\n",
       "                \"lineStyle\": {\n",
       "                    \"width\": 1\n",
       "                }\n",
       "            },\n",
       "            \"axisLabel\": {\n",
       "                \"interval\": \"auto\",\n",
       "                \"formatter\": \"{value} \",\n",
       "                \"rotate\": 0,\n",
       "                \"margin\": 8,\n",
       "                \"textStyle\": {\n",
       "                    \"fontSize\": 12\n",
       "                }\n",
       "            }\n",
       "        }\n",
       "    ],\n",
       "    \"color\": [\n",
       "        \"#c23531\",\n",
       "        \"#2f4554\",\n",
       "        \"#61a0a8\",\n",
       "        \"#d48265\",\n",
       "        \"#749f83\",\n",
       "        \"#ca8622\",\n",
       "        \"#bda29a\",\n",
       "        \"#6e7074\",\n",
       "        \"#546570\",\n",
       "        \"#c4ccd3\",\n",
       "        \"#f05b72\",\n",
       "        \"#ef5b9c\",\n",
       "        \"#f47920\",\n",
       "        \"#905a3d\",\n",
       "        \"#fab27b\",\n",
       "        \"#2a5caa\",\n",
       "        \"#444693\",\n",
       "        \"#726930\",\n",
       "        \"#b2d235\",\n",
       "        \"#6d8346\",\n",
       "        \"#ac6767\",\n",
       "        \"#1d953f\",\n",
       "        \"#6950a1\",\n",
       "        \"#918597\",\n",
       "        \"#f6f5ec\"\n",
       "    ]\n",
       "};\n",
       "myChart_76ff00f650df404984379b8525600060.setOption(option_76ff00f650df404984379b8525600060);\n",
       "\n",
       "    });\n",
       "</script>\n"
      ],
      "text/plain": [
       "<pyecharts.charts.bar.Bar at 0x26d50043dc0>"
      ]
     },
     "execution_count": 100,
     "metadata": {},
     "output_type": "execute_result"
    }
   ],
   "source": [
    "df_america = videos[videos['country'].str.contains('미국')]\n",
    "date_count = pd.DataFrame(df_america['date'].value_counts()).reset_index()\n",
    "date_count = date_count.sort_values(by='index')\n",
    "dates = [dt.date() for dt in list(date_count['index'])]\n",
    "bar = Bar()\n",
    "bar.add(\"bar\", dates, list(date_count['date']), is_smooth=True, is_label_show=True)\n",
    "bar"
   ]
  },
  {
   "cell_type": "code",
   "execution_count": null,
   "metadata": {},
   "outputs": [],
   "source": []
  }
 ],
 "metadata": {
  "kernelspec": {
   "display_name": "Python 3",
   "language": "python",
   "name": "python3"
  },
  "language_info": {
   "codemirror_mode": {
    "name": "ipython",
    "version": 3
   },
   "file_extension": ".py",
   "mimetype": "text/x-python",
   "name": "python",
   "nbconvert_exporter": "python",
   "pygments_lexer": "ipython3",
   "version": "3.8.3"
  }
 },
 "nbformat": 4,
 "nbformat_minor": 4
}
